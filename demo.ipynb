{
 "cells": [
  {
   "cell_type": "code",
   "execution_count": null,
   "source": [
    "import logging\r\n",
    "import os\r\n",
    "import pandas as pd\r\n",
    "import src.constants as ct\r\n",
    "\r\n",
    "from src.parsedata import DataParser,PDFParser\r\n",
    "from src.initialize import Logger\r\n",
    "from src.capitalgains import CapitalGains\r\n",
    "from src.utils import rename_mf_scheme\r\n",
    "\r\n",
    "\r\n",
    "pd.options.display.max_columns = 100\r\n",
    "pd.set_option('display.max_rows', 300)\r\n",
    "pd.set_option('display.max_colwidth', None)\r\n",
    "\r\n",
    "from IPython.core.display import display, HTML\r\n",
    "display(HTML(\"<style>.container { width:100% !important; }</style>\"))\r\n",
    "!python --version"
   ],
   "outputs": [],
   "metadata": {}
  },
  {
   "cell_type": "code",
   "execution_count": null,
   "source": [],
   "outputs": [],
   "metadata": {}
  },
  {
   "cell_type": "code",
   "execution_count": null,
   "source": [
    "logger = Logger()\r\n",
    "logger.initilaze_logging('no')    \r\n",
    "\r\n",
    "logging.info(f'{\"*\" * 50}Start Of Process{\"*\" * 50}')\r\n",
    "\r\n"
   ],
   "outputs": [],
   "metadata": {}
  },
  {
   "cell_type": "markdown",
   "source": [
    "## Validate if CAS file exists\r\n"
   ],
   "metadata": {}
  },
  {
   "cell_type": "code",
   "execution_count": null,
   "source": [
    "import os.path\r\n",
    "file_name = 'cas.pdf'\r\n",
    "if not os.path.isfile(file_name):\r\n",
    "    raise ValueError(\"file cas.pdf not found in root folder: Hint: Rename your CAS statement file to cas.pdf and save in root directory \")\r\n",
    "else: \r\n",
    "    print(f'File {file_name} Found: OK')"
   ],
   "outputs": [],
   "metadata": {}
  },
  {
   "cell_type": "markdown",
   "source": [
    "##  Password Input"
   ],
   "metadata": {}
  },
  {
   "cell_type": "code",
   "execution_count": null,
   "source": [
    "from getpass import getpass\r\n",
    "password = getpass(prompt='Input your password for cas.pdf: ')"
   ],
   "outputs": [],
   "metadata": {}
  },
  {
   "cell_type": "markdown",
   "source": [
    "## Read Contents of PDF"
   ],
   "metadata": {}
  },
  {
   "cell_type": "code",
   "execution_count": null,
   "source": [
    "%%time\r\n",
    "print('Parsing CAS statement Data Please wait:', end = \" \")\r\n",
    "dp = PDFParser()\r\n",
    "\r\n",
    "mf_trans_df, mf_hdr_df = dp.parse_mf_data(file_name, password)\r\n",
    "print(\"Done\")"
   ],
   "outputs": [],
   "metadata": {}
  },
  {
   "cell_type": "markdown",
   "source": [
    "## Calculate LTCG and STCG\r\n",
    "By defaut Target LTCG amount is set to INR 100,000. IF you want to set it to diffrent value (5000) change the code in cell below \r\n",
    "\r\n",
    "target_ltcg = 50000"
   ],
   "metadata": {}
  },
  {
   "cell_type": "code",
   "execution_count": null,
   "source": [
    "print('Calculating LTCG and Units to Sell: ', end = \" \")\r\n",
    "\r\n",
    "target_ltcg = 100000\r\n",
    "cg = CapitalGains(mf_hdr_df, mf_trans_df)\r\n",
    "cg.prepare_final_data(target_ltcg)\r\n",
    "print(\"Done\")"
   ],
   "outputs": [],
   "metadata": {}
  },
  {
   "cell_type": "markdown",
   "source": [
    "## Display Header Data\r\n",
    "\r\n",
    "<BR>The Header and Transaction Data gets saved in data/output directory of Cloud VM or Local Machine as csv files. For Cloud VM Select the checkbox againt each file and download it to your desktops"
   ],
   "metadata": {}
  },
  {
   "cell_type": "code",
   "execution_count": null,
   "source": [
    "\r\n",
    "\r\n",
    "hdr_df = cg.output_hdr_df\r\n",
    "hdr_df = hdr_df.drop(columns = ['folio_no', 'isin', 'amc','scheme_code'])\r\n",
    "hdr_df\r\n"
   ],
   "outputs": [],
   "metadata": {}
  },
  {
   "cell_type": "markdown",
   "source": [
    "## Display Transaction Data"
   ],
   "metadata": {}
  },
  {
   "cell_type": "code",
   "execution_count": null,
   "source": [
    "trans_df = cg.output_trans_df\r\n",
    "trans_df  = trans_df.drop(columns = ['folio_no', 'isin', 'amc','scheme_code'])\r\n",
    "trans_df"
   ],
   "outputs": [],
   "metadata": {}
  }
 ],
 "metadata": {
  "interpreter": {
   "hash": "181e6870c80abc925c2dfe437bdfeeba74427786bdfc79b2801fdb5e69d99dea"
  },
  "kernelspec": {
   "display_name": "Python 3",
   "language": "python",
   "name": "python3"
  },
  "language_info": {
   "codemirror_mode": {
    "name": "ipython",
    "version": 3
   },
   "file_extension": ".py",
   "mimetype": "text/x-python",
   "name": "python",
   "nbconvert_exporter": "python",
   "pygments_lexer": "ipython3",
   "version": "3.9.5"
  }
 },
 "nbformat": 4,
 "nbformat_minor": 2
}