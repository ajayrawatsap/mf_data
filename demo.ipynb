{
 "cells": [
  {
   "cell_type": "code",
   "execution_count": null,
   "source": [
    "import logging\r\n",
    "import os\r\n",
    "import pandas as pd\r\n",
    "import src.constants as ct\r\n",
    "import src.tests.testconfig as tc\r\n",
    "\r\n",
    "from src.parsedata import PDFParser\r\n",
    "from src.initialize import Logger\r\n",
    "from src.capitalgains import CapitalGains\r\n",
    "from src.utils import rename_mf_scheme\r\n",
    "\r\n",
    "\r\n",
    "pd.options.display.max_columns = 100\r\n",
    "pd.set_option('display.max_rows', 300)\r\n",
    "pd.set_option('display.max_colwidth', None)\r\n",
    "\r\n",
    "from IPython.core.display import display, HTML\r\n",
    "display(HTML(\"<style>.container { width:100% !important; }</style>\"))\r\n",
    "!python --version"
   ],
   "outputs": [],
   "metadata": {}
  },
  {
   "cell_type": "code",
   "execution_count": null,
   "source": [
    "logger = Logger()\r\n",
    "logger.initilaze_logging('no')   \r\n",
    "logging.info(f'{\"*\" * 50}Start Of Process{\"*\" * 50}')\r\n",
    "\r\n"
   ],
   "outputs": [],
   "metadata": {}
  },
  {
   "cell_type": "markdown",
   "source": [
    "\r\n",
    "## Pre-Requisite: CAS statement\r\n",
    "The first step is to get the [consolidated account statement](https://www.camsonline.com/Investors/Statements/Consolidated-Account-Statement) from CAMS in PDF Format. Make sure that you select the option as highlighted in yellow.\r\n",
    "\r\n",
    " <!-- ![screenshot](https://github.com/ajayrawatsap/mf_data/blob/master/data/assets/cams.PNG) -->\r\n",
    "\r\n",
    " <img src=\"data/assets/cams.PNG\" width=800 height=400 />\r\n",
    "\r\n",
    "\r\n"
   ],
   "metadata": {}
  },
  {
   "cell_type": "markdown",
   "source": [
    "## Validate if CAS file exists\n",
    "\n",
    "Rename your CAS statement from CAMS to *cas.pdf* and place it at root directory. It should be in same directory as this notebook demo.ipynb.\n",
    "This applies to both local as well as cloud VM enviornment."
   ],
   "metadata": {}
  },
  {
   "cell_type": "code",
   "execution_count": null,
   "source": [
    "import os.path\r\n",
    "file_name = 'cas.pdf'\r\n",
    "if not os.path.isfile(file_name):\r\n",
    "    raise ValueError(\"file cas.pdf not found in root folder: Hint: Rename your CAS statement file to cas.pdf and save in root directory \")\r\n",
    "else: \r\n",
    "    print(f'File {file_name} Found: OK')"
   ],
   "outputs": [],
   "metadata": {}
  },
  {
   "cell_type": "markdown",
   "source": [
    "##  Password Input\r\n",
    "\r\n",
    "The password is same as what you set up when requesting the statement from CAMS website."
   ],
   "metadata": {}
  },
  {
   "cell_type": "code",
   "execution_count": null,
   "source": [
    "from getpass import getpass\r\n",
    "# password = getpass(prompt='Input your password for cas.pdf: ')\r\n",
    "password = tc.password"
   ],
   "outputs": [],
   "metadata": {}
  },
  {
   "cell_type": "markdown",
   "source": [
    "## Read Contents of PDF"
   ],
   "metadata": {}
  },
  {
   "cell_type": "code",
   "execution_count": null,
   "source": [
    "%%time\r\n",
    "dp = PDFParser()\r\n",
    "    \r\n",
    "mf_trans_df, mf_hdr_df = dp.parse_mf_data(file_name, password)\r\n",
    "print('Parsing CAS statement Data Please wait:', end = \" \")\r\n"
   ],
   "outputs": [],
   "metadata": {}
  },
  {
   "cell_type": "markdown",
   "source": [
    "## Calculate LTCG and STCG\r\n",
    "By defaut Target LTCG amount is set to INR 100,000. IF you want to set it to different value (e.g.. INR 50,000) change the code in cell below and then run all cells again\r\n",
    "\r\n",
    "target_ltcg = 50000"
   ],
   "metadata": {}
  },
  {
   "cell_type": "code",
   "execution_count": null,
   "source": [
    "print('Calculating LTCG and Units to Sell: ', end = \" \")\r\n",
    "\r\n",
    "target_ltcg = 100000\r\n",
    "cg = CapitalGains(mf_hdr_df, mf_trans_df)\r\n",
    "cg.prepare_final_data(target_ltcg)\r\n",
    "print(\"Done\")"
   ],
   "outputs": [],
   "metadata": {}
  },
  {
   "cell_type": "markdown",
   "source": [
    "## Display Header Data\n",
    "\n",
    "<BR>The Header and Transaction Data gets saved in data/output directory of Cloud VM or Local Machine as csv files. For Cloud VM Select the checkbox againt each file and download it to your desktops"
   ],
   "metadata": {}
  },
  {
   "cell_type": "code",
   "execution_count": null,
   "source": [
    "from src.mfdisplay import get_hdr_data_to_display\r\n",
    "\r\n",
    "hdr_df = get_hdr_data_to_display(cg.output_hdr_df)\r\n",
    "hdr_df.head()"
   ],
   "outputs": [],
   "metadata": {}
  },
  {
   "cell_type": "markdown",
   "source": [
    "## Display Transaction Data for Single MF scheme\r\n",
    "\r\n",
    "By default this will show transaction for a random Scheme. You can execute the cell multple times to see results for a diffrent scheme\r\n",
    "\r\n",
    "<br>To view transaction for a specific scheme (e.g. DSP Small Cap Fund - Direct Plan - Growth)  replace  the code in cell to:-\r\n",
    "<br> get_trans_for_single_scheme(trans_df,   scheme_name= 'DSP Small Cap Fund - Direct Plan - Growth')\r\n",
    "\r\n",
    "Place cursor on code cell below Hit SHIFT + ENTER to see the results \r\n",
    "\r\n",
    "\r\n",
    "#### The *cumil_ltcg* and *cumil_units* columns are useful to know what units to sell for target ltcg.   Sell *cumil_units* for a LTCG of *cumil_ltcg*"
   ],
   "metadata": {}
  },
  {
   "cell_type": "code",
   "execution_count": null,
   "source": [
    "from src.mfdisplay import get_trans_data_to_display, get_trans_for_single_scheme\r\n",
    "trans_df = get_trans_data_to_display(cg.output_trans_df)\r\n",
    "\r\n",
    "get_trans_for_single_scheme(trans_df, scheme_name= None)\r\n"
   ],
   "outputs": [],
   "metadata": {}
  },
  {
   "cell_type": "code",
   "execution_count": null,
   "source": [
    "\r\n",
    "\r\n",
    "agg = {    'Invested Amount': pd.NamedAgg(column= 'invested_amt', aggfunc = 'sum'),\r\n",
    "           'Current Amount': pd.NamedAgg(column= 'current_amt', aggfunc= 'sum'),\r\n",
    "           'Total LTCG': pd.NamedAgg(column = 'ltcg', aggfunc= 'sum'),\r\n",
    "           'Total STCG': pd.NamedAgg(column= 'stcg', aggfunc= 'sum')\r\n",
    "        }\r\n",
    "\r\n",
    "\r\n",
    "mf_totals_grp = cg.mf_hdr_df.groupby('type').agg(**agg).reset_index() \r\n",
    "mf_totals_grp['Total Gain']  = mf_totals_grp['Current Amount'] - mf_totals_grp['Invested Amount']\r\n",
    "mf_totals_grp['Gain Percent'] = (mf_totals_grp['Total Gain'] /  mf_totals_grp['Invested Amount']) * 100\r\n",
    "\r\n",
    "\r\n",
    "columns = mf_totals_grp.columns.tolist()\r\n",
    "columns.remove('type') \r\n",
    "\r\n",
    "mf_totals_grp[columns] = mf_totals_grp[columns].astype(float).round(2)\r\n",
    "total_invested_amt = mf_totals_grp['Invested Amount'].sum()\r\n",
    "total_current_amt = mf_totals_grp['Current Amount'].sum()\r\n",
    "total_gain = mf_totals_grp['Total Gain'].sum()\r\n",
    "perc_gain = round((total_gain / total_invested_amt) * 100, 2)\r\n",
    "mf_totals_grp"
   ],
   "outputs": [],
   "metadata": {}
  },
  {
   "cell_type": "code",
   "execution_count": null,
   "source": [
    "total_invested_amt, total_current_amt , total_gain, perc_gain"
   ],
   "outputs": [],
   "metadata": {}
  },
  {
   "cell_type": "markdown",
   "source": [
    "### Portfolio Summary"
   ],
   "metadata": {}
  },
  {
   "cell_type": "code",
   "execution_count": null,
   "source": [
    "from plotly import graph_objects as go\r\n",
    "\r\n",
    "total_amounts = [total_invested_amt, total_current_amt , total_gain]\r\n",
    "amount_names = ['Invested Amount','Current Amount', 'Gain/Loss']\r\n",
    "fig = go.Figure( data = [\r\n",
    "\r\n",
    "                         go.Bar( name = f\"Current Amount ({ct.RUPEEE_SYMBOL})\",  x =  total_amounts ,  y=  amount_names, orientation = 'h',\r\n",
    "                                 text =  total_amounts , textposition='outside', texttemplate='%{text:.2s}'\r\n",
    "                                 ),\r\n",
    "                         \r\n",
    "                        \r\n",
    "                        ])\r\n",
    "\r\n",
    "fig.update_layout( \r\n",
    "    \r\n",
    "                #   barmode='group',\r\n",
    "                   height=350,\r\n",
    "                   title = 'Portfolio Summary'\r\n",
    "                 )\r\n",
    "fig.show()                       "
   ],
   "outputs": [],
   "metadata": {}
  },
  {
   "cell_type": "markdown",
   "source": [
    "##  Equiy vs Debt Aggregate Data"
   ],
   "metadata": {}
  },
  {
   "cell_type": "code",
   "execution_count": null,
   "source": [
    "from plotly.subplots import make_subplots\r\n",
    "from plotly import graph_objects as go\r\n",
    "\r\n",
    "\r\n",
    "\r\n",
    "\r\n",
    "totals_df = mf_totals_grp\r\n",
    "mf_types = totals_df.type.to_list()\r\n",
    "\r\n",
    "\r\n",
    "fig = make_subplots(rows=2, cols=2, \r\n",
    "                    specs=[\r\n",
    "                          [{\"type\": \"bar\"}, {\"type\": \"bar\"}],\r\n",
    "                          [{\"type\": \"pie\"}, {\"type\": \"bar\"}]\r\n",
    "                          ],\r\n",
    "                    subplot_titles=(\"Portfolio Amounts\", \"Capital Gains (LTCG/STCG)\", \" \", \"Gain % (Absolute)\"))\r\n",
    "\r\n",
    "# Subplot1: Invested Anount, Current Amount, Gain\r\n",
    "invested_amount = totals_df['Invested Amount']\r\n",
    "current_amount = totals_df['Current Amount']\r\n",
    "gain =  totals_df['Total Gain']\r\n",
    "\r\n",
    "\r\n",
    "fig.add_trace(\r\n",
    "     go.Bar(name= f\"Current Amount ({ct.RUPEEE_SYMBOL})\",x = current_amount, y=mf_types, orientation = 'h',  legendgroup = '1',\r\n",
    "                                    text = current_amount, textposition='outside', texttemplate='%{text:.2s}'),\r\n",
    "    row=1,\r\n",
    "    col=1,\r\n",
    "   \r\n",
    ")\r\n",
    "\r\n",
    "\r\n",
    "fig.add_trace(\r\n",
    "     go.Bar(name=  f\"Invested Amount ({ct.RUPEEE_SYMBOL})\", x= invested_amount, y= mf_types, orientation = 'h',  legendgroup = '1',\r\n",
    "                                 text = invested_amount, textposition='outside', texttemplate='%{text:.2s}' ),\r\n",
    "    \r\n",
    "     row = 1,\r\n",
    "     col = 1,\r\n",
    "  \r\n",
    ")\r\n",
    "\r\n",
    "\r\n",
    "fig.add_trace(\r\n",
    "     \r\n",
    "     go.Bar(name=  f\"Gain/Loss ({ct.RUPEEE_SYMBOL})\", x= gain, y= mf_types, orientation = 'h',  legendgroup = '1',\r\n",
    "                                 text = gain, textposition='outside', texttemplate='%{text:.2s}' ),\r\n",
    "     row = 1,\r\n",
    "     col = 1,\r\n",
    "   \r\n",
    ")\r\n",
    "\r\n",
    "\r\n",
    "# Subplot2:LTCG and STCG\r\n",
    "ltcg = totals_df['Total LTCG']\r\n",
    "stcg = totals_df['Total STCG']\r\n",
    "\r\n",
    "fig.add_trace(\r\n",
    "     \r\n",
    "     go.Bar(name= f\"Total LTCG ({ct.RUPEEE_SYMBOL})\",x = ltcg, y=mf_types, orientation = 'h',  legendgroup = '2',\r\n",
    "                                    text = ltcg, textposition='outside', texttemplate='%{text:.2s}'),\r\n",
    "     row = 1,\r\n",
    "     col = 2,\r\n",
    "     \r\n",
    "\r\n",
    ")\r\n",
    "\r\n",
    "fig.add_trace(    \r\n",
    "     \r\n",
    "     go.Bar(name=  f\"Total STCG ({ct.RUPEEE_SYMBOL})\", x= stcg, y= mf_types, orientation = 'h', legendgroup = '2',\r\n",
    "                                 text = stcg, textposition='outside', texttemplate='%{text:.2s}' ),\r\n",
    "     \r\n",
    "     row = 1,\r\n",
    "     col = 2,\r\n",
    "\r\n",
    ")\r\n",
    "\r\n",
    "#Subplot3: Debt Vs Equity Ratio\r\n",
    "fig.add_trace(\r\n",
    "\r\n",
    "            go.Pie(labels = mf_types, \r\n",
    "                    values = current_amount,\r\n",
    "                    legendgroup = '3',\r\n",
    "                    textinfo='label+percent',\r\n",
    "                    showlegend=False,\r\n",
    "                    insidetextorientation='radial'),\r\n",
    "\r\n",
    "            row = 2,\r\n",
    "            col = 1,\r\n",
    "\r\n",
    "           )\r\n",
    "\r\n",
    "\r\n",
    "\r\n",
    "\r\n",
    "#Subplot4; Show Gain Percent\r\n",
    "fig.add_trace(\r\n",
    "     \r\n",
    "     go.Bar(name= f\"Gain Percent\",x = totals_df['Gain Percent'], y=mf_types, orientation = 'h',  legendgroup = '4', showlegend=False,\r\n",
    "                                    text = totals_df['Gain Percent'], textposition='outside', texttemplate='%{text:.2s}'),\r\n",
    "     row = 2,\r\n",
    "     col = 2,\r\n",
    "     \r\n",
    "\r\n",
    ")\r\n",
    "\r\n",
    "fig.update_layout(height=700,  legend_tracegroupgap = 50)\r\n",
    "fig.show()"
   ],
   "outputs": [],
   "metadata": {}
  },
  {
   "cell_type": "markdown",
   "source": [
    "## Plot Mutual Funds Scheme Amounts"
   ],
   "metadata": {}
  },
  {
   "cell_type": "code",
   "execution_count": null,
   "source": [
    "import plotly.graph_objects as go\r\n",
    "hdr_df = cg.mf_hdr_df\r\n",
    "# Show graph with sorted order of current amount\r\n",
    "hdr_df = hdr_df.sort_values(by = ['current_amt'], ascending= False)\r\n",
    "\r\n",
    "#Shorten the MF names \r\n",
    "scheme_names = [ name.split('Fund')[0].strip() for name in hdr_df.scheme_name.to_list()]\r\n",
    "gain_loss =  hdr_df.current_amt.values - hdr_df.invested_amt.values\r\n",
    "# gain_loss =  hdr_df.amount.values- hdr_df.current_amt.values \r\n",
    "fig = go.Figure( data = [\r\n",
    "\r\n",
    "                         go.Bar( name = f\"Current Amount ({ct.RUPEEE_SYMBOL})\",  x =  scheme_names, y= hdr_df.current_amt.values, \r\n",
    "                                 text = hdr_df.current_amt.values, textposition='outside', texttemplate='%{text:.2s}'\r\n",
    "                                 ),\r\n",
    "                         go.Bar( name = f\"Invested Amount ({ct.RUPEEE_SYMBOL})\", x = scheme_names, y= hdr_df.invested_amt.values,\r\n",
    "                                  text = hdr_df.invested_amt.values, textposition='outside', texttemplate='%{text:.2s}'),\r\n",
    "                       \r\n",
    "                                # text=y, textposition='auto'),\r\n",
    "                         go.Bar( name = f\"Gain/Loss ({ct.RUPEEE_SYMBOL})\",  x =  scheme_names, y= gain_loss, \r\n",
    "                                 text = gain_loss, textposition='outside', texttemplate='%{text:.2s}')\r\n",
    "                                # text=y,textposition='auto' )\r\n",
    "                        \r\n",
    "                        ])\r\n",
    "\r\n",
    "fig.update_layout( barmode='group',\r\n",
    "                   height=600,\r\n",
    "                   title = 'Mutual Funds Scheme Valuation'\r\n",
    "                 )\r\n",
    "fig.show()                       "
   ],
   "outputs": [],
   "metadata": {}
  },
  {
   "cell_type": "markdown",
   "source": [
    "## Plot Unrealised LTCG and STCG"
   ],
   "metadata": {}
  },
  {
   "cell_type": "code",
   "execution_count": null,
   "source": [
    "\r\n",
    "hdr_df = hdr_df.sort_values(by = ['ltcg'], ascending= False)\r\n",
    "scheme_names = [ name.split('Fund')[0].strip() for name in hdr_df.scheme_name.to_list()]\r\n",
    "\r\n",
    "fig = go.Figure( data = [\r\n",
    "\r\n",
    "                         go.Bar( name = f\"LTCG ({ct.RUPEEE_SYMBOL})\",  x =  scheme_names, y= hdr_df.ltcg.values, \r\n",
    "                                 text =   hdr_df.ltcg.values, textposition='outside', texttemplate='%{text:.2s}'\r\n",
    "                                 ),\r\n",
    "\r\n",
    "                         go.Bar( name = f\"STCG ({ct.RUPEEE_SYMBOL})\", x = scheme_names, y= hdr_df.stcg.values,\r\n",
    "                                  text = hdr_df.stcg.values, textposition='outside', texttemplate='%{text:.2s}'),\r\n",
    "                       \r\n",
    "                        ])\r\n",
    "\r\n",
    "fig.update_layout( barmode='group',\r\n",
    "                   height=600,\r\n",
    "                #    width = 800,\r\n",
    "                   title = 'Unrealised LTCG and STCG'\r\n",
    "                 )\r\n",
    "fig.show()                 "
   ],
   "outputs": [],
   "metadata": {}
  },
  {
   "cell_type": "markdown",
   "source": [
    "## Plot Mutual Funds Allocation by Scheme"
   ],
   "metadata": {}
  },
  {
   "cell_type": "code",
   "execution_count": null,
   "source": [
    "import plotly.graph_objects as go\r\n",
    "\r\n",
    "hdr_df = hdr_df.sort_values(by = ['current_amt'], ascending= False)\r\n",
    "scheme_names = [ name.split('Fund')[0].strip() for name in hdr_df.scheme_name.to_list()]\r\n",
    "fig = go.Figure(data = [go.Pie(labels = scheme_names, \r\n",
    "                               values = hdr_df.current_amt,\r\n",
    "                               textinfo='label+percent',\r\n",
    "                               insidetextorientation='radial',\r\n",
    "                               \r\n",
    "                               )])\r\n",
    "\r\n",
    "fig.update_layout(\r\n",
    "                   title = 'Mutual Funds Allocation'\r\n",
    "                    )                              \r\n",
    "fig.show()"
   ],
   "outputs": [],
   "metadata": {}
  },
  {
   "cell_type": "code",
   "execution_count": null,
   "source": [
    "\r\n",
    "logging.info(f'{\"*\" * 50}End Of Process{\"*\" * 50}\\n') "
   ],
   "outputs": [],
   "metadata": {}
  }
 ],
 "metadata": {
  "interpreter": {
   "hash": "181e6870c80abc925c2dfe437bdfeeba74427786bdfc79b2801fdb5e69d99dea"
  },
  "kernelspec": {
   "name": "python3",
   "display_name": "Python 3.9.5 64-bit ('new': conda)"
  },
  "language_info": {
   "codemirror_mode": {
    "name": "ipython",
    "version": 3
   },
   "file_extension": ".py",
   "mimetype": "text/x-python",
   "name": "python",
   "nbconvert_exporter": "python",
   "pygments_lexer": "ipython3",
   "version": "3.9.5"
  }
 },
 "nbformat": 4,
 "nbformat_minor": 4
}