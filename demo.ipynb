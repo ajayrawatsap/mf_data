{
 "cells": [
  {
   "cell_type": "code",
   "execution_count": null,
   "source": [
    "import logging\r\n",
    "import os\r\n",
    "import pandas as pd\r\n",
    "import src.constants as ct\r\n",
    "\r\n",
    "\r\n",
    "from src.parsedata import PDFParser\r\n",
    "from src.initialize import Logger\r\n",
    "from src.capitalgains import CapitalGains\r\n",
    "from src.utils import rename_mf_scheme\r\n",
    "\r\n",
    "\r\n",
    "pd.options.display.max_columns = 100\r\n",
    "pd.set_option('display.max_rows', 300)\r\n",
    "pd.set_option('display.max_colwidth', None)\r\n",
    "\r\n",
    "from IPython.core.display import display, HTML\r\n",
    "display(HTML(\"<style>.container { width:100% !important; }</style>\"))\r\n",
    "!python --version"
   ],
   "outputs": [],
   "metadata": {}
  },
  {
   "cell_type": "code",
   "execution_count": null,
   "source": [
    "logger = Logger()\r\n",
    "logger.initilaze_logging('no')   \r\n",
    "logging.info(f'{\"*\" * 50}Start Of Process{\"*\" * 50}')\r\n",
    "\r\n"
   ],
   "outputs": [],
   "metadata": {}
  },
  {
   "cell_type": "markdown",
   "source": [
    "\r\n",
    "## Pre-Requisite: CAS statement\r\n",
    "The first step is to get the [consolidated account statement](https://www.camsonline.com/Investors/Statements/Consolidated-Account-Statement) from CAMS in PDF Format. Make sure that you select the option as highlighted in yellow.\r\n",
    "\r\n",
    " <!-- ![screenshot](https://github.com/ajayrawatsap/mf_data/blob/master/data/assets/cams.PNG) -->\r\n",
    "\r\n",
    " <img src=\"data/assets/cams.PNG\" width=800 height=400 />\r\n",
    "\r\n",
    "\r\n"
   ],
   "metadata": {}
  },
  {
   "cell_type": "markdown",
   "source": [
    "## Validate if CAS file exists\n",
    "\n",
    "Rename your CAS statement from CAMS to *cas.pdf* and place it at root directory. It should be in same directory as this notebook demo.ipynb.\n",
    "This applies to both local as well as cloud VM enviornment."
   ],
   "metadata": {}
  },
  {
   "cell_type": "code",
   "execution_count": null,
   "source": [
    "import os.path\r\n",
    "file_name = 'cas.pdf'\r\n",
    "if not os.path.isfile(file_name):\r\n",
    "    raise ValueError(\"file cas.pdf not found in root folder: Hint: Rename your CAS statement file to cas.pdf and save in root directory \")\r\n",
    "else: \r\n",
    "    print(f'File {file_name} Found: OK')"
   ],
   "outputs": [],
   "metadata": {}
  },
  {
   "cell_type": "markdown",
   "source": [
    "##  Password Input\r\n",
    "\r\n",
    "The password is same as what you set up when requesting the statement from CAMS website."
   ],
   "metadata": {}
  },
  {
   "cell_type": "code",
   "execution_count": null,
   "source": [
    "from getpass import getpass\r\n",
    "password = getpass(prompt='Input your password for cas.pdf: ')\r\n",
    "# password = tc.password"
   ],
   "outputs": [],
   "metadata": {}
  },
  {
   "cell_type": "markdown",
   "source": [
    "## Read Contents of PDF"
   ],
   "metadata": {}
  },
  {
   "cell_type": "code",
   "execution_count": null,
   "source": [
    "%%time\r\n",
    "dp = PDFParser()\r\n",
    "    \r\n",
    "mf_trans_df, mf_hdr_df = dp.parse_mf_data(file_name, password)\r\n",
    "print('Parsing CAS statement Data Please wait:', end = \" \")\r\n"
   ],
   "outputs": [],
   "metadata": {}
  },
  {
   "cell_type": "markdown",
   "source": [
    "## Calculate LTCG and STCG\r\n",
    "By defaut Target LTCG amount is set to INR 100,000. IF you want to set it to different value (e.g.. INR 50,000) change the code in cell below and then run all cells again\r\n",
    "\r\n",
    "target_ltcg = 50000"
   ],
   "metadata": {}
  },
  {
   "cell_type": "code",
   "execution_count": null,
   "source": [
    "print('Calculating LTCG and Units to Sell: ', end = \" \")\r\n",
    "\r\n",
    "target_ltcg = 100000\r\n",
    "cg = CapitalGains(mf_hdr_df, mf_trans_df)\r\n",
    "cg.prepare_final_data(target_ltcg)\r\n",
    "print(\"Done\")"
   ],
   "outputs": [],
   "metadata": {}
  },
  {
   "cell_type": "markdown",
   "source": [
    "## Display Header Data\n",
    "\n",
    "<BR>The Header and Transaction Data gets saved in data/output directory of Cloud VM or Local Machine as csv files. For Cloud VM Select the checkbox againt each file and download it to your desktops"
   ],
   "metadata": {}
  },
  {
   "cell_type": "code",
   "execution_count": null,
   "source": [
    "from src.mfdisplay import get_hdr_data_to_display\r\n",
    "\r\n",
    "hdr_df = get_hdr_data_to_display(cg.output_hdr_df)\r\n",
    "hdr_df.head()"
   ],
   "outputs": [],
   "metadata": {}
  },
  {
   "cell_type": "markdown",
   "source": [
    "## Display Transaction Data for Single MF scheme\r\n",
    "\r\n",
    "By default this will show transaction for a random Scheme. You can execute the cell multple times to see results for a diffrent scheme\r\n",
    "\r\n",
    "<br>To view transaction for a specific scheme (e.g. DSP Small Cap Fund - Direct Plan - Growth)  replace  the code in cell to:-\r\n",
    "<br> get_trans_for_single_scheme(trans_df,   scheme_name= 'DSP Small Cap Fund - Direct Plan - Growth')\r\n",
    "\r\n",
    "Place cursor on code cell below Hit SHIFT + ENTER to see the results \r\n",
    "\r\n",
    "\r\n",
    "#### The *cumil_ltcg* and *cumil_units* columns are useful to know what units to sell for target ltcg.   Sell *cumil_units* for a LTCG of *cumil_ltcg*"
   ],
   "metadata": {}
  },
  {
   "cell_type": "code",
   "execution_count": null,
   "source": [
    "from src.mfdisplay import get_trans_data_to_display, get_trans_for_single_scheme\r\n",
    "trans_df = get_trans_data_to_display(cg.output_trans_df)\r\n",
    "\r\n",
    "get_trans_for_single_scheme(trans_df, scheme_name= None)\r\n"
   ],
   "outputs": [],
   "metadata": {}
  },
  {
   "cell_type": "markdown",
   "source": [
    "## Portfolio Summary"
   ],
   "metadata": {}
  },
  {
   "cell_type": "code",
   "execution_count": null,
   "source": [
    "from src.mfdisplay import group_by_mf_type, display_summary\r\n",
    "mf_totals_grp = group_by_mf_type(cg.mf_hdr_df)\r\n",
    "display_summary(mf_totals_grp)\r\n",
    "\r\n",
    "\r\n",
    "\r\n",
    "            "
   ],
   "outputs": [],
   "metadata": {}
  },
  {
   "cell_type": "markdown",
   "source": [
    "##  Equiy vs Debt Aggregate Data"
   ],
   "metadata": {}
  },
  {
   "cell_type": "code",
   "execution_count": null,
   "source": [
    "from src.mfdisplay import display_equity_vs_debt\r\n",
    "display_equity_vs_debt(mf_totals_grp)"
   ],
   "outputs": [],
   "metadata": {}
  },
  {
   "cell_type": "markdown",
   "source": [
    "## Plot Mutual Funds Scheme Amounts"
   ],
   "metadata": {}
  },
  {
   "cell_type": "code",
   "execution_count": null,
   "source": [
    "from src.mfdisplay import display_mf_scheme_amounts\r\n",
    "\r\n",
    "\r\n",
    "display_mf_scheme_amounts(cg.mf_hdr_df)                 "
   ],
   "outputs": [],
   "metadata": {}
  },
  {
   "cell_type": "markdown",
   "source": [
    "## Plot Unrealised LTCG and STCG"
   ],
   "metadata": {}
  },
  {
   "cell_type": "code",
   "execution_count": null,
   "source": [
    "from src.mfdisplay import display_unrealised_ltcg_stcg\r\n",
    "display_unrealised_ltcg_stcg(cg.mf_hdr_df)               "
   ],
   "outputs": [],
   "metadata": {}
  },
  {
   "cell_type": "markdown",
   "source": [
    "## Plot Mutual Funds Allocation by Scheme"
   ],
   "metadata": {}
  },
  {
   "cell_type": "code",
   "execution_count": null,
   "source": [
    "from src.mfdisplay import display_mf_scheme_pie_chart\r\n",
    "\r\n",
    "display_mf_scheme_pie_chart(cg.mf_hdr_df)"
   ],
   "outputs": [],
   "metadata": {}
  },
  {
   "cell_type": "code",
   "execution_count": null,
   "source": [
    "\r\n",
    "logging.info(f'{\"*\" * 50}End Of Process{\"*\" * 50}\\n') "
   ],
   "outputs": [],
   "metadata": {}
  }
 ],
 "metadata": {
  "interpreter": {
   "hash": "181e6870c80abc925c2dfe437bdfeeba74427786bdfc79b2801fdb5e69d99dea"
  },
  "kernelspec": {
   "name": "python3",
   "display_name": "Python 3.9.5 64-bit ('new': conda)"
  },
  "language_info": {
   "codemirror_mode": {
    "name": "ipython",
    "version": 3
   },
   "file_extension": ".py",
   "mimetype": "text/x-python",
   "name": "python",
   "nbconvert_exporter": "python",
   "pygments_lexer": "ipython3",
   "version": "3.9.5"
  }
 },
 "nbformat": 4,
 "nbformat_minor": 4
}