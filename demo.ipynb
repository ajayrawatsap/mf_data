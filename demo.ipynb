{
 "metadata": {
  "language_info": {
   "codemirror_mode": {
    "name": "ipython",
    "version": 3
   },
   "file_extension": ".py",
   "mimetype": "text/x-python",
   "name": "python",
   "nbconvert_exporter": "python",
   "pygments_lexer": "ipython3",
   "version": "3.9.1"
  },
  "orig_nbformat": 4,
  "kernelspec": {
   "name": "python3",
   "display_name": "Python 3.9.1 64-bit ('latest': conda)"
  },
  "interpreter": {
   "hash": "775568f81fb30ced4a5bc09753b75678ffec20681f9ac42ba10bda3f0a3dbb98"
  }
 },
 "nbformat": 4,
 "nbformat_minor": 2,
 "cells": [
  {
   "source": [
    "## Using TextFile\n",
    "\n",
    "<br>Get the consolidated account statement  from CAMS\n",
    "<br>Remove  Password  Protection using print to PDF\n",
    "<br>Open with PHantom Foxit PDF or Chrome and do  select all, copy and paste to text file"
   ],
   "cell_type": "markdown",
   "metadata": {}
  },
  {
   "cell_type": "code",
   "execution_count": 1,
   "metadata": {},
   "outputs": [],
   "source": [
    "import pandas as pd\n",
    "import logging\n",
    "\n",
    "import src.constants as ct\n",
    "from src.parsedata import DataParser\n",
    "from src.initialize import Logger\n",
    "\n",
    "pd.options.display.max_columns = 100\n",
    "# pd.options.display.max_rows = 100\n",
    "pd.set_option('display.max_rows', 300)\n",
    "pd.set_option('display.max_colwidth', None)\n",
    "\n"
   ]
  },
  {
   "source": [
    "## Read and Parse MF Transaction Data from text file"
   ],
   "cell_type": "markdown",
   "metadata": {}
  },
  {
   "cell_type": "code",
   "execution_count": 2,
   "metadata": {},
   "outputs": [],
   "source": [
    "# %%time\n",
    "\n",
    "# logger = Logger()\n",
    "# logger.initilaze_logging(display_logs = 'yes') \n",
    "\n",
    "# file_path = 'data\\consol_trans_18_June_2021.txt'\n",
    "file_path = 'data\\consol_trans_18_June_2021_chrome.txt'\n",
    "dp = DataParser()\n",
    "mf_trans_df, mf_hdr_df = dp.parse_mf_data(file_path)"
   ]
  },
  {
   "cell_type": "code",
   "execution_count": 3,
   "metadata": {},
   "outputs": [
    {
     "output_type": "execute_result",
     "data": {
      "text/plain": [
       "                                                                             scheme_name\n",
       "scheme_name                                                                             \n",
       "DSP Small Cap Fund-Direct Plan-Growth                                                  7\n",
       "Franklin India Flexi Cap Fund-Direct-Growth                                           56\n",
       "Franklin India Low Duration Fund-Direct-Growth                                         1\n",
       "Franklin India Smaller Companies Fund-Direct-Growth                                   21\n",
       "Franklin India Ultra Short Bond Fund Super Institutional Plan-Direct-Growth            1\n",
       "HDFC Top 100 Fund-Direct Plan-Growth Option                                           14\n",
       "ICICI Prudential All Seasons Bond Fund-Direct Plan-Growth                              2\n",
       "ICICI Prudential Banking and PSU Debt Fund-Direct Plan-Growth                          3\n",
       "ICICI Prudential Long Term Equity Fund-Direct Plan-Growth                              2\n",
       "ICICI Prudential Nifty Next 50 Index Fund-Direct Plan-Growth                          28\n",
       "ICICI Prudential US Bluechip Equity Fund-Direct Plan-Growth                           13\n",
       "ICICI Prudential Value Discovery Fund-Direct Plan-Growth                              49\n",
       "Mirae Asset Emerging Bluechip Fund-Direct Plan-Growth                                 27\n",
       "Mirae Asset Large Cap Fund-Direct Plan-Growth                                          4\n",
       "Mirae Asset Tax Saver Fund-Direct-Growth                                               1"
      ],
      "text/html": "<div>\n<style scoped>\n    .dataframe tbody tr th:only-of-type {\n        vertical-align: middle;\n    }\n\n    .dataframe tbody tr th {\n        vertical-align: top;\n    }\n\n    .dataframe thead th {\n        text-align: right;\n    }\n</style>\n<table border=\"1\" class=\"dataframe\">\n  <thead>\n    <tr style=\"text-align: right;\">\n      <th></th>\n      <th>scheme_name</th>\n    </tr>\n    <tr>\n      <th>scheme_name</th>\n      <th></th>\n    </tr>\n  </thead>\n  <tbody>\n    <tr>\n      <th>DSP Small Cap Fund-Direct Plan-Growth</th>\n      <td>7</td>\n    </tr>\n    <tr>\n      <th>Franklin India Flexi Cap Fund-Direct-Growth</th>\n      <td>56</td>\n    </tr>\n    <tr>\n      <th>Franklin India Low Duration Fund-Direct-Growth</th>\n      <td>1</td>\n    </tr>\n    <tr>\n      <th>Franklin India Smaller Companies Fund-Direct-Growth</th>\n      <td>21</td>\n    </tr>\n    <tr>\n      <th>Franklin India Ultra Short Bond Fund Super Institutional Plan-Direct-Growth</th>\n      <td>1</td>\n    </tr>\n    <tr>\n      <th>HDFC Top 100 Fund-Direct Plan-Growth Option</th>\n      <td>14</td>\n    </tr>\n    <tr>\n      <th>ICICI Prudential All Seasons Bond Fund-Direct Plan-Growth</th>\n      <td>2</td>\n    </tr>\n    <tr>\n      <th>ICICI Prudential Banking and PSU Debt Fund-Direct Plan-Growth</th>\n      <td>3</td>\n    </tr>\n    <tr>\n      <th>ICICI Prudential Long Term Equity Fund-Direct Plan-Growth</th>\n      <td>2</td>\n    </tr>\n    <tr>\n      <th>ICICI Prudential Nifty Next 50 Index Fund-Direct Plan-Growth</th>\n      <td>28</td>\n    </tr>\n    <tr>\n      <th>ICICI Prudential US Bluechip Equity Fund-Direct Plan-Growth</th>\n      <td>13</td>\n    </tr>\n    <tr>\n      <th>ICICI Prudential Value Discovery Fund-Direct Plan-Growth</th>\n      <td>49</td>\n    </tr>\n    <tr>\n      <th>Mirae Asset Emerging Bluechip Fund-Direct Plan-Growth</th>\n      <td>27</td>\n    </tr>\n    <tr>\n      <th>Mirae Asset Large Cap Fund-Direct Plan-Growth</th>\n      <td>4</td>\n    </tr>\n    <tr>\n      <th>Mirae Asset Tax Saver Fund-Direct-Growth</th>\n      <td>1</td>\n    </tr>\n  </tbody>\n</table>\n</div>"
     },
     "metadata": {},
     "execution_count": 3
    }
   ],
   "source": [
    "mf_trans_df.groupby('scheme_name').agg({'scheme_name':'count'})\n"
   ]
  },
  {
   "cell_type": "code",
   "execution_count": 4,
   "metadata": {},
   "outputs": [
    {
     "output_type": "execute_result",
     "data": {
      "text/plain": [
       "                                               scheme_name trans_date  \\\n",
       "199  Mirae Asset Emerging Bluechip Fund-Direct Plan-Growth 2019-05-21   \n",
       "200  Mirae Asset Emerging Bluechip Fund-Direct Plan-Growth 2019-06-21   \n",
       "201  Mirae Asset Emerging Bluechip Fund-Direct Plan-Growth 2019-07-22   \n",
       "202  Mirae Asset Emerging Bluechip Fund-Direct Plan-Growth 2019-08-21   \n",
       "203  Mirae Asset Emerging Bluechip Fund-Direct Plan-Growth 2019-09-23   \n",
       "204  Mirae Asset Emerging Bluechip Fund-Direct Plan-Growth 2019-10-22   \n",
       "205  Mirae Asset Emerging Bluechip Fund-Direct Plan-Growth 2019-11-21   \n",
       "206  Mirae Asset Emerging Bluechip Fund-Direct Plan-Growth 2019-12-23   \n",
       "207  Mirae Asset Emerging Bluechip Fund-Direct Plan-Growth 2020-01-21   \n",
       "208  Mirae Asset Emerging Bluechip Fund-Direct Plan-Growth 2020-02-24   \n",
       "209  Mirae Asset Emerging Bluechip Fund-Direct Plan-Growth 2020-03-23   \n",
       "210  Mirae Asset Emerging Bluechip Fund-Direct Plan-Growth 2020-04-21   \n",
       "211  Mirae Asset Emerging Bluechip Fund-Direct Plan-Growth 2020-05-21   \n",
       "212  Mirae Asset Emerging Bluechip Fund-Direct Plan-Growth 2020-06-22   \n",
       "213  Mirae Asset Emerging Bluechip Fund-Direct Plan-Growth 2020-07-21   \n",
       "214  Mirae Asset Emerging Bluechip Fund-Direct Plan-Growth 2020-08-21   \n",
       "215  Mirae Asset Emerging Bluechip Fund-Direct Plan-Growth 2020-09-21   \n",
       "216  Mirae Asset Emerging Bluechip Fund-Direct Plan-Growth 2020-10-21   \n",
       "217  Mirae Asset Emerging Bluechip Fund-Direct Plan-Growth 2020-11-23   \n",
       "218  Mirae Asset Emerging Bluechip Fund-Direct Plan-Growth 2020-12-21   \n",
       "219  Mirae Asset Emerging Bluechip Fund-Direct Plan-Growth 2021-01-21   \n",
       "220  Mirae Asset Emerging Bluechip Fund-Direct Plan-Growth 2021-02-22   \n",
       "221  Mirae Asset Emerging Bluechip Fund-Direct Plan-Growth 2021-03-21   \n",
       "222  Mirae Asset Emerging Bluechip Fund-Direct Plan-Growth 2021-04-22   \n",
       "223  Mirae Asset Emerging Bluechip Fund-Direct Plan-Growth 2021-05-21   \n",
       "224          Mirae Asset Large Cap Fund-Direct Plan-Growth 2019-02-19   \n",
       "225          Mirae Asset Large Cap Fund-Direct Plan-Growth 2019-06-10   \n",
       "226          Mirae Asset Large Cap Fund-Direct Plan-Growth 2019-06-14   \n",
       "227          Mirae Asset Large Cap Fund-Direct Plan-Growth 2020-03-17   \n",
       "228               Mirae Asset Tax Saver Fund-Direct-Growth 2020-12-18   \n",
       "\n",
       "        amount     units  unit_price  \n",
       "199   25000.00   450.013      55.554  \n",
       "200   25000.00   439.090      56.936  \n",
       "201   25000.00   452.096      55.298  \n",
       "202   25000.00   464.037      53.875  \n",
       "203   25000.00   432.331      57.826  \n",
       "204   25000.00   433.975      57.607  \n",
       "205   25000.00   416.354      60.045  \n",
       "206   25000.00   409.614      61.033  \n",
       "207   25000.00   397.994      62.815  \n",
       "208   25000.00   398.521      62.732  \n",
       "209   25000.00   621.674      40.214  \n",
       "210   25000.00   516.550      48.398  \n",
       "211   25000.00   517.770      48.284  \n",
       "212   25000.00   452.170      55.289  \n",
       "213   24998.75   423.578      59.018  \n",
       "214   24998.75   399.418      62.588  \n",
       "215   24998.75   404.288      61.834  \n",
       "216   24998.75   386.403      64.696  \n",
       "217   24998.75   353.940      70.630  \n",
       "218   24998.75   346.085      72.233  \n",
       "219   24998.75   310.412      80.534  \n",
       "220   24998.75   298.403      83.775  \n",
       "221   24998.75   294.599      84.857  \n",
       "222   24998.75   299.447      83.483  \n",
       "223   24998.75   275.742      90.660  \n",
       "224  250000.00  5098.607      49.033  \n",
       "225  150000.00  2708.119      55.389  \n",
       "226  300000.00  5464.680      54.898  \n",
       "227  200000.00  4548.452      43.971  \n",
       "228   59997.00  2456.678      24.422  "
      ],
      "text/html": "<div>\n<style scoped>\n    .dataframe tbody tr th:only-of-type {\n        vertical-align: middle;\n    }\n\n    .dataframe tbody tr th {\n        vertical-align: top;\n    }\n\n    .dataframe thead th {\n        text-align: right;\n    }\n</style>\n<table border=\"1\" class=\"dataframe\">\n  <thead>\n    <tr style=\"text-align: right;\">\n      <th></th>\n      <th>scheme_name</th>\n      <th>trans_date</th>\n      <th>amount</th>\n      <th>units</th>\n      <th>unit_price</th>\n    </tr>\n  </thead>\n  <tbody>\n    <tr>\n      <th>199</th>\n      <td>Mirae Asset Emerging Bluechip Fund-Direct Plan-Growth</td>\n      <td>2019-05-21</td>\n      <td>25000.00</td>\n      <td>450.013</td>\n      <td>55.554</td>\n    </tr>\n    <tr>\n      <th>200</th>\n      <td>Mirae Asset Emerging Bluechip Fund-Direct Plan-Growth</td>\n      <td>2019-06-21</td>\n      <td>25000.00</td>\n      <td>439.090</td>\n      <td>56.936</td>\n    </tr>\n    <tr>\n      <th>201</th>\n      <td>Mirae Asset Emerging Bluechip Fund-Direct Plan-Growth</td>\n      <td>2019-07-22</td>\n      <td>25000.00</td>\n      <td>452.096</td>\n      <td>55.298</td>\n    </tr>\n    <tr>\n      <th>202</th>\n      <td>Mirae Asset Emerging Bluechip Fund-Direct Plan-Growth</td>\n      <td>2019-08-21</td>\n      <td>25000.00</td>\n      <td>464.037</td>\n      <td>53.875</td>\n    </tr>\n    <tr>\n      <th>203</th>\n      <td>Mirae Asset Emerging Bluechip Fund-Direct Plan-Growth</td>\n      <td>2019-09-23</td>\n      <td>25000.00</td>\n      <td>432.331</td>\n      <td>57.826</td>\n    </tr>\n    <tr>\n      <th>204</th>\n      <td>Mirae Asset Emerging Bluechip Fund-Direct Plan-Growth</td>\n      <td>2019-10-22</td>\n      <td>25000.00</td>\n      <td>433.975</td>\n      <td>57.607</td>\n    </tr>\n    <tr>\n      <th>205</th>\n      <td>Mirae Asset Emerging Bluechip Fund-Direct Plan-Growth</td>\n      <td>2019-11-21</td>\n      <td>25000.00</td>\n      <td>416.354</td>\n      <td>60.045</td>\n    </tr>\n    <tr>\n      <th>206</th>\n      <td>Mirae Asset Emerging Bluechip Fund-Direct Plan-Growth</td>\n      <td>2019-12-23</td>\n      <td>25000.00</td>\n      <td>409.614</td>\n      <td>61.033</td>\n    </tr>\n    <tr>\n      <th>207</th>\n      <td>Mirae Asset Emerging Bluechip Fund-Direct Plan-Growth</td>\n      <td>2020-01-21</td>\n      <td>25000.00</td>\n      <td>397.994</td>\n      <td>62.815</td>\n    </tr>\n    <tr>\n      <th>208</th>\n      <td>Mirae Asset Emerging Bluechip Fund-Direct Plan-Growth</td>\n      <td>2020-02-24</td>\n      <td>25000.00</td>\n      <td>398.521</td>\n      <td>62.732</td>\n    </tr>\n    <tr>\n      <th>209</th>\n      <td>Mirae Asset Emerging Bluechip Fund-Direct Plan-Growth</td>\n      <td>2020-03-23</td>\n      <td>25000.00</td>\n      <td>621.674</td>\n      <td>40.214</td>\n    </tr>\n    <tr>\n      <th>210</th>\n      <td>Mirae Asset Emerging Bluechip Fund-Direct Plan-Growth</td>\n      <td>2020-04-21</td>\n      <td>25000.00</td>\n      <td>516.550</td>\n      <td>48.398</td>\n    </tr>\n    <tr>\n      <th>211</th>\n      <td>Mirae Asset Emerging Bluechip Fund-Direct Plan-Growth</td>\n      <td>2020-05-21</td>\n      <td>25000.00</td>\n      <td>517.770</td>\n      <td>48.284</td>\n    </tr>\n    <tr>\n      <th>212</th>\n      <td>Mirae Asset Emerging Bluechip Fund-Direct Plan-Growth</td>\n      <td>2020-06-22</td>\n      <td>25000.00</td>\n      <td>452.170</td>\n      <td>55.289</td>\n    </tr>\n    <tr>\n      <th>213</th>\n      <td>Mirae Asset Emerging Bluechip Fund-Direct Plan-Growth</td>\n      <td>2020-07-21</td>\n      <td>24998.75</td>\n      <td>423.578</td>\n      <td>59.018</td>\n    </tr>\n    <tr>\n      <th>214</th>\n      <td>Mirae Asset Emerging Bluechip Fund-Direct Plan-Growth</td>\n      <td>2020-08-21</td>\n      <td>24998.75</td>\n      <td>399.418</td>\n      <td>62.588</td>\n    </tr>\n    <tr>\n      <th>215</th>\n      <td>Mirae Asset Emerging Bluechip Fund-Direct Plan-Growth</td>\n      <td>2020-09-21</td>\n      <td>24998.75</td>\n      <td>404.288</td>\n      <td>61.834</td>\n    </tr>\n    <tr>\n      <th>216</th>\n      <td>Mirae Asset Emerging Bluechip Fund-Direct Plan-Growth</td>\n      <td>2020-10-21</td>\n      <td>24998.75</td>\n      <td>386.403</td>\n      <td>64.696</td>\n    </tr>\n    <tr>\n      <th>217</th>\n      <td>Mirae Asset Emerging Bluechip Fund-Direct Plan-Growth</td>\n      <td>2020-11-23</td>\n      <td>24998.75</td>\n      <td>353.940</td>\n      <td>70.630</td>\n    </tr>\n    <tr>\n      <th>218</th>\n      <td>Mirae Asset Emerging Bluechip Fund-Direct Plan-Growth</td>\n      <td>2020-12-21</td>\n      <td>24998.75</td>\n      <td>346.085</td>\n      <td>72.233</td>\n    </tr>\n    <tr>\n      <th>219</th>\n      <td>Mirae Asset Emerging Bluechip Fund-Direct Plan-Growth</td>\n      <td>2021-01-21</td>\n      <td>24998.75</td>\n      <td>310.412</td>\n      <td>80.534</td>\n    </tr>\n    <tr>\n      <th>220</th>\n      <td>Mirae Asset Emerging Bluechip Fund-Direct Plan-Growth</td>\n      <td>2021-02-22</td>\n      <td>24998.75</td>\n      <td>298.403</td>\n      <td>83.775</td>\n    </tr>\n    <tr>\n      <th>221</th>\n      <td>Mirae Asset Emerging Bluechip Fund-Direct Plan-Growth</td>\n      <td>2021-03-21</td>\n      <td>24998.75</td>\n      <td>294.599</td>\n      <td>84.857</td>\n    </tr>\n    <tr>\n      <th>222</th>\n      <td>Mirae Asset Emerging Bluechip Fund-Direct Plan-Growth</td>\n      <td>2021-04-22</td>\n      <td>24998.75</td>\n      <td>299.447</td>\n      <td>83.483</td>\n    </tr>\n    <tr>\n      <th>223</th>\n      <td>Mirae Asset Emerging Bluechip Fund-Direct Plan-Growth</td>\n      <td>2021-05-21</td>\n      <td>24998.75</td>\n      <td>275.742</td>\n      <td>90.660</td>\n    </tr>\n    <tr>\n      <th>224</th>\n      <td>Mirae Asset Large Cap Fund-Direct Plan-Growth</td>\n      <td>2019-02-19</td>\n      <td>250000.00</td>\n      <td>5098.607</td>\n      <td>49.033</td>\n    </tr>\n    <tr>\n      <th>225</th>\n      <td>Mirae Asset Large Cap Fund-Direct Plan-Growth</td>\n      <td>2019-06-10</td>\n      <td>150000.00</td>\n      <td>2708.119</td>\n      <td>55.389</td>\n    </tr>\n    <tr>\n      <th>226</th>\n      <td>Mirae Asset Large Cap Fund-Direct Plan-Growth</td>\n      <td>2019-06-14</td>\n      <td>300000.00</td>\n      <td>5464.680</td>\n      <td>54.898</td>\n    </tr>\n    <tr>\n      <th>227</th>\n      <td>Mirae Asset Large Cap Fund-Direct Plan-Growth</td>\n      <td>2020-03-17</td>\n      <td>200000.00</td>\n      <td>4548.452</td>\n      <td>43.971</td>\n    </tr>\n    <tr>\n      <th>228</th>\n      <td>Mirae Asset Tax Saver Fund-Direct-Growth</td>\n      <td>2020-12-18</td>\n      <td>59997.00</td>\n      <td>2456.678</td>\n      <td>24.422</td>\n    </tr>\n  </tbody>\n</table>\n</div>"
     },
     "metadata": {},
     "execution_count": 4
    }
   ],
   "source": [
    "mf_trans_df[-30:]"
   ]
  },
  {
   "cell_type": "code",
   "execution_count": 5,
   "metadata": {},
   "outputs": [
    {
     "output_type": "execute_result",
     "data": {
      "text/plain": [
       "                                                                    scheme_name  \\\n",
       "0                                         DSP Small Cap Fund-Direct Plan-Growth   \n",
       "1                                   Franklin India Flexi Cap Fund-Direct-Growth   \n",
       "2                           Franklin India Smaller Companies Fund-Direct-Growth   \n",
       "3   Franklin India Ultra Short Bond Fund Super Institutional Plan-Direct-Growth   \n",
       "4                                Franklin India Low Duration Fund-Direct-Growth   \n",
       "5                                   HDFC Top 100 Fund-Direct Plan-Growth Option   \n",
       "6                     ICICI Prudential All Seasons Bond Fund-Direct Plan-Growth   \n",
       "7                 ICICI Prudential Banking and PSU Debt Fund-Direct Plan-Growth   \n",
       "8                     ICICI Prudential Long Term Equity Fund-Direct Plan-Growth   \n",
       "9                  ICICI Prudential Nifty Next 50 Index Fund-Direct Plan-Growth   \n",
       "10                  ICICI Prudential US Bluechip Equity Fund-Direct Plan-Growth   \n",
       "11                     ICICI Prudential Value Discovery Fund-Direct Plan-Growth   \n",
       "12                        Mirae Asset Emerging Bluechip Fund-Direct Plan-Growth   \n",
       "13                                Mirae Asset Large Cap Fund-Direct Plan-Growth   \n",
       "14                                     Mirae Asset Tax Saver Fund-Direct-Growth   \n",
       "\n",
       "    latest_nav latest_nav_date  \n",
       "0      98.2220      2021-06-17  \n",
       "1     903.5355      2021-06-17  \n",
       "2      83.3396      2021-06-17  \n",
       "3      30.2922      2021-06-17  \n",
       "4      24.2658      2021-06-17  \n",
       "5     661.4190      2021-06-17  \n",
       "6      29.7814      2021-06-17  \n",
       "7      26.0015      2021-06-17  \n",
       "8     562.5800      2021-06-17  \n",
       "9      35.1068      2021-06-17  \n",
       "10     47.9900      2021-06-17  \n",
       "11    230.3200      2021-06-17  \n",
       "12     93.4050      2021-06-17  \n",
       "13     76.1390      2021-06-17  \n",
       "14     30.1210      2021-06-17  "
      ],
      "text/html": "<div>\n<style scoped>\n    .dataframe tbody tr th:only-of-type {\n        vertical-align: middle;\n    }\n\n    .dataframe tbody tr th {\n        vertical-align: top;\n    }\n\n    .dataframe thead th {\n        text-align: right;\n    }\n</style>\n<table border=\"1\" class=\"dataframe\">\n  <thead>\n    <tr style=\"text-align: right;\">\n      <th></th>\n      <th>scheme_name</th>\n      <th>latest_nav</th>\n      <th>latest_nav_date</th>\n    </tr>\n  </thead>\n  <tbody>\n    <tr>\n      <th>0</th>\n      <td>DSP Small Cap Fund-Direct Plan-Growth</td>\n      <td>98.2220</td>\n      <td>2021-06-17</td>\n    </tr>\n    <tr>\n      <th>1</th>\n      <td>Franklin India Flexi Cap Fund-Direct-Growth</td>\n      <td>903.5355</td>\n      <td>2021-06-17</td>\n    </tr>\n    <tr>\n      <th>2</th>\n      <td>Franklin India Smaller Companies Fund-Direct-Growth</td>\n      <td>83.3396</td>\n      <td>2021-06-17</td>\n    </tr>\n    <tr>\n      <th>3</th>\n      <td>Franklin India Ultra Short Bond Fund Super Institutional Plan-Direct-Growth</td>\n      <td>30.2922</td>\n      <td>2021-06-17</td>\n    </tr>\n    <tr>\n      <th>4</th>\n      <td>Franklin India Low Duration Fund-Direct-Growth</td>\n      <td>24.2658</td>\n      <td>2021-06-17</td>\n    </tr>\n    <tr>\n      <th>5</th>\n      <td>HDFC Top 100 Fund-Direct Plan-Growth Option</td>\n      <td>661.4190</td>\n      <td>2021-06-17</td>\n    </tr>\n    <tr>\n      <th>6</th>\n      <td>ICICI Prudential All Seasons Bond Fund-Direct Plan-Growth</td>\n      <td>29.7814</td>\n      <td>2021-06-17</td>\n    </tr>\n    <tr>\n      <th>7</th>\n      <td>ICICI Prudential Banking and PSU Debt Fund-Direct Plan-Growth</td>\n      <td>26.0015</td>\n      <td>2021-06-17</td>\n    </tr>\n    <tr>\n      <th>8</th>\n      <td>ICICI Prudential Long Term Equity Fund-Direct Plan-Growth</td>\n      <td>562.5800</td>\n      <td>2021-06-17</td>\n    </tr>\n    <tr>\n      <th>9</th>\n      <td>ICICI Prudential Nifty Next 50 Index Fund-Direct Plan-Growth</td>\n      <td>35.1068</td>\n      <td>2021-06-17</td>\n    </tr>\n    <tr>\n      <th>10</th>\n      <td>ICICI Prudential US Bluechip Equity Fund-Direct Plan-Growth</td>\n      <td>47.9900</td>\n      <td>2021-06-17</td>\n    </tr>\n    <tr>\n      <th>11</th>\n      <td>ICICI Prudential Value Discovery Fund-Direct Plan-Growth</td>\n      <td>230.3200</td>\n      <td>2021-06-17</td>\n    </tr>\n    <tr>\n      <th>12</th>\n      <td>Mirae Asset Emerging Bluechip Fund-Direct Plan-Growth</td>\n      <td>93.4050</td>\n      <td>2021-06-17</td>\n    </tr>\n    <tr>\n      <th>13</th>\n      <td>Mirae Asset Large Cap Fund-Direct Plan-Growth</td>\n      <td>76.1390</td>\n      <td>2021-06-17</td>\n    </tr>\n    <tr>\n      <th>14</th>\n      <td>Mirae Asset Tax Saver Fund-Direct-Growth</td>\n      <td>30.1210</td>\n      <td>2021-06-17</td>\n    </tr>\n  </tbody>\n</table>\n</div>"
     },
     "metadata": {},
     "execution_count": 5
    }
   ],
   "source": [
    "mf_hdr_df"
   ]
  },
  {
   "cell_type": "code",
   "execution_count": 6,
   "metadata": {},
   "outputs": [],
   "source": [
    "\n",
    "# t1= '117TSD1G-Mirae Asset Tax Saver Fund - Direct Growth Registrar :'\n",
    "\n",
    "# scheme_name = 'Mirae Asset Tax Saver Fund-Direct Growth'\n",
    "\n",
    "# scheme_words = scheme_name.split('-')\n",
    "# if scheme_words[-1] == 'Direct Growth':\n",
    "#     scheme_words[-1] = 'Direct-Growth'\n",
    "#     scheme_name = '-'.join([text for text in  scheme_words])  \n",
    "# scheme_name "
   ]
  },
  {
   "source": [
    "## Calculate MF Capital Gains"
   ],
   "cell_type": "markdown",
   "metadata": {}
  },
  {
   "cell_type": "code",
   "execution_count": 7,
   "metadata": {},
   "outputs": [
    {
     "output_type": "stream",
     "name": "stderr",
     "text": [
      "WARNING:root:Schemes below  are removed as  Grandfathered NAV was not Found\n",
      "WARNING:root:Franklin India Ultra Short Bond Fund Super Institutional Plan-Direct-Growth\n",
      "WARNING:root:Mirae Asset Tax Saver Fund-Direct-Growth\n",
      "WARNING:root:ICICI Prudential Long Term Equity Fund-Direct Plan-Growth\n",
      "Wall time: 274 ms\n"
     ]
    }
   ],
   "source": [
    "%%time\n",
    "from src.capitalgains import CapitalGains\n",
    "target_ltcg = 100000\n",
    "cg = CapitalGains(mf_hdr_df, mf_trans_df)\n",
    "cg.prepare_final_data(target_ltcg)"
   ]
  },
  {
   "cell_type": "code",
   "execution_count": 8,
   "metadata": {},
   "outputs": [
    {
     "output_type": "execute_result",
     "data": {
      "text/plain": [
       "                                                      scheme_name  latest_nav  \\\n",
       "0                           DSP Small Cap Fund-Direct Plan-Growth     98.2220   \n",
       "1                     Franklin India Flexi Cap Fund-Direct-Growth    903.5355   \n",
       "2             Franklin India Smaller Companies Fund-Direct-Growth     83.3396   \n",
       "3                  Franklin India Low Duration Fund-Direct-Growth     24.2658   \n",
       "4                     HDFC Top 100 Fund-Direct Plan-Growth Option    661.4190   \n",
       "5       ICICI Prudential All Seasons Bond Fund-Direct Plan-Growth     29.7814   \n",
       "6   ICICI Prudential Banking and PSU Debt Fund-Direct Plan-Growth     26.0015   \n",
       "7    ICICI Prudential Nifty Next 50 Index Fund-Direct Plan-Growth     35.1068   \n",
       "8     ICICI Prudential US Bluechip Equity Fund-Direct Plan-Growth     47.9900   \n",
       "9        ICICI Prudential Value Discovery Fund-Direct Plan-Growth    230.3200   \n",
       "10          Mirae Asset Emerging Bluechip Fund-Direct Plan-Growth     93.4050   \n",
       "11                  Mirae Asset Large Cap Fund-Direct Plan-Growth     76.1390   \n",
       "\n",
       "   latest_nav_date    gf_nav     amount      units       ltcg       stcg  \\\n",
       "0      17-Jun-2021   70.1630  759990.00  13196.649  295479.48   61869.86   \n",
       "1      17-Jun-2021  637.6120  920000.00   1667.943  483450.65       0.00   \n",
       "2      17-Jun-2021   65.5900  697000.00  12301.352  291192.24   13758.60   \n",
       "3      17-Jun-2021   19.9766  300000.00  15952.610   68423.93       0.00   \n",
       "4      17-Jun-2021  498.0290  569833.57   1331.043  219706.64       0.00   \n",
       "5      17-Jun-2021   21.8368  699980.00  29838.991  129766.37    2220.24   \n",
       "6      17-Jun-2021   19.8749  799975.00  36754.760  106882.29    2091.77   \n",
       "7      17-Jun-2021   27.5101  577500.00  22713.467  221485.09       0.00   \n",
       "8      17-Jun-2021   25.0600  599970.00  14699.403       0.00  105454.33   \n",
       "9      17-Jun-2021  157.6400  979979.00   6474.229  309577.68  108583.71   \n",
       "10     17-Jun-2021   54.6870  674986.25  11092.716  264659.07   96469.84   \n",
       "11     17-Jun-2021   51.7990  900000.00  17819.858  456786.18       0.00   \n",
       "\n",
       "    current_amt  perc_gain  target_ltcg  target_units  \\\n",
       "0    1296201.26      70.56    100000.00      3563.917   \n",
       "1    1507045.76      63.81    100000.00       376.051   \n",
       "2    1025189.77      47.09    100000.00      5582.729   \n",
       "3     387102.84      29.03     68423.93     15952.610   \n",
       "4     880377.13      54.50    100000.00       612.031   \n",
       "5     888646.93      26.95    100000.00     12587.168   \n",
       "6     955678.90      19.46    100000.00     16322.264   \n",
       "7     797397.13      38.08    100000.00     11887.388   \n",
       "8     705424.35      17.58         0.00         0.000   \n",
       "9    1491144.43      52.16    100000.00      1375.894   \n",
       "10   1036115.14      53.50    100000.00      2639.811   \n",
       "11   1356786.17      50.75    100000.00      3689.223   \n",
       "\n",
       "                                                                                         comments  \n",
       "0                                                         Sell 3563.92 units for LTCG of 100000.0  \n",
       "1                                                          Sell 376.05 units for LTCG of 100000.0  \n",
       "2                                                         Sell 5582.73 units for LTCG of 100000.0  \n",
       "3   Total LTCG 68423.93 is less than target LTCG 100000: Sell 15952.61 units for LTCG of 68423.93  \n",
       "4                                                          Sell 612.03 units for LTCG of 100000.0  \n",
       "5                                                        Sell 12587.17 units for LTCG of 100000.0  \n",
       "6                                                        Sell 16322.26 units for LTCG of 100000.0  \n",
       "7                                                        Sell 11887.39 units for LTCG of 100000.0  \n",
       "8                                              No LTCG exists hence calculation is not applicable  \n",
       "9                                                         Sell 1375.89 units for LTCG of 100000.0  \n",
       "10                                                        Sell 2639.81 units for LTCG of 100000.0  \n",
       "11                                                        Sell 3689.22 units for LTCG of 100000.0  "
      ],
      "text/html": "<div>\n<style scoped>\n    .dataframe tbody tr th:only-of-type {\n        vertical-align: middle;\n    }\n\n    .dataframe tbody tr th {\n        vertical-align: top;\n    }\n\n    .dataframe thead th {\n        text-align: right;\n    }\n</style>\n<table border=\"1\" class=\"dataframe\">\n  <thead>\n    <tr style=\"text-align: right;\">\n      <th></th>\n      <th>scheme_name</th>\n      <th>latest_nav</th>\n      <th>latest_nav_date</th>\n      <th>gf_nav</th>\n      <th>amount</th>\n      <th>units</th>\n      <th>ltcg</th>\n      <th>stcg</th>\n      <th>current_amt</th>\n      <th>perc_gain</th>\n      <th>target_ltcg</th>\n      <th>target_units</th>\n      <th>comments</th>\n    </tr>\n  </thead>\n  <tbody>\n    <tr>\n      <th>0</th>\n      <td>DSP Small Cap Fund-Direct Plan-Growth</td>\n      <td>98.2220</td>\n      <td>17-Jun-2021</td>\n      <td>70.1630</td>\n      <td>759990.00</td>\n      <td>13196.649</td>\n      <td>295479.48</td>\n      <td>61869.86</td>\n      <td>1296201.26</td>\n      <td>70.56</td>\n      <td>100000.00</td>\n      <td>3563.917</td>\n      <td>Sell 3563.92 units for LTCG of 100000.0</td>\n    </tr>\n    <tr>\n      <th>1</th>\n      <td>Franklin India Flexi Cap Fund-Direct-Growth</td>\n      <td>903.5355</td>\n      <td>17-Jun-2021</td>\n      <td>637.6120</td>\n      <td>920000.00</td>\n      <td>1667.943</td>\n      <td>483450.65</td>\n      <td>0.00</td>\n      <td>1507045.76</td>\n      <td>63.81</td>\n      <td>100000.00</td>\n      <td>376.051</td>\n      <td>Sell 376.05 units for LTCG of 100000.0</td>\n    </tr>\n    <tr>\n      <th>2</th>\n      <td>Franklin India Smaller Companies Fund-Direct-Growth</td>\n      <td>83.3396</td>\n      <td>17-Jun-2021</td>\n      <td>65.5900</td>\n      <td>697000.00</td>\n      <td>12301.352</td>\n      <td>291192.24</td>\n      <td>13758.60</td>\n      <td>1025189.77</td>\n      <td>47.09</td>\n      <td>100000.00</td>\n      <td>5582.729</td>\n      <td>Sell 5582.73 units for LTCG of 100000.0</td>\n    </tr>\n    <tr>\n      <th>3</th>\n      <td>Franklin India Low Duration Fund-Direct-Growth</td>\n      <td>24.2658</td>\n      <td>17-Jun-2021</td>\n      <td>19.9766</td>\n      <td>300000.00</td>\n      <td>15952.610</td>\n      <td>68423.93</td>\n      <td>0.00</td>\n      <td>387102.84</td>\n      <td>29.03</td>\n      <td>68423.93</td>\n      <td>15952.610</td>\n      <td>Total LTCG 68423.93 is less than target LTCG 100000: Sell 15952.61 units for LTCG of 68423.93</td>\n    </tr>\n    <tr>\n      <th>4</th>\n      <td>HDFC Top 100 Fund-Direct Plan-Growth Option</td>\n      <td>661.4190</td>\n      <td>17-Jun-2021</td>\n      <td>498.0290</td>\n      <td>569833.57</td>\n      <td>1331.043</td>\n      <td>219706.64</td>\n      <td>0.00</td>\n      <td>880377.13</td>\n      <td>54.50</td>\n      <td>100000.00</td>\n      <td>612.031</td>\n      <td>Sell 612.03 units for LTCG of 100000.0</td>\n    </tr>\n    <tr>\n      <th>5</th>\n      <td>ICICI Prudential All Seasons Bond Fund-Direct Plan-Growth</td>\n      <td>29.7814</td>\n      <td>17-Jun-2021</td>\n      <td>21.8368</td>\n      <td>699980.00</td>\n      <td>29838.991</td>\n      <td>129766.37</td>\n      <td>2220.24</td>\n      <td>888646.93</td>\n      <td>26.95</td>\n      <td>100000.00</td>\n      <td>12587.168</td>\n      <td>Sell 12587.17 units for LTCG of 100000.0</td>\n    </tr>\n    <tr>\n      <th>6</th>\n      <td>ICICI Prudential Banking and PSU Debt Fund-Direct Plan-Growth</td>\n      <td>26.0015</td>\n      <td>17-Jun-2021</td>\n      <td>19.8749</td>\n      <td>799975.00</td>\n      <td>36754.760</td>\n      <td>106882.29</td>\n      <td>2091.77</td>\n      <td>955678.90</td>\n      <td>19.46</td>\n      <td>100000.00</td>\n      <td>16322.264</td>\n      <td>Sell 16322.26 units for LTCG of 100000.0</td>\n    </tr>\n    <tr>\n      <th>7</th>\n      <td>ICICI Prudential Nifty Next 50 Index Fund-Direct Plan-Growth</td>\n      <td>35.1068</td>\n      <td>17-Jun-2021</td>\n      <td>27.5101</td>\n      <td>577500.00</td>\n      <td>22713.467</td>\n      <td>221485.09</td>\n      <td>0.00</td>\n      <td>797397.13</td>\n      <td>38.08</td>\n      <td>100000.00</td>\n      <td>11887.388</td>\n      <td>Sell 11887.39 units for LTCG of 100000.0</td>\n    </tr>\n    <tr>\n      <th>8</th>\n      <td>ICICI Prudential US Bluechip Equity Fund-Direct Plan-Growth</td>\n      <td>47.9900</td>\n      <td>17-Jun-2021</td>\n      <td>25.0600</td>\n      <td>599970.00</td>\n      <td>14699.403</td>\n      <td>0.00</td>\n      <td>105454.33</td>\n      <td>705424.35</td>\n      <td>17.58</td>\n      <td>0.00</td>\n      <td>0.000</td>\n      <td>No LTCG exists hence calculation is not applicable</td>\n    </tr>\n    <tr>\n      <th>9</th>\n      <td>ICICI Prudential Value Discovery Fund-Direct Plan-Growth</td>\n      <td>230.3200</td>\n      <td>17-Jun-2021</td>\n      <td>157.6400</td>\n      <td>979979.00</td>\n      <td>6474.229</td>\n      <td>309577.68</td>\n      <td>108583.71</td>\n      <td>1491144.43</td>\n      <td>52.16</td>\n      <td>100000.00</td>\n      <td>1375.894</td>\n      <td>Sell 1375.89 units for LTCG of 100000.0</td>\n    </tr>\n    <tr>\n      <th>10</th>\n      <td>Mirae Asset Emerging Bluechip Fund-Direct Plan-Growth</td>\n      <td>93.4050</td>\n      <td>17-Jun-2021</td>\n      <td>54.6870</td>\n      <td>674986.25</td>\n      <td>11092.716</td>\n      <td>264659.07</td>\n      <td>96469.84</td>\n      <td>1036115.14</td>\n      <td>53.50</td>\n      <td>100000.00</td>\n      <td>2639.811</td>\n      <td>Sell 2639.81 units for LTCG of 100000.0</td>\n    </tr>\n    <tr>\n      <th>11</th>\n      <td>Mirae Asset Large Cap Fund-Direct Plan-Growth</td>\n      <td>76.1390</td>\n      <td>17-Jun-2021</td>\n      <td>51.7990</td>\n      <td>900000.00</td>\n      <td>17819.858</td>\n      <td>456786.18</td>\n      <td>0.00</td>\n      <td>1356786.17</td>\n      <td>50.75</td>\n      <td>100000.00</td>\n      <td>3689.223</td>\n      <td>Sell 3689.22 units for LTCG of 100000.0</td>\n    </tr>\n  </tbody>\n</table>\n</div>"
     },
     "metadata": {},
     "execution_count": 8
    }
   ],
   "source": [
    "cg.output_hdr_df"
   ]
  },
  {
   "cell_type": "code",
   "execution_count": 9,
   "metadata": {},
   "outputs": [
    {
     "output_type": "execute_result",
     "data": {
      "text/plain": [
       "                             scheme_name   trans_date    amount     units  \\\n",
       "0  DSP Small Cap Fund-Direct Plan-Growth  05-Jan-2017   60000.0  1141.770   \n",
       "1  DSP Small Cap Fund-Direct Plan-Growth  10-Jan-2017  100000.0  1895.842   \n",
       "2  DSP Small Cap Fund-Direct Plan-Growth  12-Jan-2017  100000.0  1877.511   \n",
       "3  DSP Small Cap Fund-Direct Plan-Growth  13-Jan-2017  100000.0  1880.795   \n",
       "4  DSP Small Cap Fund-Direct Plan-Growth  16-Jan-2017  100000.0  1875.891   \n",
       "\n",
       "   unit_price  latest_nav latest_nav_date  gf_nav  new_purch_nav      ltcg  \\\n",
       "0      52.550      98.222     17-Jun-2021  70.163         70.163  32036.92   \n",
       "1      52.747      98.222     17-Jun-2021  70.163         70.163  53195.43   \n",
       "2      53.262      98.222     17-Jun-2021  70.163         70.163  52681.08   \n",
       "3      53.169      98.222     17-Jun-2021  70.163         70.163  52773.23   \n",
       "4      53.308      98.222     17-Jun-2021  70.163         70.163  52635.63   \n",
       "\n",
       "   stcg  cumil_ltcg  cumil_units  current_amt  perc_gain  \n",
       "0   0.0    32036.92      1141.77    112146.93      86.91  \n",
       "1   0.0    85232.36      3037.61    186213.39      86.21  \n",
       "2   0.0   137913.44      4915.12    184412.89      84.41  \n",
       "3   0.0   190686.66      6795.92    184735.45      84.74  \n",
       "4   0.0   243322.29      8671.81    184253.77      84.25  "
      ],
      "text/html": "<div>\n<style scoped>\n    .dataframe tbody tr th:only-of-type {\n        vertical-align: middle;\n    }\n\n    .dataframe tbody tr th {\n        vertical-align: top;\n    }\n\n    .dataframe thead th {\n        text-align: right;\n    }\n</style>\n<table border=\"1\" class=\"dataframe\">\n  <thead>\n    <tr style=\"text-align: right;\">\n      <th></th>\n      <th>scheme_name</th>\n      <th>trans_date</th>\n      <th>amount</th>\n      <th>units</th>\n      <th>unit_price</th>\n      <th>latest_nav</th>\n      <th>latest_nav_date</th>\n      <th>gf_nav</th>\n      <th>new_purch_nav</th>\n      <th>ltcg</th>\n      <th>stcg</th>\n      <th>cumil_ltcg</th>\n      <th>cumil_units</th>\n      <th>current_amt</th>\n      <th>perc_gain</th>\n    </tr>\n  </thead>\n  <tbody>\n    <tr>\n      <th>0</th>\n      <td>DSP Small Cap Fund-Direct Plan-Growth</td>\n      <td>05-Jan-2017</td>\n      <td>60000.0</td>\n      <td>1141.770</td>\n      <td>52.550</td>\n      <td>98.222</td>\n      <td>17-Jun-2021</td>\n      <td>70.163</td>\n      <td>70.163</td>\n      <td>32036.92</td>\n      <td>0.0</td>\n      <td>32036.92</td>\n      <td>1141.77</td>\n      <td>112146.93</td>\n      <td>86.91</td>\n    </tr>\n    <tr>\n      <th>1</th>\n      <td>DSP Small Cap Fund-Direct Plan-Growth</td>\n      <td>10-Jan-2017</td>\n      <td>100000.0</td>\n      <td>1895.842</td>\n      <td>52.747</td>\n      <td>98.222</td>\n      <td>17-Jun-2021</td>\n      <td>70.163</td>\n      <td>70.163</td>\n      <td>53195.43</td>\n      <td>0.0</td>\n      <td>85232.36</td>\n      <td>3037.61</td>\n      <td>186213.39</td>\n      <td>86.21</td>\n    </tr>\n    <tr>\n      <th>2</th>\n      <td>DSP Small Cap Fund-Direct Plan-Growth</td>\n      <td>12-Jan-2017</td>\n      <td>100000.0</td>\n      <td>1877.511</td>\n      <td>53.262</td>\n      <td>98.222</td>\n      <td>17-Jun-2021</td>\n      <td>70.163</td>\n      <td>70.163</td>\n      <td>52681.08</td>\n      <td>0.0</td>\n      <td>137913.44</td>\n      <td>4915.12</td>\n      <td>184412.89</td>\n      <td>84.41</td>\n    </tr>\n    <tr>\n      <th>3</th>\n      <td>DSP Small Cap Fund-Direct Plan-Growth</td>\n      <td>13-Jan-2017</td>\n      <td>100000.0</td>\n      <td>1880.795</td>\n      <td>53.169</td>\n      <td>98.222</td>\n      <td>17-Jun-2021</td>\n      <td>70.163</td>\n      <td>70.163</td>\n      <td>52773.23</td>\n      <td>0.0</td>\n      <td>190686.66</td>\n      <td>6795.92</td>\n      <td>184735.45</td>\n      <td>84.74</td>\n    </tr>\n    <tr>\n      <th>4</th>\n      <td>DSP Small Cap Fund-Direct Plan-Growth</td>\n      <td>16-Jan-2017</td>\n      <td>100000.0</td>\n      <td>1875.891</td>\n      <td>53.308</td>\n      <td>98.222</td>\n      <td>17-Jun-2021</td>\n      <td>70.163</td>\n      <td>70.163</td>\n      <td>52635.63</td>\n      <td>0.0</td>\n      <td>243322.29</td>\n      <td>8671.81</td>\n      <td>184253.77</td>\n      <td>84.25</td>\n    </tr>\n  </tbody>\n</table>\n</div>"
     },
     "metadata": {},
     "execution_count": 9
    }
   ],
   "source": [
    "cg.output_trans_df.head()"
   ]
  },
  {
   "source": [
    "## Using PDF File\n",
    "<br> Issue: some trnasctions are converted to garbage text"
   ],
   "cell_type": "markdown",
   "metadata": {}
  },
  {
   "cell_type": "code",
   "execution_count": 10,
   "metadata": {},
   "outputs": [],
   "source": [
    "import pdfplumber\n",
    "import pdfminer\n",
    "import logging\n",
    "import re\n",
    "\n",
    "from typing import Iterator\n",
    "from  datetime import datetime\n",
    "from collections import defaultdict\n",
    "from src.utils import is_valid_date\n",
    "\n",
    "\n",
    "class PasswordError(Exception):\n",
    "         pass\n",
    "\n",
    "class PDFParser:\n",
    "    def __init__(self):\n",
    "        pass\n",
    "    def _read_data_from_file(self,file_path:str, password = '')->list[str]:\n",
    "        '''\n",
    "        Read the PDF transaction file from CAMS + FTAMIL        \n",
    "        '''\n",
    "\n",
    "        try:\n",
    "         pdf = pdfplumber.open(file_path, password = password)\n",
    "        except pdfminer.pdfdocument.PDFPasswordIncorrect as ex:\n",
    "            if not password:\n",
    "                msg = f'File {file_path} is Password Protected, please provide a password'                 \n",
    "            else:\n",
    "                msg = f'Incorrect Password, please provide correct password'      \n",
    "\n",
    "            logging.error(msg)  \n",
    "            ex.args = (msg,) \n",
    "            raise\n",
    "           \n",
    "\n",
    "           \n",
    "\n",
    "        text_all = ''\n",
    "        for page in  pdf.pages:\n",
    "            text = page.extract_text()\n",
    "            text_all = text_all + text \n",
    "\n",
    "        pdf.close()\n",
    "\n",
    "        mf_data_list = text_all.split('\\n')\n",
    "        return mf_data_list        \n",
    "\n",
    "\n",
    "    def _generate_batch(self, mf_data_list:list[str] )->Iterator[list[str]]:\n",
    "        \"\"\"\n",
    "        yeild batches for data corresponding to a single Mutual Fund    \n",
    "        A MF transaction will start with keyword PAN, hence create a batch of\n",
    "        data between two instances of keyword 'PAN'\n",
    "        \"\"\"\n",
    "        for i, _ in enumerate(mf_data_list):\n",
    "         if mf_data_list[i].startswith('Folio No'):\n",
    "           first_idx = i\n",
    "           break\n",
    "\n",
    "        for i in range(first_idx+1, len(mf_data_list)):\n",
    "            if mf_data_list[i].startswith('Folio No'):\n",
    "                yield mf_data_list[first_idx:i+1]\n",
    "                first_idx = i\n",
    "\n",
    "        # For last batch\n",
    "        yield mf_data_list[first_idx:]\n",
    "\n",
    "    def _get_latest_nav(self, line:str)->tuple[float, datetime]:\n",
    "        line = line.replace(':', '').replace(',', '')  \n",
    "        latest_nav_data = line.split()\n",
    "        latest_nav_date = latest_nav_data[2]\n",
    "        latest_nav_date = datetime.strptime(latest_nav_date, ct.DATE_FORMAT)\n",
    "        latest_nav = float(latest_nav_data[4])\n",
    "        return  latest_nav,   latest_nav_date\n",
    "\n",
    "    def _get_numerical_data(self,line:str)->tuple[float, float, float]:\n",
    "        nums = line.split()[-4:]\n",
    "        nums= [value.replace(',', '') for value in nums]\n",
    "        # all(isinstance(x,float) for x in amt ), amt\n",
    "        try:\n",
    "            nums= [float(value) for value in nums]\n",
    "        except ValueError:\n",
    "            raise ValueError(f'Invalid data in {nums} while parsing numerical data')\n",
    "        amount = nums[0]\n",
    "        \n",
    "        units  = nums[1]\n",
    "        unit_price=  nums[2]\n",
    "        return amount, units, unit_price\n",
    "\n",
    "    def _parse_mf_scheme_name(self,mf_data:list[str])->str:  \n",
    "\n",
    "        #MF scheme name can be split in multiple lines.\n",
    "        scheme_name = ''\n",
    "        for text in mf_data[1:]:\n",
    "            if text[:13] != ' Opening Unit':\n",
    "                scheme_name = scheme_name + text\n",
    "            else:\n",
    "                break\n",
    "    \n",
    "\n",
    "        #Remove brackets and texts inside brackets\n",
    "        # Input: 'D788-DSP Small Cap Fund - Direct Plan - Growth (formerly DSP Micro Cap Fund)(Advisor: DIRECT) Registrar : CAMS'\t\n",
    "        # Output:'D788-DSP Small Cap Fund - Direct Plan - Growth Registrar : CAMS'\n",
    "        scheme_name= re.sub(r'\\(.*?\\)\\ *', '', scheme_name)\n",
    "\n",
    "        # input : 'D788-DSP Small Cap Fund - Direct Plan - Growth Registrar : CAMS'\n",
    "        # output: 'D788-DSP Small Cap Fund - Direct Plan - Growth'\n",
    "        scheme_name = scheme_name.split('Registrar')[0].strip()\n",
    "\n",
    "        # input: 'D788-DSP Small Cap Fund - Direct Plan - Growth'\n",
    "        # output:'DSP Small Cap Fund-Direct Plan-Growth'\n",
    "        scheme_name =  '-'.join([text.strip() for text in scheme_name.split('-')[1:]])     \n",
    "\n",
    "        #Convert GROWTH to Camelcase (Growth)\n",
    "        # input :'4859909139674 Franklin India Ultra Short Bond Fund Super Institutional Plan-Direct-GROWTH'\n",
    "        # output: '4859909139674 Franklin India Ultra Short Bond Fund Super Institutional Plan-Direct-Growth'\n",
    "        scheme_words = scheme_name.split('-')\n",
    "        scheme_words[-1] = scheme_words[-1].title()\n",
    "        scheme_name = '-'.join([text for text in  scheme_words])     \n",
    "\n",
    "        #Remove leading digits for funds like Franklin\n",
    "        # input:'4859909139674 Franklin India Ultra Short Bond Fund Super Institutional Plan-Direct-Growth'\n",
    "        # output: 'Franklin India Ultra Short Bond Fund Super Institutional Plan-Direct-Growth'\n",
    "        if scheme_name .split()[0].isnumeric():\n",
    "            scheme_name = ' '.join([text for text in scheme_name .split()[1:]])\n",
    "\n",
    "        return scheme_name  \n",
    "\n",
    "    def parse_mf_data(self,file_path:str, password= '' )->tuple[pd.DataFrame,pd.DataFrame]:\n",
    "        '''\n",
    "        Read the text file having MF tranactions from CAMS+FTAMIL\n",
    "        Generate Batches for single MF scheme and parse MF data\n",
    "        Transaction data and Latest NAV will be parsed from text file\n",
    "        '''\n",
    "        mf_data_dict =defaultdict(list)\n",
    "        mf_nav_dict =defaultdict(list)\n",
    "\n",
    "        mf_data_list = self._read_data_from_file(file_path,password)\n",
    "\n",
    "        # loop over a batch having data for single MF Scheme\n",
    "        for mf_data in self._generate_batch(mf_data_list):\n",
    "            \n",
    "            mf_scheme = self._parse_mf_scheme_name(mf_data)\n",
    "            logging.debug(f'Parsing data for MF {mf_scheme}')\n",
    "            \n",
    "            for line in mf_data:\n",
    "                date_text = line[:11]\n",
    "\n",
    "                #only process lines which start with date\n",
    "                if is_valid_date(date_text,  ct.DATE_FORMAT ):\n",
    "                \n",
    "                    try:\n",
    "                        amount, units, unit_price = self._get_numerical_data(line)                \n",
    "                    except ValueError:\n",
    "                        continue\n",
    "                    else:                  \n",
    "                        mf_data_dict['scheme_name'].append(mf_scheme) \n",
    "                        trans_date = datetime.strptime(date_text, ct.DATE_FORMAT)\n",
    "                        mf_data_dict['trans_date'].append(trans_date)\n",
    "                        mf_data_dict['amount'].append(amount)\n",
    "                        mf_data_dict['units'].append(units)\n",
    "                        mf_data_dict['unit_price'].append(unit_price)\n",
    "\n",
    "                #Latest Nav and Date in separate dict      \n",
    "                if line[:6] == 'NAV on':        \n",
    "                    latest_nav, latest_nav_date =   self._get_latest_nav(line)\n",
    "\n",
    "                    #For segregated Portfolios the NAV will be zero, we will ignore them\n",
    "                    if latest_nav != 0:\n",
    "                        mf_nav_dict['scheme_name'].append(mf_scheme)\n",
    "                        mf_nav_dict['latest_nav'].append(latest_nav)\n",
    "                        mf_nav_dict['latest_nav_date'].append(latest_nav_date)\n",
    "                        logging.debug(f'Latest Nav:{latest_nav}, Nav Date:{latest_nav}')\n",
    "                    else:\n",
    "                        logging.debug(f'Latest Nav:{latest_nav}, MF Scheme{mf_scheme} will be ignored')\n",
    "\n",
    "\n",
    "        mf_trans_df = pd.DataFrame.from_dict(mf_data_dict)       \n",
    "        mf_hdr_df = pd.DataFrame.from_dict(mf_nav_dict)\n",
    "        logging.debug(f'Number of Mutual Funds Scheme: {mf_hdr_df.shape[0]}\\n')\n",
    "        return  mf_trans_df, mf_hdr_df"
   ]
  },
  {
   "cell_type": "code",
   "execution_count": 11,
   "metadata": {},
   "outputs": [],
   "source": [
    "# logger = Logger()\n",
    "# logger.initilaze_logging(display_logs = 'no') \n",
    "\n",
    "parser = PDFParser()\n",
    "pdf_file_path = 'data\\consol_trans_18_June_2021_pass.pdf'\n",
    "# pdf_file_path = 'data\\consol_trans_18_June_2021.pdf'\n",
    "\n",
    "password = 'qwerty123'\n",
    "\n",
    "\n",
    "mf_data_list = parser._read_data_from_file(pdf_file_path,password)\n",
    "mf_trans_df, mf_hdr_df = parser.parse_mf_data(pdf_file_path, password = password )\n",
    "\n",
    "# gen = parser._generate_batch(mf_data_list )\n",
    "# for batch in gen:\n",
    "#     scheme_name = parser._parse_mf_scheme_name(batch)\n",
    "#     print(scheme_name)\n"
   ]
  },
  {
   "cell_type": "code",
   "execution_count": 12,
   "metadata": {},
   "outputs": [
    {
     "output_type": "execute_result",
     "data": {
      "text/plain": [
       "                                                                             scheme_name\n",
       "scheme_name                                                                             \n",
       "DSP Small Cap Fund-Direct Plan-Growth                                                  7\n",
       "Franklin India Flexi Cap Fund-Direct-Growth                                           48\n",
       "Franklin India Low Duration Fund-Direct-Growth                                         1\n",
       "Franklin India Smaller Companies Fund-Direct-Growth                                   21\n",
       "Franklin India Ultra Short Bond Fund Super Institutional Plan-Direct-Growth            1\n",
       "HDFC Top 100 Fund-Direct Plan-Growth Option                                           14\n",
       "ICICI Prudential All Seasons Bond Fund-Direct Plan-Growth                              3\n",
       "ICICI Prudential Long Term Equity Fund-Direct Plan-Growth                              2\n",
       "ICICI Prudential Nifty Next 50 Index Fund-Direct Plan-Growth                          28\n",
       "ICICI Prudential US Bluechip Equity Fund-Direct Plan-Growth                            9\n",
       "ICICI Prudential Value Discovery Fund-Direct Plan-Growth                              42\n",
       "Mirae Asset Emerging Bluechip Fund-Direct Plan-Growth                                 23\n",
       "Mirae Asset Large Cap Fund-Direct Plan-Growth                                          4\n",
       "Mirae Asset Tax Saver Fund-Direct Growth                                               1"
      ],
      "text/html": "<div>\n<style scoped>\n    .dataframe tbody tr th:only-of-type {\n        vertical-align: middle;\n    }\n\n    .dataframe tbody tr th {\n        vertical-align: top;\n    }\n\n    .dataframe thead th {\n        text-align: right;\n    }\n</style>\n<table border=\"1\" class=\"dataframe\">\n  <thead>\n    <tr style=\"text-align: right;\">\n      <th></th>\n      <th>scheme_name</th>\n    </tr>\n    <tr>\n      <th>scheme_name</th>\n      <th></th>\n    </tr>\n  </thead>\n  <tbody>\n    <tr>\n      <th>DSP Small Cap Fund-Direct Plan-Growth</th>\n      <td>7</td>\n    </tr>\n    <tr>\n      <th>Franklin India Flexi Cap Fund-Direct-Growth</th>\n      <td>48</td>\n    </tr>\n    <tr>\n      <th>Franklin India Low Duration Fund-Direct-Growth</th>\n      <td>1</td>\n    </tr>\n    <tr>\n      <th>Franklin India Smaller Companies Fund-Direct-Growth</th>\n      <td>21</td>\n    </tr>\n    <tr>\n      <th>Franklin India Ultra Short Bond Fund Super Institutional Plan-Direct-Growth</th>\n      <td>1</td>\n    </tr>\n    <tr>\n      <th>HDFC Top 100 Fund-Direct Plan-Growth Option</th>\n      <td>14</td>\n    </tr>\n    <tr>\n      <th>ICICI Prudential All Seasons Bond Fund-Direct Plan-Growth</th>\n      <td>3</td>\n    </tr>\n    <tr>\n      <th>ICICI Prudential Long Term Equity Fund-Direct Plan-Growth</th>\n      <td>2</td>\n    </tr>\n    <tr>\n      <th>ICICI Prudential Nifty Next 50 Index Fund-Direct Plan-Growth</th>\n      <td>28</td>\n    </tr>\n    <tr>\n      <th>ICICI Prudential US Bluechip Equity Fund-Direct Plan-Growth</th>\n      <td>9</td>\n    </tr>\n    <tr>\n      <th>ICICI Prudential Value Discovery Fund-Direct Plan-Growth</th>\n      <td>42</td>\n    </tr>\n    <tr>\n      <th>Mirae Asset Emerging Bluechip Fund-Direct Plan-Growth</th>\n      <td>23</td>\n    </tr>\n    <tr>\n      <th>Mirae Asset Large Cap Fund-Direct Plan-Growth</th>\n      <td>4</td>\n    </tr>\n    <tr>\n      <th>Mirae Asset Tax Saver Fund-Direct Growth</th>\n      <td>1</td>\n    </tr>\n  </tbody>\n</table>\n</div>"
     },
     "metadata": {},
     "execution_count": 12
    }
   ],
   "source": [
    "mf_trans_df.groupby('scheme_name').agg({'scheme_name':'count'})"
   ]
  },
  {
   "cell_type": "code",
   "execution_count": 13,
   "metadata": {},
   "outputs": [
    {
     "output_type": "execute_result",
     "data": {
      "text/plain": [
       "Empty DataFrame\n",
       "Columns: []\n",
       "Index: []"
      ],
      "text/html": "<div>\n<style scoped>\n    .dataframe tbody tr th:only-of-type {\n        vertical-align: middle;\n    }\n\n    .dataframe tbody tr th {\n        vertical-align: top;\n    }\n\n    .dataframe thead th {\n        text-align: right;\n    }\n</style>\n<table border=\"1\" class=\"dataframe\">\n  <thead>\n    <tr style=\"text-align: right;\">\n      <th></th>\n    </tr>\n  </thead>\n  <tbody>\n  </tbody>\n</table>\n</div>"
     },
     "metadata": {},
     "execution_count": 13
    }
   ],
   "source": [
    "mf_hdr_df "
   ]
  },
  {
   "cell_type": "code",
   "execution_count": null,
   "metadata": {},
   "outputs": [],
   "source": []
  }
 ]
}