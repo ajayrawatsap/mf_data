{
 "cells": [
  {
   "cell_type": "code",
   "execution_count": 1,
   "metadata": {},
   "outputs": [
    {
     "data": {
      "text/html": [
       "<style>.container { width:100% !important; }</style>"
      ],
      "text/plain": [
       "<IPython.core.display.HTML object>"
      ]
     },
     "metadata": {},
     "output_type": "display_data"
    },
    {
     "name": "stdout",
     "output_type": "stream",
     "text": [
      "Python 3.9.5\n"
     ]
    }
   ],
   "source": [
    "import logging\n",
    "import os\n",
    "import pandas as pd\n",
    "import src.constants as ct\n",
    "\n",
    "\n",
    "from src.parsedata import PDFParser\n",
    "from src.initialize import Logger\n",
    "from src.capitalgains import CapitalGains\n",
    "from src.utils import rename_mf_scheme\n",
    "\n",
    "\n",
    "pd.options.display.max_columns = 100\n",
    "pd.set_option('display.max_rows', 300)\n",
    "pd.set_option('display.max_colwidth', None)\n",
    "\n",
    "from IPython.core.display import display, HTML\n",
    "display(HTML(\"<style>.container { width:100% !important; }</style>\"))\n",
    "!python --version"
   ]
  },
  {
   "cell_type": "code",
   "execution_count": 2,
   "metadata": {},
   "outputs": [],
   "source": [
    "logger = Logger()\n",
    "logger.initilaze_logging('no')   \n",
    "logging.info(f'{\"*\" * 50}Start Of Process{\"*\" * 50}')\n",
    "\n"
   ]
  },
  {
   "cell_type": "markdown",
   "metadata": {},
   "source": [
    "\n",
    "## Pre-Requisite: CAS statement\n",
    "The first step is to get the [consolidated account statement](https://www.camsonline.com/Investors/Statements/Consolidated-Account-Statement) from CAMS in PDF Format. Make sure that you select the option as highlighted in yellow.\n",
    "\n",
    " <!-- ![screenshot](https://github.com/ajayrawatsap/mf_data/blob/master/data/assets/cams.PNG) -->\n",
    "\n",
    " <img src=\"data/assets/cams.PNG\" width=800 height=400 />\n",
    "\n",
    "\n"
   ]
  },
  {
   "cell_type": "markdown",
   "metadata": {},
   "source": [
    "## Validate if CAS file exists\n",
    "\n",
    "Rename your CAS statement from CAMS to *cas.pdf* and place it at root directory. It should be in same directory as this notebook demo.ipynb.\n",
    "This applies to both local as well as cloud VM enviornment."
   ]
  },
  {
   "cell_type": "code",
   "execution_count": 3,
   "metadata": {},
   "outputs": [
    {
     "name": "stdout",
     "output_type": "stream",
     "text": [
      "File cas.pdf Found: OK\n"
     ]
    }
   ],
   "source": [
    "import os.path\n",
    "file_name = 'cas.pdf'\n",
    "if not os.path.isfile(file_name):\n",
    "    raise ValueError(\"file cas.pdf not found in root folder: Hint: Rename your CAS statement file to cas.pdf and save in root directory \")\n",
    "else: \n",
    "    print(f'File {file_name} Found: OK')"
   ]
  },
  {
   "cell_type": "markdown",
   "metadata": {},
   "source": [
    "##  Password Input\n",
    "\n",
    "The password is same as what you set up when requesting the statement from CAMS website."
   ]
  },
  {
   "cell_type": "code",
   "execution_count": 4,
   "metadata": {},
   "outputs": [],
   "source": [
    "from getpass import getpass\n",
    "password = getpass(prompt='Input your password for cas.pdf: ')\n"
   ]
  },
  {
   "cell_type": "markdown",
   "metadata": {},
   "source": [
    "## Read Contents of PDF"
   ]
  },
  {
   "cell_type": "code",
   "execution_count": 5,
   "metadata": {},
   "outputs": [
    {
     "name": "stdout",
     "output_type": "stream",
     "text": [
      "Parsing CAS statement Data Please wait: Done\n",
      "Wall time: 621 ms\n"
     ]
    }
   ],
   "source": [
    "%%time\n",
    "print('Parsing CAS statement Data Please wait:', end = \" \")\n",
    "dp = PDFParser()    \n",
    "mf_trans_df, mf_hdr_df = dp.parse_mf_data(file_name, password)\n",
    "print(\"Done\")\n",
    "\n",
    "# mf_hdr_df = mf_hdr_df.loc[[0,2,7,9,15]]"
   ]
  },
  {
   "cell_type": "code",
   "execution_count": null,
   "metadata": {},
   "outputs": [],
   "source": [
    "\n"
   ]
  },
  {
   "cell_type": "markdown",
   "metadata": {},
   "source": [
    "## Calculate LTCG and STCG\n",
    "By defaut Target LTCG amount is set to INR 100,000. IF you want to set it to different value (e.g.. INR 50,000) change the code in cell below and then run all cells again\n",
    "\n",
    "<code>target_ltcg = 50000</code>"
   ]
  },
  {
   "cell_type": "code",
   "execution_count": 6,
   "metadata": {},
   "outputs": [
    {
     "name": "stdout",
     "output_type": "stream",
     "text": [
      "Calculating LTCG and Units to Sell:  Done\n"
     ]
    }
   ],
   "source": [
    "print('Calculating LTCG and Units to Sell: ', end = \" \")\n",
    "\n",
    "target_ltcg = 100000\n",
    "\n",
    "cg = CapitalGains(mf_hdr_df, mf_trans_df)\n",
    "cg.prepare_final_data(target_ltcg)\n",
    "print(\"Done\")"
   ]
  },
  {
   "cell_type": "markdown",
   "metadata": {},
   "source": [
    "## Display Header Data (With units to Sell)\n",
    "\n",
    "<BR>The Header and Transaction Data gets saved in data/output directory of Cloud VM or Local Machine as csv files. For Cloud VM Select the checkbox againt each file and download it to your desktops"
   ]
  },
  {
   "cell_type": "code",
   "execution_count": 7,
   "metadata": {},
   "outputs": [
    {
     "data": {
      "text/html": [
       "<div>\n",
       "<style scoped>\n",
       "    .dataframe tbody tr th:only-of-type {\n",
       "        vertical-align: middle;\n",
       "    }\n",
       "\n",
       "    .dataframe tbody tr th {\n",
       "        vertical-align: top;\n",
       "    }\n",
       "\n",
       "    .dataframe thead th {\n",
       "        text-align: right;\n",
       "    }\n",
       "</style>\n",
       "<table border=\"1\" class=\"dataframe\">\n",
       "  <thead>\n",
       "    <tr style=\"text-align: right;\">\n",
       "      <th></th>\n",
       "      <th>scheme_name</th>\n",
       "      <th>type</th>\n",
       "      <th>latest_nav</th>\n",
       "      <th>latest_nav_date</th>\n",
       "      <th>gf_nav</th>\n",
       "      <th>invested_amt</th>\n",
       "      <th>units</th>\n",
       "      <th>ltcg</th>\n",
       "      <th>stcg</th>\n",
       "      <th>current_amt</th>\n",
       "      <th>perc_gain</th>\n",
       "      <th>target_ltcg</th>\n",
       "      <th>target_units</th>\n",
       "      <th>target_amt</th>\n",
       "      <th>comments</th>\n",
       "    </tr>\n",
       "  </thead>\n",
       "  <tbody>\n",
       "    <tr>\n",
       "      <th>0</th>\n",
       "      <td>DSP Small Cap Fund - Direct Plan - Growth</td>\n",
       "      <td>EQUITY</td>\n",
       "      <td>108.83</td>\n",
       "      <td>05-Aug-2021</td>\n",
       "      <td>70.16</td>\n",
       "      <td>₹759,989.98</td>\n",
       "      <td>13,196.65</td>\n",
       "      <td>₹407,157.01</td>\n",
       "      <td>₹90,142.79</td>\n",
       "      <td>₹1,436,151.72</td>\n",
       "      <td>88.97</td>\n",
       "      <td>₹100,000.00</td>\n",
       "      <td>2,586.38</td>\n",
       "      <td>₹281,468.55</td>\n",
       "      <td>Sell 2,586.385 units or ₹ 281,468.55  for LTCG of  100,000.00</td>\n",
       "    </tr>\n",
       "    <tr>\n",
       "      <th>1</th>\n",
       "      <td>Franklin India Flexi Cap Fund - Direct Plan - Growth (erstwhile Franklin India Equity Fund - Direct)</td>\n",
       "      <td>EQUITY</td>\n",
       "      <td>950.19</td>\n",
       "      <td>05-Aug-2021</td>\n",
       "      <td>637.61</td>\n",
       "      <td>₹920,001.44</td>\n",
       "      <td>1,667.94</td>\n",
       "      <td>₹561,259.55</td>\n",
       "      <td>₹0.00</td>\n",
       "      <td>₹1,584,854.58</td>\n",
       "      <td>72.27</td>\n",
       "      <td>₹100,000.00</td>\n",
       "      <td>319.92</td>\n",
       "      <td>₹303,988.12</td>\n",
       "      <td>Sell 319.925 units or ₹ 303,988.12  for LTCG of  100,000.00</td>\n",
       "    </tr>\n",
       "    <tr>\n",
       "      <th>2</th>\n",
       "      <td>Franklin India Low Duration Fund - Direct Plan - Growth</td>\n",
       "      <td>DEBT</td>\n",
       "      <td>24.42</td>\n",
       "      <td>05-Aug-2021</td>\n",
       "      <td>19.98</td>\n",
       "      <td>₹33,068.34</td>\n",
       "      <td>1,758.42</td>\n",
       "      <td>₹9,876.88</td>\n",
       "      <td>₹0.00</td>\n",
       "      <td>₹42,945.21</td>\n",
       "      <td>29.87</td>\n",
       "      <td>₹9,876.88</td>\n",
       "      <td>1,758.42</td>\n",
       "      <td>₹42,945.21</td>\n",
       "      <td>Total LTCG  9,876.87 is less than target LTCG 100,000.00: Sell 1,758.421 units  or ₹42,945.21 for LTCG of  9,876.87</td>\n",
       "    </tr>\n",
       "    <tr>\n",
       "      <th>3</th>\n",
       "      <td>Franklin India Smaller Companies Fund - Direct Plan - Growth</td>\n",
       "      <td>EQUITY</td>\n",
       "      <td>91.74</td>\n",
       "      <td>05-Aug-2021</td>\n",
       "      <td>65.59</td>\n",
       "      <td>₹696,999.96</td>\n",
       "      <td>12,301.35</td>\n",
       "      <td>₹408,253.89</td>\n",
       "      <td>₹0.00</td>\n",
       "      <td>₹1,128,492.84</td>\n",
       "      <td>61.91</td>\n",
       "      <td>₹100,000.00</td>\n",
       "      <td>3,824.49</td>\n",
       "      <td>₹350,848.08</td>\n",
       "      <td>Sell 3,824.487 units or ₹ 350,848.08  for LTCG of  100,000.00</td>\n",
       "    </tr>\n",
       "    <tr>\n",
       "      <th>4</th>\n",
       "      <td>Franklin India Ultra Short Bond Fund Super Institutional Plan - Direct Plan - Growth</td>\n",
       "      <td>DEBT</td>\n",
       "      <td>30.90</td>\n",
       "      <td>05-Aug-2021</td>\n",
       "      <td>23.80</td>\n",
       "      <td>₹33,847.65</td>\n",
       "      <td>1,653.00</td>\n",
       "      <td>₹17,238.15</td>\n",
       "      <td>₹0.00</td>\n",
       "      <td>₹51,085.80</td>\n",
       "      <td>50.93</td>\n",
       "      <td>₹17,238.15</td>\n",
       "      <td>1,653.00</td>\n",
       "      <td>₹51,085.80</td>\n",
       "      <td>Total LTCG  17,238.15 is less than target LTCG 100,000.00: Sell 1,653.000 units  or ₹51,085.80 for LTCG of  17,238.15</td>\n",
       "    </tr>\n",
       "    <tr>\n",
       "      <th>5</th>\n",
       "      <td>HDFC Top 100 Fund - Direct Plan - Growth Option</td>\n",
       "      <td>EQUITY</td>\n",
       "      <td>681.15</td>\n",
       "      <td>05-Aug-2021</td>\n",
       "      <td>498.03</td>\n",
       "      <td>₹569,833.21</td>\n",
       "      <td>1,331.04</td>\n",
       "      <td>₹245,964.12</td>\n",
       "      <td>₹0.00</td>\n",
       "      <td>₹906,634.61</td>\n",
       "      <td>59.10</td>\n",
       "      <td>₹100,000.00</td>\n",
       "      <td>546.10</td>\n",
       "      <td>₹371,973.11</td>\n",
       "      <td>Sell 546.099 units or ₹ 371,973.11  for LTCG of  100,000.00</td>\n",
       "    </tr>\n",
       "    <tr>\n",
       "      <th>6</th>\n",
       "      <td>ICICI Prudential All Seasons Bond Fund - Direct Plan - Growth</td>\n",
       "      <td>DEBT</td>\n",
       "      <td>29.94</td>\n",
       "      <td>05-Aug-2021</td>\n",
       "      <td>21.84</td>\n",
       "      <td>₹699,980.02</td>\n",
       "      <td>29,838.99</td>\n",
       "      <td>₹189,045.40</td>\n",
       "      <td>₹4,368.89</td>\n",
       "      <td>₹893,394.31</td>\n",
       "      <td>27.63</td>\n",
       "      <td>₹100,000.00</td>\n",
       "      <td>8,640.20</td>\n",
       "      <td>₹258,692.05</td>\n",
       "      <td>Sell 8,640.205 units or ₹ 258,692.05  for LTCG of  100,000.00</td>\n",
       "    </tr>\n",
       "    <tr>\n",
       "      <th>7</th>\n",
       "      <td>ICICI Prudential Banking and PSU Debt Fund - Direct Plan - Growth</td>\n",
       "      <td>DEBT</td>\n",
       "      <td>26.19</td>\n",
       "      <td>05-Aug-2021</td>\n",
       "      <td>19.87</td>\n",
       "      <td>₹799,975.00</td>\n",
       "      <td>36,754.76</td>\n",
       "      <td>₹156,965.16</td>\n",
       "      <td>₹5,802.99</td>\n",
       "      <td>₹962,743.15</td>\n",
       "      <td>20.35</td>\n",
       "      <td>₹100,000.00</td>\n",
       "      <td>11,114.32</td>\n",
       "      <td>₹291,125.21</td>\n",
       "      <td>Sell 11,114.322 units or ₹ 291,125.21  for LTCG of  100,000.00</td>\n",
       "    </tr>\n",
       "    <tr>\n",
       "      <th>8</th>\n",
       "      <td>ICICI Prudential Long Term Equity Fund (Tax Saving) - Direct Plan - Growth</td>\n",
       "      <td>EQUITY</td>\n",
       "      <td>601.43</td>\n",
       "      <td>05-Aug-2021</td>\n",
       "      <td>382.19</td>\n",
       "      <td>₹150,000.23</td>\n",
       "      <td>379.87</td>\n",
       "      <td>₹78,466.79</td>\n",
       "      <td>₹0.00</td>\n",
       "      <td>₹228,467.01</td>\n",
       "      <td>52.31</td>\n",
       "      <td>₹78,466.79</td>\n",
       "      <td>379.87</td>\n",
       "      <td>₹228,467.02</td>\n",
       "      <td>Total LTCG  78,466.79 is less than target LTCG 100,000.00: Sell 379.873 units  or ₹228,467.02 for LTCG of  78,466.79</td>\n",
       "    </tr>\n",
       "    <tr>\n",
       "      <th>9</th>\n",
       "      <td>ICICI Prudential Nifty Next 50 Index Fund - Direct Plan - Growth</td>\n",
       "      <td>EQUITY</td>\n",
       "      <td>36.20</td>\n",
       "      <td>05-Aug-2021</td>\n",
       "      <td>27.51</td>\n",
       "      <td>₹277,741.26</td>\n",
       "      <td>11,583.47</td>\n",
       "      <td>₹141,606.87</td>\n",
       "      <td>₹0.00</td>\n",
       "      <td>₹419,348.14</td>\n",
       "      <td>50.98</td>\n",
       "      <td>₹100,000.00</td>\n",
       "      <td>8,797.17</td>\n",
       "      <td>₹318,477.79</td>\n",
       "      <td>Sell 8,797.170 units or ₹ 318,477.79  for LTCG of  100,000.00</td>\n",
       "    </tr>\n",
       "    <tr>\n",
       "      <th>10</th>\n",
       "      <td>ICICI Prudential US Bluechip Equity Fund - Direct Plan - Growth</td>\n",
       "      <td>EQUITY</td>\n",
       "      <td>49.18</td>\n",
       "      <td>05-Aug-2021</td>\n",
       "      <td>25.06</td>\n",
       "      <td>₹624,968.77</td>\n",
       "      <td>15,213.46</td>\n",
       "      <td>₹8,879.42</td>\n",
       "      <td>₹114,349.94</td>\n",
       "      <td>₹748,198.10</td>\n",
       "      <td>19.72</td>\n",
       "      <td>₹8,879.42</td>\n",
       "      <td>688.86</td>\n",
       "      <td>₹33,878.18</td>\n",
       "      <td>Total LTCG  8,879.42 is less than target LTCG 100,000.00: Sell 688.861 units  or ₹33,878.18 for LTCG of  8,879.42</td>\n",
       "    </tr>\n",
       "    <tr>\n",
       "      <th>11</th>\n",
       "      <td>ICICI Prudential Value Discovery Fund - Direct Plan - Growth</td>\n",
       "      <td>EQUITY</td>\n",
       "      <td>241.97</td>\n",
       "      <td>05-Aug-2021</td>\n",
       "      <td>157.64</td>\n",
       "      <td>₹1,014,977.16</td>\n",
       "      <td>6,625.65</td>\n",
       "      <td>₹380,445.79</td>\n",
       "      <td>₹114,696.65</td>\n",
       "      <td>₹1,603,208.76</td>\n",
       "      <td>57.95</td>\n",
       "      <td>₹100,000.00</td>\n",
       "      <td>1,185.82</td>\n",
       "      <td>₹286,932.29</td>\n",
       "      <td>Sell 1,185.818 units or ₹ 286,932.29  for LTCG of  100,000.00</td>\n",
       "    </tr>\n",
       "    <tr>\n",
       "      <th>12</th>\n",
       "      <td>Mirae Asset Emerging Bluechip Fund - Direct Plan - Growth</td>\n",
       "      <td>EQUITY</td>\n",
       "      <td>100.24</td>\n",
       "      <td>05-Aug-2021</td>\n",
       "      <td>54.69</td>\n",
       "      <td>₹724,983.76</td>\n",
       "      <td>11,616.65</td>\n",
       "      <td>₹349,252.97</td>\n",
       "      <td>₹90,216.26</td>\n",
       "      <td>₹1,164,452.99</td>\n",
       "      <td>60.62</td>\n",
       "      <td>₹100,000.00</td>\n",
       "      <td>2,250.66</td>\n",
       "      <td>₹225,605.95</td>\n",
       "      <td>Sell 2,250.658 units or ₹ 225,605.95  for LTCG of  100,000.00</td>\n",
       "    </tr>\n",
       "    <tr>\n",
       "      <th>13</th>\n",
       "      <td>Mirae Asset Large Cap Fund - Direct Plan - Growth</td>\n",
       "      <td>EQUITY</td>\n",
       "      <td>80.34</td>\n",
       "      <td>05-Aug-2021</td>\n",
       "      <td>51.80</td>\n",
       "      <td>₹899,999.98</td>\n",
       "      <td>17,819.86</td>\n",
       "      <td>₹531,700.86</td>\n",
       "      <td>₹0.00</td>\n",
       "      <td>₹1,431,700.85</td>\n",
       "      <td>59.08</td>\n",
       "      <td>₹100,000.00</td>\n",
       "      <td>3,193.87</td>\n",
       "      <td>₹256,604.92</td>\n",
       "      <td>Sell 3,193.868 units or ₹ 256,604.92  for LTCG of  100,000.00</td>\n",
       "    </tr>\n",
       "    <tr>\n",
       "      <th>14</th>\n",
       "      <td>Mirae Asset Tax Saver Fund - Direct Growth</td>\n",
       "      <td>EQUITY</td>\n",
       "      <td>31.93</td>\n",
       "      <td>05-Aug-2021</td>\n",
       "      <td>17.79</td>\n",
       "      <td>₹59,996.99</td>\n",
       "      <td>2,456.68</td>\n",
       "      <td>₹0.00</td>\n",
       "      <td>₹18,454.56</td>\n",
       "      <td>₹78,451.56</td>\n",
       "      <td>30.76</td>\n",
       "      <td>₹0.00</td>\n",
       "      <td>0.00</td>\n",
       "      <td>₹0.00</td>\n",
       "      <td>No LTCG exists hence calculation is not applicable</td>\n",
       "    </tr>\n",
       "    <tr>\n",
       "      <th>15</th>\n",
       "      <td>Parag Parikh Flexi Cap Fund - Direct Plan</td>\n",
       "      <td>EQUITY</td>\n",
       "      <td>48.68</td>\n",
       "      <td>05-Aug-2021</td>\n",
       "      <td>24.65</td>\n",
       "      <td>₹399,980.01</td>\n",
       "      <td>8,297.34</td>\n",
       "      <td>₹0.00</td>\n",
       "      <td>₹3,910.54</td>\n",
       "      <td>₹403,890.55</td>\n",
       "      <td>0.98</td>\n",
       "      <td>₹0.00</td>\n",
       "      <td>0.00</td>\n",
       "      <td>₹0.00</td>\n",
       "      <td>No LTCG exists hence calculation is not applicable</td>\n",
       "    </tr>\n",
       "  </tbody>\n",
       "</table>\n",
       "</div>"
      ],
      "text/plain": [
       "                                                                                             scheme_name  \\\n",
       "0                                                              DSP Small Cap Fund - Direct Plan - Growth   \n",
       "1   Franklin India Flexi Cap Fund - Direct Plan - Growth (erstwhile Franklin India Equity Fund - Direct)   \n",
       "2                                                Franklin India Low Duration Fund - Direct Plan - Growth   \n",
       "3                                           Franklin India Smaller Companies Fund - Direct Plan - Growth   \n",
       "4                   Franklin India Ultra Short Bond Fund Super Institutional Plan - Direct Plan - Growth   \n",
       "5                                                        HDFC Top 100 Fund - Direct Plan - Growth Option   \n",
       "6                                          ICICI Prudential All Seasons Bond Fund - Direct Plan - Growth   \n",
       "7                                      ICICI Prudential Banking and PSU Debt Fund - Direct Plan - Growth   \n",
       "8                             ICICI Prudential Long Term Equity Fund (Tax Saving) - Direct Plan - Growth   \n",
       "9                                       ICICI Prudential Nifty Next 50 Index Fund - Direct Plan - Growth   \n",
       "10                                       ICICI Prudential US Bluechip Equity Fund - Direct Plan - Growth   \n",
       "11                                          ICICI Prudential Value Discovery Fund - Direct Plan - Growth   \n",
       "12                                             Mirae Asset Emerging Bluechip Fund - Direct Plan - Growth   \n",
       "13                                                     Mirae Asset Large Cap Fund - Direct Plan - Growth   \n",
       "14                                                            Mirae Asset Tax Saver Fund - Direct Growth   \n",
       "15                                                             Parag Parikh Flexi Cap Fund - Direct Plan   \n",
       "\n",
       "      type latest_nav latest_nav_date  gf_nav   invested_amt      units  \\\n",
       "0   EQUITY     108.83     05-Aug-2021   70.16    ₹759,989.98  13,196.65   \n",
       "1   EQUITY     950.19     05-Aug-2021  637.61    ₹920,001.44   1,667.94   \n",
       "2     DEBT      24.42     05-Aug-2021   19.98     ₹33,068.34   1,758.42   \n",
       "3   EQUITY      91.74     05-Aug-2021   65.59    ₹696,999.96  12,301.35   \n",
       "4     DEBT      30.90     05-Aug-2021   23.80     ₹33,847.65   1,653.00   \n",
       "5   EQUITY     681.15     05-Aug-2021  498.03    ₹569,833.21   1,331.04   \n",
       "6     DEBT      29.94     05-Aug-2021   21.84    ₹699,980.02  29,838.99   \n",
       "7     DEBT      26.19     05-Aug-2021   19.87    ₹799,975.00  36,754.76   \n",
       "8   EQUITY     601.43     05-Aug-2021  382.19    ₹150,000.23     379.87   \n",
       "9   EQUITY      36.20     05-Aug-2021   27.51    ₹277,741.26  11,583.47   \n",
       "10  EQUITY      49.18     05-Aug-2021   25.06    ₹624,968.77  15,213.46   \n",
       "11  EQUITY     241.97     05-Aug-2021  157.64  ₹1,014,977.16   6,625.65   \n",
       "12  EQUITY     100.24     05-Aug-2021   54.69    ₹724,983.76  11,616.65   \n",
       "13  EQUITY      80.34     05-Aug-2021   51.80    ₹899,999.98  17,819.86   \n",
       "14  EQUITY      31.93     05-Aug-2021   17.79     ₹59,996.99   2,456.68   \n",
       "15  EQUITY      48.68     05-Aug-2021   24.65    ₹399,980.01   8,297.34   \n",
       "\n",
       "           ltcg         stcg    current_amt perc_gain  target_ltcg  \\\n",
       "0   ₹407,157.01   ₹90,142.79  ₹1,436,151.72     88.97  ₹100,000.00   \n",
       "1   ₹561,259.55        ₹0.00  ₹1,584,854.58     72.27  ₹100,000.00   \n",
       "2     ₹9,876.88        ₹0.00     ₹42,945.21     29.87    ₹9,876.88   \n",
       "3   ₹408,253.89        ₹0.00  ₹1,128,492.84     61.91  ₹100,000.00   \n",
       "4    ₹17,238.15        ₹0.00     ₹51,085.80     50.93   ₹17,238.15   \n",
       "5   ₹245,964.12        ₹0.00    ₹906,634.61     59.10  ₹100,000.00   \n",
       "6   ₹189,045.40    ₹4,368.89    ₹893,394.31     27.63  ₹100,000.00   \n",
       "7   ₹156,965.16    ₹5,802.99    ₹962,743.15     20.35  ₹100,000.00   \n",
       "8    ₹78,466.79        ₹0.00    ₹228,467.01     52.31   ₹78,466.79   \n",
       "9   ₹141,606.87        ₹0.00    ₹419,348.14     50.98  ₹100,000.00   \n",
       "10    ₹8,879.42  ₹114,349.94    ₹748,198.10     19.72    ₹8,879.42   \n",
       "11  ₹380,445.79  ₹114,696.65  ₹1,603,208.76     57.95  ₹100,000.00   \n",
       "12  ₹349,252.97   ₹90,216.26  ₹1,164,452.99     60.62  ₹100,000.00   \n",
       "13  ₹531,700.86        ₹0.00  ₹1,431,700.85     59.08  ₹100,000.00   \n",
       "14        ₹0.00   ₹18,454.56     ₹78,451.56     30.76        ₹0.00   \n",
       "15        ₹0.00    ₹3,910.54    ₹403,890.55      0.98        ₹0.00   \n",
       "\n",
       "   target_units   target_amt  \\\n",
       "0      2,586.38  ₹281,468.55   \n",
       "1        319.92  ₹303,988.12   \n",
       "2      1,758.42   ₹42,945.21   \n",
       "3      3,824.49  ₹350,848.08   \n",
       "4      1,653.00   ₹51,085.80   \n",
       "5        546.10  ₹371,973.11   \n",
       "6      8,640.20  ₹258,692.05   \n",
       "7     11,114.32  ₹291,125.21   \n",
       "8        379.87  ₹228,467.02   \n",
       "9      8,797.17  ₹318,477.79   \n",
       "10       688.86   ₹33,878.18   \n",
       "11     1,185.82  ₹286,932.29   \n",
       "12     2,250.66  ₹225,605.95   \n",
       "13     3,193.87  ₹256,604.92   \n",
       "14         0.00        ₹0.00   \n",
       "15         0.00        ₹0.00   \n",
       "\n",
       "                                                                                                                 comments  \n",
       "0                                                           Sell 2,586.385 units or ₹ 281,468.55  for LTCG of  100,000.00  \n",
       "1                                                             Sell 319.925 units or ₹ 303,988.12  for LTCG of  100,000.00  \n",
       "2     Total LTCG  9,876.87 is less than target LTCG 100,000.00: Sell 1,758.421 units  or ₹42,945.21 for LTCG of  9,876.87  \n",
       "3                                                           Sell 3,824.487 units or ₹ 350,848.08  for LTCG of  100,000.00  \n",
       "4   Total LTCG  17,238.15 is less than target LTCG 100,000.00: Sell 1,653.000 units  or ₹51,085.80 for LTCG of  17,238.15  \n",
       "5                                                             Sell 546.099 units or ₹ 371,973.11  for LTCG of  100,000.00  \n",
       "6                                                           Sell 8,640.205 units or ₹ 258,692.05  for LTCG of  100,000.00  \n",
       "7                                                          Sell 11,114.322 units or ₹ 291,125.21  for LTCG of  100,000.00  \n",
       "8    Total LTCG  78,466.79 is less than target LTCG 100,000.00: Sell 379.873 units  or ₹228,467.02 for LTCG of  78,466.79  \n",
       "9                                                           Sell 8,797.170 units or ₹ 318,477.79  for LTCG of  100,000.00  \n",
       "10      Total LTCG  8,879.42 is less than target LTCG 100,000.00: Sell 688.861 units  or ₹33,878.18 for LTCG of  8,879.42  \n",
       "11                                                          Sell 1,185.818 units or ₹ 286,932.29  for LTCG of  100,000.00  \n",
       "12                                                          Sell 2,250.658 units or ₹ 225,605.95  for LTCG of  100,000.00  \n",
       "13                                                          Sell 3,193.868 units or ₹ 256,604.92  for LTCG of  100,000.00  \n",
       "14                                                                     No LTCG exists hence calculation is not applicable  \n",
       "15                                                                     No LTCG exists hence calculation is not applicable  "
      ]
     },
     "execution_count": 7,
     "metadata": {},
     "output_type": "execute_result"
    }
   ],
   "source": [
    "from src.mfdisplay import get_hdr_data_to_display\n",
    "\n",
    "hdr_df = get_hdr_data_to_display(cg.output_hdr_df)\n",
    "hdr_df"
   ]
  },
  {
   "cell_type": "markdown",
   "metadata": {},
   "source": [
    "### Display Target Units amd Amount to Redeem"
   ]
  },
  {
   "cell_type": "code",
   "execution_count": 8,
   "metadata": {},
   "outputs": [
    {
     "data": {
      "application/vnd.plotly.v1+json": {
       "config": {
        "plotlyServerURL": "https://plot.ly"
       },
       "data": [
        {
         "hovertemplate": "%{text}",
         "name": "Target Units",
         "text": [
          "Sell 546.099 units or ₹ 371,973.11  for LTCG of  100,000.00",
          "Sell 3,824.487 units or ₹ 350,848.08  for LTCG of  100,000.00",
          "Sell 8,797.170 units or ₹ 318,477.79  for LTCG of  100,000.00",
          "Sell 319.925 units or ₹ 303,988.12  for LTCG of  100,000.00",
          "Sell 11,114.322 units or ₹ 291,125.21  for LTCG of  100,000.00",
          "Sell 1,185.818 units or ₹ 286,932.29  for LTCG of  100,000.00",
          "Sell 2,586.385 units or ₹ 281,468.55  for LTCG of  100,000.00",
          "Sell 8,640.205 units or ₹ 258,692.05  for LTCG of  100,000.00",
          "Sell 3,193.868 units or ₹ 256,604.92  for LTCG of  100,000.00",
          "Total LTCG  78,466.79 is less than target LTCG 100,000.00: Sell 379.873 units  or ₹228,467.02 for LTCG of  78,466.79",
          "Sell 2,250.658 units or ₹ 225,605.95  for LTCG of  100,000.00",
          "Total LTCG  17,238.15 is less than target LTCG 100,000.00: Sell 1,653.000 units  or ₹51,085.80 for LTCG of  17,238.15",
          "Total LTCG  9,876.87 is less than target LTCG 100,000.00: Sell 1,758.421 units  or ₹42,945.21 for LTCG of  9,876.87",
          "Total LTCG  8,879.42 is less than target LTCG 100,000.00: Sell 688.861 units  or ₹33,878.18 for LTCG of  8,879.42",
          "No LTCG exists hence calculation is not applicable",
          "No LTCG exists hence calculation is not applicable"
         ],
         "type": "bar",
         "x": [
          "HDFC Top 100",
          "Franklin India Smaller Companies",
          "ICICI Prudential Nifty Next 50 Index",
          "Franklin India Flexi Cap",
          "ICICI Prudential Banking and PSU Debt",
          "ICICI Prudential Value Discovery",
          "DSP Small Cap",
          "ICICI Prudential All Seasons Bond",
          "Mirae Asset Large Cap",
          "ICICI Prudential Long Term Equity",
          "Mirae Asset Emerging Bluechip",
          "Franklin India Ultra Short Bond",
          "Franklin India Low Duration",
          "ICICI Prudential US Bluechip Equity",
          "Mirae Asset Tax Saver",
          "Parag Parikh Flexi Cap"
         ],
         "y": [
          546.099,
          3824.487,
          8797.17,
          319.925,
          11114.322,
          1185.818,
          2586.385,
          8640.205,
          3193.868,
          379.873,
          2250.658,
          1653,
          1758.421,
          688.861,
          0,
          0
         ]
        }
       ],
       "layout": {
        "height": 600,
        "template": {
         "data": {
          "bar": [
           {
            "error_x": {
             "color": "#2a3f5f"
            },
            "error_y": {
             "color": "#2a3f5f"
            },
            "marker": {
             "line": {
              "color": "#E5ECF6",
              "width": 0.5
             },
             "pattern": {
              "fillmode": "overlay",
              "size": 10,
              "solidity": 0.2
             }
            },
            "type": "bar"
           }
          ],
          "barpolar": [
           {
            "marker": {
             "line": {
              "color": "#E5ECF6",
              "width": 0.5
             },
             "pattern": {
              "fillmode": "overlay",
              "size": 10,
              "solidity": 0.2
             }
            },
            "type": "barpolar"
           }
          ],
          "carpet": [
           {
            "aaxis": {
             "endlinecolor": "#2a3f5f",
             "gridcolor": "white",
             "linecolor": "white",
             "minorgridcolor": "white",
             "startlinecolor": "#2a3f5f"
            },
            "baxis": {
             "endlinecolor": "#2a3f5f",
             "gridcolor": "white",
             "linecolor": "white",
             "minorgridcolor": "white",
             "startlinecolor": "#2a3f5f"
            },
            "type": "carpet"
           }
          ],
          "choropleth": [
           {
            "colorbar": {
             "outlinewidth": 0,
             "ticks": ""
            },
            "type": "choropleth"
           }
          ],
          "contour": [
           {
            "colorbar": {
             "outlinewidth": 0,
             "ticks": ""
            },
            "colorscale": [
             [
              0,
              "#0d0887"
             ],
             [
              0.1111111111111111,
              "#46039f"
             ],
             [
              0.2222222222222222,
              "#7201a8"
             ],
             [
              0.3333333333333333,
              "#9c179e"
             ],
             [
              0.4444444444444444,
              "#bd3786"
             ],
             [
              0.5555555555555556,
              "#d8576b"
             ],
             [
              0.6666666666666666,
              "#ed7953"
             ],
             [
              0.7777777777777778,
              "#fb9f3a"
             ],
             [
              0.8888888888888888,
              "#fdca26"
             ],
             [
              1,
              "#f0f921"
             ]
            ],
            "type": "contour"
           }
          ],
          "contourcarpet": [
           {
            "colorbar": {
             "outlinewidth": 0,
             "ticks": ""
            },
            "type": "contourcarpet"
           }
          ],
          "heatmap": [
           {
            "colorbar": {
             "outlinewidth": 0,
             "ticks": ""
            },
            "colorscale": [
             [
              0,
              "#0d0887"
             ],
             [
              0.1111111111111111,
              "#46039f"
             ],
             [
              0.2222222222222222,
              "#7201a8"
             ],
             [
              0.3333333333333333,
              "#9c179e"
             ],
             [
              0.4444444444444444,
              "#bd3786"
             ],
             [
              0.5555555555555556,
              "#d8576b"
             ],
             [
              0.6666666666666666,
              "#ed7953"
             ],
             [
              0.7777777777777778,
              "#fb9f3a"
             ],
             [
              0.8888888888888888,
              "#fdca26"
             ],
             [
              1,
              "#f0f921"
             ]
            ],
            "type": "heatmap"
           }
          ],
          "heatmapgl": [
           {
            "colorbar": {
             "outlinewidth": 0,
             "ticks": ""
            },
            "colorscale": [
             [
              0,
              "#0d0887"
             ],
             [
              0.1111111111111111,
              "#46039f"
             ],
             [
              0.2222222222222222,
              "#7201a8"
             ],
             [
              0.3333333333333333,
              "#9c179e"
             ],
             [
              0.4444444444444444,
              "#bd3786"
             ],
             [
              0.5555555555555556,
              "#d8576b"
             ],
             [
              0.6666666666666666,
              "#ed7953"
             ],
             [
              0.7777777777777778,
              "#fb9f3a"
             ],
             [
              0.8888888888888888,
              "#fdca26"
             ],
             [
              1,
              "#f0f921"
             ]
            ],
            "type": "heatmapgl"
           }
          ],
          "histogram": [
           {
            "marker": {
             "pattern": {
              "fillmode": "overlay",
              "size": 10,
              "solidity": 0.2
             }
            },
            "type": "histogram"
           }
          ],
          "histogram2d": [
           {
            "colorbar": {
             "outlinewidth": 0,
             "ticks": ""
            },
            "colorscale": [
             [
              0,
              "#0d0887"
             ],
             [
              0.1111111111111111,
              "#46039f"
             ],
             [
              0.2222222222222222,
              "#7201a8"
             ],
             [
              0.3333333333333333,
              "#9c179e"
             ],
             [
              0.4444444444444444,
              "#bd3786"
             ],
             [
              0.5555555555555556,
              "#d8576b"
             ],
             [
              0.6666666666666666,
              "#ed7953"
             ],
             [
              0.7777777777777778,
              "#fb9f3a"
             ],
             [
              0.8888888888888888,
              "#fdca26"
             ],
             [
              1,
              "#f0f921"
             ]
            ],
            "type": "histogram2d"
           }
          ],
          "histogram2dcontour": [
           {
            "colorbar": {
             "outlinewidth": 0,
             "ticks": ""
            },
            "colorscale": [
             [
              0,
              "#0d0887"
             ],
             [
              0.1111111111111111,
              "#46039f"
             ],
             [
              0.2222222222222222,
              "#7201a8"
             ],
             [
              0.3333333333333333,
              "#9c179e"
             ],
             [
              0.4444444444444444,
              "#bd3786"
             ],
             [
              0.5555555555555556,
              "#d8576b"
             ],
             [
              0.6666666666666666,
              "#ed7953"
             ],
             [
              0.7777777777777778,
              "#fb9f3a"
             ],
             [
              0.8888888888888888,
              "#fdca26"
             ],
             [
              1,
              "#f0f921"
             ]
            ],
            "type": "histogram2dcontour"
           }
          ],
          "mesh3d": [
           {
            "colorbar": {
             "outlinewidth": 0,
             "ticks": ""
            },
            "type": "mesh3d"
           }
          ],
          "parcoords": [
           {
            "line": {
             "colorbar": {
              "outlinewidth": 0,
              "ticks": ""
             }
            },
            "type": "parcoords"
           }
          ],
          "pie": [
           {
            "automargin": true,
            "type": "pie"
           }
          ],
          "scatter": [
           {
            "marker": {
             "colorbar": {
              "outlinewidth": 0,
              "ticks": ""
             }
            },
            "type": "scatter"
           }
          ],
          "scatter3d": [
           {
            "line": {
             "colorbar": {
              "outlinewidth": 0,
              "ticks": ""
             }
            },
            "marker": {
             "colorbar": {
              "outlinewidth": 0,
              "ticks": ""
             }
            },
            "type": "scatter3d"
           }
          ],
          "scattercarpet": [
           {
            "marker": {
             "colorbar": {
              "outlinewidth": 0,
              "ticks": ""
             }
            },
            "type": "scattercarpet"
           }
          ],
          "scattergeo": [
           {
            "marker": {
             "colorbar": {
              "outlinewidth": 0,
              "ticks": ""
             }
            },
            "type": "scattergeo"
           }
          ],
          "scattergl": [
           {
            "marker": {
             "colorbar": {
              "outlinewidth": 0,
              "ticks": ""
             }
            },
            "type": "scattergl"
           }
          ],
          "scattermapbox": [
           {
            "marker": {
             "colorbar": {
              "outlinewidth": 0,
              "ticks": ""
             }
            },
            "type": "scattermapbox"
           }
          ],
          "scatterpolar": [
           {
            "marker": {
             "colorbar": {
              "outlinewidth": 0,
              "ticks": ""
             }
            },
            "type": "scatterpolar"
           }
          ],
          "scatterpolargl": [
           {
            "marker": {
             "colorbar": {
              "outlinewidth": 0,
              "ticks": ""
             }
            },
            "type": "scatterpolargl"
           }
          ],
          "scatterternary": [
           {
            "marker": {
             "colorbar": {
              "outlinewidth": 0,
              "ticks": ""
             }
            },
            "type": "scatterternary"
           }
          ],
          "surface": [
           {
            "colorbar": {
             "outlinewidth": 0,
             "ticks": ""
            },
            "colorscale": [
             [
              0,
              "#0d0887"
             ],
             [
              0.1111111111111111,
              "#46039f"
             ],
             [
              0.2222222222222222,
              "#7201a8"
             ],
             [
              0.3333333333333333,
              "#9c179e"
             ],
             [
              0.4444444444444444,
              "#bd3786"
             ],
             [
              0.5555555555555556,
              "#d8576b"
             ],
             [
              0.6666666666666666,
              "#ed7953"
             ],
             [
              0.7777777777777778,
              "#fb9f3a"
             ],
             [
              0.8888888888888888,
              "#fdca26"
             ],
             [
              1,
              "#f0f921"
             ]
            ],
            "type": "surface"
           }
          ],
          "table": [
           {
            "cells": {
             "fill": {
              "color": "#EBF0F8"
             },
             "line": {
              "color": "white"
             }
            },
            "header": {
             "fill": {
              "color": "#C8D4E3"
             },
             "line": {
              "color": "white"
             }
            },
            "type": "table"
           }
          ]
         },
         "layout": {
          "annotationdefaults": {
           "arrowcolor": "#2a3f5f",
           "arrowhead": 0,
           "arrowwidth": 1
          },
          "autotypenumbers": "strict",
          "coloraxis": {
           "colorbar": {
            "outlinewidth": 0,
            "ticks": ""
           }
          },
          "colorscale": {
           "diverging": [
            [
             0,
             "#8e0152"
            ],
            [
             0.1,
             "#c51b7d"
            ],
            [
             0.2,
             "#de77ae"
            ],
            [
             0.3,
             "#f1b6da"
            ],
            [
             0.4,
             "#fde0ef"
            ],
            [
             0.5,
             "#f7f7f7"
            ],
            [
             0.6,
             "#e6f5d0"
            ],
            [
             0.7,
             "#b8e186"
            ],
            [
             0.8,
             "#7fbc41"
            ],
            [
             0.9,
             "#4d9221"
            ],
            [
             1,
             "#276419"
            ]
           ],
           "sequential": [
            [
             0,
             "#0d0887"
            ],
            [
             0.1111111111111111,
             "#46039f"
            ],
            [
             0.2222222222222222,
             "#7201a8"
            ],
            [
             0.3333333333333333,
             "#9c179e"
            ],
            [
             0.4444444444444444,
             "#bd3786"
            ],
            [
             0.5555555555555556,
             "#d8576b"
            ],
            [
             0.6666666666666666,
             "#ed7953"
            ],
            [
             0.7777777777777778,
             "#fb9f3a"
            ],
            [
             0.8888888888888888,
             "#fdca26"
            ],
            [
             1,
             "#f0f921"
            ]
           ],
           "sequentialminus": [
            [
             0,
             "#0d0887"
            ],
            [
             0.1111111111111111,
             "#46039f"
            ],
            [
             0.2222222222222222,
             "#7201a8"
            ],
            [
             0.3333333333333333,
             "#9c179e"
            ],
            [
             0.4444444444444444,
             "#bd3786"
            ],
            [
             0.5555555555555556,
             "#d8576b"
            ],
            [
             0.6666666666666666,
             "#ed7953"
            ],
            [
             0.7777777777777778,
             "#fb9f3a"
            ],
            [
             0.8888888888888888,
             "#fdca26"
            ],
            [
             1,
             "#f0f921"
            ]
           ]
          },
          "colorway": [
           "#636efa",
           "#EF553B",
           "#00cc96",
           "#ab63fa",
           "#FFA15A",
           "#19d3f3",
           "#FF6692",
           "#B6E880",
           "#FF97FF",
           "#FECB52"
          ],
          "font": {
           "color": "#2a3f5f"
          },
          "geo": {
           "bgcolor": "white",
           "lakecolor": "white",
           "landcolor": "#E5ECF6",
           "showlakes": true,
           "showland": true,
           "subunitcolor": "white"
          },
          "hoverlabel": {
           "align": "left"
          },
          "hovermode": "closest",
          "mapbox": {
           "style": "light"
          },
          "paper_bgcolor": "white",
          "plot_bgcolor": "#E5ECF6",
          "polar": {
           "angularaxis": {
            "gridcolor": "white",
            "linecolor": "white",
            "ticks": ""
           },
           "bgcolor": "#E5ECF6",
           "radialaxis": {
            "gridcolor": "white",
            "linecolor": "white",
            "ticks": ""
           }
          },
          "scene": {
           "xaxis": {
            "backgroundcolor": "#E5ECF6",
            "gridcolor": "white",
            "gridwidth": 2,
            "linecolor": "white",
            "showbackground": true,
            "ticks": "",
            "zerolinecolor": "white"
           },
           "yaxis": {
            "backgroundcolor": "#E5ECF6",
            "gridcolor": "white",
            "gridwidth": 2,
            "linecolor": "white",
            "showbackground": true,
            "ticks": "",
            "zerolinecolor": "white"
           },
           "zaxis": {
            "backgroundcolor": "#E5ECF6",
            "gridcolor": "white",
            "gridwidth": 2,
            "linecolor": "white",
            "showbackground": true,
            "ticks": "",
            "zerolinecolor": "white"
           }
          },
          "shapedefaults": {
           "line": {
            "color": "#2a3f5f"
           }
          },
          "ternary": {
           "aaxis": {
            "gridcolor": "white",
            "linecolor": "white",
            "ticks": ""
           },
           "baxis": {
            "gridcolor": "white",
            "linecolor": "white",
            "ticks": ""
           },
           "bgcolor": "#E5ECF6",
           "caxis": {
            "gridcolor": "white",
            "linecolor": "white",
            "ticks": ""
           }
          },
          "title": {
           "x": 0.05
          },
          "xaxis": {
           "automargin": true,
           "gridcolor": "white",
           "linecolor": "white",
           "ticks": "",
           "title": {
            "standoff": 15
           },
           "zerolinecolor": "white",
           "zerolinewidth": 2
          },
          "yaxis": {
           "automargin": true,
           "gridcolor": "white",
           "linecolor": "white",
           "ticks": "",
           "title": {
            "standoff": 15
           },
           "zerolinecolor": "white",
           "zerolinewidth": 2
          }
         }
        },
        "title": {
         "text": "Mutual Funds Target Units/Amount "
        },
        "yaxis": {
         "title": {
          "text": "Target Units"
         }
        }
       }
      }
     },
     "metadata": {},
     "output_type": "display_data"
    }
   ],
   "source": [
    "   \n",
    "from src.mfdisplay import display_target_units_amt\n",
    "display_target_units_amt(cg.mf_hdr_df)"
   ]
  },
  {
   "cell_type": "markdown",
   "metadata": {},
   "source": [
    "## Display Transaction Data for Single MF scheme\n",
    "\n",
    "By default this will show transaction for a random Scheme. You can execute the cell multple times to see results for a diffrent scheme\n",
    "\n",
    "<br>To view transaction for a specific scheme (e.g. DSP Small Cap Fund - Direct Plan - Growth)  replace  the code in cell as:-\n",
    "\n",
    "<br> replace <code>scheme_name =  None</code> to\n",
    "<br> <code> scheme_name = 'DSP Small Cap Fund - Direct Plan - Growth' </code>\n",
    "\n",
    "Place cursor on code cell below Hit SHIFT + ENTER to see the results \n",
    "\n",
    "\n",
    "#### The *cumil_ltcg* and *cumil_units* columns are useful to know what units to sell for target ltcg.   Sell *cumil_units* for a LTCG of *cumil_ltcg*"
   ]
  },
  {
   "cell_type": "code",
   "execution_count": 9,
   "metadata": {},
   "outputs": [
    {
     "data": {
      "text/html": [
       "<div>\n",
       "<style scoped>\n",
       "    .dataframe tbody tr th:only-of-type {\n",
       "        vertical-align: middle;\n",
       "    }\n",
       "\n",
       "    .dataframe tbody tr th {\n",
       "        vertical-align: top;\n",
       "    }\n",
       "\n",
       "    .dataframe thead th {\n",
       "        text-align: right;\n",
       "    }\n",
       "</style>\n",
       "<table border=\"1\" class=\"dataframe\">\n",
       "  <thead>\n",
       "    <tr style=\"text-align: right;\">\n",
       "      <th></th>\n",
       "      <th>scheme_name</th>\n",
       "      <th>trans_date</th>\n",
       "      <th>amount</th>\n",
       "      <th>units</th>\n",
       "      <th>purch_nav</th>\n",
       "      <th>trans_type</th>\n",
       "      <th>type</th>\n",
       "      <th>latest_nav</th>\n",
       "      <th>latest_nav_date</th>\n",
       "      <th>gf_nav</th>\n",
       "      <th>units_redeemed</th>\n",
       "      <th>units_remain</th>\n",
       "      <th>invested_amt</th>\n",
       "      <th>current_amt</th>\n",
       "      <th>perc_gain</th>\n",
       "      <th>new_purch_nav</th>\n",
       "      <th>ltcg</th>\n",
       "      <th>stcg</th>\n",
       "      <th>cumil_ltcg</th>\n",
       "      <th>cumil_units</th>\n",
       "    </tr>\n",
       "  </thead>\n",
       "  <tbody>\n",
       "    <tr>\n",
       "      <th>239</th>\n",
       "      <td>Mirae Asset Large Cap Fund - Direct Plan - Growth</td>\n",
       "      <td>19-Feb-2019</td>\n",
       "      <td>250000.00</td>\n",
       "      <td>5,098.61</td>\n",
       "      <td>49.03</td>\n",
       "      <td>PURCHASE</td>\n",
       "      <td>EQUITY</td>\n",
       "      <td>80.34</td>\n",
       "      <td>05-Aug-2021</td>\n",
       "      <td>51.80</td>\n",
       "      <td>0</td>\n",
       "      <td>5098.607</td>\n",
       "      <td>₹250,000.00</td>\n",
       "      <td>₹409,637.38</td>\n",
       "      <td>63.85</td>\n",
       "      <td>49.03</td>\n",
       "      <td>₹159,637.39</td>\n",
       "      <td>₹0.00</td>\n",
       "      <td>₹159,637.39</td>\n",
       "      <td>5,098.61</td>\n",
       "    </tr>\n",
       "    <tr>\n",
       "      <th>240</th>\n",
       "      <td>Mirae Asset Large Cap Fund - Direct Plan - Growth</td>\n",
       "      <td>10-Jun-2019</td>\n",
       "      <td>150000.00</td>\n",
       "      <td>2,708.12</td>\n",
       "      <td>55.39</td>\n",
       "      <td>PURCHASE</td>\n",
       "      <td>EQUITY</td>\n",
       "      <td>80.34</td>\n",
       "      <td>05-Aug-2021</td>\n",
       "      <td>51.80</td>\n",
       "      <td>0</td>\n",
       "      <td>2708.119</td>\n",
       "      <td>₹150,000.00</td>\n",
       "      <td>₹217,578.40</td>\n",
       "      <td>45.05</td>\n",
       "      <td>55.39</td>\n",
       "      <td>₹67,578.40</td>\n",
       "      <td>₹0.00</td>\n",
       "      <td>₹227,215.79</td>\n",
       "      <td>7,806.73</td>\n",
       "    </tr>\n",
       "    <tr>\n",
       "      <th>241</th>\n",
       "      <td>Mirae Asset Large Cap Fund - Direct Plan - Growth</td>\n",
       "      <td>14-Jun-2019</td>\n",
       "      <td>300000.00</td>\n",
       "      <td>5,464.68</td>\n",
       "      <td>54.90</td>\n",
       "      <td>PURCHASE</td>\n",
       "      <td>EQUITY</td>\n",
       "      <td>80.34</td>\n",
       "      <td>05-Aug-2021</td>\n",
       "      <td>51.80</td>\n",
       "      <td>0</td>\n",
       "      <td>5464.680</td>\n",
       "      <td>₹300,000.00</td>\n",
       "      <td>₹439,048.79</td>\n",
       "      <td>46.35</td>\n",
       "      <td>54.90</td>\n",
       "      <td>₹139,048.78</td>\n",
       "      <td>₹0.00</td>\n",
       "      <td>₹366,264.57</td>\n",
       "      <td>13,271.41</td>\n",
       "    </tr>\n",
       "    <tr>\n",
       "      <th>242</th>\n",
       "      <td>Mirae Asset Large Cap Fund - Direct Plan - Growth</td>\n",
       "      <td>17-Mar-2020</td>\n",
       "      <td>200000.00</td>\n",
       "      <td>4,548.45</td>\n",
       "      <td>43.97</td>\n",
       "      <td>PURCHASE</td>\n",
       "      <td>EQUITY</td>\n",
       "      <td>80.34</td>\n",
       "      <td>05-Aug-2021</td>\n",
       "      <td>51.80</td>\n",
       "      <td>0</td>\n",
       "      <td>4548.452</td>\n",
       "      <td>₹199,999.98</td>\n",
       "      <td>₹365,436.28</td>\n",
       "      <td>82.72</td>\n",
       "      <td>43.97</td>\n",
       "      <td>₹165,436.30</td>\n",
       "      <td>₹0.00</td>\n",
       "      <td>₹531,700.86</td>\n",
       "      <td>17,819.86</td>\n",
       "    </tr>\n",
       "  </tbody>\n",
       "</table>\n",
       "</div>"
      ],
      "text/plain": [
       "                                           scheme_name   trans_date  \\\n",
       "239  Mirae Asset Large Cap Fund - Direct Plan - Growth  19-Feb-2019   \n",
       "240  Mirae Asset Large Cap Fund - Direct Plan - Growth  10-Jun-2019   \n",
       "241  Mirae Asset Large Cap Fund - Direct Plan - Growth  14-Jun-2019   \n",
       "242  Mirae Asset Large Cap Fund - Direct Plan - Growth  17-Mar-2020   \n",
       "\n",
       "        amount     units purch_nav trans_type    type latest_nav  \\\n",
       "239  250000.00  5,098.61     49.03   PURCHASE  EQUITY      80.34   \n",
       "240  150000.00  2,708.12     55.39   PURCHASE  EQUITY      80.34   \n",
       "241  300000.00  5,464.68     54.90   PURCHASE  EQUITY      80.34   \n",
       "242  200000.00  4,548.45     43.97   PURCHASE  EQUITY      80.34   \n",
       "\n",
       "    latest_nav_date gf_nav units_redeemed units_remain invested_amt  \\\n",
       "239     05-Aug-2021  51.80              0     5098.607  ₹250,000.00   \n",
       "240     05-Aug-2021  51.80              0     2708.119  ₹150,000.00   \n",
       "241     05-Aug-2021  51.80              0     5464.680  ₹300,000.00   \n",
       "242     05-Aug-2021  51.80              0     4548.452  ₹199,999.98   \n",
       "\n",
       "     current_amt perc_gain new_purch_nav         ltcg   stcg   cumil_ltcg  \\\n",
       "239  ₹409,637.38     63.85         49.03  ₹159,637.39  ₹0.00  ₹159,637.39   \n",
       "240  ₹217,578.40     45.05         55.39   ₹67,578.40  ₹0.00  ₹227,215.79   \n",
       "241  ₹439,048.79     46.35         54.90  ₹139,048.78  ₹0.00  ₹366,264.57   \n",
       "242  ₹365,436.28     82.72         43.97  ₹165,436.30  ₹0.00  ₹531,700.86   \n",
       "\n",
       "    cumil_units  \n",
       "239    5,098.61  \n",
       "240    7,806.73  \n",
       "241   13,271.41  \n",
       "242   17,819.86  "
      ]
     },
     "execution_count": 9,
     "metadata": {},
     "output_type": "execute_result"
    }
   ],
   "source": [
    "from src.mfdisplay import get_trans_data_to_display, get_trans_for_single_scheme\n",
    "trans_df = get_trans_data_to_display(cg.output_trans_df)\n",
    "\n",
    "scheme_name =  None\n",
    "\n",
    "get_trans_for_single_scheme(trans_df, scheme_name= scheme_name)\n"
   ]
  },
  {
   "cell_type": "markdown",
   "metadata": {},
   "source": [
    "## Portfolio Summary"
   ]
  },
  {
   "cell_type": "code",
   "execution_count": 10,
   "metadata": {},
   "outputs": [
    {
     "data": {
      "application/vnd.plotly.v1+json": {
       "config": {
        "plotlyServerURL": "https://plot.ly"
       },
       "data": [
        {
         "name": "Current Amount (₹)",
         "orientation": "h",
         "text": [
          "8666343.76",
          "13084020.180000002",
          "4417676.42"
         ],
         "textposition": "outside",
         "texttemplate": "%{text:.2s}",
         "type": "bar",
         "x": [
          8666343.76,
          13084020.180000002,
          4417676.42
         ],
         "y": [
          "Invested Amount",
          "Current Amount",
          "Gain/Loss"
         ]
        }
       ],
       "layout": {
        "height": 350,
        "template": {
         "data": {
          "bar": [
           {
            "error_x": {
             "color": "#2a3f5f"
            },
            "error_y": {
             "color": "#2a3f5f"
            },
            "marker": {
             "line": {
              "color": "#E5ECF6",
              "width": 0.5
             },
             "pattern": {
              "fillmode": "overlay",
              "size": 10,
              "solidity": 0.2
             }
            },
            "type": "bar"
           }
          ],
          "barpolar": [
           {
            "marker": {
             "line": {
              "color": "#E5ECF6",
              "width": 0.5
             },
             "pattern": {
              "fillmode": "overlay",
              "size": 10,
              "solidity": 0.2
             }
            },
            "type": "barpolar"
           }
          ],
          "carpet": [
           {
            "aaxis": {
             "endlinecolor": "#2a3f5f",
             "gridcolor": "white",
             "linecolor": "white",
             "minorgridcolor": "white",
             "startlinecolor": "#2a3f5f"
            },
            "baxis": {
             "endlinecolor": "#2a3f5f",
             "gridcolor": "white",
             "linecolor": "white",
             "minorgridcolor": "white",
             "startlinecolor": "#2a3f5f"
            },
            "type": "carpet"
           }
          ],
          "choropleth": [
           {
            "colorbar": {
             "outlinewidth": 0,
             "ticks": ""
            },
            "type": "choropleth"
           }
          ],
          "contour": [
           {
            "colorbar": {
             "outlinewidth": 0,
             "ticks": ""
            },
            "colorscale": [
             [
              0,
              "#0d0887"
             ],
             [
              0.1111111111111111,
              "#46039f"
             ],
             [
              0.2222222222222222,
              "#7201a8"
             ],
             [
              0.3333333333333333,
              "#9c179e"
             ],
             [
              0.4444444444444444,
              "#bd3786"
             ],
             [
              0.5555555555555556,
              "#d8576b"
             ],
             [
              0.6666666666666666,
              "#ed7953"
             ],
             [
              0.7777777777777778,
              "#fb9f3a"
             ],
             [
              0.8888888888888888,
              "#fdca26"
             ],
             [
              1,
              "#f0f921"
             ]
            ],
            "type": "contour"
           }
          ],
          "contourcarpet": [
           {
            "colorbar": {
             "outlinewidth": 0,
             "ticks": ""
            },
            "type": "contourcarpet"
           }
          ],
          "heatmap": [
           {
            "colorbar": {
             "outlinewidth": 0,
             "ticks": ""
            },
            "colorscale": [
             [
              0,
              "#0d0887"
             ],
             [
              0.1111111111111111,
              "#46039f"
             ],
             [
              0.2222222222222222,
              "#7201a8"
             ],
             [
              0.3333333333333333,
              "#9c179e"
             ],
             [
              0.4444444444444444,
              "#bd3786"
             ],
             [
              0.5555555555555556,
              "#d8576b"
             ],
             [
              0.6666666666666666,
              "#ed7953"
             ],
             [
              0.7777777777777778,
              "#fb9f3a"
             ],
             [
              0.8888888888888888,
              "#fdca26"
             ],
             [
              1,
              "#f0f921"
             ]
            ],
            "type": "heatmap"
           }
          ],
          "heatmapgl": [
           {
            "colorbar": {
             "outlinewidth": 0,
             "ticks": ""
            },
            "colorscale": [
             [
              0,
              "#0d0887"
             ],
             [
              0.1111111111111111,
              "#46039f"
             ],
             [
              0.2222222222222222,
              "#7201a8"
             ],
             [
              0.3333333333333333,
              "#9c179e"
             ],
             [
              0.4444444444444444,
              "#bd3786"
             ],
             [
              0.5555555555555556,
              "#d8576b"
             ],
             [
              0.6666666666666666,
              "#ed7953"
             ],
             [
              0.7777777777777778,
              "#fb9f3a"
             ],
             [
              0.8888888888888888,
              "#fdca26"
             ],
             [
              1,
              "#f0f921"
             ]
            ],
            "type": "heatmapgl"
           }
          ],
          "histogram": [
           {
            "marker": {
             "pattern": {
              "fillmode": "overlay",
              "size": 10,
              "solidity": 0.2
             }
            },
            "type": "histogram"
           }
          ],
          "histogram2d": [
           {
            "colorbar": {
             "outlinewidth": 0,
             "ticks": ""
            },
            "colorscale": [
             [
              0,
              "#0d0887"
             ],
             [
              0.1111111111111111,
              "#46039f"
             ],
             [
              0.2222222222222222,
              "#7201a8"
             ],
             [
              0.3333333333333333,
              "#9c179e"
             ],
             [
              0.4444444444444444,
              "#bd3786"
             ],
             [
              0.5555555555555556,
              "#d8576b"
             ],
             [
              0.6666666666666666,
              "#ed7953"
             ],
             [
              0.7777777777777778,
              "#fb9f3a"
             ],
             [
              0.8888888888888888,
              "#fdca26"
             ],
             [
              1,
              "#f0f921"
             ]
            ],
            "type": "histogram2d"
           }
          ],
          "histogram2dcontour": [
           {
            "colorbar": {
             "outlinewidth": 0,
             "ticks": ""
            },
            "colorscale": [
             [
              0,
              "#0d0887"
             ],
             [
              0.1111111111111111,
              "#46039f"
             ],
             [
              0.2222222222222222,
              "#7201a8"
             ],
             [
              0.3333333333333333,
              "#9c179e"
             ],
             [
              0.4444444444444444,
              "#bd3786"
             ],
             [
              0.5555555555555556,
              "#d8576b"
             ],
             [
              0.6666666666666666,
              "#ed7953"
             ],
             [
              0.7777777777777778,
              "#fb9f3a"
             ],
             [
              0.8888888888888888,
              "#fdca26"
             ],
             [
              1,
              "#f0f921"
             ]
            ],
            "type": "histogram2dcontour"
           }
          ],
          "mesh3d": [
           {
            "colorbar": {
             "outlinewidth": 0,
             "ticks": ""
            },
            "type": "mesh3d"
           }
          ],
          "parcoords": [
           {
            "line": {
             "colorbar": {
              "outlinewidth": 0,
              "ticks": ""
             }
            },
            "type": "parcoords"
           }
          ],
          "pie": [
           {
            "automargin": true,
            "type": "pie"
           }
          ],
          "scatter": [
           {
            "marker": {
             "colorbar": {
              "outlinewidth": 0,
              "ticks": ""
             }
            },
            "type": "scatter"
           }
          ],
          "scatter3d": [
           {
            "line": {
             "colorbar": {
              "outlinewidth": 0,
              "ticks": ""
             }
            },
            "marker": {
             "colorbar": {
              "outlinewidth": 0,
              "ticks": ""
             }
            },
            "type": "scatter3d"
           }
          ],
          "scattercarpet": [
           {
            "marker": {
             "colorbar": {
              "outlinewidth": 0,
              "ticks": ""
             }
            },
            "type": "scattercarpet"
           }
          ],
          "scattergeo": [
           {
            "marker": {
             "colorbar": {
              "outlinewidth": 0,
              "ticks": ""
             }
            },
            "type": "scattergeo"
           }
          ],
          "scattergl": [
           {
            "marker": {
             "colorbar": {
              "outlinewidth": 0,
              "ticks": ""
             }
            },
            "type": "scattergl"
           }
          ],
          "scattermapbox": [
           {
            "marker": {
             "colorbar": {
              "outlinewidth": 0,
              "ticks": ""
             }
            },
            "type": "scattermapbox"
           }
          ],
          "scatterpolar": [
           {
            "marker": {
             "colorbar": {
              "outlinewidth": 0,
              "ticks": ""
             }
            },
            "type": "scatterpolar"
           }
          ],
          "scatterpolargl": [
           {
            "marker": {
             "colorbar": {
              "outlinewidth": 0,
              "ticks": ""
             }
            },
            "type": "scatterpolargl"
           }
          ],
          "scatterternary": [
           {
            "marker": {
             "colorbar": {
              "outlinewidth": 0,
              "ticks": ""
             }
            },
            "type": "scatterternary"
           }
          ],
          "surface": [
           {
            "colorbar": {
             "outlinewidth": 0,
             "ticks": ""
            },
            "colorscale": [
             [
              0,
              "#0d0887"
             ],
             [
              0.1111111111111111,
              "#46039f"
             ],
             [
              0.2222222222222222,
              "#7201a8"
             ],
             [
              0.3333333333333333,
              "#9c179e"
             ],
             [
              0.4444444444444444,
              "#bd3786"
             ],
             [
              0.5555555555555556,
              "#d8576b"
             ],
             [
              0.6666666666666666,
              "#ed7953"
             ],
             [
              0.7777777777777778,
              "#fb9f3a"
             ],
             [
              0.8888888888888888,
              "#fdca26"
             ],
             [
              1,
              "#f0f921"
             ]
            ],
            "type": "surface"
           }
          ],
          "table": [
           {
            "cells": {
             "fill": {
              "color": "#EBF0F8"
             },
             "line": {
              "color": "white"
             }
            },
            "header": {
             "fill": {
              "color": "#C8D4E3"
             },
             "line": {
              "color": "white"
             }
            },
            "type": "table"
           }
          ]
         },
         "layout": {
          "annotationdefaults": {
           "arrowcolor": "#2a3f5f",
           "arrowhead": 0,
           "arrowwidth": 1
          },
          "autotypenumbers": "strict",
          "coloraxis": {
           "colorbar": {
            "outlinewidth": 0,
            "ticks": ""
           }
          },
          "colorscale": {
           "diverging": [
            [
             0,
             "#8e0152"
            ],
            [
             0.1,
             "#c51b7d"
            ],
            [
             0.2,
             "#de77ae"
            ],
            [
             0.3,
             "#f1b6da"
            ],
            [
             0.4,
             "#fde0ef"
            ],
            [
             0.5,
             "#f7f7f7"
            ],
            [
             0.6,
             "#e6f5d0"
            ],
            [
             0.7,
             "#b8e186"
            ],
            [
             0.8,
             "#7fbc41"
            ],
            [
             0.9,
             "#4d9221"
            ],
            [
             1,
             "#276419"
            ]
           ],
           "sequential": [
            [
             0,
             "#0d0887"
            ],
            [
             0.1111111111111111,
             "#46039f"
            ],
            [
             0.2222222222222222,
             "#7201a8"
            ],
            [
             0.3333333333333333,
             "#9c179e"
            ],
            [
             0.4444444444444444,
             "#bd3786"
            ],
            [
             0.5555555555555556,
             "#d8576b"
            ],
            [
             0.6666666666666666,
             "#ed7953"
            ],
            [
             0.7777777777777778,
             "#fb9f3a"
            ],
            [
             0.8888888888888888,
             "#fdca26"
            ],
            [
             1,
             "#f0f921"
            ]
           ],
           "sequentialminus": [
            [
             0,
             "#0d0887"
            ],
            [
             0.1111111111111111,
             "#46039f"
            ],
            [
             0.2222222222222222,
             "#7201a8"
            ],
            [
             0.3333333333333333,
             "#9c179e"
            ],
            [
             0.4444444444444444,
             "#bd3786"
            ],
            [
             0.5555555555555556,
             "#d8576b"
            ],
            [
             0.6666666666666666,
             "#ed7953"
            ],
            [
             0.7777777777777778,
             "#fb9f3a"
            ],
            [
             0.8888888888888888,
             "#fdca26"
            ],
            [
             1,
             "#f0f921"
            ]
           ]
          },
          "colorway": [
           "#636efa",
           "#EF553B",
           "#00cc96",
           "#ab63fa",
           "#FFA15A",
           "#19d3f3",
           "#FF6692",
           "#B6E880",
           "#FF97FF",
           "#FECB52"
          ],
          "font": {
           "color": "#2a3f5f"
          },
          "geo": {
           "bgcolor": "white",
           "lakecolor": "white",
           "landcolor": "#E5ECF6",
           "showlakes": true,
           "showland": true,
           "subunitcolor": "white"
          },
          "hoverlabel": {
           "align": "left"
          },
          "hovermode": "closest",
          "mapbox": {
           "style": "light"
          },
          "paper_bgcolor": "white",
          "plot_bgcolor": "#E5ECF6",
          "polar": {
           "angularaxis": {
            "gridcolor": "white",
            "linecolor": "white",
            "ticks": ""
           },
           "bgcolor": "#E5ECF6",
           "radialaxis": {
            "gridcolor": "white",
            "linecolor": "white",
            "ticks": ""
           }
          },
          "scene": {
           "xaxis": {
            "backgroundcolor": "#E5ECF6",
            "gridcolor": "white",
            "gridwidth": 2,
            "linecolor": "white",
            "showbackground": true,
            "ticks": "",
            "zerolinecolor": "white"
           },
           "yaxis": {
            "backgroundcolor": "#E5ECF6",
            "gridcolor": "white",
            "gridwidth": 2,
            "linecolor": "white",
            "showbackground": true,
            "ticks": "",
            "zerolinecolor": "white"
           },
           "zaxis": {
            "backgroundcolor": "#E5ECF6",
            "gridcolor": "white",
            "gridwidth": 2,
            "linecolor": "white",
            "showbackground": true,
            "ticks": "",
            "zerolinecolor": "white"
           }
          },
          "shapedefaults": {
           "line": {
            "color": "#2a3f5f"
           }
          },
          "ternary": {
           "aaxis": {
            "gridcolor": "white",
            "linecolor": "white",
            "ticks": ""
           },
           "baxis": {
            "gridcolor": "white",
            "linecolor": "white",
            "ticks": ""
           },
           "bgcolor": "#E5ECF6",
           "caxis": {
            "gridcolor": "white",
            "linecolor": "white",
            "ticks": ""
           }
          },
          "title": {
           "x": 0.05
          },
          "xaxis": {
           "automargin": true,
           "gridcolor": "white",
           "linecolor": "white",
           "ticks": "",
           "title": {
            "standoff": 15
           },
           "zerolinecolor": "white",
           "zerolinewidth": 2
          },
          "yaxis": {
           "automargin": true,
           "gridcolor": "white",
           "linecolor": "white",
           "ticks": "",
           "title": {
            "standoff": 15
           },
           "zerolinecolor": "white",
           "zerolinewidth": 2
          }
         }
        },
        "title": {
         "text": "Portfolio Summary"
        }
       }
      }
     },
     "metadata": {},
     "output_type": "display_data"
    }
   ],
   "source": [
    "from src.mfdisplay import group_by_mf_type, display_summary\n",
    "mf_totals_grp = group_by_mf_type(cg.mf_hdr_df)\n",
    "display_summary(mf_totals_grp)\n",
    "\n",
    "\n",
    "\n",
    "            "
   ]
  },
  {
   "cell_type": "markdown",
   "metadata": {},
   "source": [
    "##  Equiy vs Debt Aggregate Data"
   ]
  },
  {
   "cell_type": "code",
   "execution_count": 11,
   "metadata": {},
   "outputs": [
    {
     "data": {
      "application/vnd.plotly.v1+json": {
       "config": {
        "plotlyServerURL": "https://plot.ly"
       },
       "data": [
        {
         "legendgroup": "1",
         "name": "Current Amount (₹)",
         "orientation": "h",
         "text": [
          "1950168.47",
          "11133851.71"
         ],
         "textposition": "outside",
         "texttemplate": "%{text:.2s}",
         "type": "bar",
         "x": [
          1950168.47,
          11133851.71
         ],
         "xaxis": "x",
         "y": [
          "DEBT",
          "EQUITY"
         ],
         "yaxis": "y"
        },
        {
         "legendgroup": "1",
         "name": "Invested Amount (₹)",
         "orientation": "h",
         "text": [
          "1566871.01",
          "7099472.75"
         ],
         "textposition": "outside",
         "texttemplate": "%{text:.2s}",
         "type": "bar",
         "x": [
          1566871.01,
          7099472.75
         ],
         "xaxis": "x",
         "y": [
          "DEBT",
          "EQUITY"
         ],
         "yaxis": "y"
        },
        {
         "legendgroup": "1",
         "name": "Gain/Loss (₹)",
         "orientation": "h",
         "text": [
          "383297.46",
          "4034378.96"
         ],
         "textposition": "outside",
         "texttemplate": "%{text:.2s}",
         "type": "bar",
         "x": [
          383297.46,
          4034378.96
         ],
         "xaxis": "x",
         "y": [
          "DEBT",
          "EQUITY"
         ],
         "yaxis": "y"
        },
        {
         "legendgroup": "2",
         "name": "Total LTCG (₹)",
         "orientation": "h",
         "text": [
          "373125.57",
          "3112987.27"
         ],
         "textposition": "outside",
         "texttemplate": "%{text:.2s}",
         "type": "bar",
         "x": [
          373125.57,
          3112987.27
         ],
         "xaxis": "x2",
         "y": [
          "DEBT",
          "EQUITY"
         ],
         "yaxis": "y2"
        },
        {
         "legendgroup": "2",
         "name": "Total STCG (₹)",
         "orientation": "h",
         "text": [
          "10171.88",
          "431770.75"
         ],
         "textposition": "outside",
         "texttemplate": "%{text:.2s}",
         "type": "bar",
         "x": [
          10171.88,
          431770.75
         ],
         "xaxis": "x2",
         "y": [
          "DEBT",
          "EQUITY"
         ],
         "yaxis": "y2"
        },
        {
         "domain": {
          "x": [
           0,
           0.45
          ],
          "y": [
           0,
           0.375
          ]
         },
         "insidetextorientation": "radial",
         "labels": [
          "DEBT",
          "EQUITY"
         ],
         "legendgroup": "3",
         "showlegend": false,
         "textinfo": "label+percent",
         "type": "pie",
         "values": [
          1950168.47,
          11133851.71
         ]
        },
        {
         "legendgroup": "4",
         "name": "Gain Percent",
         "orientation": "h",
         "showlegend": false,
         "text": [
          "24.46",
          "56.83"
         ],
         "textposition": "outside",
         "texttemplate": "%{text:.2s}",
         "type": "bar",
         "x": [
          24.46,
          56.83
         ],
         "xaxis": "x3",
         "y": [
          "DEBT",
          "EQUITY"
         ],
         "yaxis": "y3"
        }
       ],
       "layout": {
        "annotations": [
         {
          "font": {
           "size": 16
          },
          "showarrow": false,
          "text": "Portfolio Amounts",
          "x": 0.225,
          "xanchor": "center",
          "xref": "paper",
          "y": 1,
          "yanchor": "bottom",
          "yref": "paper"
         },
         {
          "font": {
           "size": 16
          },
          "showarrow": false,
          "text": "Capital Gains (LTCG/STCG)",
          "x": 0.775,
          "xanchor": "center",
          "xref": "paper",
          "y": 1,
          "yanchor": "bottom",
          "yref": "paper"
         },
         {
          "font": {
           "size": 16
          },
          "showarrow": false,
          "text": " ",
          "x": 0.225,
          "xanchor": "center",
          "xref": "paper",
          "y": 0.375,
          "yanchor": "bottom",
          "yref": "paper"
         },
         {
          "font": {
           "size": 16
          },
          "showarrow": false,
          "text": "Gain % (Absolute)",
          "x": 0.775,
          "xanchor": "center",
          "xref": "paper",
          "y": 0.375,
          "yanchor": "bottom",
          "yref": "paper"
         }
        ],
        "height": 700,
        "legend": {
         "tracegroupgap": 50
        },
        "template": {
         "data": {
          "bar": [
           {
            "error_x": {
             "color": "#2a3f5f"
            },
            "error_y": {
             "color": "#2a3f5f"
            },
            "marker": {
             "line": {
              "color": "#E5ECF6",
              "width": 0.5
             },
             "pattern": {
              "fillmode": "overlay",
              "size": 10,
              "solidity": 0.2
             }
            },
            "type": "bar"
           }
          ],
          "barpolar": [
           {
            "marker": {
             "line": {
              "color": "#E5ECF6",
              "width": 0.5
             },
             "pattern": {
              "fillmode": "overlay",
              "size": 10,
              "solidity": 0.2
             }
            },
            "type": "barpolar"
           }
          ],
          "carpet": [
           {
            "aaxis": {
             "endlinecolor": "#2a3f5f",
             "gridcolor": "white",
             "linecolor": "white",
             "minorgridcolor": "white",
             "startlinecolor": "#2a3f5f"
            },
            "baxis": {
             "endlinecolor": "#2a3f5f",
             "gridcolor": "white",
             "linecolor": "white",
             "minorgridcolor": "white",
             "startlinecolor": "#2a3f5f"
            },
            "type": "carpet"
           }
          ],
          "choropleth": [
           {
            "colorbar": {
             "outlinewidth": 0,
             "ticks": ""
            },
            "type": "choropleth"
           }
          ],
          "contour": [
           {
            "colorbar": {
             "outlinewidth": 0,
             "ticks": ""
            },
            "colorscale": [
             [
              0,
              "#0d0887"
             ],
             [
              0.1111111111111111,
              "#46039f"
             ],
             [
              0.2222222222222222,
              "#7201a8"
             ],
             [
              0.3333333333333333,
              "#9c179e"
             ],
             [
              0.4444444444444444,
              "#bd3786"
             ],
             [
              0.5555555555555556,
              "#d8576b"
             ],
             [
              0.6666666666666666,
              "#ed7953"
             ],
             [
              0.7777777777777778,
              "#fb9f3a"
             ],
             [
              0.8888888888888888,
              "#fdca26"
             ],
             [
              1,
              "#f0f921"
             ]
            ],
            "type": "contour"
           }
          ],
          "contourcarpet": [
           {
            "colorbar": {
             "outlinewidth": 0,
             "ticks": ""
            },
            "type": "contourcarpet"
           }
          ],
          "heatmap": [
           {
            "colorbar": {
             "outlinewidth": 0,
             "ticks": ""
            },
            "colorscale": [
             [
              0,
              "#0d0887"
             ],
             [
              0.1111111111111111,
              "#46039f"
             ],
             [
              0.2222222222222222,
              "#7201a8"
             ],
             [
              0.3333333333333333,
              "#9c179e"
             ],
             [
              0.4444444444444444,
              "#bd3786"
             ],
             [
              0.5555555555555556,
              "#d8576b"
             ],
             [
              0.6666666666666666,
              "#ed7953"
             ],
             [
              0.7777777777777778,
              "#fb9f3a"
             ],
             [
              0.8888888888888888,
              "#fdca26"
             ],
             [
              1,
              "#f0f921"
             ]
            ],
            "type": "heatmap"
           }
          ],
          "heatmapgl": [
           {
            "colorbar": {
             "outlinewidth": 0,
             "ticks": ""
            },
            "colorscale": [
             [
              0,
              "#0d0887"
             ],
             [
              0.1111111111111111,
              "#46039f"
             ],
             [
              0.2222222222222222,
              "#7201a8"
             ],
             [
              0.3333333333333333,
              "#9c179e"
             ],
             [
              0.4444444444444444,
              "#bd3786"
             ],
             [
              0.5555555555555556,
              "#d8576b"
             ],
             [
              0.6666666666666666,
              "#ed7953"
             ],
             [
              0.7777777777777778,
              "#fb9f3a"
             ],
             [
              0.8888888888888888,
              "#fdca26"
             ],
             [
              1,
              "#f0f921"
             ]
            ],
            "type": "heatmapgl"
           }
          ],
          "histogram": [
           {
            "marker": {
             "pattern": {
              "fillmode": "overlay",
              "size": 10,
              "solidity": 0.2
             }
            },
            "type": "histogram"
           }
          ],
          "histogram2d": [
           {
            "colorbar": {
             "outlinewidth": 0,
             "ticks": ""
            },
            "colorscale": [
             [
              0,
              "#0d0887"
             ],
             [
              0.1111111111111111,
              "#46039f"
             ],
             [
              0.2222222222222222,
              "#7201a8"
             ],
             [
              0.3333333333333333,
              "#9c179e"
             ],
             [
              0.4444444444444444,
              "#bd3786"
             ],
             [
              0.5555555555555556,
              "#d8576b"
             ],
             [
              0.6666666666666666,
              "#ed7953"
             ],
             [
              0.7777777777777778,
              "#fb9f3a"
             ],
             [
              0.8888888888888888,
              "#fdca26"
             ],
             [
              1,
              "#f0f921"
             ]
            ],
            "type": "histogram2d"
           }
          ],
          "histogram2dcontour": [
           {
            "colorbar": {
             "outlinewidth": 0,
             "ticks": ""
            },
            "colorscale": [
             [
              0,
              "#0d0887"
             ],
             [
              0.1111111111111111,
              "#46039f"
             ],
             [
              0.2222222222222222,
              "#7201a8"
             ],
             [
              0.3333333333333333,
              "#9c179e"
             ],
             [
              0.4444444444444444,
              "#bd3786"
             ],
             [
              0.5555555555555556,
              "#d8576b"
             ],
             [
              0.6666666666666666,
              "#ed7953"
             ],
             [
              0.7777777777777778,
              "#fb9f3a"
             ],
             [
              0.8888888888888888,
              "#fdca26"
             ],
             [
              1,
              "#f0f921"
             ]
            ],
            "type": "histogram2dcontour"
           }
          ],
          "mesh3d": [
           {
            "colorbar": {
             "outlinewidth": 0,
             "ticks": ""
            },
            "type": "mesh3d"
           }
          ],
          "parcoords": [
           {
            "line": {
             "colorbar": {
              "outlinewidth": 0,
              "ticks": ""
             }
            },
            "type": "parcoords"
           }
          ],
          "pie": [
           {
            "automargin": true,
            "type": "pie"
           }
          ],
          "scatter": [
           {
            "marker": {
             "colorbar": {
              "outlinewidth": 0,
              "ticks": ""
             }
            },
            "type": "scatter"
           }
          ],
          "scatter3d": [
           {
            "line": {
             "colorbar": {
              "outlinewidth": 0,
              "ticks": ""
             }
            },
            "marker": {
             "colorbar": {
              "outlinewidth": 0,
              "ticks": ""
             }
            },
            "type": "scatter3d"
           }
          ],
          "scattercarpet": [
           {
            "marker": {
             "colorbar": {
              "outlinewidth": 0,
              "ticks": ""
             }
            },
            "type": "scattercarpet"
           }
          ],
          "scattergeo": [
           {
            "marker": {
             "colorbar": {
              "outlinewidth": 0,
              "ticks": ""
             }
            },
            "type": "scattergeo"
           }
          ],
          "scattergl": [
           {
            "marker": {
             "colorbar": {
              "outlinewidth": 0,
              "ticks": ""
             }
            },
            "type": "scattergl"
           }
          ],
          "scattermapbox": [
           {
            "marker": {
             "colorbar": {
              "outlinewidth": 0,
              "ticks": ""
             }
            },
            "type": "scattermapbox"
           }
          ],
          "scatterpolar": [
           {
            "marker": {
             "colorbar": {
              "outlinewidth": 0,
              "ticks": ""
             }
            },
            "type": "scatterpolar"
           }
          ],
          "scatterpolargl": [
           {
            "marker": {
             "colorbar": {
              "outlinewidth": 0,
              "ticks": ""
             }
            },
            "type": "scatterpolargl"
           }
          ],
          "scatterternary": [
           {
            "marker": {
             "colorbar": {
              "outlinewidth": 0,
              "ticks": ""
             }
            },
            "type": "scatterternary"
           }
          ],
          "surface": [
           {
            "colorbar": {
             "outlinewidth": 0,
             "ticks": ""
            },
            "colorscale": [
             [
              0,
              "#0d0887"
             ],
             [
              0.1111111111111111,
              "#46039f"
             ],
             [
              0.2222222222222222,
              "#7201a8"
             ],
             [
              0.3333333333333333,
              "#9c179e"
             ],
             [
              0.4444444444444444,
              "#bd3786"
             ],
             [
              0.5555555555555556,
              "#d8576b"
             ],
             [
              0.6666666666666666,
              "#ed7953"
             ],
             [
              0.7777777777777778,
              "#fb9f3a"
             ],
             [
              0.8888888888888888,
              "#fdca26"
             ],
             [
              1,
              "#f0f921"
             ]
            ],
            "type": "surface"
           }
          ],
          "table": [
           {
            "cells": {
             "fill": {
              "color": "#EBF0F8"
             },
             "line": {
              "color": "white"
             }
            },
            "header": {
             "fill": {
              "color": "#C8D4E3"
             },
             "line": {
              "color": "white"
             }
            },
            "type": "table"
           }
          ]
         },
         "layout": {
          "annotationdefaults": {
           "arrowcolor": "#2a3f5f",
           "arrowhead": 0,
           "arrowwidth": 1
          },
          "autotypenumbers": "strict",
          "coloraxis": {
           "colorbar": {
            "outlinewidth": 0,
            "ticks": ""
           }
          },
          "colorscale": {
           "diverging": [
            [
             0,
             "#8e0152"
            ],
            [
             0.1,
             "#c51b7d"
            ],
            [
             0.2,
             "#de77ae"
            ],
            [
             0.3,
             "#f1b6da"
            ],
            [
             0.4,
             "#fde0ef"
            ],
            [
             0.5,
             "#f7f7f7"
            ],
            [
             0.6,
             "#e6f5d0"
            ],
            [
             0.7,
             "#b8e186"
            ],
            [
             0.8,
             "#7fbc41"
            ],
            [
             0.9,
             "#4d9221"
            ],
            [
             1,
             "#276419"
            ]
           ],
           "sequential": [
            [
             0,
             "#0d0887"
            ],
            [
             0.1111111111111111,
             "#46039f"
            ],
            [
             0.2222222222222222,
             "#7201a8"
            ],
            [
             0.3333333333333333,
             "#9c179e"
            ],
            [
             0.4444444444444444,
             "#bd3786"
            ],
            [
             0.5555555555555556,
             "#d8576b"
            ],
            [
             0.6666666666666666,
             "#ed7953"
            ],
            [
             0.7777777777777778,
             "#fb9f3a"
            ],
            [
             0.8888888888888888,
             "#fdca26"
            ],
            [
             1,
             "#f0f921"
            ]
           ],
           "sequentialminus": [
            [
             0,
             "#0d0887"
            ],
            [
             0.1111111111111111,
             "#46039f"
            ],
            [
             0.2222222222222222,
             "#7201a8"
            ],
            [
             0.3333333333333333,
             "#9c179e"
            ],
            [
             0.4444444444444444,
             "#bd3786"
            ],
            [
             0.5555555555555556,
             "#d8576b"
            ],
            [
             0.6666666666666666,
             "#ed7953"
            ],
            [
             0.7777777777777778,
             "#fb9f3a"
            ],
            [
             0.8888888888888888,
             "#fdca26"
            ],
            [
             1,
             "#f0f921"
            ]
           ]
          },
          "colorway": [
           "#636efa",
           "#EF553B",
           "#00cc96",
           "#ab63fa",
           "#FFA15A",
           "#19d3f3",
           "#FF6692",
           "#B6E880",
           "#FF97FF",
           "#FECB52"
          ],
          "font": {
           "color": "#2a3f5f"
          },
          "geo": {
           "bgcolor": "white",
           "lakecolor": "white",
           "landcolor": "#E5ECF6",
           "showlakes": true,
           "showland": true,
           "subunitcolor": "white"
          },
          "hoverlabel": {
           "align": "left"
          },
          "hovermode": "closest",
          "mapbox": {
           "style": "light"
          },
          "paper_bgcolor": "white",
          "plot_bgcolor": "#E5ECF6",
          "polar": {
           "angularaxis": {
            "gridcolor": "white",
            "linecolor": "white",
            "ticks": ""
           },
           "bgcolor": "#E5ECF6",
           "radialaxis": {
            "gridcolor": "white",
            "linecolor": "white",
            "ticks": ""
           }
          },
          "scene": {
           "xaxis": {
            "backgroundcolor": "#E5ECF6",
            "gridcolor": "white",
            "gridwidth": 2,
            "linecolor": "white",
            "showbackground": true,
            "ticks": "",
            "zerolinecolor": "white"
           },
           "yaxis": {
            "backgroundcolor": "#E5ECF6",
            "gridcolor": "white",
            "gridwidth": 2,
            "linecolor": "white",
            "showbackground": true,
            "ticks": "",
            "zerolinecolor": "white"
           },
           "zaxis": {
            "backgroundcolor": "#E5ECF6",
            "gridcolor": "white",
            "gridwidth": 2,
            "linecolor": "white",
            "showbackground": true,
            "ticks": "",
            "zerolinecolor": "white"
           }
          },
          "shapedefaults": {
           "line": {
            "color": "#2a3f5f"
           }
          },
          "ternary": {
           "aaxis": {
            "gridcolor": "white",
            "linecolor": "white",
            "ticks": ""
           },
           "baxis": {
            "gridcolor": "white",
            "linecolor": "white",
            "ticks": ""
           },
           "bgcolor": "#E5ECF6",
           "caxis": {
            "gridcolor": "white",
            "linecolor": "white",
            "ticks": ""
           }
          },
          "title": {
           "x": 0.05
          },
          "xaxis": {
           "automargin": true,
           "gridcolor": "white",
           "linecolor": "white",
           "ticks": "",
           "title": {
            "standoff": 15
           },
           "zerolinecolor": "white",
           "zerolinewidth": 2
          },
          "yaxis": {
           "automargin": true,
           "gridcolor": "white",
           "linecolor": "white",
           "ticks": "",
           "title": {
            "standoff": 15
           },
           "zerolinecolor": "white",
           "zerolinewidth": 2
          }
         }
        },
        "xaxis": {
         "anchor": "y",
         "domain": [
          0,
          0.45
         ]
        },
        "xaxis2": {
         "anchor": "y2",
         "domain": [
          0.55,
          1
         ]
        },
        "xaxis3": {
         "anchor": "y3",
         "domain": [
          0.55,
          1
         ]
        },
        "yaxis": {
         "anchor": "x",
         "domain": [
          0.625,
          1
         ]
        },
        "yaxis2": {
         "anchor": "x2",
         "domain": [
          0.625,
          1
         ]
        },
        "yaxis3": {
         "anchor": "x3",
         "domain": [
          0,
          0.375
         ]
        }
       }
      }
     },
     "metadata": {},
     "output_type": "display_data"
    }
   ],
   "source": [
    "from src.mfdisplay import display_equity_vs_debt\n",
    "display_equity_vs_debt(mf_totals_grp)"
   ]
  },
  {
   "cell_type": "markdown",
   "metadata": {},
   "source": [
    "## Plot Mutual Funds Scheme Amounts"
   ]
  },
  {
   "cell_type": "code",
   "execution_count": 12,
   "metadata": {},
   "outputs": [
    {
     "data": {
      "application/vnd.plotly.v1+json": {
       "config": {
        "plotlyServerURL": "https://plot.ly"
       },
       "data": [
        {
         "name": "Current Amount (₹)",
         "text": [
          "1603208.7600000002",
          "1584854.5799999998",
          "1436151.72",
          "1431700.85",
          "1164452.99",
          "1128492.8399999999",
          "962743.1500000001",
          "906634.61",
          "893394.31",
          "748198.1",
          "419348.13999999996",
          "403890.55",
          "228467.01",
          "78451.56",
          "51085.8",
          "42945.21"
         ],
         "textposition": "outside",
         "texttemplate": "%{text:.2s}",
         "type": "bar",
         "x": [
          "ICICI Prudential Value Discovery",
          "Franklin India Flexi Cap",
          "DSP Small Cap",
          "Mirae Asset Large Cap",
          "Mirae Asset Emerging Bluechip",
          "Franklin India Smaller Companies",
          "ICICI Prudential Banking and PSU Debt",
          "HDFC Top 100",
          "ICICI Prudential All Seasons Bond",
          "ICICI Prudential US Bluechip Equity",
          "ICICI Prudential Nifty Next 50 Index",
          "Parag Parikh Flexi Cap",
          "ICICI Prudential Long Term Equity",
          "Mirae Asset Tax Saver",
          "Franklin India Ultra Short Bond",
          "Franklin India Low Duration"
         ],
         "y": [
          1603208.7600000002,
          1584854.5799999998,
          1436151.72,
          1431700.85,
          1164452.99,
          1128492.8399999999,
          962743.1500000001,
          906634.61,
          893394.31,
          748198.1,
          419348.13999999996,
          403890.55,
          228467.01,
          78451.56,
          51085.8,
          42945.21
         ]
        },
        {
         "name": "Invested Amount (₹)",
         "text": [
          "1014977.1600000001",
          "920001.4400000002",
          "759989.98",
          "899999.98",
          "724983.7600000001",
          "696999.96",
          "799975.0",
          "569833.2099999998",
          "699980.02",
          "624968.77",
          "277741.26",
          "399980.01",
          "150000.22999999998",
          "59996.99",
          "33847.65",
          "33068.34"
         ],
         "textposition": "outside",
         "texttemplate": "%{text:.2s}",
         "type": "bar",
         "x": [
          "ICICI Prudential Value Discovery",
          "Franklin India Flexi Cap",
          "DSP Small Cap",
          "Mirae Asset Large Cap",
          "Mirae Asset Emerging Bluechip",
          "Franklin India Smaller Companies",
          "ICICI Prudential Banking and PSU Debt",
          "HDFC Top 100",
          "ICICI Prudential All Seasons Bond",
          "ICICI Prudential US Bluechip Equity",
          "ICICI Prudential Nifty Next 50 Index",
          "Parag Parikh Flexi Cap",
          "ICICI Prudential Long Term Equity",
          "Mirae Asset Tax Saver",
          "Franklin India Ultra Short Bond",
          "Franklin India Low Duration"
         ],
         "y": [
          1014977.1600000001,
          920001.4400000002,
          759989.98,
          899999.98,
          724983.7600000001,
          696999.96,
          799975,
          569833.2099999998,
          699980.02,
          624968.77,
          277741.26,
          399980.01,
          150000.22999999998,
          59996.99,
          33847.65,
          33068.34
         ]
        },
        {
         "name": "Gain/Loss (₹)",
         "text": [
          "588231.6000000001",
          "664853.1399999997",
          "676161.74",
          "531700.8700000001",
          "439469.22999999986",
          "431492.8799999999",
          "162768.15000000014",
          "336801.40000000014",
          "193414.29000000004",
          "123229.32999999996",
          "141606.87999999995",
          "3910.539999999979",
          "78466.78000000003",
          "18454.57",
          "17238.15",
          "9876.870000000003"
         ],
         "textposition": "outside",
         "texttemplate": "%{text:.2s}",
         "type": "bar",
         "x": [
          "ICICI Prudential Value Discovery",
          "Franklin India Flexi Cap",
          "DSP Small Cap",
          "Mirae Asset Large Cap",
          "Mirae Asset Emerging Bluechip",
          "Franklin India Smaller Companies",
          "ICICI Prudential Banking and PSU Debt",
          "HDFC Top 100",
          "ICICI Prudential All Seasons Bond",
          "ICICI Prudential US Bluechip Equity",
          "ICICI Prudential Nifty Next 50 Index",
          "Parag Parikh Flexi Cap",
          "ICICI Prudential Long Term Equity",
          "Mirae Asset Tax Saver",
          "Franklin India Ultra Short Bond",
          "Franklin India Low Duration"
         ],
         "y": [
          588231.6000000001,
          664853.1399999997,
          676161.74,
          531700.8700000001,
          439469.22999999986,
          431492.8799999999,
          162768.15000000014,
          336801.40000000014,
          193414.29000000004,
          123229.32999999996,
          141606.87999999995,
          3910.539999999979,
          78466.78000000003,
          18454.57,
          17238.15,
          9876.870000000003
         ]
        }
       ],
       "layout": {
        "barmode": "group",
        "height": 600,
        "template": {
         "data": {
          "bar": [
           {
            "error_x": {
             "color": "#2a3f5f"
            },
            "error_y": {
             "color": "#2a3f5f"
            },
            "marker": {
             "line": {
              "color": "#E5ECF6",
              "width": 0.5
             },
             "pattern": {
              "fillmode": "overlay",
              "size": 10,
              "solidity": 0.2
             }
            },
            "type": "bar"
           }
          ],
          "barpolar": [
           {
            "marker": {
             "line": {
              "color": "#E5ECF6",
              "width": 0.5
             },
             "pattern": {
              "fillmode": "overlay",
              "size": 10,
              "solidity": 0.2
             }
            },
            "type": "barpolar"
           }
          ],
          "carpet": [
           {
            "aaxis": {
             "endlinecolor": "#2a3f5f",
             "gridcolor": "white",
             "linecolor": "white",
             "minorgridcolor": "white",
             "startlinecolor": "#2a3f5f"
            },
            "baxis": {
             "endlinecolor": "#2a3f5f",
             "gridcolor": "white",
             "linecolor": "white",
             "minorgridcolor": "white",
             "startlinecolor": "#2a3f5f"
            },
            "type": "carpet"
           }
          ],
          "choropleth": [
           {
            "colorbar": {
             "outlinewidth": 0,
             "ticks": ""
            },
            "type": "choropleth"
           }
          ],
          "contour": [
           {
            "colorbar": {
             "outlinewidth": 0,
             "ticks": ""
            },
            "colorscale": [
             [
              0,
              "#0d0887"
             ],
             [
              0.1111111111111111,
              "#46039f"
             ],
             [
              0.2222222222222222,
              "#7201a8"
             ],
             [
              0.3333333333333333,
              "#9c179e"
             ],
             [
              0.4444444444444444,
              "#bd3786"
             ],
             [
              0.5555555555555556,
              "#d8576b"
             ],
             [
              0.6666666666666666,
              "#ed7953"
             ],
             [
              0.7777777777777778,
              "#fb9f3a"
             ],
             [
              0.8888888888888888,
              "#fdca26"
             ],
             [
              1,
              "#f0f921"
             ]
            ],
            "type": "contour"
           }
          ],
          "contourcarpet": [
           {
            "colorbar": {
             "outlinewidth": 0,
             "ticks": ""
            },
            "type": "contourcarpet"
           }
          ],
          "heatmap": [
           {
            "colorbar": {
             "outlinewidth": 0,
             "ticks": ""
            },
            "colorscale": [
             [
              0,
              "#0d0887"
             ],
             [
              0.1111111111111111,
              "#46039f"
             ],
             [
              0.2222222222222222,
              "#7201a8"
             ],
             [
              0.3333333333333333,
              "#9c179e"
             ],
             [
              0.4444444444444444,
              "#bd3786"
             ],
             [
              0.5555555555555556,
              "#d8576b"
             ],
             [
              0.6666666666666666,
              "#ed7953"
             ],
             [
              0.7777777777777778,
              "#fb9f3a"
             ],
             [
              0.8888888888888888,
              "#fdca26"
             ],
             [
              1,
              "#f0f921"
             ]
            ],
            "type": "heatmap"
           }
          ],
          "heatmapgl": [
           {
            "colorbar": {
             "outlinewidth": 0,
             "ticks": ""
            },
            "colorscale": [
             [
              0,
              "#0d0887"
             ],
             [
              0.1111111111111111,
              "#46039f"
             ],
             [
              0.2222222222222222,
              "#7201a8"
             ],
             [
              0.3333333333333333,
              "#9c179e"
             ],
             [
              0.4444444444444444,
              "#bd3786"
             ],
             [
              0.5555555555555556,
              "#d8576b"
             ],
             [
              0.6666666666666666,
              "#ed7953"
             ],
             [
              0.7777777777777778,
              "#fb9f3a"
             ],
             [
              0.8888888888888888,
              "#fdca26"
             ],
             [
              1,
              "#f0f921"
             ]
            ],
            "type": "heatmapgl"
           }
          ],
          "histogram": [
           {
            "marker": {
             "pattern": {
              "fillmode": "overlay",
              "size": 10,
              "solidity": 0.2
             }
            },
            "type": "histogram"
           }
          ],
          "histogram2d": [
           {
            "colorbar": {
             "outlinewidth": 0,
             "ticks": ""
            },
            "colorscale": [
             [
              0,
              "#0d0887"
             ],
             [
              0.1111111111111111,
              "#46039f"
             ],
             [
              0.2222222222222222,
              "#7201a8"
             ],
             [
              0.3333333333333333,
              "#9c179e"
             ],
             [
              0.4444444444444444,
              "#bd3786"
             ],
             [
              0.5555555555555556,
              "#d8576b"
             ],
             [
              0.6666666666666666,
              "#ed7953"
             ],
             [
              0.7777777777777778,
              "#fb9f3a"
             ],
             [
              0.8888888888888888,
              "#fdca26"
             ],
             [
              1,
              "#f0f921"
             ]
            ],
            "type": "histogram2d"
           }
          ],
          "histogram2dcontour": [
           {
            "colorbar": {
             "outlinewidth": 0,
             "ticks": ""
            },
            "colorscale": [
             [
              0,
              "#0d0887"
             ],
             [
              0.1111111111111111,
              "#46039f"
             ],
             [
              0.2222222222222222,
              "#7201a8"
             ],
             [
              0.3333333333333333,
              "#9c179e"
             ],
             [
              0.4444444444444444,
              "#bd3786"
             ],
             [
              0.5555555555555556,
              "#d8576b"
             ],
             [
              0.6666666666666666,
              "#ed7953"
             ],
             [
              0.7777777777777778,
              "#fb9f3a"
             ],
             [
              0.8888888888888888,
              "#fdca26"
             ],
             [
              1,
              "#f0f921"
             ]
            ],
            "type": "histogram2dcontour"
           }
          ],
          "mesh3d": [
           {
            "colorbar": {
             "outlinewidth": 0,
             "ticks": ""
            },
            "type": "mesh3d"
           }
          ],
          "parcoords": [
           {
            "line": {
             "colorbar": {
              "outlinewidth": 0,
              "ticks": ""
             }
            },
            "type": "parcoords"
           }
          ],
          "pie": [
           {
            "automargin": true,
            "type": "pie"
           }
          ],
          "scatter": [
           {
            "marker": {
             "colorbar": {
              "outlinewidth": 0,
              "ticks": ""
             }
            },
            "type": "scatter"
           }
          ],
          "scatter3d": [
           {
            "line": {
             "colorbar": {
              "outlinewidth": 0,
              "ticks": ""
             }
            },
            "marker": {
             "colorbar": {
              "outlinewidth": 0,
              "ticks": ""
             }
            },
            "type": "scatter3d"
           }
          ],
          "scattercarpet": [
           {
            "marker": {
             "colorbar": {
              "outlinewidth": 0,
              "ticks": ""
             }
            },
            "type": "scattercarpet"
           }
          ],
          "scattergeo": [
           {
            "marker": {
             "colorbar": {
              "outlinewidth": 0,
              "ticks": ""
             }
            },
            "type": "scattergeo"
           }
          ],
          "scattergl": [
           {
            "marker": {
             "colorbar": {
              "outlinewidth": 0,
              "ticks": ""
             }
            },
            "type": "scattergl"
           }
          ],
          "scattermapbox": [
           {
            "marker": {
             "colorbar": {
              "outlinewidth": 0,
              "ticks": ""
             }
            },
            "type": "scattermapbox"
           }
          ],
          "scatterpolar": [
           {
            "marker": {
             "colorbar": {
              "outlinewidth": 0,
              "ticks": ""
             }
            },
            "type": "scatterpolar"
           }
          ],
          "scatterpolargl": [
           {
            "marker": {
             "colorbar": {
              "outlinewidth": 0,
              "ticks": ""
             }
            },
            "type": "scatterpolargl"
           }
          ],
          "scatterternary": [
           {
            "marker": {
             "colorbar": {
              "outlinewidth": 0,
              "ticks": ""
             }
            },
            "type": "scatterternary"
           }
          ],
          "surface": [
           {
            "colorbar": {
             "outlinewidth": 0,
             "ticks": ""
            },
            "colorscale": [
             [
              0,
              "#0d0887"
             ],
             [
              0.1111111111111111,
              "#46039f"
             ],
             [
              0.2222222222222222,
              "#7201a8"
             ],
             [
              0.3333333333333333,
              "#9c179e"
             ],
             [
              0.4444444444444444,
              "#bd3786"
             ],
             [
              0.5555555555555556,
              "#d8576b"
             ],
             [
              0.6666666666666666,
              "#ed7953"
             ],
             [
              0.7777777777777778,
              "#fb9f3a"
             ],
             [
              0.8888888888888888,
              "#fdca26"
             ],
             [
              1,
              "#f0f921"
             ]
            ],
            "type": "surface"
           }
          ],
          "table": [
           {
            "cells": {
             "fill": {
              "color": "#EBF0F8"
             },
             "line": {
              "color": "white"
             }
            },
            "header": {
             "fill": {
              "color": "#C8D4E3"
             },
             "line": {
              "color": "white"
             }
            },
            "type": "table"
           }
          ]
         },
         "layout": {
          "annotationdefaults": {
           "arrowcolor": "#2a3f5f",
           "arrowhead": 0,
           "arrowwidth": 1
          },
          "autotypenumbers": "strict",
          "coloraxis": {
           "colorbar": {
            "outlinewidth": 0,
            "ticks": ""
           }
          },
          "colorscale": {
           "diverging": [
            [
             0,
             "#8e0152"
            ],
            [
             0.1,
             "#c51b7d"
            ],
            [
             0.2,
             "#de77ae"
            ],
            [
             0.3,
             "#f1b6da"
            ],
            [
             0.4,
             "#fde0ef"
            ],
            [
             0.5,
             "#f7f7f7"
            ],
            [
             0.6,
             "#e6f5d0"
            ],
            [
             0.7,
             "#b8e186"
            ],
            [
             0.8,
             "#7fbc41"
            ],
            [
             0.9,
             "#4d9221"
            ],
            [
             1,
             "#276419"
            ]
           ],
           "sequential": [
            [
             0,
             "#0d0887"
            ],
            [
             0.1111111111111111,
             "#46039f"
            ],
            [
             0.2222222222222222,
             "#7201a8"
            ],
            [
             0.3333333333333333,
             "#9c179e"
            ],
            [
             0.4444444444444444,
             "#bd3786"
            ],
            [
             0.5555555555555556,
             "#d8576b"
            ],
            [
             0.6666666666666666,
             "#ed7953"
            ],
            [
             0.7777777777777778,
             "#fb9f3a"
            ],
            [
             0.8888888888888888,
             "#fdca26"
            ],
            [
             1,
             "#f0f921"
            ]
           ],
           "sequentialminus": [
            [
             0,
             "#0d0887"
            ],
            [
             0.1111111111111111,
             "#46039f"
            ],
            [
             0.2222222222222222,
             "#7201a8"
            ],
            [
             0.3333333333333333,
             "#9c179e"
            ],
            [
             0.4444444444444444,
             "#bd3786"
            ],
            [
             0.5555555555555556,
             "#d8576b"
            ],
            [
             0.6666666666666666,
             "#ed7953"
            ],
            [
             0.7777777777777778,
             "#fb9f3a"
            ],
            [
             0.8888888888888888,
             "#fdca26"
            ],
            [
             1,
             "#f0f921"
            ]
           ]
          },
          "colorway": [
           "#636efa",
           "#EF553B",
           "#00cc96",
           "#ab63fa",
           "#FFA15A",
           "#19d3f3",
           "#FF6692",
           "#B6E880",
           "#FF97FF",
           "#FECB52"
          ],
          "font": {
           "color": "#2a3f5f"
          },
          "geo": {
           "bgcolor": "white",
           "lakecolor": "white",
           "landcolor": "#E5ECF6",
           "showlakes": true,
           "showland": true,
           "subunitcolor": "white"
          },
          "hoverlabel": {
           "align": "left"
          },
          "hovermode": "closest",
          "mapbox": {
           "style": "light"
          },
          "paper_bgcolor": "white",
          "plot_bgcolor": "#E5ECF6",
          "polar": {
           "angularaxis": {
            "gridcolor": "white",
            "linecolor": "white",
            "ticks": ""
           },
           "bgcolor": "#E5ECF6",
           "radialaxis": {
            "gridcolor": "white",
            "linecolor": "white",
            "ticks": ""
           }
          },
          "scene": {
           "xaxis": {
            "backgroundcolor": "#E5ECF6",
            "gridcolor": "white",
            "gridwidth": 2,
            "linecolor": "white",
            "showbackground": true,
            "ticks": "",
            "zerolinecolor": "white"
           },
           "yaxis": {
            "backgroundcolor": "#E5ECF6",
            "gridcolor": "white",
            "gridwidth": 2,
            "linecolor": "white",
            "showbackground": true,
            "ticks": "",
            "zerolinecolor": "white"
           },
           "zaxis": {
            "backgroundcolor": "#E5ECF6",
            "gridcolor": "white",
            "gridwidth": 2,
            "linecolor": "white",
            "showbackground": true,
            "ticks": "",
            "zerolinecolor": "white"
           }
          },
          "shapedefaults": {
           "line": {
            "color": "#2a3f5f"
           }
          },
          "ternary": {
           "aaxis": {
            "gridcolor": "white",
            "linecolor": "white",
            "ticks": ""
           },
           "baxis": {
            "gridcolor": "white",
            "linecolor": "white",
            "ticks": ""
           },
           "bgcolor": "#E5ECF6",
           "caxis": {
            "gridcolor": "white",
            "linecolor": "white",
            "ticks": ""
           }
          },
          "title": {
           "x": 0.05
          },
          "xaxis": {
           "automargin": true,
           "gridcolor": "white",
           "linecolor": "white",
           "ticks": "",
           "title": {
            "standoff": 15
           },
           "zerolinecolor": "white",
           "zerolinewidth": 2
          },
          "yaxis": {
           "automargin": true,
           "gridcolor": "white",
           "linecolor": "white",
           "ticks": "",
           "title": {
            "standoff": 15
           },
           "zerolinecolor": "white",
           "zerolinewidth": 2
          }
         }
        },
        "title": {
         "text": "Mutual Funds Scheme Valuation"
        }
       }
      }
     },
     "metadata": {},
     "output_type": "display_data"
    }
   ],
   "source": [
    "from src.mfdisplay import display_mf_scheme_amounts\n",
    "\n",
    "\n",
    "display_mf_scheme_amounts(cg.mf_hdr_df)                 "
   ]
  },
  {
   "cell_type": "markdown",
   "metadata": {},
   "source": [
    "## Plot Unrealised LTCG and STCG"
   ]
  },
  {
   "cell_type": "code",
   "execution_count": 13,
   "metadata": {},
   "outputs": [
    {
     "data": {
      "application/vnd.plotly.v1+json": {
       "config": {
        "plotlyServerURL": "https://plot.ly"
       },
       "data": [
        {
         "name": "LTCG (₹)",
         "text": [
          "561259.5521287",
          "531700.865440",
          "408253.8913236",
          "407157.012936",
          "380445.78811",
          "349252.966349",
          "245964.1177490",
          "189045.3959842",
          "156965.1584062",
          "141606.8701766",
          "78466.79130",
          "17238.1452000",
          "9876.8749149",
          "8879.41829",
          "0",
          "0"
         ],
         "textposition": "outside",
         "texttemplate": "%{text:.2s}",
         "type": "bar",
         "x": [
          "Franklin India Flexi Cap",
          "Mirae Asset Large Cap",
          "Franklin India Smaller Companies",
          "DSP Small Cap",
          "ICICI Prudential Value Discovery",
          "Mirae Asset Emerging Bluechip",
          "HDFC Top 100",
          "ICICI Prudential All Seasons Bond",
          "ICICI Prudential Banking and PSU Debt",
          "ICICI Prudential Nifty Next 50 Index",
          "ICICI Prudential Long Term Equity",
          "Franklin India Ultra Short Bond",
          "Franklin India Low Duration",
          "ICICI Prudential US Bluechip Equity",
          "Mirae Asset Tax Saver",
          "Parag Parikh Flexi Cap"
         ],
         "y": [
          561259.5521287,
          531700.86544,
          408253.8913236,
          407157.012936,
          380445.78811,
          349252.966349,
          245964.117749,
          189045.3959842,
          156965.1584062,
          141606.8701766,
          78466.7913,
          17238.1452,
          9876.8749149,
          8879.41829,
          0,
          0
         ]
        },
        {
         "name": "STCG (₹)",
         "text": [
          "0",
          "0",
          "0",
          "90142.792000",
          "114696.65432",
          "90216.264726",
          "0",
          "4368.8940270",
          "5802.9898290",
          "0.0000",
          "0",
          "0.0000",
          "0.0000",
          "114349.93975",
          "18454.565136",
          "3910.5372846"
         ],
         "textposition": "outside",
         "texttemplate": "%{text:.2s}",
         "type": "bar",
         "x": [
          "Franklin India Flexi Cap",
          "Mirae Asset Large Cap",
          "Franklin India Smaller Companies",
          "DSP Small Cap",
          "ICICI Prudential Value Discovery",
          "Mirae Asset Emerging Bluechip",
          "HDFC Top 100",
          "ICICI Prudential All Seasons Bond",
          "ICICI Prudential Banking and PSU Debt",
          "ICICI Prudential Nifty Next 50 Index",
          "ICICI Prudential Long Term Equity",
          "Franklin India Ultra Short Bond",
          "Franklin India Low Duration",
          "ICICI Prudential US Bluechip Equity",
          "Mirae Asset Tax Saver",
          "Parag Parikh Flexi Cap"
         ],
         "y": [
          0,
          0,
          0,
          90142.792,
          114696.65432,
          90216.264726,
          0,
          4368.894027,
          5802.989829,
          0,
          0,
          0,
          0,
          114349.93975,
          18454.565136,
          3910.5372846
         ]
        }
       ],
       "layout": {
        "barmode": "group",
        "height": 600,
        "template": {
         "data": {
          "bar": [
           {
            "error_x": {
             "color": "#2a3f5f"
            },
            "error_y": {
             "color": "#2a3f5f"
            },
            "marker": {
             "line": {
              "color": "#E5ECF6",
              "width": 0.5
             },
             "pattern": {
              "fillmode": "overlay",
              "size": 10,
              "solidity": 0.2
             }
            },
            "type": "bar"
           }
          ],
          "barpolar": [
           {
            "marker": {
             "line": {
              "color": "#E5ECF6",
              "width": 0.5
             },
             "pattern": {
              "fillmode": "overlay",
              "size": 10,
              "solidity": 0.2
             }
            },
            "type": "barpolar"
           }
          ],
          "carpet": [
           {
            "aaxis": {
             "endlinecolor": "#2a3f5f",
             "gridcolor": "white",
             "linecolor": "white",
             "minorgridcolor": "white",
             "startlinecolor": "#2a3f5f"
            },
            "baxis": {
             "endlinecolor": "#2a3f5f",
             "gridcolor": "white",
             "linecolor": "white",
             "minorgridcolor": "white",
             "startlinecolor": "#2a3f5f"
            },
            "type": "carpet"
           }
          ],
          "choropleth": [
           {
            "colorbar": {
             "outlinewidth": 0,
             "ticks": ""
            },
            "type": "choropleth"
           }
          ],
          "contour": [
           {
            "colorbar": {
             "outlinewidth": 0,
             "ticks": ""
            },
            "colorscale": [
             [
              0,
              "#0d0887"
             ],
             [
              0.1111111111111111,
              "#46039f"
             ],
             [
              0.2222222222222222,
              "#7201a8"
             ],
             [
              0.3333333333333333,
              "#9c179e"
             ],
             [
              0.4444444444444444,
              "#bd3786"
             ],
             [
              0.5555555555555556,
              "#d8576b"
             ],
             [
              0.6666666666666666,
              "#ed7953"
             ],
             [
              0.7777777777777778,
              "#fb9f3a"
             ],
             [
              0.8888888888888888,
              "#fdca26"
             ],
             [
              1,
              "#f0f921"
             ]
            ],
            "type": "contour"
           }
          ],
          "contourcarpet": [
           {
            "colorbar": {
             "outlinewidth": 0,
             "ticks": ""
            },
            "type": "contourcarpet"
           }
          ],
          "heatmap": [
           {
            "colorbar": {
             "outlinewidth": 0,
             "ticks": ""
            },
            "colorscale": [
             [
              0,
              "#0d0887"
             ],
             [
              0.1111111111111111,
              "#46039f"
             ],
             [
              0.2222222222222222,
              "#7201a8"
             ],
             [
              0.3333333333333333,
              "#9c179e"
             ],
             [
              0.4444444444444444,
              "#bd3786"
             ],
             [
              0.5555555555555556,
              "#d8576b"
             ],
             [
              0.6666666666666666,
              "#ed7953"
             ],
             [
              0.7777777777777778,
              "#fb9f3a"
             ],
             [
              0.8888888888888888,
              "#fdca26"
             ],
             [
              1,
              "#f0f921"
             ]
            ],
            "type": "heatmap"
           }
          ],
          "heatmapgl": [
           {
            "colorbar": {
             "outlinewidth": 0,
             "ticks": ""
            },
            "colorscale": [
             [
              0,
              "#0d0887"
             ],
             [
              0.1111111111111111,
              "#46039f"
             ],
             [
              0.2222222222222222,
              "#7201a8"
             ],
             [
              0.3333333333333333,
              "#9c179e"
             ],
             [
              0.4444444444444444,
              "#bd3786"
             ],
             [
              0.5555555555555556,
              "#d8576b"
             ],
             [
              0.6666666666666666,
              "#ed7953"
             ],
             [
              0.7777777777777778,
              "#fb9f3a"
             ],
             [
              0.8888888888888888,
              "#fdca26"
             ],
             [
              1,
              "#f0f921"
             ]
            ],
            "type": "heatmapgl"
           }
          ],
          "histogram": [
           {
            "marker": {
             "pattern": {
              "fillmode": "overlay",
              "size": 10,
              "solidity": 0.2
             }
            },
            "type": "histogram"
           }
          ],
          "histogram2d": [
           {
            "colorbar": {
             "outlinewidth": 0,
             "ticks": ""
            },
            "colorscale": [
             [
              0,
              "#0d0887"
             ],
             [
              0.1111111111111111,
              "#46039f"
             ],
             [
              0.2222222222222222,
              "#7201a8"
             ],
             [
              0.3333333333333333,
              "#9c179e"
             ],
             [
              0.4444444444444444,
              "#bd3786"
             ],
             [
              0.5555555555555556,
              "#d8576b"
             ],
             [
              0.6666666666666666,
              "#ed7953"
             ],
             [
              0.7777777777777778,
              "#fb9f3a"
             ],
             [
              0.8888888888888888,
              "#fdca26"
             ],
             [
              1,
              "#f0f921"
             ]
            ],
            "type": "histogram2d"
           }
          ],
          "histogram2dcontour": [
           {
            "colorbar": {
             "outlinewidth": 0,
             "ticks": ""
            },
            "colorscale": [
             [
              0,
              "#0d0887"
             ],
             [
              0.1111111111111111,
              "#46039f"
             ],
             [
              0.2222222222222222,
              "#7201a8"
             ],
             [
              0.3333333333333333,
              "#9c179e"
             ],
             [
              0.4444444444444444,
              "#bd3786"
             ],
             [
              0.5555555555555556,
              "#d8576b"
             ],
             [
              0.6666666666666666,
              "#ed7953"
             ],
             [
              0.7777777777777778,
              "#fb9f3a"
             ],
             [
              0.8888888888888888,
              "#fdca26"
             ],
             [
              1,
              "#f0f921"
             ]
            ],
            "type": "histogram2dcontour"
           }
          ],
          "mesh3d": [
           {
            "colorbar": {
             "outlinewidth": 0,
             "ticks": ""
            },
            "type": "mesh3d"
           }
          ],
          "parcoords": [
           {
            "line": {
             "colorbar": {
              "outlinewidth": 0,
              "ticks": ""
             }
            },
            "type": "parcoords"
           }
          ],
          "pie": [
           {
            "automargin": true,
            "type": "pie"
           }
          ],
          "scatter": [
           {
            "marker": {
             "colorbar": {
              "outlinewidth": 0,
              "ticks": ""
             }
            },
            "type": "scatter"
           }
          ],
          "scatter3d": [
           {
            "line": {
             "colorbar": {
              "outlinewidth": 0,
              "ticks": ""
             }
            },
            "marker": {
             "colorbar": {
              "outlinewidth": 0,
              "ticks": ""
             }
            },
            "type": "scatter3d"
           }
          ],
          "scattercarpet": [
           {
            "marker": {
             "colorbar": {
              "outlinewidth": 0,
              "ticks": ""
             }
            },
            "type": "scattercarpet"
           }
          ],
          "scattergeo": [
           {
            "marker": {
             "colorbar": {
              "outlinewidth": 0,
              "ticks": ""
             }
            },
            "type": "scattergeo"
           }
          ],
          "scattergl": [
           {
            "marker": {
             "colorbar": {
              "outlinewidth": 0,
              "ticks": ""
             }
            },
            "type": "scattergl"
           }
          ],
          "scattermapbox": [
           {
            "marker": {
             "colorbar": {
              "outlinewidth": 0,
              "ticks": ""
             }
            },
            "type": "scattermapbox"
           }
          ],
          "scatterpolar": [
           {
            "marker": {
             "colorbar": {
              "outlinewidth": 0,
              "ticks": ""
             }
            },
            "type": "scatterpolar"
           }
          ],
          "scatterpolargl": [
           {
            "marker": {
             "colorbar": {
              "outlinewidth": 0,
              "ticks": ""
             }
            },
            "type": "scatterpolargl"
           }
          ],
          "scatterternary": [
           {
            "marker": {
             "colorbar": {
              "outlinewidth": 0,
              "ticks": ""
             }
            },
            "type": "scatterternary"
           }
          ],
          "surface": [
           {
            "colorbar": {
             "outlinewidth": 0,
             "ticks": ""
            },
            "colorscale": [
             [
              0,
              "#0d0887"
             ],
             [
              0.1111111111111111,
              "#46039f"
             ],
             [
              0.2222222222222222,
              "#7201a8"
             ],
             [
              0.3333333333333333,
              "#9c179e"
             ],
             [
              0.4444444444444444,
              "#bd3786"
             ],
             [
              0.5555555555555556,
              "#d8576b"
             ],
             [
              0.6666666666666666,
              "#ed7953"
             ],
             [
              0.7777777777777778,
              "#fb9f3a"
             ],
             [
              0.8888888888888888,
              "#fdca26"
             ],
             [
              1,
              "#f0f921"
             ]
            ],
            "type": "surface"
           }
          ],
          "table": [
           {
            "cells": {
             "fill": {
              "color": "#EBF0F8"
             },
             "line": {
              "color": "white"
             }
            },
            "header": {
             "fill": {
              "color": "#C8D4E3"
             },
             "line": {
              "color": "white"
             }
            },
            "type": "table"
           }
          ]
         },
         "layout": {
          "annotationdefaults": {
           "arrowcolor": "#2a3f5f",
           "arrowhead": 0,
           "arrowwidth": 1
          },
          "autotypenumbers": "strict",
          "coloraxis": {
           "colorbar": {
            "outlinewidth": 0,
            "ticks": ""
           }
          },
          "colorscale": {
           "diverging": [
            [
             0,
             "#8e0152"
            ],
            [
             0.1,
             "#c51b7d"
            ],
            [
             0.2,
             "#de77ae"
            ],
            [
             0.3,
             "#f1b6da"
            ],
            [
             0.4,
             "#fde0ef"
            ],
            [
             0.5,
             "#f7f7f7"
            ],
            [
             0.6,
             "#e6f5d0"
            ],
            [
             0.7,
             "#b8e186"
            ],
            [
             0.8,
             "#7fbc41"
            ],
            [
             0.9,
             "#4d9221"
            ],
            [
             1,
             "#276419"
            ]
           ],
           "sequential": [
            [
             0,
             "#0d0887"
            ],
            [
             0.1111111111111111,
             "#46039f"
            ],
            [
             0.2222222222222222,
             "#7201a8"
            ],
            [
             0.3333333333333333,
             "#9c179e"
            ],
            [
             0.4444444444444444,
             "#bd3786"
            ],
            [
             0.5555555555555556,
             "#d8576b"
            ],
            [
             0.6666666666666666,
             "#ed7953"
            ],
            [
             0.7777777777777778,
             "#fb9f3a"
            ],
            [
             0.8888888888888888,
             "#fdca26"
            ],
            [
             1,
             "#f0f921"
            ]
           ],
           "sequentialminus": [
            [
             0,
             "#0d0887"
            ],
            [
             0.1111111111111111,
             "#46039f"
            ],
            [
             0.2222222222222222,
             "#7201a8"
            ],
            [
             0.3333333333333333,
             "#9c179e"
            ],
            [
             0.4444444444444444,
             "#bd3786"
            ],
            [
             0.5555555555555556,
             "#d8576b"
            ],
            [
             0.6666666666666666,
             "#ed7953"
            ],
            [
             0.7777777777777778,
             "#fb9f3a"
            ],
            [
             0.8888888888888888,
             "#fdca26"
            ],
            [
             1,
             "#f0f921"
            ]
           ]
          },
          "colorway": [
           "#636efa",
           "#EF553B",
           "#00cc96",
           "#ab63fa",
           "#FFA15A",
           "#19d3f3",
           "#FF6692",
           "#B6E880",
           "#FF97FF",
           "#FECB52"
          ],
          "font": {
           "color": "#2a3f5f"
          },
          "geo": {
           "bgcolor": "white",
           "lakecolor": "white",
           "landcolor": "#E5ECF6",
           "showlakes": true,
           "showland": true,
           "subunitcolor": "white"
          },
          "hoverlabel": {
           "align": "left"
          },
          "hovermode": "closest",
          "mapbox": {
           "style": "light"
          },
          "paper_bgcolor": "white",
          "plot_bgcolor": "#E5ECF6",
          "polar": {
           "angularaxis": {
            "gridcolor": "white",
            "linecolor": "white",
            "ticks": ""
           },
           "bgcolor": "#E5ECF6",
           "radialaxis": {
            "gridcolor": "white",
            "linecolor": "white",
            "ticks": ""
           }
          },
          "scene": {
           "xaxis": {
            "backgroundcolor": "#E5ECF6",
            "gridcolor": "white",
            "gridwidth": 2,
            "linecolor": "white",
            "showbackground": true,
            "ticks": "",
            "zerolinecolor": "white"
           },
           "yaxis": {
            "backgroundcolor": "#E5ECF6",
            "gridcolor": "white",
            "gridwidth": 2,
            "linecolor": "white",
            "showbackground": true,
            "ticks": "",
            "zerolinecolor": "white"
           },
           "zaxis": {
            "backgroundcolor": "#E5ECF6",
            "gridcolor": "white",
            "gridwidth": 2,
            "linecolor": "white",
            "showbackground": true,
            "ticks": "",
            "zerolinecolor": "white"
           }
          },
          "shapedefaults": {
           "line": {
            "color": "#2a3f5f"
           }
          },
          "ternary": {
           "aaxis": {
            "gridcolor": "white",
            "linecolor": "white",
            "ticks": ""
           },
           "baxis": {
            "gridcolor": "white",
            "linecolor": "white",
            "ticks": ""
           },
           "bgcolor": "#E5ECF6",
           "caxis": {
            "gridcolor": "white",
            "linecolor": "white",
            "ticks": ""
           }
          },
          "title": {
           "x": 0.05
          },
          "xaxis": {
           "automargin": true,
           "gridcolor": "white",
           "linecolor": "white",
           "ticks": "",
           "title": {
            "standoff": 15
           },
           "zerolinecolor": "white",
           "zerolinewidth": 2
          },
          "yaxis": {
           "automargin": true,
           "gridcolor": "white",
           "linecolor": "white",
           "ticks": "",
           "title": {
            "standoff": 15
           },
           "zerolinecolor": "white",
           "zerolinewidth": 2
          }
         }
        },
        "title": {
         "text": "Unrealised LTCG and STCG"
        }
       }
      }
     },
     "metadata": {},
     "output_type": "display_data"
    }
   ],
   "source": [
    "from src.mfdisplay import display_unrealised_ltcg_stcg\n",
    "display_unrealised_ltcg_stcg(cg.mf_hdr_df)               "
   ]
  },
  {
   "cell_type": "markdown",
   "metadata": {},
   "source": [
    "## Plot Mutual Funds Allocation by Scheme"
   ]
  },
  {
   "cell_type": "code",
   "execution_count": 14,
   "metadata": {},
   "outputs": [
    {
     "data": {
      "application/vnd.plotly.v1+json": {
       "config": {
        "plotlyServerURL": "https://plot.ly"
       },
       "data": [
        {
         "insidetextorientation": "radial",
         "labels": [
          "ICICI Prudential Value Discovery",
          "Franklin India Flexi Cap",
          "DSP Small Cap",
          "Mirae Asset Large Cap",
          "Mirae Asset Emerging Bluechip",
          "Franklin India Smaller Companies",
          "ICICI Prudential Banking and PSU Debt",
          "HDFC Top 100",
          "ICICI Prudential All Seasons Bond",
          "ICICI Prudential US Bluechip Equity",
          "ICICI Prudential Nifty Next 50 Index",
          "Parag Parikh Flexi Cap",
          "ICICI Prudential Long Term Equity",
          "Mirae Asset Tax Saver",
          "Franklin India Ultra Short Bond",
          "Franklin India Low Duration"
         ],
         "textinfo": "label+percent",
         "type": "pie",
         "values": [
          1603208.7600000002,
          1584854.5799999998,
          1436151.72,
          1431700.85,
          1164452.99,
          1128492.8399999999,
          962743.1500000001,
          906634.61,
          893394.31,
          748198.1,
          419348.13999999996,
          403890.55,
          228467.01,
          78451.56,
          51085.8,
          42945.21
         ]
        }
       ],
       "layout": {
        "template": {
         "data": {
          "bar": [
           {
            "error_x": {
             "color": "#2a3f5f"
            },
            "error_y": {
             "color": "#2a3f5f"
            },
            "marker": {
             "line": {
              "color": "#E5ECF6",
              "width": 0.5
             },
             "pattern": {
              "fillmode": "overlay",
              "size": 10,
              "solidity": 0.2
             }
            },
            "type": "bar"
           }
          ],
          "barpolar": [
           {
            "marker": {
             "line": {
              "color": "#E5ECF6",
              "width": 0.5
             },
             "pattern": {
              "fillmode": "overlay",
              "size": 10,
              "solidity": 0.2
             }
            },
            "type": "barpolar"
           }
          ],
          "carpet": [
           {
            "aaxis": {
             "endlinecolor": "#2a3f5f",
             "gridcolor": "white",
             "linecolor": "white",
             "minorgridcolor": "white",
             "startlinecolor": "#2a3f5f"
            },
            "baxis": {
             "endlinecolor": "#2a3f5f",
             "gridcolor": "white",
             "linecolor": "white",
             "minorgridcolor": "white",
             "startlinecolor": "#2a3f5f"
            },
            "type": "carpet"
           }
          ],
          "choropleth": [
           {
            "colorbar": {
             "outlinewidth": 0,
             "ticks": ""
            },
            "type": "choropleth"
           }
          ],
          "contour": [
           {
            "colorbar": {
             "outlinewidth": 0,
             "ticks": ""
            },
            "colorscale": [
             [
              0,
              "#0d0887"
             ],
             [
              0.1111111111111111,
              "#46039f"
             ],
             [
              0.2222222222222222,
              "#7201a8"
             ],
             [
              0.3333333333333333,
              "#9c179e"
             ],
             [
              0.4444444444444444,
              "#bd3786"
             ],
             [
              0.5555555555555556,
              "#d8576b"
             ],
             [
              0.6666666666666666,
              "#ed7953"
             ],
             [
              0.7777777777777778,
              "#fb9f3a"
             ],
             [
              0.8888888888888888,
              "#fdca26"
             ],
             [
              1,
              "#f0f921"
             ]
            ],
            "type": "contour"
           }
          ],
          "contourcarpet": [
           {
            "colorbar": {
             "outlinewidth": 0,
             "ticks": ""
            },
            "type": "contourcarpet"
           }
          ],
          "heatmap": [
           {
            "colorbar": {
             "outlinewidth": 0,
             "ticks": ""
            },
            "colorscale": [
             [
              0,
              "#0d0887"
             ],
             [
              0.1111111111111111,
              "#46039f"
             ],
             [
              0.2222222222222222,
              "#7201a8"
             ],
             [
              0.3333333333333333,
              "#9c179e"
             ],
             [
              0.4444444444444444,
              "#bd3786"
             ],
             [
              0.5555555555555556,
              "#d8576b"
             ],
             [
              0.6666666666666666,
              "#ed7953"
             ],
             [
              0.7777777777777778,
              "#fb9f3a"
             ],
             [
              0.8888888888888888,
              "#fdca26"
             ],
             [
              1,
              "#f0f921"
             ]
            ],
            "type": "heatmap"
           }
          ],
          "heatmapgl": [
           {
            "colorbar": {
             "outlinewidth": 0,
             "ticks": ""
            },
            "colorscale": [
             [
              0,
              "#0d0887"
             ],
             [
              0.1111111111111111,
              "#46039f"
             ],
             [
              0.2222222222222222,
              "#7201a8"
             ],
             [
              0.3333333333333333,
              "#9c179e"
             ],
             [
              0.4444444444444444,
              "#bd3786"
             ],
             [
              0.5555555555555556,
              "#d8576b"
             ],
             [
              0.6666666666666666,
              "#ed7953"
             ],
             [
              0.7777777777777778,
              "#fb9f3a"
             ],
             [
              0.8888888888888888,
              "#fdca26"
             ],
             [
              1,
              "#f0f921"
             ]
            ],
            "type": "heatmapgl"
           }
          ],
          "histogram": [
           {
            "marker": {
             "pattern": {
              "fillmode": "overlay",
              "size": 10,
              "solidity": 0.2
             }
            },
            "type": "histogram"
           }
          ],
          "histogram2d": [
           {
            "colorbar": {
             "outlinewidth": 0,
             "ticks": ""
            },
            "colorscale": [
             [
              0,
              "#0d0887"
             ],
             [
              0.1111111111111111,
              "#46039f"
             ],
             [
              0.2222222222222222,
              "#7201a8"
             ],
             [
              0.3333333333333333,
              "#9c179e"
             ],
             [
              0.4444444444444444,
              "#bd3786"
             ],
             [
              0.5555555555555556,
              "#d8576b"
             ],
             [
              0.6666666666666666,
              "#ed7953"
             ],
             [
              0.7777777777777778,
              "#fb9f3a"
             ],
             [
              0.8888888888888888,
              "#fdca26"
             ],
             [
              1,
              "#f0f921"
             ]
            ],
            "type": "histogram2d"
           }
          ],
          "histogram2dcontour": [
           {
            "colorbar": {
             "outlinewidth": 0,
             "ticks": ""
            },
            "colorscale": [
             [
              0,
              "#0d0887"
             ],
             [
              0.1111111111111111,
              "#46039f"
             ],
             [
              0.2222222222222222,
              "#7201a8"
             ],
             [
              0.3333333333333333,
              "#9c179e"
             ],
             [
              0.4444444444444444,
              "#bd3786"
             ],
             [
              0.5555555555555556,
              "#d8576b"
             ],
             [
              0.6666666666666666,
              "#ed7953"
             ],
             [
              0.7777777777777778,
              "#fb9f3a"
             ],
             [
              0.8888888888888888,
              "#fdca26"
             ],
             [
              1,
              "#f0f921"
             ]
            ],
            "type": "histogram2dcontour"
           }
          ],
          "mesh3d": [
           {
            "colorbar": {
             "outlinewidth": 0,
             "ticks": ""
            },
            "type": "mesh3d"
           }
          ],
          "parcoords": [
           {
            "line": {
             "colorbar": {
              "outlinewidth": 0,
              "ticks": ""
             }
            },
            "type": "parcoords"
           }
          ],
          "pie": [
           {
            "automargin": true,
            "type": "pie"
           }
          ],
          "scatter": [
           {
            "marker": {
             "colorbar": {
              "outlinewidth": 0,
              "ticks": ""
             }
            },
            "type": "scatter"
           }
          ],
          "scatter3d": [
           {
            "line": {
             "colorbar": {
              "outlinewidth": 0,
              "ticks": ""
             }
            },
            "marker": {
             "colorbar": {
              "outlinewidth": 0,
              "ticks": ""
             }
            },
            "type": "scatter3d"
           }
          ],
          "scattercarpet": [
           {
            "marker": {
             "colorbar": {
              "outlinewidth": 0,
              "ticks": ""
             }
            },
            "type": "scattercarpet"
           }
          ],
          "scattergeo": [
           {
            "marker": {
             "colorbar": {
              "outlinewidth": 0,
              "ticks": ""
             }
            },
            "type": "scattergeo"
           }
          ],
          "scattergl": [
           {
            "marker": {
             "colorbar": {
              "outlinewidth": 0,
              "ticks": ""
             }
            },
            "type": "scattergl"
           }
          ],
          "scattermapbox": [
           {
            "marker": {
             "colorbar": {
              "outlinewidth": 0,
              "ticks": ""
             }
            },
            "type": "scattermapbox"
           }
          ],
          "scatterpolar": [
           {
            "marker": {
             "colorbar": {
              "outlinewidth": 0,
              "ticks": ""
             }
            },
            "type": "scatterpolar"
           }
          ],
          "scatterpolargl": [
           {
            "marker": {
             "colorbar": {
              "outlinewidth": 0,
              "ticks": ""
             }
            },
            "type": "scatterpolargl"
           }
          ],
          "scatterternary": [
           {
            "marker": {
             "colorbar": {
              "outlinewidth": 0,
              "ticks": ""
             }
            },
            "type": "scatterternary"
           }
          ],
          "surface": [
           {
            "colorbar": {
             "outlinewidth": 0,
             "ticks": ""
            },
            "colorscale": [
             [
              0,
              "#0d0887"
             ],
             [
              0.1111111111111111,
              "#46039f"
             ],
             [
              0.2222222222222222,
              "#7201a8"
             ],
             [
              0.3333333333333333,
              "#9c179e"
             ],
             [
              0.4444444444444444,
              "#bd3786"
             ],
             [
              0.5555555555555556,
              "#d8576b"
             ],
             [
              0.6666666666666666,
              "#ed7953"
             ],
             [
              0.7777777777777778,
              "#fb9f3a"
             ],
             [
              0.8888888888888888,
              "#fdca26"
             ],
             [
              1,
              "#f0f921"
             ]
            ],
            "type": "surface"
           }
          ],
          "table": [
           {
            "cells": {
             "fill": {
              "color": "#EBF0F8"
             },
             "line": {
              "color": "white"
             }
            },
            "header": {
             "fill": {
              "color": "#C8D4E3"
             },
             "line": {
              "color": "white"
             }
            },
            "type": "table"
           }
          ]
         },
         "layout": {
          "annotationdefaults": {
           "arrowcolor": "#2a3f5f",
           "arrowhead": 0,
           "arrowwidth": 1
          },
          "autotypenumbers": "strict",
          "coloraxis": {
           "colorbar": {
            "outlinewidth": 0,
            "ticks": ""
           }
          },
          "colorscale": {
           "diverging": [
            [
             0,
             "#8e0152"
            ],
            [
             0.1,
             "#c51b7d"
            ],
            [
             0.2,
             "#de77ae"
            ],
            [
             0.3,
             "#f1b6da"
            ],
            [
             0.4,
             "#fde0ef"
            ],
            [
             0.5,
             "#f7f7f7"
            ],
            [
             0.6,
             "#e6f5d0"
            ],
            [
             0.7,
             "#b8e186"
            ],
            [
             0.8,
             "#7fbc41"
            ],
            [
             0.9,
             "#4d9221"
            ],
            [
             1,
             "#276419"
            ]
           ],
           "sequential": [
            [
             0,
             "#0d0887"
            ],
            [
             0.1111111111111111,
             "#46039f"
            ],
            [
             0.2222222222222222,
             "#7201a8"
            ],
            [
             0.3333333333333333,
             "#9c179e"
            ],
            [
             0.4444444444444444,
             "#bd3786"
            ],
            [
             0.5555555555555556,
             "#d8576b"
            ],
            [
             0.6666666666666666,
             "#ed7953"
            ],
            [
             0.7777777777777778,
             "#fb9f3a"
            ],
            [
             0.8888888888888888,
             "#fdca26"
            ],
            [
             1,
             "#f0f921"
            ]
           ],
           "sequentialminus": [
            [
             0,
             "#0d0887"
            ],
            [
             0.1111111111111111,
             "#46039f"
            ],
            [
             0.2222222222222222,
             "#7201a8"
            ],
            [
             0.3333333333333333,
             "#9c179e"
            ],
            [
             0.4444444444444444,
             "#bd3786"
            ],
            [
             0.5555555555555556,
             "#d8576b"
            ],
            [
             0.6666666666666666,
             "#ed7953"
            ],
            [
             0.7777777777777778,
             "#fb9f3a"
            ],
            [
             0.8888888888888888,
             "#fdca26"
            ],
            [
             1,
             "#f0f921"
            ]
           ]
          },
          "colorway": [
           "#636efa",
           "#EF553B",
           "#00cc96",
           "#ab63fa",
           "#FFA15A",
           "#19d3f3",
           "#FF6692",
           "#B6E880",
           "#FF97FF",
           "#FECB52"
          ],
          "font": {
           "color": "#2a3f5f"
          },
          "geo": {
           "bgcolor": "white",
           "lakecolor": "white",
           "landcolor": "#E5ECF6",
           "showlakes": true,
           "showland": true,
           "subunitcolor": "white"
          },
          "hoverlabel": {
           "align": "left"
          },
          "hovermode": "closest",
          "mapbox": {
           "style": "light"
          },
          "paper_bgcolor": "white",
          "plot_bgcolor": "#E5ECF6",
          "polar": {
           "angularaxis": {
            "gridcolor": "white",
            "linecolor": "white",
            "ticks": ""
           },
           "bgcolor": "#E5ECF6",
           "radialaxis": {
            "gridcolor": "white",
            "linecolor": "white",
            "ticks": ""
           }
          },
          "scene": {
           "xaxis": {
            "backgroundcolor": "#E5ECF6",
            "gridcolor": "white",
            "gridwidth": 2,
            "linecolor": "white",
            "showbackground": true,
            "ticks": "",
            "zerolinecolor": "white"
           },
           "yaxis": {
            "backgroundcolor": "#E5ECF6",
            "gridcolor": "white",
            "gridwidth": 2,
            "linecolor": "white",
            "showbackground": true,
            "ticks": "",
            "zerolinecolor": "white"
           },
           "zaxis": {
            "backgroundcolor": "#E5ECF6",
            "gridcolor": "white",
            "gridwidth": 2,
            "linecolor": "white",
            "showbackground": true,
            "ticks": "",
            "zerolinecolor": "white"
           }
          },
          "shapedefaults": {
           "line": {
            "color": "#2a3f5f"
           }
          },
          "ternary": {
           "aaxis": {
            "gridcolor": "white",
            "linecolor": "white",
            "ticks": ""
           },
           "baxis": {
            "gridcolor": "white",
            "linecolor": "white",
            "ticks": ""
           },
           "bgcolor": "#E5ECF6",
           "caxis": {
            "gridcolor": "white",
            "linecolor": "white",
            "ticks": ""
           }
          },
          "title": {
           "x": 0.05
          },
          "xaxis": {
           "automargin": true,
           "gridcolor": "white",
           "linecolor": "white",
           "ticks": "",
           "title": {
            "standoff": 15
           },
           "zerolinecolor": "white",
           "zerolinewidth": 2
          },
          "yaxis": {
           "automargin": true,
           "gridcolor": "white",
           "linecolor": "white",
           "ticks": "",
           "title": {
            "standoff": 15
           },
           "zerolinecolor": "white",
           "zerolinewidth": 2
          }
         }
        },
        "title": {
         "text": "Mutual Funds Allocation"
        }
       }
      }
     },
     "metadata": {},
     "output_type": "display_data"
    }
   ],
   "source": [
    "from src.mfdisplay import display_mf_scheme_pie_chart\n",
    "\n",
    "display_mf_scheme_pie_chart(cg.mf_hdr_df)"
   ]
  },
  {
   "cell_type": "code",
   "execution_count": 15,
   "metadata": {},
   "outputs": [],
   "source": [
    "\n",
    "logging.info(f'{\"*\" * 50}End Of Process{\"*\" * 50}\\n') "
   ]
  },
  {
   "cell_type": "code",
   "execution_count": 16,
   "metadata": {},
   "outputs": [],
   "source": [
    "import requests\n",
    "\n",
    "from datetime import datetime\n",
    "\n",
    "def get_historical_nav(scheme_code:str)->pd.DataFrame:\n",
    "    URL = 'https://api.mfapi.in/mf/' + scheme_code\n",
    "    r = requests.get(URL)\n",
    "    nav = r.json()\n",
    "\n",
    "    nav_df = pd.json_normalize(nav['data'])\n",
    "    nav_df['date'] = pd.to_datetime( nav_df['date'], format = '%d-%m-%Y' ).dt.date\n",
    "\n",
    "    return nav_df\n",
    "\n",
    "\n",
    "def get_portfolio_history_for_scheme(scheme_code:str, mf_trans_df:pd.DataFrame)->pd.DataFrame:\n",
    "\n",
    "    '''\n",
    "    For every day between first date of MF Transaction and Current date Calculate the Total Invested \n",
    "    Amount and Current Portfolio Aoount\n",
    "    '''\n",
    "\n",
    "    # Get relevant trasnaction data for a scheme\n",
    "    cols = ['scheme_name', 'trans_date', 'invested_amt', 'units','units_remain', 'purch_nav', 'scheme_code']    \n",
    "    # scheme_code = cg.mf_hdr_df[cg.mf_hdr_df.scheme_name == scheme_name]['scheme_code'].tolist()[0]\n",
    "    df_mf = cg.mf_trans_df[cg.mf_trans_df.scheme_code == scheme_code][cols]\n",
    "\n",
    "    \n",
    "    df  = pd.DataFrame()\n",
    "    #first data of MF transaction\n",
    "    sdate = df_mf.iloc[0].trans_date\n",
    "    # End Data Today\n",
    "    edate = datetime.now().date()\n",
    "\n",
    "\n",
    "    # Create a time series of dates \n",
    "    df['date'] = pd.date_range(sdate,edate,freq='d')\n",
    "    df['date'] = df['date'].dt.date\n",
    "\n",
    "    # Set same Scheme Name for all dates\n",
    "    df['scheme_name'] = df_mf.iloc[0].scheme_name\n",
    "\n",
    "\n",
    "    #Merge Time series with MF transaction data\n",
    "    df = pd.merge(df, df_mf, how = 'left', left_on  =  ['scheme_name', 'date'], right_on  =  ['scheme_name', 'trans_date'] )    \n",
    "\n",
    "    \n",
    "   \n",
    "    # Read Historical NAV for scheme from HTTP API\n",
    "    nav_df =  get_historical_nav(scheme_code)\n",
    "\n",
    "    #Set NAV for all dates \n",
    "    df = pd.merge(df, nav_df, on = 'date', how = 'left')\n",
    "\n",
    "    #Replace missing NAV values from preceding valid value. \n",
    "    # NAV for Sat and Sun is same as Friday\n",
    "    df['nav'] = df['nav'].fillna(method='ffill')\n",
    "\n",
    "    #Set NULL values to 0 for numeric columns \n",
    "    num_cols = ['invested_amt', 'units', 'units_remain', 'purch_nav', 'nav']\n",
    "    df[num_cols] = df[num_cols].fillna(0)\n",
    "    df[num_cols] = df[num_cols].astype('float')\n",
    "\n",
    "\n",
    "    # Total Unit Balance on each day\n",
    "    # df['units_bal'] = df['units_remain'].cumsum()\n",
    "    df['units_bal'] = df['units'].cumsum()\n",
    "\n",
    "\n",
    "    #Total Current Amount  and Invested Amount at each date\n",
    "    df['current_amt'] =  round(df['units_bal'] *  df['nav'], 2)\n",
    "    df['invested_amt'] = df['invested_amt'].cumsum()\n",
    "\n",
    "    return df\n",
    "\n"
   ]
  },
  {
   "cell_type": "code",
   "execution_count": 17,
   "metadata": {},
   "outputs": [],
   "source": [
    "# for scheme_code in cg.mf_hdr_df.scheme_code.tolist():\n",
    "#     mf_history = get_portfolio_history_for_scheme(scheme_code, cg.mf_trans_df)\n",
    "#     mf_history.tail()\n",
    "\n",
    "#     df = mf_history\n",
    "#     scheme_name = df.iloc[0].scheme_name\n",
    "\n",
    "#     from plotly import graph_objects as go\n",
    "\n",
    "#     fig = go.Figure()\n",
    "#     fig.add_trace(go.Scatter(x=df.date, y=df.invested_amt,\n",
    "#                         mode='lines',\n",
    "#                         name='Invested Amount'))\n",
    "\n",
    "#     fig.add_trace(go.Scatter(x=df.date, y=df.current_amt,\n",
    "#                         mode='lines',\n",
    "#                         name='Current Amount'))\n",
    "#     fig.update_layout(title = scheme_name )              \n",
    "#     fig.show()"
   ]
  },
  {
   "cell_type": "code",
   "execution_count": 18,
   "metadata": {},
   "outputs": [
    {
     "data": {
      "application/vnd.plotly.v1+json": {
       "config": {
        "plotlyServerURL": "https://plot.ly"
       },
       "data": [
        {
         "mode": "lines",
         "name": "Invested Amount",
         "type": "scatter",
         "x": [
          "2019-03-22",
          "2019-03-23",
          "2019-03-24",
          "2019-03-25",
          "2019-03-26",
          "2019-03-27",
          "2019-03-28",
          "2019-03-29",
          "2019-03-30",
          "2019-03-31",
          "2019-04-01",
          "2019-04-02",
          "2019-04-03",
          "2019-04-04",
          "2019-04-05",
          "2019-04-06",
          "2019-04-07",
          "2019-04-08",
          "2019-04-09",
          "2019-04-10",
          "2019-04-11",
          "2019-04-12",
          "2019-04-13",
          "2019-04-14",
          "2019-04-15",
          "2019-04-16",
          "2019-04-17",
          "2019-04-18",
          "2019-04-19",
          "2019-04-20",
          "2019-04-21",
          "2019-04-22",
          "2019-04-23",
          "2019-04-24",
          "2019-04-25",
          "2019-04-26",
          "2019-04-27",
          "2019-04-28",
          "2019-04-29",
          "2019-04-30",
          "2019-05-01",
          "2019-05-02",
          "2019-05-03",
          "2019-05-04",
          "2019-05-05",
          "2019-05-06",
          "2019-05-07",
          "2019-05-08",
          "2019-05-09",
          "2019-05-10",
          "2019-05-11",
          "2019-05-12",
          "2019-05-13",
          "2019-05-14",
          "2019-05-15",
          "2019-05-16",
          "2019-05-17",
          "2019-05-18",
          "2019-05-19",
          "2019-05-20",
          "2019-05-21",
          "2019-05-22",
          "2019-05-23",
          "2019-05-24",
          "2019-05-25",
          "2019-05-26",
          "2019-05-27",
          "2019-05-28",
          "2019-05-29",
          "2019-05-30",
          "2019-05-31",
          "2019-06-01",
          "2019-06-02",
          "2019-06-03",
          "2019-06-04",
          "2019-06-05",
          "2019-06-06",
          "2019-06-07",
          "2019-06-08",
          "2019-06-09",
          "2019-06-10",
          "2019-06-11",
          "2019-06-12",
          "2019-06-13",
          "2019-06-14",
          "2019-06-15",
          "2019-06-16",
          "2019-06-17",
          "2019-06-18",
          "2019-06-19",
          "2019-06-20",
          "2019-06-21",
          "2019-06-22",
          "2019-06-23",
          "2019-06-24",
          "2019-06-25",
          "2019-06-26",
          "2019-06-27",
          "2019-06-28",
          "2019-06-29",
          "2019-06-30",
          "2019-07-01",
          "2019-07-02",
          "2019-07-03",
          "2019-07-04",
          "2019-07-05",
          "2019-07-06",
          "2019-07-07",
          "2019-07-08",
          "2019-07-09",
          "2019-07-10",
          "2019-07-11",
          "2019-07-12",
          "2019-07-13",
          "2019-07-14",
          "2019-07-15",
          "2019-07-16",
          "2019-07-17",
          "2019-07-18",
          "2019-07-19",
          "2019-07-20",
          "2019-07-21",
          "2019-07-22",
          "2019-07-23",
          "2019-07-24",
          "2019-07-25",
          "2019-07-26",
          "2019-07-27",
          "2019-07-28",
          "2019-07-29",
          "2019-07-30",
          "2019-07-31",
          "2019-08-01",
          "2019-08-02",
          "2019-08-03",
          "2019-08-04",
          "2019-08-05",
          "2019-08-06",
          "2019-08-07",
          "2019-08-08",
          "2019-08-09",
          "2019-08-10",
          "2019-08-11",
          "2019-08-12",
          "2019-08-13",
          "2019-08-14",
          "2019-08-15",
          "2019-08-16",
          "2019-08-17",
          "2019-08-18",
          "2019-08-19",
          "2019-08-20",
          "2019-08-21",
          "2019-08-22",
          "2019-08-23",
          "2019-08-24",
          "2019-08-25",
          "2019-08-26",
          "2019-08-27",
          "2019-08-28",
          "2019-08-29",
          "2019-08-30",
          "2019-08-31",
          "2019-09-01",
          "2019-09-02",
          "2019-09-03",
          "2019-09-04",
          "2019-09-05",
          "2019-09-06",
          "2019-09-07",
          "2019-09-08",
          "2019-09-09",
          "2019-09-10",
          "2019-09-11",
          "2019-09-12",
          "2019-09-13",
          "2019-09-14",
          "2019-09-15",
          "2019-09-16",
          "2019-09-17",
          "2019-09-18",
          "2019-09-19",
          "2019-09-20",
          "2019-09-21",
          "2019-09-22",
          "2019-09-23",
          "2019-09-24",
          "2019-09-25",
          "2019-09-26",
          "2019-09-27",
          "2019-09-28",
          "2019-09-29",
          "2019-09-30",
          "2019-10-01",
          "2019-10-02",
          "2019-10-03",
          "2019-10-04",
          "2019-10-05",
          "2019-10-06",
          "2019-10-07",
          "2019-10-08",
          "2019-10-09",
          "2019-10-10",
          "2019-10-11",
          "2019-10-12",
          "2019-10-13",
          "2019-10-14",
          "2019-10-15",
          "2019-10-16",
          "2019-10-17",
          "2019-10-18",
          "2019-10-19",
          "2019-10-20",
          "2019-10-21",
          "2019-10-22",
          "2019-10-23",
          "2019-10-24",
          "2019-10-25",
          "2019-10-26",
          "2019-10-27",
          "2019-10-28",
          "2019-10-29",
          "2019-10-30",
          "2019-10-31",
          "2019-11-01",
          "2019-11-02",
          "2019-11-03",
          "2019-11-04",
          "2019-11-05",
          "2019-11-06",
          "2019-11-07",
          "2019-11-08",
          "2019-11-09",
          "2019-11-10",
          "2019-11-11",
          "2019-11-12",
          "2019-11-13",
          "2019-11-14",
          "2019-11-15",
          "2019-11-16",
          "2019-11-17",
          "2019-11-18",
          "2019-11-19",
          "2019-11-20",
          "2019-11-21",
          "2019-11-22",
          "2019-11-23",
          "2019-11-24",
          "2019-11-25",
          "2019-11-26",
          "2019-11-27",
          "2019-11-28",
          "2019-11-29",
          "2019-11-30",
          "2019-12-01",
          "2019-12-02",
          "2019-12-03",
          "2019-12-04",
          "2019-12-05",
          "2019-12-06",
          "2019-12-07",
          "2019-12-08",
          "2019-12-09",
          "2019-12-10",
          "2019-12-11",
          "2019-12-12",
          "2019-12-13",
          "2019-12-14",
          "2019-12-15",
          "2019-12-16",
          "2019-12-17",
          "2019-12-18",
          "2019-12-19",
          "2019-12-20",
          "2019-12-21",
          "2019-12-22",
          "2019-12-23",
          "2019-12-24",
          "2019-12-25",
          "2019-12-26",
          "2019-12-27",
          "2019-12-28",
          "2019-12-29",
          "2019-12-30",
          "2019-12-31",
          "2020-01-01",
          "2020-01-02",
          "2020-01-03",
          "2020-01-04",
          "2020-01-05",
          "2020-01-06",
          "2020-01-07",
          "2020-01-08",
          "2020-01-09",
          "2020-01-10",
          "2020-01-11",
          "2020-01-12",
          "2020-01-13",
          "2020-01-14",
          "2020-01-15",
          "2020-01-16",
          "2020-01-17",
          "2020-01-18",
          "2020-01-19",
          "2020-01-20",
          "2020-01-21",
          "2020-01-22",
          "2020-01-23",
          "2020-01-24",
          "2020-01-25",
          "2020-01-26",
          "2020-01-27",
          "2020-01-28",
          "2020-01-29",
          "2020-01-30",
          "2020-01-31",
          "2020-02-01",
          "2020-02-02",
          "2020-02-03",
          "2020-02-04",
          "2020-02-05",
          "2020-02-06",
          "2020-02-07",
          "2020-02-08",
          "2020-02-09",
          "2020-02-10",
          "2020-02-11",
          "2020-02-12",
          "2020-02-13",
          "2020-02-14",
          "2020-02-15",
          "2020-02-16",
          "2020-02-17",
          "2020-02-18",
          "2020-02-19",
          "2020-02-20",
          "2020-02-21",
          "2020-02-22",
          "2020-02-23",
          "2020-02-24",
          "2020-02-25",
          "2020-02-26",
          "2020-02-27",
          "2020-02-28",
          "2020-02-29",
          "2020-03-01",
          "2020-03-02",
          "2020-03-03",
          "2020-03-04",
          "2020-03-05",
          "2020-03-06",
          "2020-03-07",
          "2020-03-08",
          "2020-03-09",
          "2020-03-10",
          "2020-03-11",
          "2020-03-12",
          "2020-03-13",
          "2020-03-14",
          "2020-03-15",
          "2020-03-16",
          "2020-03-17",
          "2020-03-18",
          "2020-03-19",
          "2020-03-20",
          "2020-03-21",
          "2020-03-22",
          "2020-03-23",
          "2020-03-24",
          "2020-03-25",
          "2020-03-26",
          "2020-03-27",
          "2020-03-28",
          "2020-03-29",
          "2020-03-30",
          "2020-03-31",
          "2020-04-01",
          "2020-04-02",
          "2020-04-03",
          "2020-04-04",
          "2020-04-05",
          "2020-04-06",
          "2020-04-07",
          "2020-04-08",
          "2020-04-09",
          "2020-04-10",
          "2020-04-11",
          "2020-04-12",
          "2020-04-13",
          "2020-04-14",
          "2020-04-15",
          "2020-04-16",
          "2020-04-17",
          "2020-04-18",
          "2020-04-19",
          "2020-04-20",
          "2020-04-21",
          "2020-04-22",
          "2020-04-23",
          "2020-04-24",
          "2020-04-25",
          "2020-04-26",
          "2020-04-27",
          "2020-04-28",
          "2020-04-29",
          "2020-04-30",
          "2020-05-01",
          "2020-05-02",
          "2020-05-03",
          "2020-05-04",
          "2020-05-05",
          "2020-05-06",
          "2020-05-07",
          "2020-05-08",
          "2020-05-09",
          "2020-05-10",
          "2020-05-11",
          "2020-05-12",
          "2020-05-13",
          "2020-05-14",
          "2020-05-15",
          "2020-05-16",
          "2020-05-17",
          "2020-05-18",
          "2020-05-19",
          "2020-05-20",
          "2020-05-21",
          "2020-05-22",
          "2020-05-23",
          "2020-05-24",
          "2020-05-25",
          "2020-05-26",
          "2020-05-27",
          "2020-05-28",
          "2020-05-29",
          "2020-05-30",
          "2020-05-31",
          "2020-06-01",
          "2020-06-02",
          "2020-06-03",
          "2020-06-04",
          "2020-06-05",
          "2020-06-06",
          "2020-06-07",
          "2020-06-08",
          "2020-06-09",
          "2020-06-10",
          "2020-06-11",
          "2020-06-12",
          "2020-06-13",
          "2020-06-14",
          "2020-06-15",
          "2020-06-16",
          "2020-06-17",
          "2020-06-18",
          "2020-06-19",
          "2020-06-20",
          "2020-06-21",
          "2020-06-22",
          "2020-06-23",
          "2020-06-24",
          "2020-06-25",
          "2020-06-26",
          "2020-06-27",
          "2020-06-28",
          "2020-06-29",
          "2020-06-30",
          "2020-07-01",
          "2020-07-02",
          "2020-07-03",
          "2020-07-04",
          "2020-07-05",
          "2020-07-06",
          "2020-07-07",
          "2020-07-08",
          "2020-07-09",
          "2020-07-10",
          "2020-07-11",
          "2020-07-12",
          "2020-07-13",
          "2020-07-14",
          "2020-07-15",
          "2020-07-16",
          "2020-07-17",
          "2020-07-18",
          "2020-07-19",
          "2020-07-20",
          "2020-07-21",
          "2020-07-22",
          "2020-07-23",
          "2020-07-24",
          "2020-07-25",
          "2020-07-26",
          "2020-07-27",
          "2020-07-28",
          "2020-07-29",
          "2020-07-30",
          "2020-07-31",
          "2020-08-01",
          "2020-08-02",
          "2020-08-03",
          "2020-08-04",
          "2020-08-05",
          "2020-08-06",
          "2020-08-07",
          "2020-08-08",
          "2020-08-09",
          "2020-08-10",
          "2020-08-11",
          "2020-08-12",
          "2020-08-13",
          "2020-08-14",
          "2020-08-15",
          "2020-08-16",
          "2020-08-17",
          "2020-08-18",
          "2020-08-19",
          "2020-08-20",
          "2020-08-21",
          "2020-08-22",
          "2020-08-23",
          "2020-08-24",
          "2020-08-25",
          "2020-08-26",
          "2020-08-27",
          "2020-08-28",
          "2020-08-29",
          "2020-08-30",
          "2020-08-31",
          "2020-09-01",
          "2020-09-02",
          "2020-09-03",
          "2020-09-04",
          "2020-09-05",
          "2020-09-06",
          "2020-09-07",
          "2020-09-08",
          "2020-09-09",
          "2020-09-10",
          "2020-09-11",
          "2020-09-12",
          "2020-09-13",
          "2020-09-14",
          "2020-09-15",
          "2020-09-16",
          "2020-09-17",
          "2020-09-18",
          "2020-09-19",
          "2020-09-20",
          "2020-09-21",
          "2020-09-22",
          "2020-09-23",
          "2020-09-24",
          "2020-09-25",
          "2020-09-26",
          "2020-09-27",
          "2020-09-28",
          "2020-09-29",
          "2020-09-30",
          "2020-10-01",
          "2020-10-02",
          "2020-10-03",
          "2020-10-04",
          "2020-10-05",
          "2020-10-06",
          "2020-10-07",
          "2020-10-08",
          "2020-10-09",
          "2020-10-10",
          "2020-10-11",
          "2020-10-12",
          "2020-10-13",
          "2020-10-14",
          "2020-10-15",
          "2020-10-16",
          "2020-10-17",
          "2020-10-18",
          "2020-10-19",
          "2020-10-20",
          "2020-10-21",
          "2020-10-22",
          "2020-10-23",
          "2020-10-24",
          "2020-10-25",
          "2020-10-26",
          "2020-10-27",
          "2020-10-28",
          "2020-10-29",
          "2020-10-30",
          "2020-10-31",
          "2020-11-01",
          "2020-11-02",
          "2020-11-03",
          "2020-11-04",
          "2020-11-05",
          "2020-11-06",
          "2020-11-07",
          "2020-11-08",
          "2020-11-09",
          "2020-11-10",
          "2020-11-11",
          "2020-11-12",
          "2020-11-13",
          "2020-11-14",
          "2020-11-15",
          "2020-11-16",
          "2020-11-17",
          "2020-11-18",
          "2020-11-19",
          "2020-11-20",
          "2020-11-21",
          "2020-11-22",
          "2020-11-23",
          "2020-11-24",
          "2020-11-25",
          "2020-11-26",
          "2020-11-27",
          "2020-11-28",
          "2020-11-29",
          "2020-11-30",
          "2020-12-01",
          "2020-12-02",
          "2020-12-03",
          "2020-12-04",
          "2020-12-05",
          "2020-12-06",
          "2020-12-07",
          "2020-12-08",
          "2020-12-09",
          "2020-12-10",
          "2020-12-11",
          "2020-12-12",
          "2020-12-13",
          "2020-12-14",
          "2020-12-15",
          "2020-12-16",
          "2020-12-17",
          "2020-12-18",
          "2020-12-19",
          "2020-12-20",
          "2020-12-21",
          "2020-12-22",
          "2020-12-23",
          "2020-12-24",
          "2020-12-25",
          "2020-12-26",
          "2020-12-27",
          "2020-12-28",
          "2020-12-29",
          "2020-12-30",
          "2020-12-31",
          "2021-01-01",
          "2021-01-02",
          "2021-01-03",
          "2021-01-04",
          "2021-01-05",
          "2021-01-06",
          "2021-01-07",
          "2021-01-08",
          "2021-01-09",
          "2021-01-10",
          "2021-01-11",
          "2021-01-12",
          "2021-01-13",
          "2021-01-14",
          "2021-01-15",
          "2021-01-16",
          "2021-01-17",
          "2021-01-18",
          "2021-01-19",
          "2021-01-20",
          "2021-01-21",
          "2021-01-22",
          "2021-01-23",
          "2021-01-24",
          "2021-01-25",
          "2021-01-26",
          "2021-01-27",
          "2021-01-28",
          "2021-01-29",
          "2021-01-30",
          "2021-01-31",
          "2021-02-01",
          "2021-02-02",
          "2021-02-03",
          "2021-02-04",
          "2021-02-05",
          "2021-02-06",
          "2021-02-07",
          "2021-02-08",
          "2021-02-09",
          "2021-02-10",
          "2021-02-11",
          "2021-02-12",
          "2021-02-13",
          "2021-02-14",
          "2021-02-15",
          "2021-02-16",
          "2021-02-17",
          "2021-02-18",
          "2021-02-19",
          "2021-02-20",
          "2021-02-21",
          "2021-02-22",
          "2021-02-23",
          "2021-02-24",
          "2021-02-25",
          "2021-02-26",
          "2021-02-27",
          "2021-02-28",
          "2021-03-01",
          "2021-03-02",
          "2021-03-03",
          "2021-03-04",
          "2021-03-05",
          "2021-03-06",
          "2021-03-07",
          "2021-03-08",
          "2021-03-09",
          "2021-03-10",
          "2021-03-11",
          "2021-03-12",
          "2021-03-13",
          "2021-03-14",
          "2021-03-15",
          "2021-03-16",
          "2021-03-17",
          "2021-03-18",
          "2021-03-19",
          "2021-03-20",
          "2021-03-21",
          "2021-03-22",
          "2021-03-23",
          "2021-03-24",
          "2021-03-25",
          "2021-03-26",
          "2021-03-27",
          "2021-03-28",
          "2021-03-29",
          "2021-03-30",
          "2021-03-31",
          "2021-04-01",
          "2021-04-02",
          "2021-04-03",
          "2021-04-04",
          "2021-04-05",
          "2021-04-06",
          "2021-04-07",
          "2021-04-08",
          "2021-04-09",
          "2021-04-10",
          "2021-04-11",
          "2021-04-12",
          "2021-04-13",
          "2021-04-14",
          "2021-04-15",
          "2021-04-16",
          "2021-04-17",
          "2021-04-18",
          "2021-04-19",
          "2021-04-20",
          "2021-04-21",
          "2021-04-22",
          "2021-04-23",
          "2021-04-24",
          "2021-04-25",
          "2021-04-26",
          "2021-04-27",
          "2021-04-28",
          "2021-04-29",
          "2021-04-30",
          "2021-05-01",
          "2021-05-02",
          "2021-05-03",
          "2021-05-04",
          "2021-05-05",
          "2021-05-06",
          "2021-05-07",
          "2021-05-08",
          "2021-05-09",
          "2021-05-10",
          "2021-05-11",
          "2021-05-12",
          "2021-05-13",
          "2021-05-14",
          "2021-05-15",
          "2021-05-16",
          "2021-05-17",
          "2021-05-18",
          "2021-05-19",
          "2021-05-20",
          "2021-05-21",
          "2021-05-22",
          "2021-05-23",
          "2021-05-24",
          "2021-05-25",
          "2021-05-26",
          "2021-05-27",
          "2021-05-28",
          "2021-05-29",
          "2021-05-30",
          "2021-05-31",
          "2021-06-01",
          "2021-06-02",
          "2021-06-03",
          "2021-06-04",
          "2021-06-05",
          "2021-06-06",
          "2021-06-07",
          "2021-06-08",
          "2021-06-09",
          "2021-06-10",
          "2021-06-11",
          "2021-06-12",
          "2021-06-13",
          "2021-06-14",
          "2021-06-15",
          "2021-06-16",
          "2021-06-17",
          "2021-06-18",
          "2021-06-19",
          "2021-06-20",
          "2021-06-21",
          "2021-06-22",
          "2021-06-23",
          "2021-06-24",
          "2021-06-25",
          "2021-06-26",
          "2021-06-27",
          "2021-06-28",
          "2021-06-29",
          "2021-06-30",
          "2021-07-01",
          "2021-07-02",
          "2021-07-03",
          "2021-07-04",
          "2021-07-05",
          "2021-07-06",
          "2021-07-07",
          "2021-07-08",
          "2021-07-09",
          "2021-07-10",
          "2021-07-11",
          "2021-07-12",
          "2021-07-13",
          "2021-07-14",
          "2021-07-15",
          "2021-07-16",
          "2021-07-17",
          "2021-07-18",
          "2021-07-19",
          "2021-07-20",
          "2021-07-21",
          "2021-07-22",
          "2021-07-23",
          "2021-07-24",
          "2021-07-25",
          "2021-07-26",
          "2021-07-27",
          "2021-07-28",
          "2021-07-29",
          "2021-07-30",
          "2021-07-31",
          "2021-08-01",
          "2021-08-02",
          "2021-08-03",
          "2021-08-04",
          "2021-08-05",
          "2021-08-06",
          "2021-08-07",
          "2021-08-08",
          "2021-08-09",
          "2021-08-10",
          "2021-08-11",
          "2021-08-12",
          "2021-08-13",
          "2021-08-14",
          "2021-08-15",
          "2021-08-16",
          "2021-08-17",
          "2021-08-18",
          "2021-08-19",
          "2021-08-20",
          "2021-08-21",
          "2021-08-22",
          "2021-08-23",
          "2021-08-24",
          "2021-08-25",
          "2021-08-26",
          "2021-08-27",
          "2021-08-28",
          "2021-08-29",
          "2021-08-30",
          "2021-08-31",
          "2021-09-01",
          "2021-09-02",
          "2021-09-03",
          "2021-09-04",
          "2021-09-05",
          "2021-09-06",
          "2021-09-07",
          "2021-09-08",
          "2021-09-09",
          "2021-09-10",
          "2021-09-11",
          "2021-09-12",
          "2021-09-13",
          "2021-09-14",
          "2021-09-15",
          "2021-09-16",
          "2021-09-17",
          "2021-09-18",
          "2021-09-19",
          "2021-09-20",
          "2021-09-21",
          "2021-09-22",
          "2021-09-23",
          "2021-09-24",
          "2021-09-25",
          "2021-09-26",
          "2021-09-27",
          "2021-09-28",
          "2021-09-29",
          "2021-09-30",
          "2021-10-01",
          "2021-10-02",
          "2021-10-03",
          "2021-10-04",
          "2021-10-05",
          "2021-10-06",
          "2021-10-07",
          "2021-10-08",
          "2021-10-09",
          "2021-10-10",
          "2021-10-11",
          "2021-10-12",
          "2021-10-13",
          "2021-10-14",
          "2021-10-15",
          "2021-10-16",
          "2021-10-17",
          "2021-10-18",
          "2021-10-19",
          "2021-10-20",
          "2021-10-21",
          "2021-10-22",
          "2021-10-23",
          "2021-10-24",
          "2021-10-25",
          "2021-10-26",
          "2021-10-27",
          "2021-10-28",
          "2021-10-29",
          "2021-10-30",
          "2021-10-31",
          "2021-11-01",
          "2021-11-02",
          "2021-11-03",
          "2021-11-04",
          "2021-11-05",
          "2021-11-06",
          "2021-11-07",
          "2021-11-08",
          "2021-11-09",
          "2021-11-10",
          "2021-11-11",
          "2021-11-12",
          "2021-11-13",
          "2021-11-14",
          "2021-11-15",
          "2021-11-16",
          "2021-11-17",
          "2021-11-18",
          "2021-11-19",
          "2021-11-20",
          "2021-11-21",
          "2021-11-22",
          "2021-11-23",
          "2021-11-24",
          "2021-11-25",
          "2021-11-26",
          "2021-11-27",
          "2021-11-28",
          "2021-11-29",
          "2021-11-30",
          "2021-12-01",
          "2021-12-02",
          "2021-12-03",
          "2021-12-04",
          "2021-12-05",
          "2021-12-06",
          "2021-12-07",
          "2021-12-08",
          "2021-12-09",
          "2021-12-10",
          "2021-12-11",
          "2021-12-12",
          "2021-12-13",
          "2021-12-14",
          "2021-12-15",
          "2021-12-16",
          "2021-12-17",
          "2021-12-18",
          "2021-12-19",
          "2021-12-20",
          "2021-12-21",
          "2021-12-22",
          "2021-12-23",
          "2021-12-24",
          "2021-12-25",
          "2021-12-26",
          "2021-12-27",
          "2021-12-28",
          "2021-12-29",
          "2021-12-30",
          "2021-12-31",
          "2022-01-01",
          "2022-01-02",
          "2022-01-03",
          "2022-01-04",
          "2022-01-05",
          "2022-01-06",
          "2022-01-07",
          "2022-01-08"
         ],
         "y": [
          24999.99,
          24999.99,
          24999.99,
          24999.99,
          24999.99,
          24999.99,
          24999.99,
          24999.99,
          24999.99,
          24999.99,
          24999.99,
          24999.99,
          24999.99,
          24999.99,
          24999.99,
          24999.99,
          24999.99,
          24999.99,
          24999.99,
          24999.99,
          24999.99,
          24999.99,
          24999.99,
          24999.99,
          24999.99,
          24999.99,
          24999.99,
          24999.99,
          24999.99,
          24999.99,
          24999.99,
          49999.96000000001,
          49999.96000000001,
          49999.96000000001,
          49999.96000000001,
          49999.96000000001,
          49999.96000000001,
          49999.96000000001,
          49999.96000000001,
          49999.96000000001,
          49999.96000000001,
          49999.96000000001,
          49999.96000000001,
          49999.96000000001,
          49999.96000000001,
          49999.96000000001,
          49999.96000000001,
          49999.96000000001,
          49999.96000000001,
          49999.96000000001,
          49999.96000000001,
          49999.96000000001,
          49999.96000000001,
          49999.96000000001,
          49999.96000000001,
          49999.96000000001,
          49999.96000000001,
          49999.96000000001,
          49999.96000000001,
          49999.96000000001,
          74999.98000000001,
          74999.98000000001,
          74999.98000000001,
          74999.98000000001,
          74999.98000000001,
          74999.98000000001,
          74999.98000000001,
          74999.98000000001,
          74999.98000000001,
          74999.98000000001,
          74999.98000000001,
          74999.98000000001,
          74999.98000000001,
          74999.98000000001,
          74999.98000000001,
          74999.98000000001,
          74999.98000000001,
          74999.98000000001,
          74999.98000000001,
          74999.98000000001,
          74999.98000000001,
          74999.98000000001,
          74999.98000000001,
          74999.98000000001,
          74999.98000000001,
          74999.98000000001,
          74999.98000000001,
          74999.98000000001,
          74999.98000000001,
          74999.98000000001,
          74999.98000000001,
          100000.01000000001,
          100000.01000000001,
          100000.01000000001,
          100000.01000000001,
          100000.01000000001,
          100000.01000000001,
          100000.01000000001,
          100000.01000000001,
          100000.01000000001,
          100000.01000000001,
          100000.01000000001,
          100000.01000000001,
          100000.01000000001,
          100000.01000000001,
          100000.01000000001,
          100000.01000000001,
          100000.01000000001,
          100000.01000000001,
          100000.01000000001,
          100000.01000000001,
          100000.01000000001,
          100000.01000000001,
          100000.01000000001,
          100000.01000000001,
          100000.01000000001,
          100000.01000000001,
          100000.01000000001,
          100000.01000000001,
          100000.01000000001,
          100000.01000000001,
          100000.01000000001,
          125000.01000000001,
          125000.01000000001,
          125000.01000000001,
          125000.01000000001,
          125000.01000000001,
          125000.01000000001,
          125000.01000000001,
          125000.01000000001,
          125000.01000000001,
          125000.01000000001,
          125000.01000000001,
          125000.01000000001,
          125000.01000000001,
          125000.01000000001,
          125000.01000000001,
          125000.01000000001,
          125000.01000000001,
          125000.01000000001,
          125000.01000000001,
          125000.01000000001,
          125000.01000000001,
          125000.01000000001,
          125000.01000000001,
          125000.01000000001,
          125000.01000000001,
          125000.01000000001,
          125000.01000000001,
          125000.01000000001,
          125000.01000000001,
          125000.01000000001,
          150000,
          150000,
          150000,
          150000,
          150000,
          150000,
          150000,
          150000,
          150000,
          150000,
          150000,
          150000,
          150000,
          150000,
          150000,
          150000,
          150000,
          150000,
          150000,
          150000,
          150000,
          150000,
          150000,
          150000,
          150000,
          150000,
          150000,
          150000,
          150000,
          150000,
          150000,
          150000,
          150000,
          174999.97,
          174999.97,
          174999.97,
          174999.97,
          174999.97,
          174999.97,
          174999.97,
          174999.97,
          174999.97,
          174999.97,
          174999.97,
          174999.97,
          174999.97,
          174999.97,
          174999.97,
          174999.97,
          174999.97,
          174999.97,
          174999.97,
          174999.97,
          174999.97,
          174999.97,
          174999.97,
          174999.97,
          174999.97,
          174999.97,
          174999.97,
          174999.97,
          174999.97,
          199999.97,
          199999.97,
          199999.97,
          199999.97,
          199999.97,
          199999.97,
          199999.97,
          199999.97,
          199999.97,
          199999.97,
          199999.97,
          199999.97,
          199999.97,
          199999.97,
          199999.97,
          199999.97,
          199999.97,
          199999.97,
          199999.97,
          199999.97,
          199999.97,
          199999.97,
          199999.97,
          199999.97,
          199999.97,
          199999.97,
          199999.97,
          199999.97,
          199999.97,
          199999.97,
          224999.95,
          224999.95,
          224999.95,
          224999.95,
          224999.95,
          224999.95,
          224999.95,
          224999.95,
          224999.95,
          224999.95,
          224999.95,
          224999.95,
          224999.95,
          224999.95,
          224999.95,
          224999.95,
          224999.95,
          224999.95,
          224999.95,
          224999.95,
          224999.95,
          224999.95,
          224999.95,
          224999.95,
          224999.95,
          224999.95,
          224999.95,
          224999.95,
          224999.95,
          224999.95,
          224999.95,
          224999.95,
          249999.92,
          249999.92,
          249999.92,
          249999.92,
          249999.92,
          249999.92,
          249999.92,
          249999.92,
          249999.92,
          249999.92,
          249999.92,
          249999.92,
          249999.92,
          249999.92,
          249999.92,
          249999.92,
          249999.92,
          249999.92,
          249999.92,
          249999.92,
          249999.92,
          249999.92,
          249999.92,
          249999.92,
          249999.92,
          249999.92,
          249999.92,
          249999.92,
          249999.92,
          274999.91000000003,
          274999.91000000003,
          274999.91000000003,
          274999.91000000003,
          274999.91000000003,
          274999.91000000003,
          274999.91000000003,
          274999.91000000003,
          274999.91000000003,
          274999.91000000003,
          274999.91000000003,
          274999.91000000003,
          274999.91000000003,
          274999.91000000003,
          274999.91000000003,
          274999.91000000003,
          274999.91000000003,
          274999.91000000003,
          274999.91000000003,
          274999.91000000003,
          274999.91000000003,
          274999.91000000003,
          274999.91000000003,
          274999.91000000003,
          274999.91000000003,
          274999.91000000003,
          274999.91000000003,
          274999.91000000003,
          274999.91000000003,
          274999.91000000003,
          274999.91000000003,
          274999.91000000003,
          274999.91000000003,
          274999.91000000003,
          299999.93000000005,
          299999.93000000005,
          299999.93000000005,
          299999.93000000005,
          299999.93000000005,
          299999.93000000005,
          299999.93000000005,
          299999.93000000005,
          299999.93000000005,
          299999.93000000005,
          299999.93000000005,
          299999.93000000005,
          299999.93000000005,
          299999.93000000005,
          299999.93000000005,
          299999.93000000005,
          299999.93000000005,
          299999.93000000005,
          299999.93000000005,
          299999.93000000005,
          299999.93000000005,
          299999.93000000005,
          299999.93000000005,
          299999.93000000005,
          299999.93000000005,
          299999.93000000005,
          299999.93000000005,
          299999.93000000005,
          324999.93000000005,
          324999.93000000005,
          324999.93000000005,
          324999.93000000005,
          324999.93000000005,
          324999.93000000005,
          324999.93000000005,
          324999.93000000005,
          324999.93000000005,
          324999.93000000005,
          324999.93000000005,
          324999.93000000005,
          324999.93000000005,
          324999.93000000005,
          324999.93000000005,
          324999.93000000005,
          324999.93000000005,
          324999.93000000005,
          324999.93000000005,
          324999.93000000005,
          324999.93000000005,
          324999.93000000005,
          324999.93000000005,
          324999.93000000005,
          324999.93000000005,
          324999.93000000005,
          324999.93000000005,
          324999.93000000005,
          324999.93000000005,
          349999.92000000004,
          349999.92000000004,
          349999.92000000004,
          349999.92000000004,
          349999.92000000004,
          349999.92000000004,
          349999.92000000004,
          349999.92000000004,
          349999.92000000004,
          349999.92000000004,
          349999.92000000004,
          349999.92000000004,
          349999.92000000004,
          349999.92000000004,
          349999.92000000004,
          349999.92000000004,
          349999.92000000004,
          349999.92000000004,
          349999.92000000004,
          349999.92000000004,
          349999.92000000004,
          349999.92000000004,
          349999.92000000004,
          349999.92000000004,
          349999.92000000004,
          349999.92000000004,
          349999.92000000004,
          349999.92000000004,
          349999.92000000004,
          349999.92000000004,
          374999.93000000005,
          374999.93000000005,
          374999.93000000005,
          374999.93000000005,
          374999.93000000005,
          374999.93000000005,
          374999.93000000005,
          374999.93000000005,
          374999.93000000005,
          374999.93000000005,
          374999.93000000005,
          374999.93000000005,
          374999.93000000005,
          374999.93000000005,
          374999.93000000005,
          374999.93000000005,
          374999.93000000005,
          374999.93000000005,
          374999.93000000005,
          374999.93000000005,
          374999.93000000005,
          374999.93000000005,
          374999.93000000005,
          374999.93000000005,
          374999.93000000005,
          374999.93000000005,
          374999.93000000005,
          374999.93000000005,
          374999.93000000005,
          374999.93000000005,
          374999.93000000005,
          374999.93000000005,
          399999.9600000001,
          399999.9600000001,
          399999.9600000001,
          399999.9600000001,
          399999.9600000001,
          399999.9600000001,
          399999.9600000001,
          399999.9600000001,
          399999.9600000001,
          399999.9600000001,
          399999.9600000001,
          399999.9600000001,
          399999.9600000001,
          399999.9600000001,
          399999.9600000001,
          399999.9600000001,
          399999.9600000001,
          399999.9600000001,
          399999.9600000001,
          399999.9600000001,
          399999.9600000001,
          399999.9600000001,
          399999.9600000001,
          399999.9600000001,
          399999.9600000001,
          399999.9600000001,
          399999.9600000001,
          399999.9600000001,
          399999.9600000001,
          424998.69000000006,
          424998.69000000006,
          424998.69000000006,
          424998.69000000006,
          424998.69000000006,
          424998.69000000006,
          424998.69000000006,
          424998.69000000006,
          424998.69000000006,
          424998.69000000006,
          424998.69000000006,
          424998.69000000006,
          424998.69000000006,
          424998.69000000006,
          424998.69000000006,
          424998.69000000006,
          424998.69000000006,
          424998.69000000006,
          424998.69000000006,
          424998.69000000006,
          424998.69000000006,
          424998.69000000006,
          424998.69000000006,
          424998.69000000006,
          424998.69000000006,
          424998.69000000006,
          424998.69000000006,
          424998.69000000006,
          424998.69000000006,
          424998.69000000006,
          424998.69000000006,
          449997.4600000001,
          449997.4600000001,
          449997.4600000001,
          449997.4600000001,
          449997.4600000001,
          449997.4600000001,
          449997.4600000001,
          449997.4600000001,
          449997.4600000001,
          449997.4600000001,
          449997.4600000001,
          449997.4600000001,
          449997.4600000001,
          449997.4600000001,
          449997.4600000001,
          449997.4600000001,
          449997.4600000001,
          449997.4600000001,
          449997.4600000001,
          449997.4600000001,
          449997.4600000001,
          449997.4600000001,
          449997.4600000001,
          449997.4600000001,
          449997.4600000001,
          449997.4600000001,
          449997.4600000001,
          449997.4600000001,
          449997.4600000001,
          449997.4600000001,
          449997.4600000001,
          474996.20000000007,
          474996.20000000007,
          474996.20000000007,
          474996.20000000007,
          474996.20000000007,
          474996.20000000007,
          474996.20000000007,
          474996.20000000007,
          474996.20000000007,
          474996.20000000007,
          474996.20000000007,
          474996.20000000007,
          474996.20000000007,
          474996.20000000007,
          474996.20000000007,
          474996.20000000007,
          474996.20000000007,
          474996.20000000007,
          474996.20000000007,
          474996.20000000007,
          474996.20000000007,
          474996.20000000007,
          474996.20000000007,
          474996.20000000007,
          474996.20000000007,
          474996.20000000007,
          474996.20000000007,
          474996.20000000007,
          474996.20000000007,
          474996.20000000007,
          499994.93000000005,
          499994.93000000005,
          499994.93000000005,
          499994.93000000005,
          499994.93000000005,
          499994.93000000005,
          499994.93000000005,
          499994.93000000005,
          499994.93000000005,
          499994.93000000005,
          499994.93000000005,
          499994.93000000005,
          499994.93000000005,
          499994.93000000005,
          499994.93000000005,
          499994.93000000005,
          499994.93000000005,
          499994.93000000005,
          499994.93000000005,
          499994.93000000005,
          499994.93000000005,
          499994.93000000005,
          499994.93000000005,
          499994.93000000005,
          499994.93000000005,
          499994.93000000005,
          499994.93000000005,
          499994.93000000005,
          499994.93000000005,
          499994.93000000005,
          499994.93000000005,
          499994.93000000005,
          499994.93000000005,
          524993.7100000001,
          524993.7100000001,
          524993.7100000001,
          524993.7100000001,
          524993.7100000001,
          524993.7100000001,
          524993.7100000001,
          524993.7100000001,
          524993.7100000001,
          524993.7100000001,
          524993.7100000001,
          524993.7100000001,
          524993.7100000001,
          524993.7100000001,
          524993.7100000001,
          524993.7100000001,
          524993.7100000001,
          524993.7100000001,
          524993.7100000001,
          524993.7100000001,
          524993.7100000001,
          524993.7100000001,
          524993.7100000001,
          524993.7100000001,
          524993.7100000001,
          524993.7100000001,
          524993.7100000001,
          524993.7100000001,
          549992.4700000001,
          549992.4700000001,
          549992.4700000001,
          549992.4700000001,
          549992.4700000001,
          549992.4700000001,
          549992.4700000001,
          549992.4700000001,
          549992.4700000001,
          549992.4700000001,
          549992.4700000001,
          549992.4700000001,
          549992.4700000001,
          549992.4700000001,
          549992.4700000001,
          549992.4700000001,
          549992.4700000001,
          549992.4700000001,
          549992.4700000001,
          549992.4700000001,
          549992.4700000001,
          549992.4700000001,
          549992.4700000001,
          549992.4700000001,
          549992.4700000001,
          549992.4700000001,
          549992.4700000001,
          549992.4700000001,
          549992.4700000001,
          549992.4700000001,
          549992.4700000001,
          574991.1900000001,
          574991.1900000001,
          574991.1900000001,
          574991.1900000001,
          574991.1900000001,
          574991.1900000001,
          574991.1900000001,
          574991.1900000001,
          574991.1900000001,
          574991.1900000001,
          574991.1900000001,
          574991.1900000001,
          574991.1900000001,
          574991.1900000001,
          574991.1900000001,
          574991.1900000001,
          574991.1900000001,
          574991.1900000001,
          574991.1900000001,
          574991.1900000001,
          574991.1900000001,
          574991.1900000001,
          574991.1900000001,
          574991.1900000001,
          574991.1900000001,
          574991.1900000001,
          574991.1900000001,
          574991.1900000001,
          574991.1900000001,
          574991.1900000001,
          574991.1900000001,
          574991.1900000001,
          599989.9,
          599989.9,
          599989.9,
          599989.9,
          599989.9,
          599989.9,
          599989.9,
          599989.9,
          599989.9,
          599989.9,
          599989.9,
          599989.9,
          599989.9,
          599989.9,
          599989.9,
          599989.9,
          599989.9,
          599989.9,
          599989.9,
          599989.9,
          599989.9,
          599989.9,
          599989.9,
          599989.9,
          599989.9,
          599989.9,
          599989.9,
          624988.6900000001,
          624988.6900000001,
          624988.6900000001,
          624988.6900000001,
          624988.6900000001,
          624988.6900000001,
          624988.6900000001,
          624988.6900000001,
          624988.6900000001,
          624988.6900000001,
          624988.6900000001,
          624988.6900000001,
          624988.6900000001,
          624988.6900000001,
          624988.6900000001,
          624988.6900000001,
          624988.6900000001,
          624988.6900000001,
          624988.6900000001,
          624988.6900000001,
          624988.6900000001,
          624988.6900000001,
          624988.6900000001,
          624988.6900000001,
          624988.6900000001,
          624988.6900000001,
          624988.6900000001,
          624988.6900000001,
          624988.6900000001,
          624988.6900000001,
          624988.6900000001,
          624988.6900000001,
          649987.42,
          649987.42,
          649987.42,
          649987.42,
          649987.42,
          649987.42,
          649987.42,
          649987.42,
          649987.42,
          649987.42,
          649987.42,
          649987.42,
          649987.42,
          649987.42,
          649987.42,
          649987.42,
          649987.42,
          649987.42,
          649987.42,
          649987.42,
          649987.42,
          649987.42,
          649987.42,
          649987.42,
          649987.42,
          649987.42,
          649987.42,
          649987.42,
          649987.42,
          674986.1900000001,
          674986.1900000001,
          674986.1900000001,
          674986.1900000001,
          674986.1900000001,
          674986.1900000001,
          674986.1900000001,
          674986.1900000001,
          674986.1900000001,
          674986.1900000001,
          674986.1900000001,
          674986.1900000001,
          674986.1900000001,
          674986.1900000001,
          674986.1900000001,
          674986.1900000001,
          674986.1900000001,
          674986.1900000001,
          674986.1900000001,
          674986.1900000001,
          674986.1900000001,
          674986.1900000001,
          674986.1900000001,
          674986.1900000001,
          674986.1900000001,
          674986.1900000001,
          674986.1900000001,
          674986.1900000001,
          674986.1900000001,
          674986.1900000001,
          674986.1900000001,
          699984.9600000001,
          699984.9600000001,
          699984.9600000001,
          699984.9600000001,
          699984.9600000001,
          699984.9600000001,
          699984.9600000001,
          699984.9600000001,
          699984.9600000001,
          699984.9600000001,
          699984.9600000001,
          699984.9600000001,
          699984.9600000001,
          699984.9600000001,
          699984.9600000001,
          699984.9600000001,
          699984.9600000001,
          699984.9600000001,
          699984.9600000001,
          699984.9600000001,
          699984.9600000001,
          699984.9600000001,
          699984.9600000001,
          699984.9600000001,
          699984.9600000001,
          699984.9600000001,
          699984.9600000001,
          699984.9600000001,
          699984.9600000001,
          699984.9600000001,
          699984.9600000001,
          724983.7600000001,
          724983.7600000001,
          724983.7600000001,
          724983.7600000001,
          724983.7600000001,
          724983.7600000001,
          724983.7600000001,
          724983.7600000001,
          724983.7600000001,
          724983.7600000001,
          724983.7600000001,
          724983.7600000001,
          724983.7600000001,
          724983.7600000001,
          724983.7600000001,
          724983.7600000001,
          724983.7600000001,
          724983.7600000001,
          724983.7600000001,
          724983.7600000001,
          724983.7600000001,
          724983.7600000001,
          724983.7600000001,
          724983.7600000001,
          724983.7600000001,
          724983.7600000001,
          724983.7600000001,
          724983.7600000001,
          724983.7600000001,
          724983.7600000001,
          724983.7600000001,
          724983.7600000001,
          724983.7600000001,
          724983.7600000001,
          724983.7600000001,
          724983.7600000001,
          724983.7600000001,
          724983.7600000001,
          724983.7600000001,
          724983.7600000001,
          724983.7600000001,
          724983.7600000001,
          724983.7600000001,
          724983.7600000001,
          724983.7600000001,
          724983.7600000001,
          724983.7600000001,
          724983.7600000001,
          724983.7600000001,
          724983.7600000001,
          724983.7600000001,
          724983.7600000001,
          724983.7600000001,
          724983.7600000001,
          724983.7600000001,
          724983.7600000001,
          724983.7600000001,
          724983.7600000001,
          724983.7600000001,
          724983.7600000001,
          724983.7600000001,
          724983.7600000001,
          724983.7600000001,
          724983.7600000001,
          724983.7600000001,
          724983.7600000001,
          724983.7600000001,
          724983.7600000001,
          724983.7600000001,
          724983.7600000001,
          724983.7600000001,
          724983.7600000001,
          724983.7600000001,
          724983.7600000001,
          724983.7600000001,
          724983.7600000001,
          724983.7600000001,
          724983.7600000001,
          724983.7600000001,
          724983.7600000001,
          724983.7600000001,
          724983.7600000001,
          724983.7600000001,
          724983.7600000001,
          724983.7600000001,
          724983.7600000001,
          724983.7600000001,
          724983.7600000001,
          724983.7600000001,
          724983.7600000001,
          724983.7600000001,
          724983.7600000001,
          724983.7600000001,
          724983.7600000001,
          724983.7600000001,
          724983.7600000001,
          724983.7600000001,
          724983.7600000001,
          724983.7600000001,
          724983.7600000001,
          724983.7600000001,
          724983.7600000001,
          724983.7600000001,
          724983.7600000001,
          724983.7600000001,
          724983.7600000001,
          724983.7600000001,
          724983.7600000001,
          724983.7600000001,
          724983.7600000001,
          724983.7600000001,
          724983.7600000001,
          724983.7600000001,
          724983.7600000001,
          724983.7600000001,
          724983.7600000001,
          724983.7600000001,
          724983.7600000001,
          724983.7600000001,
          724983.7600000001,
          724983.7600000001,
          724983.7600000001,
          724983.7600000001,
          724983.7600000001,
          724983.7600000001,
          724983.7600000001,
          724983.7600000001,
          724983.7600000001,
          724983.7600000001,
          724983.7600000001,
          724983.7600000001,
          724983.7600000001,
          724983.7600000001,
          724983.7600000001,
          724983.7600000001,
          724983.7600000001,
          724983.7600000001,
          724983.7600000001,
          724983.7600000001,
          724983.7600000001,
          724983.7600000001,
          724983.7600000001,
          724983.7600000001,
          724983.7600000001,
          724983.7600000001,
          724983.7600000001,
          724983.7600000001,
          724983.7600000001,
          724983.7600000001,
          724983.7600000001,
          724983.7600000001,
          724983.7600000001,
          724983.7600000001,
          724983.7600000001,
          724983.7600000001,
          724983.7600000001,
          724983.7600000001,
          724983.7600000001,
          724983.7600000001,
          724983.7600000001,
          724983.7600000001,
          724983.7600000001,
          724983.7600000001,
          724983.7600000001,
          724983.7600000001,
          724983.7600000001,
          724983.7600000001,
          724983.7600000001,
          724983.7600000001,
          724983.7600000001,
          724983.7600000001
         ]
        },
        {
         "mode": "lines",
         "name": "Current Amount",
         "type": "scatter",
         "x": [
          "2019-03-22",
          "2019-03-23",
          "2019-03-24",
          "2019-03-25",
          "2019-03-26",
          "2019-03-27",
          "2019-03-28",
          "2019-03-29",
          "2019-03-30",
          "2019-03-31",
          "2019-04-01",
          "2019-04-02",
          "2019-04-03",
          "2019-04-04",
          "2019-04-05",
          "2019-04-06",
          "2019-04-07",
          "2019-04-08",
          "2019-04-09",
          "2019-04-10",
          "2019-04-11",
          "2019-04-12",
          "2019-04-13",
          "2019-04-14",
          "2019-04-15",
          "2019-04-16",
          "2019-04-17",
          "2019-04-18",
          "2019-04-19",
          "2019-04-20",
          "2019-04-21",
          "2019-04-22",
          "2019-04-23",
          "2019-04-24",
          "2019-04-25",
          "2019-04-26",
          "2019-04-27",
          "2019-04-28",
          "2019-04-29",
          "2019-04-30",
          "2019-05-01",
          "2019-05-02",
          "2019-05-03",
          "2019-05-04",
          "2019-05-05",
          "2019-05-06",
          "2019-05-07",
          "2019-05-08",
          "2019-05-09",
          "2019-05-10",
          "2019-05-11",
          "2019-05-12",
          "2019-05-13",
          "2019-05-14",
          "2019-05-15",
          "2019-05-16",
          "2019-05-17",
          "2019-05-18",
          "2019-05-19",
          "2019-05-20",
          "2019-05-21",
          "2019-05-22",
          "2019-05-23",
          "2019-05-24",
          "2019-05-25",
          "2019-05-26",
          "2019-05-27",
          "2019-05-28",
          "2019-05-29",
          "2019-05-30",
          "2019-05-31",
          "2019-06-01",
          "2019-06-02",
          "2019-06-03",
          "2019-06-04",
          "2019-06-05",
          "2019-06-06",
          "2019-06-07",
          "2019-06-08",
          "2019-06-09",
          "2019-06-10",
          "2019-06-11",
          "2019-06-12",
          "2019-06-13",
          "2019-06-14",
          "2019-06-15",
          "2019-06-16",
          "2019-06-17",
          "2019-06-18",
          "2019-06-19",
          "2019-06-20",
          "2019-06-21",
          "2019-06-22",
          "2019-06-23",
          "2019-06-24",
          "2019-06-25",
          "2019-06-26",
          "2019-06-27",
          "2019-06-28",
          "2019-06-29",
          "2019-06-30",
          "2019-07-01",
          "2019-07-02",
          "2019-07-03",
          "2019-07-04",
          "2019-07-05",
          "2019-07-06",
          "2019-07-07",
          "2019-07-08",
          "2019-07-09",
          "2019-07-10",
          "2019-07-11",
          "2019-07-12",
          "2019-07-13",
          "2019-07-14",
          "2019-07-15",
          "2019-07-16",
          "2019-07-17",
          "2019-07-18",
          "2019-07-19",
          "2019-07-20",
          "2019-07-21",
          "2019-07-22",
          "2019-07-23",
          "2019-07-24",
          "2019-07-25",
          "2019-07-26",
          "2019-07-27",
          "2019-07-28",
          "2019-07-29",
          "2019-07-30",
          "2019-07-31",
          "2019-08-01",
          "2019-08-02",
          "2019-08-03",
          "2019-08-04",
          "2019-08-05",
          "2019-08-06",
          "2019-08-07",
          "2019-08-08",
          "2019-08-09",
          "2019-08-10",
          "2019-08-11",
          "2019-08-12",
          "2019-08-13",
          "2019-08-14",
          "2019-08-15",
          "2019-08-16",
          "2019-08-17",
          "2019-08-18",
          "2019-08-19",
          "2019-08-20",
          "2019-08-21",
          "2019-08-22",
          "2019-08-23",
          "2019-08-24",
          "2019-08-25",
          "2019-08-26",
          "2019-08-27",
          "2019-08-28",
          "2019-08-29",
          "2019-08-30",
          "2019-08-31",
          "2019-09-01",
          "2019-09-02",
          "2019-09-03",
          "2019-09-04",
          "2019-09-05",
          "2019-09-06",
          "2019-09-07",
          "2019-09-08",
          "2019-09-09",
          "2019-09-10",
          "2019-09-11",
          "2019-09-12",
          "2019-09-13",
          "2019-09-14",
          "2019-09-15",
          "2019-09-16",
          "2019-09-17",
          "2019-09-18",
          "2019-09-19",
          "2019-09-20",
          "2019-09-21",
          "2019-09-22",
          "2019-09-23",
          "2019-09-24",
          "2019-09-25",
          "2019-09-26",
          "2019-09-27",
          "2019-09-28",
          "2019-09-29",
          "2019-09-30",
          "2019-10-01",
          "2019-10-02",
          "2019-10-03",
          "2019-10-04",
          "2019-10-05",
          "2019-10-06",
          "2019-10-07",
          "2019-10-08",
          "2019-10-09",
          "2019-10-10",
          "2019-10-11",
          "2019-10-12",
          "2019-10-13",
          "2019-10-14",
          "2019-10-15",
          "2019-10-16",
          "2019-10-17",
          "2019-10-18",
          "2019-10-19",
          "2019-10-20",
          "2019-10-21",
          "2019-10-22",
          "2019-10-23",
          "2019-10-24",
          "2019-10-25",
          "2019-10-26",
          "2019-10-27",
          "2019-10-28",
          "2019-10-29",
          "2019-10-30",
          "2019-10-31",
          "2019-11-01",
          "2019-11-02",
          "2019-11-03",
          "2019-11-04",
          "2019-11-05",
          "2019-11-06",
          "2019-11-07",
          "2019-11-08",
          "2019-11-09",
          "2019-11-10",
          "2019-11-11",
          "2019-11-12",
          "2019-11-13",
          "2019-11-14",
          "2019-11-15",
          "2019-11-16",
          "2019-11-17",
          "2019-11-18",
          "2019-11-19",
          "2019-11-20",
          "2019-11-21",
          "2019-11-22",
          "2019-11-23",
          "2019-11-24",
          "2019-11-25",
          "2019-11-26",
          "2019-11-27",
          "2019-11-28",
          "2019-11-29",
          "2019-11-30",
          "2019-12-01",
          "2019-12-02",
          "2019-12-03",
          "2019-12-04",
          "2019-12-05",
          "2019-12-06",
          "2019-12-07",
          "2019-12-08",
          "2019-12-09",
          "2019-12-10",
          "2019-12-11",
          "2019-12-12",
          "2019-12-13",
          "2019-12-14",
          "2019-12-15",
          "2019-12-16",
          "2019-12-17",
          "2019-12-18",
          "2019-12-19",
          "2019-12-20",
          "2019-12-21",
          "2019-12-22",
          "2019-12-23",
          "2019-12-24",
          "2019-12-25",
          "2019-12-26",
          "2019-12-27",
          "2019-12-28",
          "2019-12-29",
          "2019-12-30",
          "2019-12-31",
          "2020-01-01",
          "2020-01-02",
          "2020-01-03",
          "2020-01-04",
          "2020-01-05",
          "2020-01-06",
          "2020-01-07",
          "2020-01-08",
          "2020-01-09",
          "2020-01-10",
          "2020-01-11",
          "2020-01-12",
          "2020-01-13",
          "2020-01-14",
          "2020-01-15",
          "2020-01-16",
          "2020-01-17",
          "2020-01-18",
          "2020-01-19",
          "2020-01-20",
          "2020-01-21",
          "2020-01-22",
          "2020-01-23",
          "2020-01-24",
          "2020-01-25",
          "2020-01-26",
          "2020-01-27",
          "2020-01-28",
          "2020-01-29",
          "2020-01-30",
          "2020-01-31",
          "2020-02-01",
          "2020-02-02",
          "2020-02-03",
          "2020-02-04",
          "2020-02-05",
          "2020-02-06",
          "2020-02-07",
          "2020-02-08",
          "2020-02-09",
          "2020-02-10",
          "2020-02-11",
          "2020-02-12",
          "2020-02-13",
          "2020-02-14",
          "2020-02-15",
          "2020-02-16",
          "2020-02-17",
          "2020-02-18",
          "2020-02-19",
          "2020-02-20",
          "2020-02-21",
          "2020-02-22",
          "2020-02-23",
          "2020-02-24",
          "2020-02-25",
          "2020-02-26",
          "2020-02-27",
          "2020-02-28",
          "2020-02-29",
          "2020-03-01",
          "2020-03-02",
          "2020-03-03",
          "2020-03-04",
          "2020-03-05",
          "2020-03-06",
          "2020-03-07",
          "2020-03-08",
          "2020-03-09",
          "2020-03-10",
          "2020-03-11",
          "2020-03-12",
          "2020-03-13",
          "2020-03-14",
          "2020-03-15",
          "2020-03-16",
          "2020-03-17",
          "2020-03-18",
          "2020-03-19",
          "2020-03-20",
          "2020-03-21",
          "2020-03-22",
          "2020-03-23",
          "2020-03-24",
          "2020-03-25",
          "2020-03-26",
          "2020-03-27",
          "2020-03-28",
          "2020-03-29",
          "2020-03-30",
          "2020-03-31",
          "2020-04-01",
          "2020-04-02",
          "2020-04-03",
          "2020-04-04",
          "2020-04-05",
          "2020-04-06",
          "2020-04-07",
          "2020-04-08",
          "2020-04-09",
          "2020-04-10",
          "2020-04-11",
          "2020-04-12",
          "2020-04-13",
          "2020-04-14",
          "2020-04-15",
          "2020-04-16",
          "2020-04-17",
          "2020-04-18",
          "2020-04-19",
          "2020-04-20",
          "2020-04-21",
          "2020-04-22",
          "2020-04-23",
          "2020-04-24",
          "2020-04-25",
          "2020-04-26",
          "2020-04-27",
          "2020-04-28",
          "2020-04-29",
          "2020-04-30",
          "2020-05-01",
          "2020-05-02",
          "2020-05-03",
          "2020-05-04",
          "2020-05-05",
          "2020-05-06",
          "2020-05-07",
          "2020-05-08",
          "2020-05-09",
          "2020-05-10",
          "2020-05-11",
          "2020-05-12",
          "2020-05-13",
          "2020-05-14",
          "2020-05-15",
          "2020-05-16",
          "2020-05-17",
          "2020-05-18",
          "2020-05-19",
          "2020-05-20",
          "2020-05-21",
          "2020-05-22",
          "2020-05-23",
          "2020-05-24",
          "2020-05-25",
          "2020-05-26",
          "2020-05-27",
          "2020-05-28",
          "2020-05-29",
          "2020-05-30",
          "2020-05-31",
          "2020-06-01",
          "2020-06-02",
          "2020-06-03",
          "2020-06-04",
          "2020-06-05",
          "2020-06-06",
          "2020-06-07",
          "2020-06-08",
          "2020-06-09",
          "2020-06-10",
          "2020-06-11",
          "2020-06-12",
          "2020-06-13",
          "2020-06-14",
          "2020-06-15",
          "2020-06-16",
          "2020-06-17",
          "2020-06-18",
          "2020-06-19",
          "2020-06-20",
          "2020-06-21",
          "2020-06-22",
          "2020-06-23",
          "2020-06-24",
          "2020-06-25",
          "2020-06-26",
          "2020-06-27",
          "2020-06-28",
          "2020-06-29",
          "2020-06-30",
          "2020-07-01",
          "2020-07-02",
          "2020-07-03",
          "2020-07-04",
          "2020-07-05",
          "2020-07-06",
          "2020-07-07",
          "2020-07-08",
          "2020-07-09",
          "2020-07-10",
          "2020-07-11",
          "2020-07-12",
          "2020-07-13",
          "2020-07-14",
          "2020-07-15",
          "2020-07-16",
          "2020-07-17",
          "2020-07-18",
          "2020-07-19",
          "2020-07-20",
          "2020-07-21",
          "2020-07-22",
          "2020-07-23",
          "2020-07-24",
          "2020-07-25",
          "2020-07-26",
          "2020-07-27",
          "2020-07-28",
          "2020-07-29",
          "2020-07-30",
          "2020-07-31",
          "2020-08-01",
          "2020-08-02",
          "2020-08-03",
          "2020-08-04",
          "2020-08-05",
          "2020-08-06",
          "2020-08-07",
          "2020-08-08",
          "2020-08-09",
          "2020-08-10",
          "2020-08-11",
          "2020-08-12",
          "2020-08-13",
          "2020-08-14",
          "2020-08-15",
          "2020-08-16",
          "2020-08-17",
          "2020-08-18",
          "2020-08-19",
          "2020-08-20",
          "2020-08-21",
          "2020-08-22",
          "2020-08-23",
          "2020-08-24",
          "2020-08-25",
          "2020-08-26",
          "2020-08-27",
          "2020-08-28",
          "2020-08-29",
          "2020-08-30",
          "2020-08-31",
          "2020-09-01",
          "2020-09-02",
          "2020-09-03",
          "2020-09-04",
          "2020-09-05",
          "2020-09-06",
          "2020-09-07",
          "2020-09-08",
          "2020-09-09",
          "2020-09-10",
          "2020-09-11",
          "2020-09-12",
          "2020-09-13",
          "2020-09-14",
          "2020-09-15",
          "2020-09-16",
          "2020-09-17",
          "2020-09-18",
          "2020-09-19",
          "2020-09-20",
          "2020-09-21",
          "2020-09-22",
          "2020-09-23",
          "2020-09-24",
          "2020-09-25",
          "2020-09-26",
          "2020-09-27",
          "2020-09-28",
          "2020-09-29",
          "2020-09-30",
          "2020-10-01",
          "2020-10-02",
          "2020-10-03",
          "2020-10-04",
          "2020-10-05",
          "2020-10-06",
          "2020-10-07",
          "2020-10-08",
          "2020-10-09",
          "2020-10-10",
          "2020-10-11",
          "2020-10-12",
          "2020-10-13",
          "2020-10-14",
          "2020-10-15",
          "2020-10-16",
          "2020-10-17",
          "2020-10-18",
          "2020-10-19",
          "2020-10-20",
          "2020-10-21",
          "2020-10-22",
          "2020-10-23",
          "2020-10-24",
          "2020-10-25",
          "2020-10-26",
          "2020-10-27",
          "2020-10-28",
          "2020-10-29",
          "2020-10-30",
          "2020-10-31",
          "2020-11-01",
          "2020-11-02",
          "2020-11-03",
          "2020-11-04",
          "2020-11-05",
          "2020-11-06",
          "2020-11-07",
          "2020-11-08",
          "2020-11-09",
          "2020-11-10",
          "2020-11-11",
          "2020-11-12",
          "2020-11-13",
          "2020-11-14",
          "2020-11-15",
          "2020-11-16",
          "2020-11-17",
          "2020-11-18",
          "2020-11-19",
          "2020-11-20",
          "2020-11-21",
          "2020-11-22",
          "2020-11-23",
          "2020-11-24",
          "2020-11-25",
          "2020-11-26",
          "2020-11-27",
          "2020-11-28",
          "2020-11-29",
          "2020-11-30",
          "2020-12-01",
          "2020-12-02",
          "2020-12-03",
          "2020-12-04",
          "2020-12-05",
          "2020-12-06",
          "2020-12-07",
          "2020-12-08",
          "2020-12-09",
          "2020-12-10",
          "2020-12-11",
          "2020-12-12",
          "2020-12-13",
          "2020-12-14",
          "2020-12-15",
          "2020-12-16",
          "2020-12-17",
          "2020-12-18",
          "2020-12-19",
          "2020-12-20",
          "2020-12-21",
          "2020-12-22",
          "2020-12-23",
          "2020-12-24",
          "2020-12-25",
          "2020-12-26",
          "2020-12-27",
          "2020-12-28",
          "2020-12-29",
          "2020-12-30",
          "2020-12-31",
          "2021-01-01",
          "2021-01-02",
          "2021-01-03",
          "2021-01-04",
          "2021-01-05",
          "2021-01-06",
          "2021-01-07",
          "2021-01-08",
          "2021-01-09",
          "2021-01-10",
          "2021-01-11",
          "2021-01-12",
          "2021-01-13",
          "2021-01-14",
          "2021-01-15",
          "2021-01-16",
          "2021-01-17",
          "2021-01-18",
          "2021-01-19",
          "2021-01-20",
          "2021-01-21",
          "2021-01-22",
          "2021-01-23",
          "2021-01-24",
          "2021-01-25",
          "2021-01-26",
          "2021-01-27",
          "2021-01-28",
          "2021-01-29",
          "2021-01-30",
          "2021-01-31",
          "2021-02-01",
          "2021-02-02",
          "2021-02-03",
          "2021-02-04",
          "2021-02-05",
          "2021-02-06",
          "2021-02-07",
          "2021-02-08",
          "2021-02-09",
          "2021-02-10",
          "2021-02-11",
          "2021-02-12",
          "2021-02-13",
          "2021-02-14",
          "2021-02-15",
          "2021-02-16",
          "2021-02-17",
          "2021-02-18",
          "2021-02-19",
          "2021-02-20",
          "2021-02-21",
          "2021-02-22",
          "2021-02-23",
          "2021-02-24",
          "2021-02-25",
          "2021-02-26",
          "2021-02-27",
          "2021-02-28",
          "2021-03-01",
          "2021-03-02",
          "2021-03-03",
          "2021-03-04",
          "2021-03-05",
          "2021-03-06",
          "2021-03-07",
          "2021-03-08",
          "2021-03-09",
          "2021-03-10",
          "2021-03-11",
          "2021-03-12",
          "2021-03-13",
          "2021-03-14",
          "2021-03-15",
          "2021-03-16",
          "2021-03-17",
          "2021-03-18",
          "2021-03-19",
          "2021-03-20",
          "2021-03-21",
          "2021-03-22",
          "2021-03-23",
          "2021-03-24",
          "2021-03-25",
          "2021-03-26",
          "2021-03-27",
          "2021-03-28",
          "2021-03-29",
          "2021-03-30",
          "2021-03-31",
          "2021-04-01",
          "2021-04-02",
          "2021-04-03",
          "2021-04-04",
          "2021-04-05",
          "2021-04-06",
          "2021-04-07",
          "2021-04-08",
          "2021-04-09",
          "2021-04-10",
          "2021-04-11",
          "2021-04-12",
          "2021-04-13",
          "2021-04-14",
          "2021-04-15",
          "2021-04-16",
          "2021-04-17",
          "2021-04-18",
          "2021-04-19",
          "2021-04-20",
          "2021-04-21",
          "2021-04-22",
          "2021-04-23",
          "2021-04-24",
          "2021-04-25",
          "2021-04-26",
          "2021-04-27",
          "2021-04-28",
          "2021-04-29",
          "2021-04-30",
          "2021-05-01",
          "2021-05-02",
          "2021-05-03",
          "2021-05-04",
          "2021-05-05",
          "2021-05-06",
          "2021-05-07",
          "2021-05-08",
          "2021-05-09",
          "2021-05-10",
          "2021-05-11",
          "2021-05-12",
          "2021-05-13",
          "2021-05-14",
          "2021-05-15",
          "2021-05-16",
          "2021-05-17",
          "2021-05-18",
          "2021-05-19",
          "2021-05-20",
          "2021-05-21",
          "2021-05-22",
          "2021-05-23",
          "2021-05-24",
          "2021-05-25",
          "2021-05-26",
          "2021-05-27",
          "2021-05-28",
          "2021-05-29",
          "2021-05-30",
          "2021-05-31",
          "2021-06-01",
          "2021-06-02",
          "2021-06-03",
          "2021-06-04",
          "2021-06-05",
          "2021-06-06",
          "2021-06-07",
          "2021-06-08",
          "2021-06-09",
          "2021-06-10",
          "2021-06-11",
          "2021-06-12",
          "2021-06-13",
          "2021-06-14",
          "2021-06-15",
          "2021-06-16",
          "2021-06-17",
          "2021-06-18",
          "2021-06-19",
          "2021-06-20",
          "2021-06-21",
          "2021-06-22",
          "2021-06-23",
          "2021-06-24",
          "2021-06-25",
          "2021-06-26",
          "2021-06-27",
          "2021-06-28",
          "2021-06-29",
          "2021-06-30",
          "2021-07-01",
          "2021-07-02",
          "2021-07-03",
          "2021-07-04",
          "2021-07-05",
          "2021-07-06",
          "2021-07-07",
          "2021-07-08",
          "2021-07-09",
          "2021-07-10",
          "2021-07-11",
          "2021-07-12",
          "2021-07-13",
          "2021-07-14",
          "2021-07-15",
          "2021-07-16",
          "2021-07-17",
          "2021-07-18",
          "2021-07-19",
          "2021-07-20",
          "2021-07-21",
          "2021-07-22",
          "2021-07-23",
          "2021-07-24",
          "2021-07-25",
          "2021-07-26",
          "2021-07-27",
          "2021-07-28",
          "2021-07-29",
          "2021-07-30",
          "2021-07-31",
          "2021-08-01",
          "2021-08-02",
          "2021-08-03",
          "2021-08-04",
          "2021-08-05",
          "2021-08-06",
          "2021-08-07",
          "2021-08-08",
          "2021-08-09",
          "2021-08-10",
          "2021-08-11",
          "2021-08-12",
          "2021-08-13",
          "2021-08-14",
          "2021-08-15",
          "2021-08-16",
          "2021-08-17",
          "2021-08-18",
          "2021-08-19",
          "2021-08-20",
          "2021-08-21",
          "2021-08-22",
          "2021-08-23",
          "2021-08-24",
          "2021-08-25",
          "2021-08-26",
          "2021-08-27",
          "2021-08-28",
          "2021-08-29",
          "2021-08-30",
          "2021-08-31",
          "2021-09-01",
          "2021-09-02",
          "2021-09-03",
          "2021-09-04",
          "2021-09-05",
          "2021-09-06",
          "2021-09-07",
          "2021-09-08",
          "2021-09-09",
          "2021-09-10",
          "2021-09-11",
          "2021-09-12",
          "2021-09-13",
          "2021-09-14",
          "2021-09-15",
          "2021-09-16",
          "2021-09-17",
          "2021-09-18",
          "2021-09-19",
          "2021-09-20",
          "2021-09-21",
          "2021-09-22",
          "2021-09-23",
          "2021-09-24",
          "2021-09-25",
          "2021-09-26",
          "2021-09-27",
          "2021-09-28",
          "2021-09-29",
          "2021-09-30",
          "2021-10-01",
          "2021-10-02",
          "2021-10-03",
          "2021-10-04",
          "2021-10-05",
          "2021-10-06",
          "2021-10-07",
          "2021-10-08",
          "2021-10-09",
          "2021-10-10",
          "2021-10-11",
          "2021-10-12",
          "2021-10-13",
          "2021-10-14",
          "2021-10-15",
          "2021-10-16",
          "2021-10-17",
          "2021-10-18",
          "2021-10-19",
          "2021-10-20",
          "2021-10-21",
          "2021-10-22",
          "2021-10-23",
          "2021-10-24",
          "2021-10-25",
          "2021-10-26",
          "2021-10-27",
          "2021-10-28",
          "2021-10-29",
          "2021-10-30",
          "2021-10-31",
          "2021-11-01",
          "2021-11-02",
          "2021-11-03",
          "2021-11-04",
          "2021-11-05",
          "2021-11-06",
          "2021-11-07",
          "2021-11-08",
          "2021-11-09",
          "2021-11-10",
          "2021-11-11",
          "2021-11-12",
          "2021-11-13",
          "2021-11-14",
          "2021-11-15",
          "2021-11-16",
          "2021-11-17",
          "2021-11-18",
          "2021-11-19",
          "2021-11-20",
          "2021-11-21",
          "2021-11-22",
          "2021-11-23",
          "2021-11-24",
          "2021-11-25",
          "2021-11-26",
          "2021-11-27",
          "2021-11-28",
          "2021-11-29",
          "2021-11-30",
          "2021-12-01",
          "2021-12-02",
          "2021-12-03",
          "2021-12-04",
          "2021-12-05",
          "2021-12-06",
          "2021-12-07",
          "2021-12-08",
          "2021-12-09",
          "2021-12-10",
          "2021-12-11",
          "2021-12-12",
          "2021-12-13",
          "2021-12-14",
          "2021-12-15",
          "2021-12-16",
          "2021-12-17",
          "2021-12-18",
          "2021-12-19",
          "2021-12-20",
          "2021-12-21",
          "2021-12-22",
          "2021-12-23",
          "2021-12-24",
          "2021-12-25",
          "2021-12-26",
          "2021-12-27",
          "2021-12-28",
          "2021-12-29",
          "2021-12-30",
          "2021-12-31",
          "2022-01-01",
          "2022-01-02",
          "2022-01-03",
          "2022-01-04",
          "2022-01-05",
          "2022-01-06",
          "2022-01-07",
          "2022-01-08"
         ],
         "y": [
          24999.99,
          24999.99,
          24999.99,
          24770.7,
          25067.24,
          25056.41,
          25280.28,
          25464.88,
          25464.88,
          25464.88,
          25525.82,
          25511.83,
          25342.12,
          25287.95,
          25394.93,
          25394.93,
          25394.93,
          25266.29,
          25396.73,
          25310.52,
          25339.41,
          25464.88,
          25464.88,
          25464.88,
          25581.79,
          25750.59,
          25750.59,
          25608.87,
          25608.87,
          25608.87,
          25608.87,
          50251.37,
          50232.51,
          50650.17,
          50279.21,
          50572.93,
          50572.93,
          50572.93,
          50572.93,
          50597.18,
          50597.18,
          50309.75,
          50315.14,
          50315.14,
          50315.14,
          49939.69,
          49392.68,
          48735.19,
          48578,
          48594.17,
          48594.17,
          48594.17,
          47723.8,
          48047.16,
          47686.08,
          48237.58,
          48838.48,
          48838.48,
          48838.48,
          50407.66,
          74899.29,
          75278.14,
          75078.61,
          77001.17,
          77001.17,
          77001.17,
          77711.69,
          78012.34,
          77361.15,
          77742.7,
          77784.49,
          77784.49,
          77784.49,
          78760.61,
          78548.94,
          78548.94,
          77411.03,
          77659.11,
          77659.11,
          77659.11,
          77819.55,
          78067.62,
          77777.75,
          77737.31,
          76771.98,
          76771.98,
          76771.98,
          75826.87,
          75894.28,
          75589.58,
          76906.8,
          101762.57,
          101762.57,
          101762.57,
          101662.48,
          102491.79,
          102926.11,
          103110.2,
          102686.61,
          102686.61,
          102686.61,
          103051.22,
          103097.69,
          103446.22,
          103406.9,
          102207.61,
          102207.61,
          102207.61,
          99812.61,
          100105.73,
          99474.8,
          100205.82,
          100225.48,
          100225.48,
          100225.48,
          100311.27,
          101344.34,
          101558.81,
          100563.28,
          98851.03,
          98851.03,
          98851.03,
          123834.95,
          123429.62,
          122229.29,
          122733.16,
          123416.18,
          123416.18,
          123416.18,
          122717.48,
          120885.65,
          121544.03,
          120771.44,
          120836.38,
          120836.38,
          120836.38,
          119335.97,
          121226.04,
          120791.59,
          122018.79,
          122657.02,
          122657.02,
          122657.02,
          122657.02,
          120397.45,
          121676.16,
          121676.16,
          122202.42,
          122202.42,
          122202.42,
          122426.36,
          121987.44,
          145648.26,
          143866.69,
          144831.82,
          144831.82,
          144831.82,
          147227.07,
          148270.61,
          147381.17,
          146735.05,
          147889.42,
          147889.42,
          147889.42,
          147889.42,
          145202.19,
          145761.81,
          146378.19,
          147316.29,
          147316.29,
          147316.29,
          148086.77,
          148086.77,
          148843.74,
          148930.25,
          149692.62,
          149692.62,
          149692.62,
          148924.84,
          146097.03,
          146872.92,
          144785.86,
          152428.51,
          152428.51,
          152428.51,
          181329.56,
          180968.94,
          178281.58,
          180112.87,
          179604.88,
          179604.88,
          179604.88,
          177914.69,
          175305.72,
          175305.72,
          174647.21,
          172285.97,
          172285.97,
          172285.97,
          171671.36,
          171671.36,
          174687.98,
          172797.1,
          173333.32,
          173333.32,
          173333.32,
          174164.3,
          175092.49,
          175399.8,
          177927.24,
          180222.63,
          180222.63,
          180222.63,
          180222.63,
          205642.82,
          206031.92,
          205153.76,
          205960.53,
          205960.53,
          205960.53,
          205960.53,
          210108.58,
          210811.82,
          212703.79,
          212982.23,
          212982.23,
          212982.23,
          213096.47,
          212107.64,
          212775.19,
          213710.46,
          213192.85,
          213192.85,
          213192.85,
          213253.53,
          213253.53,
          211654.28,
          212489.61,
          213599.8,
          213599.8,
          213599.8,
          214081.72,
          214417.27,
          215870.16,
          239345.85,
          238915.36,
          238915.36,
          238915.36,
          241414.64,
          240569.59,
          241928.85,
          244161.07,
          242793.84,
          242793.84,
          242793.84,
          241825.21,
          240585.53,
          241829.2,
          241689.69,
          239565.09,
          239565.09,
          239565.09,
          239206.34,
          237057.83,
          237823.16,
          239457.47,
          241916.89,
          241916.89,
          241916.89,
          241175.48,
          242427.12,
          242849.64,
          243280.14,
          243610.99,
          243610.99,
          243610.99,
          268284.1,
          267853.32,
          267853.32,
          266890.66,
          269796.23,
          269796.23,
          269796.23,
          270710.54,
          270209.43,
          270912.74,
          273695.23,
          272912.8,
          272912.8,
          272912.8,
          267708.26,
          268745.65,
          269005,
          272956.75,
          274271.07,
          274271.07,
          274271.07,
          275730.45,
          277457.97,
          278205.25,
          279994.3,
          279959.14,
          279959.14,
          279959.14,
          277537.1,
          301117.27,
          300374.24,
          302828.63,
          304774.88,
          304774.88,
          304774.88,
          302517.04,
          300930.32,
          301740.45,
          299156.64,
          297833.58,
          297833.58,
          297833.58,
          291630.51,
          296069.49,
          299425.09,
          300930.32,
          301625.4,
          301625.4,
          301625.4,
          299822.97,
          301256.29,
          302286.94,
          302109.57,
          300129.77,
          300129.77,
          300129.77,
          299755.86,
          298691.65,
          302612.91,
          304894.72,
          304894.72,
          304894.72,
          304894.72,
          325719.41,
          324805.58,
          321477.35,
          319452.38,
          309244.44,
          309244.44,
          309244.44,
          307671.2,
          313538.42,
          311503.07,
          311643.26,
          303693.94,
          303693.94,
          303693.94,
          289835.86,
          289835.86,
          288667.61,
          265645.23,
          275250.87,
          275250.87,
          275250.87,
          256081.13,
          251776.76,
          240883.45,
          232191.65,
          241984.21,
          241984.21,
          241984.21,
          233800.62,
          238614.54,
          251003.98,
          261195.77,
          262312.04,
          262312.04,
          262312.04,
          255126.04,
          262416.69,
          255201.62,
          255201.62,
          248719.11,
          248719.11,
          248719.11,
          248719.11,
          267271.3,
          269166.64,
          279631.68,
          279631.68,
          279631.68,
          279631.68,
          276875.88,
          276875.88,
          277736.34,
          282439.8,
          290247.88,
          290247.88,
          290247.88,
          291207.17,
          306381.65,
          311230.78,
          315440.54,
          310635.72,
          310635.72,
          310635.72,
          316757.28,
          320264.35,
          324081.62,
          330013.26,
          330013.26,
          330013.26,
          330013.26,
          313756.64,
          310382.5,
          312579.17,
          310616.73,
          310534.43,
          310534.43,
          310534.43,
          310768.66,
          309755.79,
          316187.54,
          310876.28,
          309914.05,
          309914.05,
          309914.05,
          298930.7,
          299418.14,
          304431.87,
          330659.99,
          328345.28,
          328345.28,
          328345.28,
          328345.28,
          329982.01,
          337042.54,
          343158.01,
          346089.05,
          346089.05,
          346089.05,
          354491.83,
          358176.18,
          359566.37,
          359456.8,
          365086.04,
          365086.04,
          365086.04,
          367524.01,
          363408.23,
          366620.05,
          359751.27,
          362517.96,
          362517.96,
          362517.96,
          357505.05,
          360114.23,
          361066.13,
          367667.83,
          374112.01,
          374112.01,
          374112.01,
          403631.87,
          409574.4,
          402843.43,
          404953.24,
          407479.18,
          407479.18,
          407479.18,
          403179.25,
          403697.57,
          407340.47,
          410749.76,
          414859.89,
          414859.89,
          414859.89,
          421999.68,
          423780.98,
          420386.29,
          422262.49,
          420868.12,
          420868.12,
          420868.12,
          421430.25,
          414940.19,
          413560.42,
          418809.4,
          424554.82,
          424554.82,
          424554.82,
          427715.89,
          455853.79,
          455622.07,
          459429.99,
          456842.46,
          456842.46,
          456842.46,
          452300.76,
          455204.98,
          455158.63,
          452756.48,
          454888.3,
          454888.3,
          454888.3,
          451373.88,
          456788.39,
          458796.63,
          461893.94,
          464373.34,
          464373.34,
          464373.34,
          470243.57,
          472599.38,
          472684.34,
          475140.57,
          470483.01,
          470483.01,
          470483.01,
          472545.31,
          479504.62,
          481273.41,
          481173,
          508427.17,
          508427.17,
          508427.17,
          511489.69,
          514129.8,
          516518.07,
          516631.8,
          520003.01,
          520003.01,
          520003.01,
          504804.14,
          509288.25,
          512781.31,
          513512.42,
          504292.36,
          504292.36,
          504292.36,
          503366.3,
          499686.4,
          497428.09,
          503821.21,
          505657.09,
          505657.09,
          505657.09,
          512667.58,
          516932.37,
          519182.55,
          516843.01,
          516956.74,
          516956.74,
          516956.74,
          527300.87,
          522533.9,
          520504.31,
          506365.41,
          518960.8,
          518960.8,
          518960.8,
          531334.47,
          531394.16,
          530481.7,
          536075.86,
          536075.86,
          536075.86,
          536075.86,
          538045.76,
          541917.33,
          542625.12,
          544927.6,
          548330.15,
          548330.15,
          548330.15,
          546675.77,
          546206.75,
          547136.27,
          534924.62,
          540911.06,
          540911.06,
          540911.06,
          546863.38,
          548799.17,
          576705.84,
          577766.61,
          581849.27,
          581849.27,
          581849.27,
          573015.4,
          578773.91,
          573594.82,
          570947.34,
          570278.78,
          570278.78,
          570278.78,
          575350.9,
          581769.04,
          584871.14,
          595710.67,
          598803.86,
          598803.86,
          598803.86,
          608172.57,
          611167.7,
          616284.39,
          615999.14,
          617166.88,
          617166.88,
          617166.88,
          617166.88,
          626704.96,
          628505.6,
          622176.6,
          626232.51,
          626232.51,
          626232.51,
          654600.82,
          662265.48,
          652098.45,
          657270.01,
          662589.86,
          662589.86,
          662589.86,
          662589.86,
          668484.32,
          669003.33,
          670921.81,
          677409.43,
          677409.43,
          677409.43,
          682590.26,
          683479.99,
          688382.78,
          685759.93,
          685064.83,
          685064.83,
          685064.83,
          688327.17,
          687947.18,
          692460.71,
          692432.91,
          693276.3,
          693276.3,
          693276.3,
          694456.22,
          701243.79,
          711425.13,
          717674.31,
          717674.31,
          717674.31,
          717674.31,
          725096.4,
          727692.21,
          730422.62,
          730634.13,
          735681.54,
          735681.54,
          735681.54,
          744776.49,
          749218.21,
          749689.3,
          753083.09,
          762399.16,
          762399.16,
          762399.16,
          765985.23,
          771571.02,
          772917,
          775772.39,
          767898.43,
          767898.43,
          767898.43,
          757851.69,
          770455.79,
          776262.71,
          799261.7,
          788096.61,
          788096.61,
          788096.61,
          783680.19,
          783680.19,
          769984.35,
          768307.1,
          759821.63,
          759821.63,
          759821.63,
          790557.89,
          807439.5,
          818535.12,
          827477.12,
          824231.8,
          824231.8,
          824231.8,
          838394.1,
          839386.55,
          842155.49,
          848527.04,
          848070.51,
          848070.51,
          848070.51,
          858511.11,
          855861.26,
          854848.96,
          854045.07,
          840408.78,
          840408.78,
          840408.78,
          850660.06,
          856425.79,
          868100.38,
          876820.53,
          853788.28,
          853788.28,
          853788.28,
          864123.66,
          875133.75,
          890713.49,
          887155.91,
          875961.81,
          875961.81,
          875961.81,
          878589.1,
          880960.82,
          886286.97,
          886286.97,
          881308.4,
          881308.4,
          881308.4,
          878200.63,
          876575.18,
          863653.4,
          852265.06,
          860596.75,
          860596.75,
          885396.98,
          884881.62,
          892485.79,
          877151.23,
          865855.41,
          876888.3,
          876888.3,
          876888.3,
          876888.3,
          894631.36,
          891917.84,
          900710.49,
          900710.49,
          900710.49,
          900710.49,
          887447.89,
          890571.6,
          902982.28,
          905790.46,
          903392.46,
          903392.46,
          903392.46,
          869652.24,
          880600.98,
          880600.98,
          884839.55,
          886701.15,
          886701.15,
          886701.15,
          874669.1,
          873512.17,
          873512.17,
          904147.59,
          903033.44,
          903033.44,
          903033.44,
          914250.64,
          927393.27,
          937096.09,
          939454.19,
          930324.67,
          930324.67,
          930324.67,
          933796.91,
          928864.37,
          939778.7,
          947307.32,
          949384.17,
          949384.17,
          949384.17,
          953602.79,
          954305.9,
          945717.22,
          945717.22,
          938502.3,
          938502.3,
          938502.3,
          954695.31,
          966063.95,
          965761.07,
          960287.68,
          999109.84,
          999109.84,
          999109.84,
          1005665.63,
          1005299.57,
          1009170.93,
          1012398.91,
          1011078.88,
          1011078.88,
          1011078.88,
          1017179.87,
          1015793.28,
          1020119.44,
          1027961.99,
          1027218.78,
          1027218.78,
          1027218.78,
          1034961.5,
          1037701.4,
          1029104.54,
          1038699.74,
          1041306.53,
          1041306.53,
          1041306.53,
          1041162.32,
          1048505.7,
          1042670.93,
          1036115.14,
          1033452.89,
          1033452.89,
          1033452.89,
          1060591.91,
          1061932.46,
          1060148.84,
          1069975.77,
          1079484.59,
          1079484.59,
          1079484.59,
          1080961.47,
          1076110.49,
          1078689.35,
          1079257.38,
          1084119.72,
          1084119.72,
          1084119.72,
          1089038.86,
          1090504.38,
          1093628.54,
          1084187.88,
          1086266.87,
          1086266.87,
          1086266.87,
          1090015.87,
          1096491.42,
          1101081.1,
          1103682.68,
          1106534.19,
          1106534.19,
          1106534.19,
          1098547.69,
          1088550.35,
          1088550.35,
          1126594.33,
          1134180.01,
          1134180.01,
          1134180.01,
          1136480.1,
          1131914.76,
          1131252.61,
          1143368.78,
          1145053.19,
          1145053.19,
          1145053.19,
          1151860.55,
          1163883.78,
          1166021.24,
          1164453,
          1163570.13,
          1163570.13,
          1163570.13,
          1161757.93,
          1155601.11,
          1155543.03,
          1162083.2,
          1166915.73,
          1166915.73,
          1166915.73,
          1167845.06,
          1172282.62,
          1168855.71,
          1168855.71,
          1152650.48,
          1152650.48,
          1152650.48,
          1150664.03,
          1156611.76,
          1158319.4,
          1156681.46,
          1165719.21,
          1165719.21,
          1165719.21,
          1185211.95,
          1199035.76,
          1204495.59,
          1214695.01,
          1220027.05,
          1220027.05,
          1220027.05,
          1222919.6,
          1220154.83,
          1222350.38,
          1225637.89,
          1225637.89,
          1225637.89,
          1225637.89,
          1226195.49,
          1233769.55,
          1244119.98,
          1247488.81,
          1238137.41,
          1238137.41,
          1238137.41,
          1216356.19,
          1219306.82,
          1226369.74,
          1241355.22,
          1236069.64,
          1236069.64,
          1236069.64,
          1238938.96,
          1231167.42,
          1233757.93,
          1230121.92,
          1227101.59,
          1227101.59,
          1227101.59,
          1243725.02,
          1250404.59,
          1240309.72,
          1261568.19,
          1264739.54,
          1264739.54,
          1264739.54,
          1272580.77,
          1274416.2,
          1283407.49,
          1295570.12,
          1295570.12,
          1295570.12,
          1295570.12,
          1306861.51,
          1294896.36,
          1278435.57,
          1272185.81,
          1264030.92,
          1264030.92,
          1264030.92,
          1257583.68,
          1271570.13,
          1267574,
          1249870.22,
          1243481.07,
          1243481.07,
          1243481.07,
          1265204.2,
          1269827.63,
          1267725.01,
          1267725.01,
          1267725.01,
          1267725.01,
          1267725.01,
          1291039.63,
          1291422.98,
          1287171.29,
          1277529.47,
          1286950.57,
          1286950.57,
          1286950.57,
          1285998,
          1280015.43,
          1277529.47,
          1260336.83,
          1260336.83,
          1260336.83,
          1260336.83,
          1232154.83,
          1245583.68,
          1242005.75,
          1248557.54,
          1211407.5,
          1211407.5,
          1211407.5,
          1204542.06,
          1211035.76,
          1219004.78,
          1230842.15,
          1228472.35,
          1228472.35,
          1228472.35,
          1209270.03,
          1228181.94,
          1245688.23,
          1248824.72,
          1251554.64,
          1251554.64,
          1251554.64,
          1249161.61,
          1246849.89,
          1240553.67,
          1236673.71,
          1218133.54,
          1218133.54,
          1218133.54,
          1186234.21,
          1197409.43,
          1210431.7,
          1218052.22,
          1211663.06,
          1211663.06,
          1211663.06,
          1215763.74,
          1229668.87,
          1228321.34,
          1229204.2,
          1240937.02,
          1240937.02,
          1240937.02,
          1260046.41,
          1267550.76,
          1271674.68,
          1265111.27,
          1271953.48,
          1271953.48
         ]
        }
       ],
       "layout": {
        "template": {
         "data": {
          "bar": [
           {
            "error_x": {
             "color": "#2a3f5f"
            },
            "error_y": {
             "color": "#2a3f5f"
            },
            "marker": {
             "line": {
              "color": "#E5ECF6",
              "width": 0.5
             },
             "pattern": {
              "fillmode": "overlay",
              "size": 10,
              "solidity": 0.2
             }
            },
            "type": "bar"
           }
          ],
          "barpolar": [
           {
            "marker": {
             "line": {
              "color": "#E5ECF6",
              "width": 0.5
             },
             "pattern": {
              "fillmode": "overlay",
              "size": 10,
              "solidity": 0.2
             }
            },
            "type": "barpolar"
           }
          ],
          "carpet": [
           {
            "aaxis": {
             "endlinecolor": "#2a3f5f",
             "gridcolor": "white",
             "linecolor": "white",
             "minorgridcolor": "white",
             "startlinecolor": "#2a3f5f"
            },
            "baxis": {
             "endlinecolor": "#2a3f5f",
             "gridcolor": "white",
             "linecolor": "white",
             "minorgridcolor": "white",
             "startlinecolor": "#2a3f5f"
            },
            "type": "carpet"
           }
          ],
          "choropleth": [
           {
            "colorbar": {
             "outlinewidth": 0,
             "ticks": ""
            },
            "type": "choropleth"
           }
          ],
          "contour": [
           {
            "colorbar": {
             "outlinewidth": 0,
             "ticks": ""
            },
            "colorscale": [
             [
              0,
              "#0d0887"
             ],
             [
              0.1111111111111111,
              "#46039f"
             ],
             [
              0.2222222222222222,
              "#7201a8"
             ],
             [
              0.3333333333333333,
              "#9c179e"
             ],
             [
              0.4444444444444444,
              "#bd3786"
             ],
             [
              0.5555555555555556,
              "#d8576b"
             ],
             [
              0.6666666666666666,
              "#ed7953"
             ],
             [
              0.7777777777777778,
              "#fb9f3a"
             ],
             [
              0.8888888888888888,
              "#fdca26"
             ],
             [
              1,
              "#f0f921"
             ]
            ],
            "type": "contour"
           }
          ],
          "contourcarpet": [
           {
            "colorbar": {
             "outlinewidth": 0,
             "ticks": ""
            },
            "type": "contourcarpet"
           }
          ],
          "heatmap": [
           {
            "colorbar": {
             "outlinewidth": 0,
             "ticks": ""
            },
            "colorscale": [
             [
              0,
              "#0d0887"
             ],
             [
              0.1111111111111111,
              "#46039f"
             ],
             [
              0.2222222222222222,
              "#7201a8"
             ],
             [
              0.3333333333333333,
              "#9c179e"
             ],
             [
              0.4444444444444444,
              "#bd3786"
             ],
             [
              0.5555555555555556,
              "#d8576b"
             ],
             [
              0.6666666666666666,
              "#ed7953"
             ],
             [
              0.7777777777777778,
              "#fb9f3a"
             ],
             [
              0.8888888888888888,
              "#fdca26"
             ],
             [
              1,
              "#f0f921"
             ]
            ],
            "type": "heatmap"
           }
          ],
          "heatmapgl": [
           {
            "colorbar": {
             "outlinewidth": 0,
             "ticks": ""
            },
            "colorscale": [
             [
              0,
              "#0d0887"
             ],
             [
              0.1111111111111111,
              "#46039f"
             ],
             [
              0.2222222222222222,
              "#7201a8"
             ],
             [
              0.3333333333333333,
              "#9c179e"
             ],
             [
              0.4444444444444444,
              "#bd3786"
             ],
             [
              0.5555555555555556,
              "#d8576b"
             ],
             [
              0.6666666666666666,
              "#ed7953"
             ],
             [
              0.7777777777777778,
              "#fb9f3a"
             ],
             [
              0.8888888888888888,
              "#fdca26"
             ],
             [
              1,
              "#f0f921"
             ]
            ],
            "type": "heatmapgl"
           }
          ],
          "histogram": [
           {
            "marker": {
             "pattern": {
              "fillmode": "overlay",
              "size": 10,
              "solidity": 0.2
             }
            },
            "type": "histogram"
           }
          ],
          "histogram2d": [
           {
            "colorbar": {
             "outlinewidth": 0,
             "ticks": ""
            },
            "colorscale": [
             [
              0,
              "#0d0887"
             ],
             [
              0.1111111111111111,
              "#46039f"
             ],
             [
              0.2222222222222222,
              "#7201a8"
             ],
             [
              0.3333333333333333,
              "#9c179e"
             ],
             [
              0.4444444444444444,
              "#bd3786"
             ],
             [
              0.5555555555555556,
              "#d8576b"
             ],
             [
              0.6666666666666666,
              "#ed7953"
             ],
             [
              0.7777777777777778,
              "#fb9f3a"
             ],
             [
              0.8888888888888888,
              "#fdca26"
             ],
             [
              1,
              "#f0f921"
             ]
            ],
            "type": "histogram2d"
           }
          ],
          "histogram2dcontour": [
           {
            "colorbar": {
             "outlinewidth": 0,
             "ticks": ""
            },
            "colorscale": [
             [
              0,
              "#0d0887"
             ],
             [
              0.1111111111111111,
              "#46039f"
             ],
             [
              0.2222222222222222,
              "#7201a8"
             ],
             [
              0.3333333333333333,
              "#9c179e"
             ],
             [
              0.4444444444444444,
              "#bd3786"
             ],
             [
              0.5555555555555556,
              "#d8576b"
             ],
             [
              0.6666666666666666,
              "#ed7953"
             ],
             [
              0.7777777777777778,
              "#fb9f3a"
             ],
             [
              0.8888888888888888,
              "#fdca26"
             ],
             [
              1,
              "#f0f921"
             ]
            ],
            "type": "histogram2dcontour"
           }
          ],
          "mesh3d": [
           {
            "colorbar": {
             "outlinewidth": 0,
             "ticks": ""
            },
            "type": "mesh3d"
           }
          ],
          "parcoords": [
           {
            "line": {
             "colorbar": {
              "outlinewidth": 0,
              "ticks": ""
             }
            },
            "type": "parcoords"
           }
          ],
          "pie": [
           {
            "automargin": true,
            "type": "pie"
           }
          ],
          "scatter": [
           {
            "marker": {
             "colorbar": {
              "outlinewidth": 0,
              "ticks": ""
             }
            },
            "type": "scatter"
           }
          ],
          "scatter3d": [
           {
            "line": {
             "colorbar": {
              "outlinewidth": 0,
              "ticks": ""
             }
            },
            "marker": {
             "colorbar": {
              "outlinewidth": 0,
              "ticks": ""
             }
            },
            "type": "scatter3d"
           }
          ],
          "scattercarpet": [
           {
            "marker": {
             "colorbar": {
              "outlinewidth": 0,
              "ticks": ""
             }
            },
            "type": "scattercarpet"
           }
          ],
          "scattergeo": [
           {
            "marker": {
             "colorbar": {
              "outlinewidth": 0,
              "ticks": ""
             }
            },
            "type": "scattergeo"
           }
          ],
          "scattergl": [
           {
            "marker": {
             "colorbar": {
              "outlinewidth": 0,
              "ticks": ""
             }
            },
            "type": "scattergl"
           }
          ],
          "scattermapbox": [
           {
            "marker": {
             "colorbar": {
              "outlinewidth": 0,
              "ticks": ""
             }
            },
            "type": "scattermapbox"
           }
          ],
          "scatterpolar": [
           {
            "marker": {
             "colorbar": {
              "outlinewidth": 0,
              "ticks": ""
             }
            },
            "type": "scatterpolar"
           }
          ],
          "scatterpolargl": [
           {
            "marker": {
             "colorbar": {
              "outlinewidth": 0,
              "ticks": ""
             }
            },
            "type": "scatterpolargl"
           }
          ],
          "scatterternary": [
           {
            "marker": {
             "colorbar": {
              "outlinewidth": 0,
              "ticks": ""
             }
            },
            "type": "scatterternary"
           }
          ],
          "surface": [
           {
            "colorbar": {
             "outlinewidth": 0,
             "ticks": ""
            },
            "colorscale": [
             [
              0,
              "#0d0887"
             ],
             [
              0.1111111111111111,
              "#46039f"
             ],
             [
              0.2222222222222222,
              "#7201a8"
             ],
             [
              0.3333333333333333,
              "#9c179e"
             ],
             [
              0.4444444444444444,
              "#bd3786"
             ],
             [
              0.5555555555555556,
              "#d8576b"
             ],
             [
              0.6666666666666666,
              "#ed7953"
             ],
             [
              0.7777777777777778,
              "#fb9f3a"
             ],
             [
              0.8888888888888888,
              "#fdca26"
             ],
             [
              1,
              "#f0f921"
             ]
            ],
            "type": "surface"
           }
          ],
          "table": [
           {
            "cells": {
             "fill": {
              "color": "#EBF0F8"
             },
             "line": {
              "color": "white"
             }
            },
            "header": {
             "fill": {
              "color": "#C8D4E3"
             },
             "line": {
              "color": "white"
             }
            },
            "type": "table"
           }
          ]
         },
         "layout": {
          "annotationdefaults": {
           "arrowcolor": "#2a3f5f",
           "arrowhead": 0,
           "arrowwidth": 1
          },
          "autotypenumbers": "strict",
          "coloraxis": {
           "colorbar": {
            "outlinewidth": 0,
            "ticks": ""
           }
          },
          "colorscale": {
           "diverging": [
            [
             0,
             "#8e0152"
            ],
            [
             0.1,
             "#c51b7d"
            ],
            [
             0.2,
             "#de77ae"
            ],
            [
             0.3,
             "#f1b6da"
            ],
            [
             0.4,
             "#fde0ef"
            ],
            [
             0.5,
             "#f7f7f7"
            ],
            [
             0.6,
             "#e6f5d0"
            ],
            [
             0.7,
             "#b8e186"
            ],
            [
             0.8,
             "#7fbc41"
            ],
            [
             0.9,
             "#4d9221"
            ],
            [
             1,
             "#276419"
            ]
           ],
           "sequential": [
            [
             0,
             "#0d0887"
            ],
            [
             0.1111111111111111,
             "#46039f"
            ],
            [
             0.2222222222222222,
             "#7201a8"
            ],
            [
             0.3333333333333333,
             "#9c179e"
            ],
            [
             0.4444444444444444,
             "#bd3786"
            ],
            [
             0.5555555555555556,
             "#d8576b"
            ],
            [
             0.6666666666666666,
             "#ed7953"
            ],
            [
             0.7777777777777778,
             "#fb9f3a"
            ],
            [
             0.8888888888888888,
             "#fdca26"
            ],
            [
             1,
             "#f0f921"
            ]
           ],
           "sequentialminus": [
            [
             0,
             "#0d0887"
            ],
            [
             0.1111111111111111,
             "#46039f"
            ],
            [
             0.2222222222222222,
             "#7201a8"
            ],
            [
             0.3333333333333333,
             "#9c179e"
            ],
            [
             0.4444444444444444,
             "#bd3786"
            ],
            [
             0.5555555555555556,
             "#d8576b"
            ],
            [
             0.6666666666666666,
             "#ed7953"
            ],
            [
             0.7777777777777778,
             "#fb9f3a"
            ],
            [
             0.8888888888888888,
             "#fdca26"
            ],
            [
             1,
             "#f0f921"
            ]
           ]
          },
          "colorway": [
           "#636efa",
           "#EF553B",
           "#00cc96",
           "#ab63fa",
           "#FFA15A",
           "#19d3f3",
           "#FF6692",
           "#B6E880",
           "#FF97FF",
           "#FECB52"
          ],
          "font": {
           "color": "#2a3f5f"
          },
          "geo": {
           "bgcolor": "white",
           "lakecolor": "white",
           "landcolor": "#E5ECF6",
           "showlakes": true,
           "showland": true,
           "subunitcolor": "white"
          },
          "hoverlabel": {
           "align": "left"
          },
          "hovermode": "closest",
          "mapbox": {
           "style": "light"
          },
          "paper_bgcolor": "white",
          "plot_bgcolor": "#E5ECF6",
          "polar": {
           "angularaxis": {
            "gridcolor": "white",
            "linecolor": "white",
            "ticks": ""
           },
           "bgcolor": "#E5ECF6",
           "radialaxis": {
            "gridcolor": "white",
            "linecolor": "white",
            "ticks": ""
           }
          },
          "scene": {
           "xaxis": {
            "backgroundcolor": "#E5ECF6",
            "gridcolor": "white",
            "gridwidth": 2,
            "linecolor": "white",
            "showbackground": true,
            "ticks": "",
            "zerolinecolor": "white"
           },
           "yaxis": {
            "backgroundcolor": "#E5ECF6",
            "gridcolor": "white",
            "gridwidth": 2,
            "linecolor": "white",
            "showbackground": true,
            "ticks": "",
            "zerolinecolor": "white"
           },
           "zaxis": {
            "backgroundcolor": "#E5ECF6",
            "gridcolor": "white",
            "gridwidth": 2,
            "linecolor": "white",
            "showbackground": true,
            "ticks": "",
            "zerolinecolor": "white"
           }
          },
          "shapedefaults": {
           "line": {
            "color": "#2a3f5f"
           }
          },
          "ternary": {
           "aaxis": {
            "gridcolor": "white",
            "linecolor": "white",
            "ticks": ""
           },
           "baxis": {
            "gridcolor": "white",
            "linecolor": "white",
            "ticks": ""
           },
           "bgcolor": "#E5ECF6",
           "caxis": {
            "gridcolor": "white",
            "linecolor": "white",
            "ticks": ""
           }
          },
          "title": {
           "x": 0.05
          },
          "xaxis": {
           "automargin": true,
           "gridcolor": "white",
           "linecolor": "white",
           "ticks": "",
           "title": {
            "standoff": 15
           },
           "zerolinecolor": "white",
           "zerolinewidth": 2
          },
          "yaxis": {
           "automargin": true,
           "gridcolor": "white",
           "linecolor": "white",
           "ticks": "",
           "title": {
            "standoff": 15
           },
           "zerolinecolor": "white",
           "zerolinewidth": 2
          }
         }
        },
        "title": {
         "text": "Mirae Asset Emerging Bluechip Fund - Direct Plan - Growth"
        }
       }
      }
     },
     "metadata": {},
     "output_type": "display_data"
    }
   ],
   "source": [
    "\n",
    "\n",
    "scheme_code = '118834'\n",
    "mf_history = get_portfolio_history_for_scheme(scheme_code, cg.mf_trans_df)\n",
    "mf_history.tail()\n",
    "\n",
    "df = mf_history\n",
    "scheme_name = df.iloc[0].scheme_name\n",
    "\n",
    "from plotly import graph_objects as go\n",
    "\n",
    "fig = go.Figure()\n",
    "fig.add_trace(go.Scatter(x=df.date, y=df.invested_amt,\n",
    "                    mode='lines',\n",
    "                    name='Invested Amount'))\n",
    "\n",
    "fig.add_trace(go.Scatter(x=df.date, y=df.current_amt,\n",
    "                    mode='lines',\n",
    "                    name='Current Amount'))\n",
    "fig.update_layout(title = scheme_name )              \n",
    "fig.show()"
   ]
  },
  {
   "cell_type": "code",
   "execution_count": 19,
   "metadata": {},
   "outputs": [
    {
     "data": {
      "text/html": [
       "<div>\n",
       "<style scoped>\n",
       "    .dataframe tbody tr th:only-of-type {\n",
       "        vertical-align: middle;\n",
       "    }\n",
       "\n",
       "    .dataframe tbody tr th {\n",
       "        vertical-align: top;\n",
       "    }\n",
       "\n",
       "    .dataframe thead th {\n",
       "        text-align: right;\n",
       "    }\n",
       "</style>\n",
       "<table border=\"1\" class=\"dataframe\">\n",
       "  <thead>\n",
       "    <tr style=\"text-align: right;\">\n",
       "      <th></th>\n",
       "      <th>scheme_name</th>\n",
       "      <th>trans_date</th>\n",
       "      <th>amount</th>\n",
       "      <th>units</th>\n",
       "      <th>purch_nav</th>\n",
       "      <th>trans_type</th>\n",
       "      <th>latest_nav</th>\n",
       "      <th>units_redeemed</th>\n",
       "      <th>units_remain</th>\n",
       "      <th>invested_amt</th>\n",
       "      <th>current_amt</th>\n",
       "      <th>ltcg</th>\n",
       "      <th>stcg</th>\n",
       "      <th>cumil_ltcg</th>\n",
       "      <th>cumil_units</th>\n",
       "    </tr>\n",
       "  </thead>\n",
       "  <tbody>\n",
       "    <tr>\n",
       "      <th>210</th>\n",
       "      <td>Mirae Asset Emerging Bluechip Fund - Direct Plan - Growth</td>\n",
       "      <td>2019-03-22</td>\n",
       "      <td>25000.00</td>\n",
       "      <td>451.353</td>\n",
       "      <td>55.389</td>\n",
       "      <td>PURCHASE_SIP</td>\n",
       "      <td>100.240</td>\n",
       "      <td>0</td>\n",
       "      <td>451.353</td>\n",
       "      <td>24999.99</td>\n",
       "      <td>45243.62</td>\n",
       "      <td>20243.633403</td>\n",
       "      <td>0</td>\n",
       "      <td>20243.633403</td>\n",
       "      <td>451.353</td>\n",
       "    </tr>\n",
       "    <tr>\n",
       "      <th>211</th>\n",
       "      <td>Mirae Asset Emerging Bluechip Fund - Direct Plan - Growth</td>\n",
       "      <td>2019-04-22</td>\n",
       "      <td>25000.00</td>\n",
       "      <td>446.859</td>\n",
       "      <td>55.946</td>\n",
       "      <td>PURCHASE_SIP</td>\n",
       "      <td>100.240</td>\n",
       "      <td>0</td>\n",
       "      <td>446.859</td>\n",
       "      <td>24999.97</td>\n",
       "      <td>44793.15</td>\n",
       "      <td>19793.172546</td>\n",
       "      <td>0</td>\n",
       "      <td>40036.805949</td>\n",
       "      <td>898.212</td>\n",
       "    </tr>\n",
       "    <tr>\n",
       "      <th>212</th>\n",
       "      <td>Mirae Asset Emerging Bluechip Fund - Direct Plan - Growth</td>\n",
       "      <td>2019-05-21</td>\n",
       "      <td>25000.00</td>\n",
       "      <td>450.013</td>\n",
       "      <td>55.554</td>\n",
       "      <td>PURCHASE_SIP</td>\n",
       "      <td>100.240</td>\n",
       "      <td>0</td>\n",
       "      <td>450.013</td>\n",
       "      <td>25000.02</td>\n",
       "      <td>45109.30</td>\n",
       "      <td>20109.280918</td>\n",
       "      <td>0</td>\n",
       "      <td>60146.086867</td>\n",
       "      <td>1348.225</td>\n",
       "    </tr>\n",
       "    <tr>\n",
       "      <th>213</th>\n",
       "      <td>Mirae Asset Emerging Bluechip Fund - Direct Plan - Growth</td>\n",
       "      <td>2019-06-21</td>\n",
       "      <td>25000.00</td>\n",
       "      <td>439.090</td>\n",
       "      <td>56.936</td>\n",
       "      <td>PURCHASE_SIP</td>\n",
       "      <td>100.240</td>\n",
       "      <td>0</td>\n",
       "      <td>439.090</td>\n",
       "      <td>25000.03</td>\n",
       "      <td>44014.38</td>\n",
       "      <td>19014.353360</td>\n",
       "      <td>0</td>\n",
       "      <td>79160.440227</td>\n",
       "      <td>1787.315</td>\n",
       "    </tr>\n",
       "    <tr>\n",
       "      <th>214</th>\n",
       "      <td>Mirae Asset Emerging Bluechip Fund - Direct Plan - Growth</td>\n",
       "      <td>2019-07-22</td>\n",
       "      <td>25000.00</td>\n",
       "      <td>452.096</td>\n",
       "      <td>55.298</td>\n",
       "      <td>PURCHASE_SIP</td>\n",
       "      <td>100.240</td>\n",
       "      <td>0</td>\n",
       "      <td>452.096</td>\n",
       "      <td>25000.00</td>\n",
       "      <td>45318.10</td>\n",
       "      <td>20318.098432</td>\n",
       "      <td>0</td>\n",
       "      <td>99478.538659</td>\n",
       "      <td>2239.411</td>\n",
       "    </tr>\n",
       "    <tr>\n",
       "      <th>215</th>\n",
       "      <td>Mirae Asset Emerging Bluechip Fund - Direct Plan - Growth</td>\n",
       "      <td>2019-08-21</td>\n",
       "      <td>25000.00</td>\n",
       "      <td>464.037</td>\n",
       "      <td>53.875</td>\n",
       "      <td>PURCHASE_SIP</td>\n",
       "      <td>100.240</td>\n",
       "      <td>0</td>\n",
       "      <td>464.037</td>\n",
       "      <td>24999.99</td>\n",
       "      <td>46515.07</td>\n",
       "      <td>21515.075505</td>\n",
       "      <td>0</td>\n",
       "      <td>120993.614164</td>\n",
       "      <td>2703.448</td>\n",
       "    </tr>\n",
       "    <tr>\n",
       "      <th>216</th>\n",
       "      <td>Mirae Asset Emerging Bluechip Fund - Direct Plan - Growth</td>\n",
       "      <td>2019-09-23</td>\n",
       "      <td>25000.00</td>\n",
       "      <td>432.331</td>\n",
       "      <td>57.826</td>\n",
       "      <td>PURCHASE_SIP</td>\n",
       "      <td>100.240</td>\n",
       "      <td>0</td>\n",
       "      <td>432.331</td>\n",
       "      <td>24999.97</td>\n",
       "      <td>43336.86</td>\n",
       "      <td>18336.887034</td>\n",
       "      <td>0</td>\n",
       "      <td>139330.501198</td>\n",
       "      <td>3135.779</td>\n",
       "    </tr>\n",
       "    <tr>\n",
       "      <th>217</th>\n",
       "      <td>Mirae Asset Emerging Bluechip Fund - Direct Plan - Growth</td>\n",
       "      <td>2019-10-22</td>\n",
       "      <td>25000.00</td>\n",
       "      <td>433.975</td>\n",
       "      <td>57.607</td>\n",
       "      <td>PURCHASE_SIP</td>\n",
       "      <td>100.240</td>\n",
       "      <td>0</td>\n",
       "      <td>433.975</td>\n",
       "      <td>25000.00</td>\n",
       "      <td>43501.65</td>\n",
       "      <td>18501.656175</td>\n",
       "      <td>0</td>\n",
       "      <td>157832.157373</td>\n",
       "      <td>3569.754</td>\n",
       "    </tr>\n",
       "    <tr>\n",
       "      <th>218</th>\n",
       "      <td>Mirae Asset Emerging Bluechip Fund - Direct Plan - Growth</td>\n",
       "      <td>2019-11-21</td>\n",
       "      <td>25000.00</td>\n",
       "      <td>416.354</td>\n",
       "      <td>60.045</td>\n",
       "      <td>PURCHASE_SIP</td>\n",
       "      <td>100.240</td>\n",
       "      <td>0</td>\n",
       "      <td>416.354</td>\n",
       "      <td>24999.98</td>\n",
       "      <td>41735.32</td>\n",
       "      <td>16735.349030</td>\n",
       "      <td>0</td>\n",
       "      <td>174567.506403</td>\n",
       "      <td>3986.108</td>\n",
       "    </tr>\n",
       "    <tr>\n",
       "      <th>219</th>\n",
       "      <td>Mirae Asset Emerging Bluechip Fund - Direct Plan - Growth</td>\n",
       "      <td>2019-12-23</td>\n",
       "      <td>25000.00</td>\n",
       "      <td>409.614</td>\n",
       "      <td>61.033</td>\n",
       "      <td>PURCHASE_SIP</td>\n",
       "      <td>100.240</td>\n",
       "      <td>0</td>\n",
       "      <td>409.614</td>\n",
       "      <td>24999.97</td>\n",
       "      <td>41059.71</td>\n",
       "      <td>16059.736098</td>\n",
       "      <td>0</td>\n",
       "      <td>190627.242501</td>\n",
       "      <td>4395.722</td>\n",
       "    </tr>\n",
       "    <tr>\n",
       "      <th>220</th>\n",
       "      <td>Mirae Asset Emerging Bluechip Fund - Direct Plan - Growth</td>\n",
       "      <td>2020-01-21</td>\n",
       "      <td>25000.00</td>\n",
       "      <td>397.994</td>\n",
       "      <td>62.815</td>\n",
       "      <td>PURCHASE_SIP</td>\n",
       "      <td>100.240</td>\n",
       "      <td>0</td>\n",
       "      <td>397.994</td>\n",
       "      <td>24999.99</td>\n",
       "      <td>39894.92</td>\n",
       "      <td>14894.925450</td>\n",
       "      <td>0</td>\n",
       "      <td>205522.167951</td>\n",
       "      <td>4793.716</td>\n",
       "    </tr>\n",
       "    <tr>\n",
       "      <th>221</th>\n",
       "      <td>Mirae Asset Emerging Bluechip Fund - Direct Plan - Growth</td>\n",
       "      <td>2020-02-24</td>\n",
       "      <td>25000.00</td>\n",
       "      <td>398.521</td>\n",
       "      <td>62.732</td>\n",
       "      <td>PURCHASE_SIP</td>\n",
       "      <td>100.240</td>\n",
       "      <td>0</td>\n",
       "      <td>398.521</td>\n",
       "      <td>25000.02</td>\n",
       "      <td>39947.75</td>\n",
       "      <td>14947.725668</td>\n",
       "      <td>0</td>\n",
       "      <td>220469.893619</td>\n",
       "      <td>5192.237</td>\n",
       "    </tr>\n",
       "    <tr>\n",
       "      <th>222</th>\n",
       "      <td>Mirae Asset Emerging Bluechip Fund - Direct Plan - Growth</td>\n",
       "      <td>2020-03-23</td>\n",
       "      <td>25000.00</td>\n",
       "      <td>621.674</td>\n",
       "      <td>40.214</td>\n",
       "      <td>PURCHASE_SIP</td>\n",
       "      <td>100.240</td>\n",
       "      <td>0</td>\n",
       "      <td>621.674</td>\n",
       "      <td>25000.00</td>\n",
       "      <td>62316.60</td>\n",
       "      <td>37316.603524</td>\n",
       "      <td>0</td>\n",
       "      <td>257786.497143</td>\n",
       "      <td>5813.911</td>\n",
       "    </tr>\n",
       "    <tr>\n",
       "      <th>223</th>\n",
       "      <td>Mirae Asset Emerging Bluechip Fund - Direct Plan - Growth</td>\n",
       "      <td>2020-04-21</td>\n",
       "      <td>25000.00</td>\n",
       "      <td>516.550</td>\n",
       "      <td>48.398</td>\n",
       "      <td>PURCHASE_SIP</td>\n",
       "      <td>100.240</td>\n",
       "      <td>0</td>\n",
       "      <td>516.550</td>\n",
       "      <td>24999.99</td>\n",
       "      <td>51778.97</td>\n",
       "      <td>26778.985100</td>\n",
       "      <td>0</td>\n",
       "      <td>284565.482243</td>\n",
       "      <td>6330.461</td>\n",
       "    </tr>\n",
       "    <tr>\n",
       "      <th>224</th>\n",
       "      <td>Mirae Asset Emerging Bluechip Fund - Direct Plan - Growth</td>\n",
       "      <td>2020-05-21</td>\n",
       "      <td>25000.00</td>\n",
       "      <td>517.770</td>\n",
       "      <td>48.284</td>\n",
       "      <td>PURCHASE_SIP</td>\n",
       "      <td>100.240</td>\n",
       "      <td>0</td>\n",
       "      <td>517.770</td>\n",
       "      <td>25000.01</td>\n",
       "      <td>51901.26</td>\n",
       "      <td>26901.258120</td>\n",
       "      <td>0</td>\n",
       "      <td>311466.740363</td>\n",
       "      <td>6848.231</td>\n",
       "    </tr>\n",
       "    <tr>\n",
       "      <th>225</th>\n",
       "      <td>Mirae Asset Emerging Bluechip Fund - Direct Plan - Growth</td>\n",
       "      <td>2020-06-22</td>\n",
       "      <td>25000.00</td>\n",
       "      <td>452.170</td>\n",
       "      <td>55.289</td>\n",
       "      <td>PURCHASE_SIP</td>\n",
       "      <td>100.240</td>\n",
       "      <td>0</td>\n",
       "      <td>452.170</td>\n",
       "      <td>25000.03</td>\n",
       "      <td>45325.52</td>\n",
       "      <td>20325.493670</td>\n",
       "      <td>0</td>\n",
       "      <td>331792.234033</td>\n",
       "      <td>7300.401</td>\n",
       "    </tr>\n",
       "    <tr>\n",
       "      <th>226</th>\n",
       "      <td>Mirae Asset Emerging Bluechip Fund - Direct Plan - Growth</td>\n",
       "      <td>2020-07-21</td>\n",
       "      <td>24998.75</td>\n",
       "      <td>423.578</td>\n",
       "      <td>59.018</td>\n",
       "      <td>PURCHASE_SIP</td>\n",
       "      <td>100.240</td>\n",
       "      <td>0</td>\n",
       "      <td>423.578</td>\n",
       "      <td>24998.73</td>\n",
       "      <td>42459.46</td>\n",
       "      <td>17460.732316</td>\n",
       "      <td>0</td>\n",
       "      <td>349252.966349</td>\n",
       "      <td>7723.979</td>\n",
       "    </tr>\n",
       "    <tr>\n",
       "      <th>227</th>\n",
       "      <td>Mirae Asset Emerging Bluechip Fund - Direct Plan - Growth</td>\n",
       "      <td>2020-08-21</td>\n",
       "      <td>24998.75</td>\n",
       "      <td>399.418</td>\n",
       "      <td>62.588</td>\n",
       "      <td>PURCHASE_SIP</td>\n",
       "      <td>100.240</td>\n",
       "      <td>0</td>\n",
       "      <td>399.418</td>\n",
       "      <td>24998.77</td>\n",
       "      <td>40037.66</td>\n",
       "      <td>0</td>\n",
       "      <td>15038.886536</td>\n",
       "      <td>349252.966349</td>\n",
       "      <td>8123.397</td>\n",
       "    </tr>\n",
       "    <tr>\n",
       "      <th>228</th>\n",
       "      <td>Mirae Asset Emerging Bluechip Fund - Direct Plan - Growth</td>\n",
       "      <td>2020-09-21</td>\n",
       "      <td>24998.75</td>\n",
       "      <td>404.288</td>\n",
       "      <td>61.834</td>\n",
       "      <td>PURCHASE_SIP</td>\n",
       "      <td>100.240</td>\n",
       "      <td>0</td>\n",
       "      <td>404.288</td>\n",
       "      <td>24998.74</td>\n",
       "      <td>40525.83</td>\n",
       "      <td>0</td>\n",
       "      <td>15527.084928</td>\n",
       "      <td>349252.966349</td>\n",
       "      <td>8527.685</td>\n",
       "    </tr>\n",
       "    <tr>\n",
       "      <th>229</th>\n",
       "      <td>Mirae Asset Emerging Bluechip Fund - Direct Plan - Growth</td>\n",
       "      <td>2020-10-21</td>\n",
       "      <td>24998.75</td>\n",
       "      <td>386.403</td>\n",
       "      <td>64.696</td>\n",
       "      <td>PURCHASE_SIP</td>\n",
       "      <td>100.240</td>\n",
       "      <td>0</td>\n",
       "      <td>386.403</td>\n",
       "      <td>24998.73</td>\n",
       "      <td>38733.04</td>\n",
       "      <td>0</td>\n",
       "      <td>13734.308232</td>\n",
       "      <td>349252.966349</td>\n",
       "      <td>8914.088</td>\n",
       "    </tr>\n",
       "    <tr>\n",
       "      <th>230</th>\n",
       "      <td>Mirae Asset Emerging Bluechip Fund - Direct Plan - Growth</td>\n",
       "      <td>2020-11-23</td>\n",
       "      <td>24998.75</td>\n",
       "      <td>353.940</td>\n",
       "      <td>70.630</td>\n",
       "      <td>PURCHASE_SIP</td>\n",
       "      <td>100.240</td>\n",
       "      <td>0</td>\n",
       "      <td>353.940</td>\n",
       "      <td>24998.78</td>\n",
       "      <td>35478.95</td>\n",
       "      <td>0</td>\n",
       "      <td>10480.163400</td>\n",
       "      <td>349252.966349</td>\n",
       "      <td>9268.028</td>\n",
       "    </tr>\n",
       "    <tr>\n",
       "      <th>231</th>\n",
       "      <td>Mirae Asset Emerging Bluechip Fund - Direct Plan - Growth</td>\n",
       "      <td>2020-12-21</td>\n",
       "      <td>24998.75</td>\n",
       "      <td>346.085</td>\n",
       "      <td>72.233</td>\n",
       "      <td>PURCHASE_SIP</td>\n",
       "      <td>100.240</td>\n",
       "      <td>0</td>\n",
       "      <td>346.085</td>\n",
       "      <td>24998.76</td>\n",
       "      <td>34691.56</td>\n",
       "      <td>0</td>\n",
       "      <td>9692.802595</td>\n",
       "      <td>349252.966349</td>\n",
       "      <td>9614.113</td>\n",
       "    </tr>\n",
       "    <tr>\n",
       "      <th>232</th>\n",
       "      <td>Mirae Asset Emerging Bluechip Fund - Direct Plan - Growth</td>\n",
       "      <td>2021-01-21</td>\n",
       "      <td>24998.75</td>\n",
       "      <td>310.412</td>\n",
       "      <td>80.534</td>\n",
       "      <td>PURCHASE_SIP</td>\n",
       "      <td>100.240</td>\n",
       "      <td>0</td>\n",
       "      <td>310.412</td>\n",
       "      <td>24998.72</td>\n",
       "      <td>31115.70</td>\n",
       "      <td>0</td>\n",
       "      <td>6116.978872</td>\n",
       "      <td>349252.966349</td>\n",
       "      <td>9924.525</td>\n",
       "    </tr>\n",
       "    <tr>\n",
       "      <th>233</th>\n",
       "      <td>Mirae Asset Emerging Bluechip Fund - Direct Plan - Growth</td>\n",
       "      <td>2021-02-22</td>\n",
       "      <td>24998.75</td>\n",
       "      <td>298.403</td>\n",
       "      <td>83.775</td>\n",
       "      <td>PURCHASE_SIP</td>\n",
       "      <td>100.240</td>\n",
       "      <td>0</td>\n",
       "      <td>298.403</td>\n",
       "      <td>24998.71</td>\n",
       "      <td>29911.92</td>\n",
       "      <td>0</td>\n",
       "      <td>4913.205395</td>\n",
       "      <td>349252.966349</td>\n",
       "      <td>10222.928</td>\n",
       "    </tr>\n",
       "    <tr>\n",
       "      <th>234</th>\n",
       "      <td>Mirae Asset Emerging Bluechip Fund - Direct Plan - Growth</td>\n",
       "      <td>2021-03-21</td>\n",
       "      <td>24998.75</td>\n",
       "      <td>294.599</td>\n",
       "      <td>84.857</td>\n",
       "      <td>PURCHASE_SIP</td>\n",
       "      <td>100.240</td>\n",
       "      <td>0</td>\n",
       "      <td>294.599</td>\n",
       "      <td>24998.79</td>\n",
       "      <td>29530.60</td>\n",
       "      <td>0</td>\n",
       "      <td>4531.816417</td>\n",
       "      <td>349252.966349</td>\n",
       "      <td>10517.527</td>\n",
       "    </tr>\n",
       "    <tr>\n",
       "      <th>235</th>\n",
       "      <td>Mirae Asset Emerging Bluechip Fund - Direct Plan - Growth</td>\n",
       "      <td>2021-04-22</td>\n",
       "      <td>24998.75</td>\n",
       "      <td>299.447</td>\n",
       "      <td>83.483</td>\n",
       "      <td>PURCHASE_SIP</td>\n",
       "      <td>100.240</td>\n",
       "      <td>0</td>\n",
       "      <td>299.447</td>\n",
       "      <td>24998.73</td>\n",
       "      <td>30016.57</td>\n",
       "      <td>0</td>\n",
       "      <td>5017.833379</td>\n",
       "      <td>349252.966349</td>\n",
       "      <td>10816.974</td>\n",
       "    </tr>\n",
       "    <tr>\n",
       "      <th>236</th>\n",
       "      <td>Mirae Asset Emerging Bluechip Fund - Direct Plan - Growth</td>\n",
       "      <td>2021-05-21</td>\n",
       "      <td>24998.75</td>\n",
       "      <td>275.742</td>\n",
       "      <td>90.660</td>\n",
       "      <td>PURCHASE_SIP</td>\n",
       "      <td>100.240</td>\n",
       "      <td>0</td>\n",
       "      <td>275.742</td>\n",
       "      <td>24998.77</td>\n",
       "      <td>27640.38</td>\n",
       "      <td>0</td>\n",
       "      <td>2641.608360</td>\n",
       "      <td>349252.966349</td>\n",
       "      <td>11092.716</td>\n",
       "    </tr>\n",
       "    <tr>\n",
       "      <th>237</th>\n",
       "      <td>Mirae Asset Emerging Bluechip Fund - Direct Plan - Growth</td>\n",
       "      <td>2021-06-21</td>\n",
       "      <td>24998.75</td>\n",
       "      <td>267.888</td>\n",
       "      <td>93.318</td>\n",
       "      <td>PURCHASE_SIP</td>\n",
       "      <td>100.240</td>\n",
       "      <td>0</td>\n",
       "      <td>267.888</td>\n",
       "      <td>24998.77</td>\n",
       "      <td>26853.09</td>\n",
       "      <td>0</td>\n",
       "      <td>1854.320736</td>\n",
       "      <td>349252.966349</td>\n",
       "      <td>11360.604</td>\n",
       "    </tr>\n",
       "    <tr>\n",
       "      <th>238</th>\n",
       "      <td>Mirae Asset Emerging Bluechip Fund - Direct Plan - Growth</td>\n",
       "      <td>2021-07-22</td>\n",
       "      <td>24998.75</td>\n",
       "      <td>256.046</td>\n",
       "      <td>97.634</td>\n",
       "      <td>PURCHASE_SIP</td>\n",
       "      <td>100.240</td>\n",
       "      <td>0</td>\n",
       "      <td>256.046</td>\n",
       "      <td>24998.80</td>\n",
       "      <td>25666.05</td>\n",
       "      <td>0</td>\n",
       "      <td>667.255876</td>\n",
       "      <td>349252.966349</td>\n",
       "      <td>11616.650</td>\n",
       "    </tr>\n",
       "  </tbody>\n",
       "</table>\n",
       "</div>"
      ],
      "text/plain": [
       "                                                   scheme_name  trans_date  \\\n",
       "210  Mirae Asset Emerging Bluechip Fund - Direct Plan - Growth  2019-03-22   \n",
       "211  Mirae Asset Emerging Bluechip Fund - Direct Plan - Growth  2019-04-22   \n",
       "212  Mirae Asset Emerging Bluechip Fund - Direct Plan - Growth  2019-05-21   \n",
       "213  Mirae Asset Emerging Bluechip Fund - Direct Plan - Growth  2019-06-21   \n",
       "214  Mirae Asset Emerging Bluechip Fund - Direct Plan - Growth  2019-07-22   \n",
       "215  Mirae Asset Emerging Bluechip Fund - Direct Plan - Growth  2019-08-21   \n",
       "216  Mirae Asset Emerging Bluechip Fund - Direct Plan - Growth  2019-09-23   \n",
       "217  Mirae Asset Emerging Bluechip Fund - Direct Plan - Growth  2019-10-22   \n",
       "218  Mirae Asset Emerging Bluechip Fund - Direct Plan - Growth  2019-11-21   \n",
       "219  Mirae Asset Emerging Bluechip Fund - Direct Plan - Growth  2019-12-23   \n",
       "220  Mirae Asset Emerging Bluechip Fund - Direct Plan - Growth  2020-01-21   \n",
       "221  Mirae Asset Emerging Bluechip Fund - Direct Plan - Growth  2020-02-24   \n",
       "222  Mirae Asset Emerging Bluechip Fund - Direct Plan - Growth  2020-03-23   \n",
       "223  Mirae Asset Emerging Bluechip Fund - Direct Plan - Growth  2020-04-21   \n",
       "224  Mirae Asset Emerging Bluechip Fund - Direct Plan - Growth  2020-05-21   \n",
       "225  Mirae Asset Emerging Bluechip Fund - Direct Plan - Growth  2020-06-22   \n",
       "226  Mirae Asset Emerging Bluechip Fund - Direct Plan - Growth  2020-07-21   \n",
       "227  Mirae Asset Emerging Bluechip Fund - Direct Plan - Growth  2020-08-21   \n",
       "228  Mirae Asset Emerging Bluechip Fund - Direct Plan - Growth  2020-09-21   \n",
       "229  Mirae Asset Emerging Bluechip Fund - Direct Plan - Growth  2020-10-21   \n",
       "230  Mirae Asset Emerging Bluechip Fund - Direct Plan - Growth  2020-11-23   \n",
       "231  Mirae Asset Emerging Bluechip Fund - Direct Plan - Growth  2020-12-21   \n",
       "232  Mirae Asset Emerging Bluechip Fund - Direct Plan - Growth  2021-01-21   \n",
       "233  Mirae Asset Emerging Bluechip Fund - Direct Plan - Growth  2021-02-22   \n",
       "234  Mirae Asset Emerging Bluechip Fund - Direct Plan - Growth  2021-03-21   \n",
       "235  Mirae Asset Emerging Bluechip Fund - Direct Plan - Growth  2021-04-22   \n",
       "236  Mirae Asset Emerging Bluechip Fund - Direct Plan - Growth  2021-05-21   \n",
       "237  Mirae Asset Emerging Bluechip Fund - Direct Plan - Growth  2021-06-21   \n",
       "238  Mirae Asset Emerging Bluechip Fund - Direct Plan - Growth  2021-07-22   \n",
       "\n",
       "       amount    units purch_nav    trans_type latest_nav units_redeemed  \\\n",
       "210  25000.00  451.353    55.389  PURCHASE_SIP    100.240              0   \n",
       "211  25000.00  446.859    55.946  PURCHASE_SIP    100.240              0   \n",
       "212  25000.00  450.013    55.554  PURCHASE_SIP    100.240              0   \n",
       "213  25000.00  439.090    56.936  PURCHASE_SIP    100.240              0   \n",
       "214  25000.00  452.096    55.298  PURCHASE_SIP    100.240              0   \n",
       "215  25000.00  464.037    53.875  PURCHASE_SIP    100.240              0   \n",
       "216  25000.00  432.331    57.826  PURCHASE_SIP    100.240              0   \n",
       "217  25000.00  433.975    57.607  PURCHASE_SIP    100.240              0   \n",
       "218  25000.00  416.354    60.045  PURCHASE_SIP    100.240              0   \n",
       "219  25000.00  409.614    61.033  PURCHASE_SIP    100.240              0   \n",
       "220  25000.00  397.994    62.815  PURCHASE_SIP    100.240              0   \n",
       "221  25000.00  398.521    62.732  PURCHASE_SIP    100.240              0   \n",
       "222  25000.00  621.674    40.214  PURCHASE_SIP    100.240              0   \n",
       "223  25000.00  516.550    48.398  PURCHASE_SIP    100.240              0   \n",
       "224  25000.00  517.770    48.284  PURCHASE_SIP    100.240              0   \n",
       "225  25000.00  452.170    55.289  PURCHASE_SIP    100.240              0   \n",
       "226  24998.75  423.578    59.018  PURCHASE_SIP    100.240              0   \n",
       "227  24998.75  399.418    62.588  PURCHASE_SIP    100.240              0   \n",
       "228  24998.75  404.288    61.834  PURCHASE_SIP    100.240              0   \n",
       "229  24998.75  386.403    64.696  PURCHASE_SIP    100.240              0   \n",
       "230  24998.75  353.940    70.630  PURCHASE_SIP    100.240              0   \n",
       "231  24998.75  346.085    72.233  PURCHASE_SIP    100.240              0   \n",
       "232  24998.75  310.412    80.534  PURCHASE_SIP    100.240              0   \n",
       "233  24998.75  298.403    83.775  PURCHASE_SIP    100.240              0   \n",
       "234  24998.75  294.599    84.857  PURCHASE_SIP    100.240              0   \n",
       "235  24998.75  299.447    83.483  PURCHASE_SIP    100.240              0   \n",
       "236  24998.75  275.742    90.660  PURCHASE_SIP    100.240              0   \n",
       "237  24998.75  267.888    93.318  PURCHASE_SIP    100.240              0   \n",
       "238  24998.75  256.046    97.634  PURCHASE_SIP    100.240              0   \n",
       "\n",
       "    units_remain  invested_amt  current_amt          ltcg          stcg  \\\n",
       "210      451.353      24999.99     45243.62  20243.633403             0   \n",
       "211      446.859      24999.97     44793.15  19793.172546             0   \n",
       "212      450.013      25000.02     45109.30  20109.280918             0   \n",
       "213      439.090      25000.03     44014.38  19014.353360             0   \n",
       "214      452.096      25000.00     45318.10  20318.098432             0   \n",
       "215      464.037      24999.99     46515.07  21515.075505             0   \n",
       "216      432.331      24999.97     43336.86  18336.887034             0   \n",
       "217      433.975      25000.00     43501.65  18501.656175             0   \n",
       "218      416.354      24999.98     41735.32  16735.349030             0   \n",
       "219      409.614      24999.97     41059.71  16059.736098             0   \n",
       "220      397.994      24999.99     39894.92  14894.925450             0   \n",
       "221      398.521      25000.02     39947.75  14947.725668             0   \n",
       "222      621.674      25000.00     62316.60  37316.603524             0   \n",
       "223      516.550      24999.99     51778.97  26778.985100             0   \n",
       "224      517.770      25000.01     51901.26  26901.258120             0   \n",
       "225      452.170      25000.03     45325.52  20325.493670             0   \n",
       "226      423.578      24998.73     42459.46  17460.732316             0   \n",
       "227      399.418      24998.77     40037.66             0  15038.886536   \n",
       "228      404.288      24998.74     40525.83             0  15527.084928   \n",
       "229      386.403      24998.73     38733.04             0  13734.308232   \n",
       "230      353.940      24998.78     35478.95             0  10480.163400   \n",
       "231      346.085      24998.76     34691.56             0   9692.802595   \n",
       "232      310.412      24998.72     31115.70             0   6116.978872   \n",
       "233      298.403      24998.71     29911.92             0   4913.205395   \n",
       "234      294.599      24998.79     29530.60             0   4531.816417   \n",
       "235      299.447      24998.73     30016.57             0   5017.833379   \n",
       "236      275.742      24998.77     27640.38             0   2641.608360   \n",
       "237      267.888      24998.77     26853.09             0   1854.320736   \n",
       "238      256.046      24998.80     25666.05             0    667.255876   \n",
       "\n",
       "        cumil_ltcg cumil_units  \n",
       "210   20243.633403     451.353  \n",
       "211   40036.805949     898.212  \n",
       "212   60146.086867    1348.225  \n",
       "213   79160.440227    1787.315  \n",
       "214   99478.538659    2239.411  \n",
       "215  120993.614164    2703.448  \n",
       "216  139330.501198    3135.779  \n",
       "217  157832.157373    3569.754  \n",
       "218  174567.506403    3986.108  \n",
       "219  190627.242501    4395.722  \n",
       "220  205522.167951    4793.716  \n",
       "221  220469.893619    5192.237  \n",
       "222  257786.497143    5813.911  \n",
       "223  284565.482243    6330.461  \n",
       "224  311466.740363    6848.231  \n",
       "225  331792.234033    7300.401  \n",
       "226  349252.966349    7723.979  \n",
       "227  349252.966349    8123.397  \n",
       "228  349252.966349    8527.685  \n",
       "229  349252.966349    8914.088  \n",
       "230  349252.966349    9268.028  \n",
       "231  349252.966349    9614.113  \n",
       "232  349252.966349    9924.525  \n",
       "233  349252.966349   10222.928  \n",
       "234  349252.966349   10517.527  \n",
       "235  349252.966349   10816.974  \n",
       "236  349252.966349   11092.716  \n",
       "237  349252.966349   11360.604  \n",
       "238  349252.966349   11616.650  "
      ]
     },
     "execution_count": 19,
     "metadata": {},
     "output_type": "execute_result"
    }
   ],
   "source": [
    "def get_trans_disp(df, scheme_name):\n",
    "    del_cols = ['units_balance', 'amc',\t'folio_no',\t'type',\t'isin',\t'scheme_code',\t'latest_nav_date', 'gf_nav', 'perc_gain',\t'new_purch_nav']  \n",
    "    disp_cols = [col for col in df.columns.tolist() if col not in del_cols]\n",
    "    df = df[df.scheme_name == scheme_name]\n",
    "    return df[disp_cols]\n",
    "\n",
    "# scheme_name = cg.mf_trans_df.iloc[0].scheme_name    \n",
    "get_trans_disp(cg.mf_trans_df, scheme_name)"
   ]
  },
  {
   "cell_type": "code",
   "execution_count": 20,
   "metadata": {},
   "outputs": [
    {
     "data": {
      "text/html": [
       "<div>\n",
       "<style scoped>\n",
       "    .dataframe tbody tr th:only-of-type {\n",
       "        vertical-align: middle;\n",
       "    }\n",
       "\n",
       "    .dataframe tbody tr th {\n",
       "        vertical-align: top;\n",
       "    }\n",
       "\n",
       "    .dataframe thead th {\n",
       "        text-align: right;\n",
       "    }\n",
       "</style>\n",
       "<table border=\"1\" class=\"dataframe\">\n",
       "  <thead>\n",
       "    <tr style=\"text-align: right;\">\n",
       "      <th></th>\n",
       "      <th>scheme_name</th>\n",
       "      <th>scheme_code</th>\n",
       "    </tr>\n",
       "  </thead>\n",
       "  <tbody>\n",
       "    <tr>\n",
       "      <th>0</th>\n",
       "      <td>DSP Small Cap Fund - Direct Plan - Growth</td>\n",
       "      <td>119212</td>\n",
       "    </tr>\n",
       "    <tr>\n",
       "      <th>1</th>\n",
       "      <td>Franklin India Flexi Cap Fund - Direct Plan - Growth (erstwhile Franklin India Equity Fund - Direct)</td>\n",
       "      <td>118535</td>\n",
       "    </tr>\n",
       "    <tr>\n",
       "      <th>2</th>\n",
       "      <td>Franklin India Low Duration Fund - Direct Plan - Growth</td>\n",
       "      <td>118530</td>\n",
       "    </tr>\n",
       "    <tr>\n",
       "      <th>3</th>\n",
       "      <td>Franklin India Smaller Companies Fund - Direct Plan - Growth</td>\n",
       "      <td>118525</td>\n",
       "    </tr>\n",
       "    <tr>\n",
       "      <th>4</th>\n",
       "      <td>Franklin India Ultra Short Bond Fund Super Institutional Plan - Direct Plan - Growth</td>\n",
       "      <td>118560</td>\n",
       "    </tr>\n",
       "    <tr>\n",
       "      <th>5</th>\n",
       "      <td>HDFC Top 100 Fund - Direct Plan - Growth Option</td>\n",
       "      <td>119018</td>\n",
       "    </tr>\n",
       "    <tr>\n",
       "      <th>6</th>\n",
       "      <td>ICICI Prudential All Seasons Bond Fund - Direct Plan - Growth</td>\n",
       "      <td>120603</td>\n",
       "    </tr>\n",
       "    <tr>\n",
       "      <th>7</th>\n",
       "      <td>ICICI Prudential Banking and PSU Debt Fund - Direct Plan - Growth</td>\n",
       "      <td>120256</td>\n",
       "    </tr>\n",
       "    <tr>\n",
       "      <th>8</th>\n",
       "      <td>ICICI Prudential Long Term Equity Fund (Tax Saving) - Direct Plan - Growth</td>\n",
       "      <td>120592</td>\n",
       "    </tr>\n",
       "    <tr>\n",
       "      <th>9</th>\n",
       "      <td>ICICI Prudential Nifty Next 50 Index Fund - Direct Plan - Growth</td>\n",
       "      <td>120684</td>\n",
       "    </tr>\n",
       "    <tr>\n",
       "      <th>10</th>\n",
       "      <td>ICICI Prudential US Bluechip Equity Fund - Direct Plan - Growth</td>\n",
       "      <td>120186</td>\n",
       "    </tr>\n",
       "    <tr>\n",
       "      <th>11</th>\n",
       "      <td>ICICI Prudential Value Discovery Fund - Direct Plan - Growth</td>\n",
       "      <td>120323</td>\n",
       "    </tr>\n",
       "    <tr>\n",
       "      <th>12</th>\n",
       "      <td>Mirae Asset Emerging Bluechip Fund - Direct Plan - Growth</td>\n",
       "      <td>118834</td>\n",
       "    </tr>\n",
       "    <tr>\n",
       "      <th>13</th>\n",
       "      <td>Mirae Asset Large Cap Fund - Direct Plan - Growth</td>\n",
       "      <td>118825</td>\n",
       "    </tr>\n",
       "    <tr>\n",
       "      <th>14</th>\n",
       "      <td>Mirae Asset Tax Saver Fund - Direct Growth</td>\n",
       "      <td>135781</td>\n",
       "    </tr>\n",
       "    <tr>\n",
       "      <th>15</th>\n",
       "      <td>Parag Parikh Flexi Cap Fund - Direct Plan</td>\n",
       "      <td>122639</td>\n",
       "    </tr>\n",
       "  </tbody>\n",
       "</table>\n",
       "</div>"
      ],
      "text/plain": [
       "                                                                                             scheme_name  \\\n",
       "0                                                              DSP Small Cap Fund - Direct Plan - Growth   \n",
       "1   Franklin India Flexi Cap Fund - Direct Plan - Growth (erstwhile Franklin India Equity Fund - Direct)   \n",
       "2                                                Franklin India Low Duration Fund - Direct Plan - Growth   \n",
       "3                                           Franklin India Smaller Companies Fund - Direct Plan - Growth   \n",
       "4                   Franklin India Ultra Short Bond Fund Super Institutional Plan - Direct Plan - Growth   \n",
       "5                                                        HDFC Top 100 Fund - Direct Plan - Growth Option   \n",
       "6                                          ICICI Prudential All Seasons Bond Fund - Direct Plan - Growth   \n",
       "7                                      ICICI Prudential Banking and PSU Debt Fund - Direct Plan - Growth   \n",
       "8                             ICICI Prudential Long Term Equity Fund (Tax Saving) - Direct Plan - Growth   \n",
       "9                                       ICICI Prudential Nifty Next 50 Index Fund - Direct Plan - Growth   \n",
       "10                                       ICICI Prudential US Bluechip Equity Fund - Direct Plan - Growth   \n",
       "11                                          ICICI Prudential Value Discovery Fund - Direct Plan - Growth   \n",
       "12                                             Mirae Asset Emerging Bluechip Fund - Direct Plan - Growth   \n",
       "13                                                     Mirae Asset Large Cap Fund - Direct Plan - Growth   \n",
       "14                                                            Mirae Asset Tax Saver Fund - Direct Growth   \n",
       "15                                                             Parag Parikh Flexi Cap Fund - Direct Plan   \n",
       "\n",
       "   scheme_code  \n",
       "0       119212  \n",
       "1       118535  \n",
       "2       118530  \n",
       "3       118525  \n",
       "4       118560  \n",
       "5       119018  \n",
       "6       120603  \n",
       "7       120256  \n",
       "8       120592  \n",
       "9       120684  \n",
       "10      120186  \n",
       "11      120323  \n",
       "12      118834  \n",
       "13      118825  \n",
       "14      135781  \n",
       "15      122639  "
      ]
     },
     "execution_count": 20,
     "metadata": {},
     "output_type": "execute_result"
    }
   ],
   "source": [
    "cg.mf_hdr_df[['scheme_name', 'scheme_code']]"
   ]
  },
  {
   "cell_type": "code",
   "execution_count": 21,
   "metadata": {},
   "outputs": [],
   "source": [
    "history_df = pd.DataFrame()\n",
    "# for scheme_code in ['119212', '118825']:\n",
    "for scheme_code in cg.mf_hdr_df.scheme_code.tolist():\n",
    "    df  = get_portfolio_history_for_scheme(scheme_code, cg.mf_trans_df)\n",
    "    history_df  =  pd.concat([history_df, df])   \n",
    "\n",
    "history_grp_df = history_df.groupby('date').agg({'current_amt':'sum'})"
   ]
  },
  {
   "cell_type": "code",
   "execution_count": 22,
   "metadata": {},
   "outputs": [
    {
     "data": {
      "application/vnd.plotly.v1+json": {
       "config": {
        "plotlyServerURL": "https://plot.ly"
       },
       "data": [
        {
         "mode": "lines",
         "name": "Invested Amount",
         "type": "scatter",
         "x": [
          "2015-10-23",
          "2015-10-24",
          "2015-10-25",
          "2015-10-26",
          "2015-10-27",
          "2015-10-28",
          "2015-10-29",
          "2015-10-30",
          "2015-10-31",
          "2015-11-01",
          "2015-11-02",
          "2015-11-03",
          "2015-11-04",
          "2015-11-05",
          "2015-11-06",
          "2015-11-07",
          "2015-11-08",
          "2015-11-09",
          "2015-11-10",
          "2015-11-11",
          "2015-11-12",
          "2015-11-13",
          "2015-11-14",
          "2015-11-15",
          "2015-11-16",
          "2015-11-17",
          "2015-11-18",
          "2015-11-19",
          "2015-11-20",
          "2015-11-21",
          "2015-11-22",
          "2015-11-23",
          "2015-11-24",
          "2015-11-25",
          "2015-11-26",
          "2015-11-27",
          "2015-11-28",
          "2015-11-29",
          "2015-11-30",
          "2015-12-01",
          "2015-12-02",
          "2015-12-03",
          "2015-12-04",
          "2015-12-05",
          "2015-12-06",
          "2015-12-07",
          "2015-12-08",
          "2015-12-09",
          "2015-12-10",
          "2015-12-11",
          "2015-12-12",
          "2015-12-13",
          "2015-12-14",
          "2015-12-15",
          "2015-12-16",
          "2015-12-17",
          "2015-12-18",
          "2015-12-19",
          "2015-12-20",
          "2015-12-21",
          "2015-12-22",
          "2015-12-23",
          "2015-12-24",
          "2015-12-25",
          "2015-12-26",
          "2015-12-27",
          "2015-12-28",
          "2015-12-29",
          "2015-12-30",
          "2015-12-31",
          "2016-01-01",
          "2016-01-02",
          "2016-01-03",
          "2016-01-04",
          "2016-01-05",
          "2016-01-06",
          "2016-01-07",
          "2016-01-08",
          "2016-01-09",
          "2016-01-10",
          "2016-01-11",
          "2016-01-12",
          "2016-01-13",
          "2016-01-14",
          "2016-01-15",
          "2016-01-16",
          "2016-01-17",
          "2016-01-18",
          "2016-01-19",
          "2016-01-20",
          "2016-01-21",
          "2016-01-22",
          "2016-01-23",
          "2016-01-24",
          "2016-01-25",
          "2016-01-26",
          "2016-01-27",
          "2016-01-28",
          "2016-01-29",
          "2016-01-30",
          "2016-01-31",
          "2016-02-01",
          "2016-02-02",
          "2016-02-03",
          "2016-02-04",
          "2016-02-05",
          "2016-02-06",
          "2016-02-07",
          "2016-02-08",
          "2016-02-09",
          "2016-02-10",
          "2016-02-11",
          "2016-02-12",
          "2016-02-13",
          "2016-02-14",
          "2016-02-15",
          "2016-02-16",
          "2016-02-17",
          "2016-02-18",
          "2016-02-19",
          "2016-02-20",
          "2016-02-21",
          "2016-02-22",
          "2016-02-23",
          "2016-02-24",
          "2016-02-25",
          "2016-02-26",
          "2016-02-27",
          "2016-02-28",
          "2016-02-29",
          "2016-03-01",
          "2016-03-02",
          "2016-03-03",
          "2016-03-04",
          "2016-03-05",
          "2016-03-06",
          "2016-03-07",
          "2016-03-08",
          "2016-03-09",
          "2016-03-10",
          "2016-03-11",
          "2016-03-12",
          "2016-03-13",
          "2016-03-14",
          "2016-03-15",
          "2016-03-16",
          "2016-03-17",
          "2016-03-18",
          "2016-03-19",
          "2016-03-20",
          "2016-03-21",
          "2016-03-22",
          "2016-03-23",
          "2016-03-24",
          "2016-03-25",
          "2016-03-26",
          "2016-03-27",
          "2016-03-28",
          "2016-03-29",
          "2016-03-30",
          "2016-03-31",
          "2016-04-01",
          "2016-04-02",
          "2016-04-03",
          "2016-04-04",
          "2016-04-05",
          "2016-04-06",
          "2016-04-07",
          "2016-04-08",
          "2016-04-09",
          "2016-04-10",
          "2016-04-11",
          "2016-04-12",
          "2016-04-13",
          "2016-04-14",
          "2016-04-15",
          "2016-04-16",
          "2016-04-17",
          "2016-04-18",
          "2016-04-19",
          "2016-04-20",
          "2016-04-21",
          "2016-04-22",
          "2016-04-23",
          "2016-04-24",
          "2016-04-25",
          "2016-04-26",
          "2016-04-27",
          "2016-04-28",
          "2016-04-29",
          "2016-04-30",
          "2016-05-01",
          "2016-05-02",
          "2016-05-03",
          "2016-05-04",
          "2016-05-05",
          "2016-05-06",
          "2016-05-07",
          "2016-05-08",
          "2016-05-09",
          "2016-05-10",
          "2016-05-11",
          "2016-05-12",
          "2016-05-13",
          "2016-05-14",
          "2016-05-15",
          "2016-05-16",
          "2016-05-17",
          "2016-05-18",
          "2016-05-19",
          "2016-05-20",
          "2016-05-21",
          "2016-05-22",
          "2016-05-23",
          "2016-05-24",
          "2016-05-25",
          "2016-05-26",
          "2016-05-27",
          "2016-05-28",
          "2016-05-29",
          "2016-05-30",
          "2016-05-31",
          "2016-06-01",
          "2016-06-02",
          "2016-06-03",
          "2016-06-04",
          "2016-06-05",
          "2016-06-06",
          "2016-06-07",
          "2016-06-08",
          "2016-06-09",
          "2016-06-10",
          "2016-06-11",
          "2016-06-12",
          "2016-06-13",
          "2016-06-14",
          "2016-06-15",
          "2016-06-16",
          "2016-06-17",
          "2016-06-18",
          "2016-06-19",
          "2016-06-20",
          "2016-06-21",
          "2016-06-22",
          "2016-06-23",
          "2016-06-24",
          "2016-06-25",
          "2016-06-26",
          "2016-06-27",
          "2016-06-28",
          "2016-06-29",
          "2016-06-30",
          "2016-07-01",
          "2016-07-02",
          "2016-07-03",
          "2016-07-04",
          "2016-07-05",
          "2016-07-06",
          "2016-07-07",
          "2016-07-08",
          "2016-07-09",
          "2016-07-10",
          "2016-07-11",
          "2016-07-12",
          "2016-07-13",
          "2016-07-14",
          "2016-07-15",
          "2016-07-16",
          "2016-07-17",
          "2016-07-18",
          "2016-07-19",
          "2016-07-20",
          "2016-07-21",
          "2016-07-22",
          "2016-07-23",
          "2016-07-24",
          "2016-07-25",
          "2016-07-26",
          "2016-07-27",
          "2016-07-28",
          "2016-07-29",
          "2016-07-30",
          "2016-07-31",
          "2016-08-01",
          "2016-08-02",
          "2016-08-03",
          "2016-08-04",
          "2016-08-05",
          "2016-08-06",
          "2016-08-07",
          "2016-08-08",
          "2016-08-09",
          "2016-08-10",
          "2016-08-11",
          "2016-08-12",
          "2016-08-13",
          "2016-08-14",
          "2016-08-15",
          "2016-08-16",
          "2016-08-17",
          "2016-08-18",
          "2016-08-19",
          "2016-08-20",
          "2016-08-21",
          "2016-08-22",
          "2016-08-23",
          "2016-08-24",
          "2016-08-25",
          "2016-08-26",
          "2016-08-27",
          "2016-08-28",
          "2016-08-29",
          "2016-08-30",
          "2016-08-31",
          "2016-09-01",
          "2016-09-02",
          "2016-09-03",
          "2016-09-04",
          "2016-09-05",
          "2016-09-06",
          "2016-09-07",
          "2016-09-08",
          "2016-09-09",
          "2016-09-10",
          "2016-09-11",
          "2016-09-12",
          "2016-09-13",
          "2016-09-14",
          "2016-09-15",
          "2016-09-16",
          "2016-09-17",
          "2016-09-18",
          "2016-09-19",
          "2016-09-20",
          "2016-09-21",
          "2016-09-22",
          "2016-09-23",
          "2016-09-24",
          "2016-09-25",
          "2016-09-26",
          "2016-09-27",
          "2016-09-28",
          "2016-09-29",
          "2016-09-30",
          "2016-10-01",
          "2016-10-02",
          "2016-10-03",
          "2016-10-04",
          "2016-10-05",
          "2016-10-06",
          "2016-10-07",
          "2016-10-08",
          "2016-10-09",
          "2016-10-10",
          "2016-10-11",
          "2016-10-12",
          "2016-10-13",
          "2016-10-14",
          "2016-10-15",
          "2016-10-16",
          "2016-10-17",
          "2016-10-18",
          "2016-10-19",
          "2016-10-20",
          "2016-10-21",
          "2016-10-22",
          "2016-10-23",
          "2016-10-24",
          "2016-10-25",
          "2016-10-26",
          "2016-10-27",
          "2016-10-28",
          "2016-10-29",
          "2016-10-30",
          "2016-10-31",
          "2016-11-01",
          "2016-11-02",
          "2016-11-03",
          "2016-11-04",
          "2016-11-05",
          "2016-11-06",
          "2016-11-07",
          "2016-11-08",
          "2016-11-09",
          "2016-11-10",
          "2016-11-11",
          "2016-11-12",
          "2016-11-13",
          "2016-11-14",
          "2016-11-15",
          "2016-11-16",
          "2016-11-17",
          "2016-11-18",
          "2016-11-19",
          "2016-11-20",
          "2016-11-21",
          "2016-11-22",
          "2016-11-23",
          "2016-11-24",
          "2016-11-25",
          "2016-11-26",
          "2016-11-27",
          "2016-11-28",
          "2016-11-29",
          "2016-11-30",
          "2016-12-01",
          "2016-12-02",
          "2016-12-03",
          "2016-12-04",
          "2016-12-05",
          "2016-12-06",
          "2016-12-07",
          "2016-12-08",
          "2016-12-09",
          "2016-12-10",
          "2016-12-11",
          "2016-12-12",
          "2016-12-13",
          "2016-12-14",
          "2016-12-15",
          "2016-12-16",
          "2016-12-17",
          "2016-12-18",
          "2016-12-19",
          "2016-12-20",
          "2016-12-21",
          "2016-12-22",
          "2016-12-23",
          "2016-12-24",
          "2016-12-25",
          "2016-12-26",
          "2016-12-27",
          "2016-12-28",
          "2016-12-29",
          "2016-12-30",
          "2016-12-31",
          "2017-01-01",
          "2017-01-02",
          "2017-01-03",
          "2017-01-04",
          "2017-01-05",
          "2017-01-06",
          "2017-01-07",
          "2017-01-08",
          "2017-01-09",
          "2017-01-10",
          "2017-01-11",
          "2017-01-12",
          "2017-01-13",
          "2017-01-14",
          "2017-01-15",
          "2017-01-16",
          "2017-01-17",
          "2017-01-18",
          "2017-01-19",
          "2017-01-20",
          "2017-01-21",
          "2017-01-22",
          "2017-01-23",
          "2017-01-24",
          "2017-01-25",
          "2017-01-26",
          "2017-01-27",
          "2017-01-28",
          "2017-01-29",
          "2017-01-30",
          "2017-01-31",
          "2017-02-01",
          "2017-02-02",
          "2017-02-03",
          "2017-02-04",
          "2017-02-05",
          "2017-02-06",
          "2017-02-07",
          "2017-02-08",
          "2017-02-09",
          "2017-02-10",
          "2017-02-11",
          "2017-02-12",
          "2017-02-13",
          "2017-02-14",
          "2017-02-15",
          "2017-02-16",
          "2017-02-17",
          "2017-02-18",
          "2017-02-19",
          "2017-02-20",
          "2017-02-21",
          "2017-02-22",
          "2017-02-23",
          "2017-02-24",
          "2017-02-25",
          "2017-02-26",
          "2017-02-27",
          "2017-02-28",
          "2017-03-01",
          "2017-03-02",
          "2017-03-03",
          "2017-03-04",
          "2017-03-05",
          "2017-03-06",
          "2017-03-07",
          "2017-03-08",
          "2017-03-09",
          "2017-03-10",
          "2017-03-11",
          "2017-03-12",
          "2017-03-13",
          "2017-03-14",
          "2017-03-15",
          "2017-03-16",
          "2017-03-17",
          "2017-03-18",
          "2017-03-19",
          "2017-03-20",
          "2017-03-21",
          "2017-03-22",
          "2017-03-23",
          "2017-03-24",
          "2017-03-25",
          "2017-03-26",
          "2017-03-27",
          "2017-03-28",
          "2017-03-29",
          "2017-03-30",
          "2017-03-31",
          "2017-04-01",
          "2017-04-02",
          "2017-04-03",
          "2017-04-04",
          "2017-04-05",
          "2017-04-06",
          "2017-04-07",
          "2017-04-08",
          "2017-04-09",
          "2017-04-10",
          "2017-04-11",
          "2017-04-12",
          "2017-04-13",
          "2017-04-14",
          "2017-04-15",
          "2017-04-16",
          "2017-04-17",
          "2017-04-18",
          "2017-04-19",
          "2017-04-20",
          "2017-04-21",
          "2017-04-22",
          "2017-04-23",
          "2017-04-24",
          "2017-04-25",
          "2017-04-26",
          "2017-04-27",
          "2017-04-28",
          "2017-04-29",
          "2017-04-30",
          "2017-05-01",
          "2017-05-02",
          "2017-05-03",
          "2017-05-04",
          "2017-05-05",
          "2017-05-06",
          "2017-05-07",
          "2017-05-08",
          "2017-05-09",
          "2017-05-10",
          "2017-05-11",
          "2017-05-12",
          "2017-05-13",
          "2017-05-14",
          "2017-05-15",
          "2017-05-16",
          "2017-05-17",
          "2017-05-18",
          "2017-05-19",
          "2017-05-20",
          "2017-05-21",
          "2017-05-22",
          "2017-05-23",
          "2017-05-24",
          "2017-05-25",
          "2017-05-26",
          "2017-05-27",
          "2017-05-28",
          "2017-05-29",
          "2017-05-30",
          "2017-05-31",
          "2017-06-01",
          "2017-06-02",
          "2017-06-03",
          "2017-06-04",
          "2017-06-05",
          "2017-06-06",
          "2017-06-07",
          "2017-06-08",
          "2017-06-09",
          "2017-06-10",
          "2017-06-11",
          "2017-06-12",
          "2017-06-13",
          "2017-06-14",
          "2017-06-15",
          "2017-06-16",
          "2017-06-17",
          "2017-06-18",
          "2017-06-19",
          "2017-06-20",
          "2017-06-21",
          "2017-06-22",
          "2017-06-23",
          "2017-06-24",
          "2017-06-25",
          "2017-06-26",
          "2017-06-27",
          "2017-06-28",
          "2017-06-29",
          "2017-06-30",
          "2017-07-01",
          "2017-07-02",
          "2017-07-03",
          "2017-07-04",
          "2017-07-05",
          "2017-07-06",
          "2017-07-07",
          "2017-07-08",
          "2017-07-09",
          "2017-07-10",
          "2017-07-11",
          "2017-07-12",
          "2017-07-13",
          "2017-07-14",
          "2017-07-15",
          "2017-07-16",
          "2017-07-17",
          "2017-07-18",
          "2017-07-19",
          "2017-07-20",
          "2017-07-21",
          "2017-07-22",
          "2017-07-23",
          "2017-07-24",
          "2017-07-25",
          "2017-07-26",
          "2017-07-27",
          "2017-07-28",
          "2017-07-29",
          "2017-07-30",
          "2017-07-31",
          "2017-08-01",
          "2017-08-02",
          "2017-08-03",
          "2017-08-04",
          "2017-08-05",
          "2017-08-06",
          "2017-08-07",
          "2017-08-08",
          "2017-08-09",
          "2017-08-10",
          "2017-08-11",
          "2017-08-12",
          "2017-08-13",
          "2017-08-14",
          "2017-08-15",
          "2017-08-16",
          "2017-08-17",
          "2017-08-18",
          "2017-08-19",
          "2017-08-20",
          "2017-08-21",
          "2017-08-22",
          "2017-08-23",
          "2017-08-24",
          "2017-08-25",
          "2017-08-26",
          "2017-08-27",
          "2017-08-28",
          "2017-08-29",
          "2017-08-30",
          "2017-08-31",
          "2017-09-01",
          "2017-09-02",
          "2017-09-03",
          "2017-09-04",
          "2017-09-05",
          "2017-09-06",
          "2017-09-07",
          "2017-09-08",
          "2017-09-09",
          "2017-09-10",
          "2017-09-11",
          "2017-09-12",
          "2017-09-13",
          "2017-09-14",
          "2017-09-15",
          "2017-09-16",
          "2017-09-17",
          "2017-09-18",
          "2017-09-19",
          "2017-09-20",
          "2017-09-21",
          "2017-09-22",
          "2017-09-23",
          "2017-09-24",
          "2017-09-25",
          "2017-09-26",
          "2017-09-27",
          "2017-09-28",
          "2017-09-29",
          "2017-09-30",
          "2017-10-01",
          "2017-10-02",
          "2017-10-03",
          "2017-10-04",
          "2017-10-05",
          "2017-10-06",
          "2017-10-07",
          "2017-10-08",
          "2017-10-09",
          "2017-10-10",
          "2017-10-11",
          "2017-10-12",
          "2017-10-13",
          "2017-10-14",
          "2017-10-15",
          "2017-10-16",
          "2017-10-17",
          "2017-10-18",
          "2017-10-19",
          "2017-10-20",
          "2017-10-21",
          "2017-10-22",
          "2017-10-23",
          "2017-10-24",
          "2017-10-25",
          "2017-10-26",
          "2017-10-27",
          "2017-10-28",
          "2017-10-29",
          "2017-10-30",
          "2017-10-31",
          "2017-11-01",
          "2017-11-02",
          "2017-11-03",
          "2017-11-04",
          "2017-11-05",
          "2017-11-06",
          "2017-11-07",
          "2017-11-08",
          "2017-11-09",
          "2017-11-10",
          "2017-11-11",
          "2017-11-12",
          "2017-11-13",
          "2017-11-14",
          "2017-11-15",
          "2017-11-16",
          "2017-11-17",
          "2017-11-18",
          "2017-11-19",
          "2017-11-20",
          "2017-11-21",
          "2017-11-22",
          "2017-11-23",
          "2017-11-24",
          "2017-11-25",
          "2017-11-26",
          "2017-11-27",
          "2017-11-28",
          "2017-11-29",
          "2017-11-30",
          "2017-12-01",
          "2017-12-02",
          "2017-12-03",
          "2017-12-04",
          "2017-12-05",
          "2017-12-06",
          "2017-12-07",
          "2017-12-08",
          "2017-12-09",
          "2017-12-10",
          "2017-12-11",
          "2017-12-12",
          "2017-12-13",
          "2017-12-14",
          "2017-12-15",
          "2017-12-16",
          "2017-12-17",
          "2017-12-18",
          "2017-12-19",
          "2017-12-20",
          "2017-12-21",
          "2017-12-22",
          "2017-12-23",
          "2017-12-24",
          "2017-12-25",
          "2017-12-26",
          "2017-12-27",
          "2017-12-28",
          "2017-12-29",
          "2017-12-30",
          "2017-12-31",
          "2018-01-01",
          "2018-01-02",
          "2018-01-03",
          "2018-01-04",
          "2018-01-05",
          "2018-01-06",
          "2018-01-07",
          "2018-01-08",
          "2018-01-09",
          "2018-01-10",
          "2018-01-11",
          "2018-01-12",
          "2018-01-13",
          "2018-01-14",
          "2018-01-15",
          "2018-01-16",
          "2018-01-17",
          "2018-01-18",
          "2018-01-19",
          "2018-01-20",
          "2018-01-21",
          "2018-01-22",
          "2018-01-23",
          "2018-01-24",
          "2018-01-25",
          "2018-01-26",
          "2018-01-27",
          "2018-01-28",
          "2018-01-29",
          "2018-01-30",
          "2018-01-31",
          "2018-02-01",
          "2018-02-02",
          "2018-02-03",
          "2018-02-04",
          "2018-02-05",
          "2018-02-06",
          "2018-02-07",
          "2018-02-08",
          "2018-02-09",
          "2018-02-10",
          "2018-02-11",
          "2018-02-12",
          "2018-02-13",
          "2018-02-14",
          "2018-02-15",
          "2018-02-16",
          "2018-02-17",
          "2018-02-18",
          "2018-02-19",
          "2018-02-20",
          "2018-02-21",
          "2018-02-22",
          "2018-02-23",
          "2018-02-24",
          "2018-02-25",
          "2018-02-26",
          "2018-02-27",
          "2018-02-28",
          "2018-03-01",
          "2018-03-02",
          "2018-03-03",
          "2018-03-04",
          "2018-03-05",
          "2018-03-06",
          "2018-03-07",
          "2018-03-08",
          "2018-03-09",
          "2018-03-10",
          "2018-03-11",
          "2018-03-12",
          "2018-03-13",
          "2018-03-14",
          "2018-03-15",
          "2018-03-16",
          "2018-03-17",
          "2018-03-18",
          "2018-03-19",
          "2018-03-20",
          "2018-03-21",
          "2018-03-22",
          "2018-03-23",
          "2018-03-24",
          "2018-03-25",
          "2018-03-26",
          "2018-03-27",
          "2018-03-28",
          "2018-03-29",
          "2018-03-30",
          "2018-03-31",
          "2018-04-01",
          "2018-04-02",
          "2018-04-03",
          "2018-04-04",
          "2018-04-05",
          "2018-04-06",
          "2018-04-07",
          "2018-04-08",
          "2018-04-09",
          "2018-04-10",
          "2018-04-11",
          "2018-04-12",
          "2018-04-13",
          "2018-04-14",
          "2018-04-15",
          "2018-04-16",
          "2018-04-17",
          "2018-04-18",
          "2018-04-19",
          "2018-04-20",
          "2018-04-21",
          "2018-04-22",
          "2018-04-23",
          "2018-04-24",
          "2018-04-25",
          "2018-04-26",
          "2018-04-27",
          "2018-04-28",
          "2018-04-29",
          "2018-04-30",
          "2018-05-01",
          "2018-05-02",
          "2018-05-03",
          "2018-05-04",
          "2018-05-05",
          "2018-05-06",
          "2018-05-07",
          "2018-05-08",
          "2018-05-09",
          "2018-05-10",
          "2018-05-11",
          "2018-05-12",
          "2018-05-13",
          "2018-05-14",
          "2018-05-15",
          "2018-05-16",
          "2018-05-17",
          "2018-05-18",
          "2018-05-19",
          "2018-05-20",
          "2018-05-21",
          "2018-05-22",
          "2018-05-23",
          "2018-05-24",
          "2018-05-25",
          "2018-05-26",
          "2018-05-27",
          "2018-05-28",
          "2018-05-29",
          "2018-05-30",
          "2018-05-31",
          "2018-06-01",
          "2018-06-02",
          "2018-06-03",
          "2018-06-04",
          "2018-06-05",
          "2018-06-06",
          "2018-06-07",
          "2018-06-08",
          "2018-06-09",
          "2018-06-10",
          "2018-06-11",
          "2018-06-12",
          "2018-06-13",
          "2018-06-14",
          "2018-06-15",
          "2018-06-16",
          "2018-06-17",
          "2018-06-18",
          "2018-06-19",
          "2018-06-20",
          "2018-06-21",
          "2018-06-22",
          "2018-06-23",
          "2018-06-24",
          "2018-06-25",
          "2018-06-26",
          "2018-06-27",
          "2018-06-28",
          "2018-06-29",
          "2018-06-30",
          "2018-07-01",
          "2018-07-02",
          "2018-07-03",
          "2018-07-04",
          "2018-07-05",
          "2018-07-06",
          "2018-07-07",
          "2018-07-08",
          "2018-07-09",
          "2018-07-10",
          "2018-07-11",
          "2018-07-12",
          "2018-07-13",
          "2018-07-14",
          "2018-07-15",
          "2018-07-16",
          "2018-07-17",
          "2018-07-18",
          "2018-07-19",
          "2018-07-20",
          "2018-07-21",
          "2018-07-22",
          "2018-07-23",
          "2018-07-24",
          "2018-07-25",
          "2018-07-26",
          "2018-07-27",
          "2018-07-28",
          "2018-07-29",
          "2018-07-30",
          "2018-07-31",
          "2018-08-01",
          "2018-08-02",
          "2018-08-03",
          "2018-08-04",
          "2018-08-05",
          "2018-08-06",
          "2018-08-07",
          "2018-08-08",
          "2018-08-09",
          "2018-08-10",
          "2018-08-11",
          "2018-08-12",
          "2018-08-13",
          "2018-08-14",
          "2018-08-15",
          "2018-08-16",
          "2018-08-17",
          "2018-08-18",
          "2018-08-19",
          "2018-08-20",
          "2018-08-21",
          "2018-08-22",
          "2018-08-23",
          "2018-08-24",
          "2018-08-25",
          "2018-08-26",
          "2018-08-27",
          "2018-08-28",
          "2018-08-29",
          "2018-08-30",
          "2018-08-31",
          "2018-09-01",
          "2018-09-02",
          "2018-09-03",
          "2018-09-04",
          "2018-09-05",
          "2018-09-06",
          "2018-09-07",
          "2018-09-08",
          "2018-09-09",
          "2018-09-10",
          "2018-09-11",
          "2018-09-12",
          "2018-09-13",
          "2018-09-14",
          "2018-09-15",
          "2018-09-16",
          "2018-09-17",
          "2018-09-18",
          "2018-09-19",
          "2018-09-20",
          "2018-09-21",
          "2018-09-22",
          "2018-09-23",
          "2018-09-24",
          "2018-09-25",
          "2018-09-26",
          "2018-09-27",
          "2018-09-28",
          "2018-09-29",
          "2018-09-30",
          "2018-10-01",
          "2018-10-02",
          "2018-10-03",
          "2018-10-04",
          "2018-10-05",
          "2018-10-06",
          "2018-10-07",
          "2018-10-08",
          "2018-10-09",
          "2018-10-10",
          "2018-10-11",
          "2018-10-12",
          "2018-10-13",
          "2018-10-14",
          "2018-10-15",
          "2018-10-16",
          "2018-10-17",
          "2018-10-18",
          "2018-10-19",
          "2018-10-20",
          "2018-10-21",
          "2018-10-22",
          "2018-10-23",
          "2018-10-24",
          "2018-10-25",
          "2018-10-26",
          "2018-10-27",
          "2018-10-28",
          "2018-10-29",
          "2018-10-30",
          "2018-10-31",
          "2018-11-01",
          "2018-11-02",
          "2018-11-03",
          "2018-11-04",
          "2018-11-05",
          "2018-11-06",
          "2018-11-07",
          "2018-11-08",
          "2018-11-09",
          "2018-11-10",
          "2018-11-11",
          "2018-11-12",
          "2018-11-13",
          "2018-11-14",
          "2018-11-15",
          "2018-11-16",
          "2018-11-17",
          "2018-11-18",
          "2018-11-19",
          "2018-11-20",
          "2018-11-21",
          "2018-11-22",
          "2018-11-23",
          "2018-11-24",
          "2018-11-25",
          "2018-11-26",
          "2018-11-27",
          "2018-11-28",
          "2018-11-29",
          "2018-11-30",
          "2018-12-01",
          "2018-12-02",
          "2018-12-03",
          "2018-12-04",
          "2018-12-05",
          "2018-12-06",
          "2018-12-07",
          "2018-12-08",
          "2018-12-09",
          "2018-12-10",
          "2018-12-11",
          "2018-12-12",
          "2018-12-13",
          "2018-12-14",
          "2018-12-15",
          "2018-12-16",
          "2018-12-17",
          "2018-12-18",
          "2018-12-19",
          "2018-12-20",
          "2018-12-21",
          "2018-12-22",
          "2018-12-23",
          "2018-12-24",
          "2018-12-25",
          "2018-12-26",
          "2018-12-27",
          "2018-12-28",
          "2018-12-29",
          "2018-12-30",
          "2018-12-31",
          "2019-01-01",
          "2019-01-02",
          "2019-01-03",
          "2019-01-04",
          "2019-01-05",
          "2019-01-06",
          "2019-01-07",
          "2019-01-08",
          "2019-01-09",
          "2019-01-10",
          "2019-01-11",
          "2019-01-12",
          "2019-01-13",
          "2019-01-14",
          "2019-01-15",
          "2019-01-16",
          "2019-01-17",
          "2019-01-18",
          "2019-01-19",
          "2019-01-20",
          "2019-01-21",
          "2019-01-22",
          "2019-01-23",
          "2019-01-24",
          "2019-01-25",
          "2019-01-26",
          "2019-01-27",
          "2019-01-28",
          "2019-01-29",
          "2019-01-30",
          "2019-01-31",
          "2019-02-01",
          "2019-02-02",
          "2019-02-03",
          "2019-02-04",
          "2019-02-05",
          "2019-02-06",
          "2019-02-07",
          "2019-02-08",
          "2019-02-09",
          "2019-02-10",
          "2019-02-11",
          "2019-02-12",
          "2019-02-13",
          "2019-02-14",
          "2019-02-15",
          "2019-02-16",
          "2019-02-17",
          "2019-02-18",
          "2019-02-19",
          "2019-02-20",
          "2019-02-21",
          "2019-02-22",
          "2019-02-23",
          "2019-02-24",
          "2019-02-25",
          "2019-02-26",
          "2019-02-27",
          "2019-02-28",
          "2019-03-01",
          "2019-03-02",
          "2019-03-03",
          "2019-03-04",
          "2019-03-05",
          "2019-03-06",
          "2019-03-07",
          "2019-03-08",
          "2019-03-09",
          "2019-03-10",
          "2019-03-11",
          "2019-03-12",
          "2019-03-13",
          "2019-03-14",
          "2019-03-15",
          "2019-03-16",
          "2019-03-17",
          "2019-03-18",
          "2019-03-19",
          "2019-03-20",
          "2019-03-21",
          "2019-03-22",
          "2019-03-23",
          "2019-03-24",
          "2019-03-25",
          "2019-03-26",
          "2019-03-27",
          "2019-03-28",
          "2019-03-29",
          "2019-03-30",
          "2019-03-31",
          "2019-04-01",
          "2019-04-02",
          "2019-04-03",
          "2019-04-04",
          "2019-04-05",
          "2019-04-06",
          "2019-04-07",
          "2019-04-08",
          "2019-04-09",
          "2019-04-10",
          "2019-04-11",
          "2019-04-12",
          "2019-04-13",
          "2019-04-14",
          "2019-04-15",
          "2019-04-16",
          "2019-04-17",
          "2019-04-18",
          "2019-04-19",
          "2019-04-20",
          "2019-04-21",
          "2019-04-22",
          "2019-04-23",
          "2019-04-24",
          "2019-04-25",
          "2019-04-26",
          "2019-04-27",
          "2019-04-28",
          "2019-04-29",
          "2019-04-30",
          "2019-05-01",
          "2019-05-02",
          "2019-05-03",
          "2019-05-04",
          "2019-05-05",
          "2019-05-06",
          "2019-05-07",
          "2019-05-08",
          "2019-05-09",
          "2019-05-10",
          "2019-05-11",
          "2019-05-12",
          "2019-05-13",
          "2019-05-14",
          "2019-05-15",
          "2019-05-16",
          "2019-05-17",
          "2019-05-18",
          "2019-05-19",
          "2019-05-20",
          "2019-05-21",
          "2019-05-22",
          "2019-05-23",
          "2019-05-24",
          "2019-05-25",
          "2019-05-26",
          "2019-05-27",
          "2019-05-28",
          "2019-05-29",
          "2019-05-30",
          "2019-05-31",
          "2019-06-01",
          "2019-06-02",
          "2019-06-03",
          "2019-06-04",
          "2019-06-05",
          "2019-06-06",
          "2019-06-07",
          "2019-06-08",
          "2019-06-09",
          "2019-06-10",
          "2019-06-11",
          "2019-06-12",
          "2019-06-13",
          "2019-06-14",
          "2019-06-15",
          "2019-06-16",
          "2019-06-17",
          "2019-06-18",
          "2019-06-19",
          "2019-06-20",
          "2019-06-21",
          "2019-06-22",
          "2019-06-23",
          "2019-06-24",
          "2019-06-25",
          "2019-06-26",
          "2019-06-27",
          "2019-06-28",
          "2019-06-29",
          "2019-06-30",
          "2019-07-01",
          "2019-07-02",
          "2019-07-03",
          "2019-07-04",
          "2019-07-05",
          "2019-07-06",
          "2019-07-07",
          "2019-07-08",
          "2019-07-09",
          "2019-07-10",
          "2019-07-11",
          "2019-07-12",
          "2019-07-13",
          "2019-07-14",
          "2019-07-15",
          "2019-07-16",
          "2019-07-17",
          "2019-07-18",
          "2019-07-19",
          "2019-07-20",
          "2019-07-21",
          "2019-07-22",
          "2019-07-23",
          "2019-07-24",
          "2019-07-25",
          "2019-07-26",
          "2019-07-27",
          "2019-07-28",
          "2019-07-29",
          "2019-07-30",
          "2019-07-31",
          "2019-08-01",
          "2019-08-02",
          "2019-08-03",
          "2019-08-04",
          "2019-08-05",
          "2019-08-06",
          "2019-08-07",
          "2019-08-08",
          "2019-08-09",
          "2019-08-10",
          "2019-08-11",
          "2019-08-12",
          "2019-08-13",
          "2019-08-14",
          "2019-08-15",
          "2019-08-16",
          "2019-08-17",
          "2019-08-18",
          "2019-08-19",
          "2019-08-20",
          "2019-08-21",
          "2019-08-22",
          "2019-08-23",
          "2019-08-24",
          "2019-08-25",
          "2019-08-26",
          "2019-08-27",
          "2019-08-28",
          "2019-08-29",
          "2019-08-30",
          "2019-08-31",
          "2019-09-01",
          "2019-09-02",
          "2019-09-03",
          "2019-09-04",
          "2019-09-05",
          "2019-09-06",
          "2019-09-07",
          "2019-09-08",
          "2019-09-09",
          "2019-09-10",
          "2019-09-11",
          "2019-09-12",
          "2019-09-13",
          "2019-09-14",
          "2019-09-15",
          "2019-09-16",
          "2019-09-17",
          "2019-09-18",
          "2019-09-19",
          "2019-09-20",
          "2019-09-21",
          "2019-09-22",
          "2019-09-23",
          "2019-09-24",
          "2019-09-25",
          "2019-09-26",
          "2019-09-27",
          "2019-09-28",
          "2019-09-29",
          "2019-09-30",
          "2019-10-01",
          "2019-10-02",
          "2019-10-03",
          "2019-10-04",
          "2019-10-05",
          "2019-10-06",
          "2019-10-07",
          "2019-10-08",
          "2019-10-09",
          "2019-10-10",
          "2019-10-11",
          "2019-10-12",
          "2019-10-13",
          "2019-10-14",
          "2019-10-15",
          "2019-10-16",
          "2019-10-17",
          "2019-10-18",
          "2019-10-19",
          "2019-10-20",
          "2019-10-21",
          "2019-10-22",
          "2019-10-23",
          "2019-10-24",
          "2019-10-25",
          "2019-10-26",
          "2019-10-27",
          "2019-10-28",
          "2019-10-29",
          "2019-10-30",
          "2019-10-31",
          "2019-11-01",
          "2019-11-02",
          "2019-11-03",
          "2019-11-04",
          "2019-11-05",
          "2019-11-06",
          "2019-11-07",
          "2019-11-08",
          "2019-11-09",
          "2019-11-10",
          "2019-11-11",
          "2019-11-12",
          "2019-11-13",
          "2019-11-14",
          "2019-11-15",
          "2019-11-16",
          "2019-11-17",
          "2019-11-18",
          "2019-11-19",
          "2019-11-20",
          "2019-11-21",
          "2019-11-22",
          "2019-11-23",
          "2019-11-24",
          "2019-11-25",
          "2019-11-26",
          "2019-11-27",
          "2019-11-28",
          "2019-11-29",
          "2019-11-30",
          "2019-12-01",
          "2019-12-02",
          "2019-12-03",
          "2019-12-04",
          "2019-12-05",
          "2019-12-06",
          "2019-12-07",
          "2019-12-08",
          "2019-12-09",
          "2019-12-10",
          "2019-12-11",
          "2019-12-12",
          "2019-12-13",
          "2019-12-14",
          "2019-12-15",
          "2019-12-16",
          "2019-12-17",
          "2019-12-18",
          "2019-12-19",
          "2019-12-20",
          "2019-12-21",
          "2019-12-22",
          "2019-12-23",
          "2019-12-24",
          "2019-12-25",
          "2019-12-26",
          "2019-12-27",
          "2019-12-28",
          "2019-12-29",
          "2019-12-30",
          "2019-12-31",
          "2020-01-01",
          "2020-01-02",
          "2020-01-03",
          "2020-01-04",
          "2020-01-05",
          "2020-01-06",
          "2020-01-07",
          "2020-01-08",
          "2020-01-09",
          "2020-01-10",
          "2020-01-11",
          "2020-01-12",
          "2020-01-13",
          "2020-01-14",
          "2020-01-15",
          "2020-01-16",
          "2020-01-17",
          "2020-01-18",
          "2020-01-19",
          "2020-01-20",
          "2020-01-21",
          "2020-01-22",
          "2020-01-23",
          "2020-01-24",
          "2020-01-25",
          "2020-01-26",
          "2020-01-27",
          "2020-01-28",
          "2020-01-29",
          "2020-01-30",
          "2020-01-31",
          "2020-02-01",
          "2020-02-02",
          "2020-02-03",
          "2020-02-04",
          "2020-02-05",
          "2020-02-06",
          "2020-02-07",
          "2020-02-08",
          "2020-02-09",
          "2020-02-10",
          "2020-02-11",
          "2020-02-12",
          "2020-02-13",
          "2020-02-14",
          "2020-02-15",
          "2020-02-16",
          "2020-02-17",
          "2020-02-18",
          "2020-02-19",
          "2020-02-20",
          "2020-02-21",
          "2020-02-22",
          "2020-02-23",
          "2020-02-24",
          "2020-02-25",
          "2020-02-26",
          "2020-02-27",
          "2020-02-28",
          "2020-02-29",
          "2020-03-01",
          "2020-03-02",
          "2020-03-03",
          "2020-03-04",
          "2020-03-05",
          "2020-03-06",
          "2020-03-07",
          "2020-03-08",
          "2020-03-09",
          "2020-03-10",
          "2020-03-11",
          "2020-03-12",
          "2020-03-13",
          "2020-03-14",
          "2020-03-15",
          "2020-03-16",
          "2020-03-17",
          "2020-03-18",
          "2020-03-19",
          "2020-03-20",
          "2020-03-21",
          "2020-03-22",
          "2020-03-23",
          "2020-03-24",
          "2020-03-25",
          "2020-03-26",
          "2020-03-27",
          "2020-03-28",
          "2020-03-29",
          "2020-03-30",
          "2020-03-31",
          "2020-04-01",
          "2020-04-02",
          "2020-04-03",
          "2020-04-04",
          "2020-04-05",
          "2020-04-06",
          "2020-04-07",
          "2020-04-08",
          "2020-04-09",
          "2020-04-10",
          "2020-04-11",
          "2020-04-12",
          "2020-04-13",
          "2020-04-14",
          "2020-04-15",
          "2020-04-16",
          "2020-04-17",
          "2020-04-18",
          "2020-04-19",
          "2020-04-20",
          "2020-04-21",
          "2020-04-22",
          "2020-04-23",
          "2020-04-24",
          "2020-04-25",
          "2020-04-26",
          "2020-04-27",
          "2020-04-28",
          "2020-04-29",
          "2020-04-30",
          "2020-05-01",
          "2020-05-02",
          "2020-05-03",
          "2020-05-04",
          "2020-05-05",
          "2020-05-06",
          "2020-05-07",
          "2020-05-08",
          "2020-05-09",
          "2020-05-10",
          "2020-05-11",
          "2020-05-12",
          "2020-05-13",
          "2020-05-14",
          "2020-05-15",
          "2020-05-16",
          "2020-05-17",
          "2020-05-18",
          "2020-05-19",
          "2020-05-20",
          "2020-05-21",
          "2020-05-22",
          "2020-05-23",
          "2020-05-24",
          "2020-05-25",
          "2020-05-26",
          "2020-05-27",
          "2020-05-28",
          "2020-05-29",
          "2020-05-30",
          "2020-05-31",
          "2020-06-01",
          "2020-06-02",
          "2020-06-03",
          "2020-06-04",
          "2020-06-05",
          "2020-06-06",
          "2020-06-07",
          "2020-06-08",
          "2020-06-09",
          "2020-06-10",
          "2020-06-11",
          "2020-06-12",
          "2020-06-13",
          "2020-06-14",
          "2020-06-15",
          "2020-06-16",
          "2020-06-17",
          "2020-06-18",
          "2020-06-19",
          "2020-06-20",
          "2020-06-21",
          "2020-06-22",
          "2020-06-23",
          "2020-06-24",
          "2020-06-25",
          "2020-06-26",
          "2020-06-27",
          "2020-06-28",
          "2020-06-29",
          "2020-06-30",
          "2020-07-01",
          "2020-07-02",
          "2020-07-03",
          "2020-07-04",
          "2020-07-05",
          "2020-07-06",
          "2020-07-07",
          "2020-07-08",
          "2020-07-09",
          "2020-07-10",
          "2020-07-11",
          "2020-07-12",
          "2020-07-13",
          "2020-07-14",
          "2020-07-15",
          "2020-07-16",
          "2020-07-17",
          "2020-07-18",
          "2020-07-19",
          "2020-07-20",
          "2020-07-21",
          "2020-07-22",
          "2020-07-23",
          "2020-07-24",
          "2020-07-25",
          "2020-07-26",
          "2020-07-27",
          "2020-07-28",
          "2020-07-29",
          "2020-07-30",
          "2020-07-31",
          "2020-08-01",
          "2020-08-02",
          "2020-08-03",
          "2020-08-04",
          "2020-08-05",
          "2020-08-06",
          "2020-08-07",
          "2020-08-08",
          "2020-08-09",
          "2020-08-10",
          "2020-08-11",
          "2020-08-12",
          "2020-08-13",
          "2020-08-14",
          "2020-08-15",
          "2020-08-16",
          "2020-08-17",
          "2020-08-18",
          "2020-08-19",
          "2020-08-20",
          "2020-08-21",
          "2020-08-22",
          "2020-08-23",
          "2020-08-24",
          "2020-08-25",
          "2020-08-26",
          "2020-08-27",
          "2020-08-28",
          "2020-08-29",
          "2020-08-30",
          "2020-08-31",
          "2020-09-01",
          "2020-09-02",
          "2020-09-03",
          "2020-09-04",
          "2020-09-05",
          "2020-09-06",
          "2020-09-07",
          "2020-09-08",
          "2020-09-09",
          "2020-09-10",
          "2020-09-11",
          "2020-09-12",
          "2020-09-13",
          "2020-09-14",
          "2020-09-15",
          "2020-09-16",
          "2020-09-17",
          "2020-09-18",
          "2020-09-19",
          "2020-09-20",
          "2020-09-21",
          "2020-09-22",
          "2020-09-23",
          "2020-09-24",
          "2020-09-25",
          "2020-09-26",
          "2020-09-27",
          "2020-09-28",
          "2020-09-29",
          "2020-09-30",
          "2020-10-01",
          "2020-10-02",
          "2020-10-03",
          "2020-10-04",
          "2020-10-05",
          "2020-10-06",
          "2020-10-07",
          "2020-10-08",
          "2020-10-09",
          "2020-10-10",
          "2020-10-11",
          "2020-10-12",
          "2020-10-13",
          "2020-10-14",
          "2020-10-15",
          "2020-10-16",
          "2020-10-17",
          "2020-10-18",
          "2020-10-19",
          "2020-10-20",
          "2020-10-21",
          "2020-10-22",
          "2020-10-23",
          "2020-10-24",
          "2020-10-25",
          "2020-10-26",
          "2020-10-27",
          "2020-10-28",
          "2020-10-29",
          "2020-10-30",
          "2020-10-31",
          "2020-11-01",
          "2020-11-02",
          "2020-11-03",
          "2020-11-04",
          "2020-11-05",
          "2020-11-06",
          "2020-11-07",
          "2020-11-08",
          "2020-11-09",
          "2020-11-10",
          "2020-11-11",
          "2020-11-12",
          "2020-11-13",
          "2020-11-14",
          "2020-11-15",
          "2020-11-16",
          "2020-11-17",
          "2020-11-18",
          "2020-11-19",
          "2020-11-20",
          "2020-11-21",
          "2020-11-22",
          "2020-11-23",
          "2020-11-24",
          "2020-11-25",
          "2020-11-26",
          "2020-11-27",
          "2020-11-28",
          "2020-11-29",
          "2020-11-30",
          "2020-12-01",
          "2020-12-02",
          "2020-12-03",
          "2020-12-04",
          "2020-12-05",
          "2020-12-06",
          "2020-12-07",
          "2020-12-08",
          "2020-12-09",
          "2020-12-10",
          "2020-12-11",
          "2020-12-12",
          "2020-12-13",
          "2020-12-14",
          "2020-12-15",
          "2020-12-16",
          "2020-12-17",
          "2020-12-18",
          "2020-12-19",
          "2020-12-20",
          "2020-12-21",
          "2020-12-22",
          "2020-12-23",
          "2020-12-24",
          "2020-12-25",
          "2020-12-26",
          "2020-12-27",
          "2020-12-28",
          "2020-12-29",
          "2020-12-30",
          "2020-12-31",
          "2021-01-01",
          "2021-01-02",
          "2021-01-03",
          "2021-01-04",
          "2021-01-05",
          "2021-01-06",
          "2021-01-07",
          "2021-01-08",
          "2021-01-09",
          "2021-01-10",
          "2021-01-11",
          "2021-01-12",
          "2021-01-13",
          "2021-01-14",
          "2021-01-15",
          "2021-01-16",
          "2021-01-17",
          "2021-01-18",
          "2021-01-19",
          "2021-01-20",
          "2021-01-21",
          "2021-01-22",
          "2021-01-23",
          "2021-01-24",
          "2021-01-25",
          "2021-01-26",
          "2021-01-27",
          "2021-01-28",
          "2021-01-29",
          "2021-01-30",
          "2021-01-31",
          "2021-02-01",
          "2021-02-02",
          "2021-02-03",
          "2021-02-04",
          "2021-02-05",
          "2021-02-06",
          "2021-02-07",
          "2021-02-08",
          "2021-02-09",
          "2021-02-10",
          "2021-02-11",
          "2021-02-12",
          "2021-02-13",
          "2021-02-14",
          "2021-02-15",
          "2021-02-16",
          "2021-02-17",
          "2021-02-18",
          "2021-02-19",
          "2021-02-20",
          "2021-02-21",
          "2021-02-22",
          "2021-02-23",
          "2021-02-24",
          "2021-02-25",
          "2021-02-26",
          "2021-02-27",
          "2021-02-28",
          "2021-03-01",
          "2021-03-02",
          "2021-03-03",
          "2021-03-04",
          "2021-03-05",
          "2021-03-06",
          "2021-03-07",
          "2021-03-08",
          "2021-03-09",
          "2021-03-10",
          "2021-03-11",
          "2021-03-12",
          "2021-03-13",
          "2021-03-14",
          "2021-03-15",
          "2021-03-16",
          "2021-03-17",
          "2021-03-18",
          "2021-03-19",
          "2021-03-20",
          "2021-03-21",
          "2021-03-22",
          "2021-03-23",
          "2021-03-24",
          "2021-03-25",
          "2021-03-26",
          "2021-03-27",
          "2021-03-28",
          "2021-03-29",
          "2021-03-30",
          "2021-03-31",
          "2021-04-01",
          "2021-04-02",
          "2021-04-03",
          "2021-04-04",
          "2021-04-05",
          "2021-04-06",
          "2021-04-07",
          "2021-04-08",
          "2021-04-09",
          "2021-04-10",
          "2021-04-11",
          "2021-04-12",
          "2021-04-13",
          "2021-04-14",
          "2021-04-15",
          "2021-04-16",
          "2021-04-17",
          "2021-04-18",
          "2021-04-19",
          "2021-04-20",
          "2021-04-21",
          "2021-04-22",
          "2021-04-23",
          "2021-04-24",
          "2021-04-25",
          "2021-04-26",
          "2021-04-27",
          "2021-04-28",
          "2021-04-29",
          "2021-04-30",
          "2021-05-01",
          "2021-05-02",
          "2021-05-03",
          "2021-05-04",
          "2021-05-05",
          "2021-05-06",
          "2021-05-07",
          "2021-05-08",
          "2021-05-09",
          "2021-05-10",
          "2021-05-11",
          "2021-05-12",
          "2021-05-13",
          "2021-05-14",
          "2021-05-15",
          "2021-05-16",
          "2021-05-17",
          "2021-05-18",
          "2021-05-19",
          "2021-05-20",
          "2021-05-21",
          "2021-05-22",
          "2021-05-23",
          "2021-05-24",
          "2021-05-25",
          "2021-05-26",
          "2021-05-27",
          "2021-05-28",
          "2021-05-29",
          "2021-05-30",
          "2021-05-31",
          "2021-06-01",
          "2021-06-02",
          "2021-06-03",
          "2021-06-04",
          "2021-06-05",
          "2021-06-06",
          "2021-06-07",
          "2021-06-08",
          "2021-06-09",
          "2021-06-10",
          "2021-06-11",
          "2021-06-12",
          "2021-06-13",
          "2021-06-14",
          "2021-06-15",
          "2021-06-16",
          "2021-06-17",
          "2021-06-18",
          "2021-06-19",
          "2021-06-20",
          "2021-06-21",
          "2021-06-22",
          "2021-06-23",
          "2021-06-24",
          "2021-06-25",
          "2021-06-26",
          "2021-06-27",
          "2021-06-28",
          "2021-06-29",
          "2021-06-30",
          "2021-07-01",
          "2021-07-02",
          "2021-07-03",
          "2021-07-04",
          "2021-07-05",
          "2021-07-06",
          "2021-07-07",
          "2021-07-08",
          "2021-07-09",
          "2021-07-10",
          "2021-07-11",
          "2021-07-12",
          "2021-07-13",
          "2021-07-14",
          "2021-07-15",
          "2021-07-16",
          "2021-07-17",
          "2021-07-18",
          "2021-07-19",
          "2021-07-20",
          "2021-07-21",
          "2021-07-22",
          "2021-07-23",
          "2021-07-24",
          "2021-07-25",
          "2021-07-26",
          "2021-07-27",
          "2021-07-28",
          "2021-07-29",
          "2021-07-30",
          "2021-07-31",
          "2021-08-01",
          "2021-08-02",
          "2021-08-03",
          "2021-08-04",
          "2021-08-05",
          "2021-08-06",
          "2021-08-07",
          "2021-08-08",
          "2021-08-09",
          "2021-08-10",
          "2021-08-11",
          "2021-08-12",
          "2021-08-13",
          "2021-08-14",
          "2021-08-15",
          "2021-08-16",
          "2021-08-17",
          "2021-08-18",
          "2021-08-19",
          "2021-08-20",
          "2021-08-21",
          "2021-08-22",
          "2021-08-23",
          "2021-08-24",
          "2021-08-25",
          "2021-08-26",
          "2021-08-27",
          "2021-08-28",
          "2021-08-29",
          "2021-08-30",
          "2021-08-31",
          "2021-09-01",
          "2021-09-02",
          "2021-09-03",
          "2021-09-04",
          "2021-09-05",
          "2021-09-06",
          "2021-09-07",
          "2021-09-08",
          "2021-09-09",
          "2021-09-10",
          "2021-09-11",
          "2021-09-12",
          "2021-09-13",
          "2021-09-14",
          "2021-09-15",
          "2021-09-16",
          "2021-09-17",
          "2021-09-18",
          "2021-09-19",
          "2021-09-20",
          "2021-09-21",
          "2021-09-22",
          "2021-09-23",
          "2021-09-24",
          "2021-09-25",
          "2021-09-26",
          "2021-09-27",
          "2021-09-28",
          "2021-09-29",
          "2021-09-30",
          "2021-10-01",
          "2021-10-02",
          "2021-10-03",
          "2021-10-04",
          "2021-10-05",
          "2021-10-06",
          "2021-10-07",
          "2021-10-08",
          "2021-10-09",
          "2021-10-10",
          "2021-10-11",
          "2021-10-12",
          "2021-10-13",
          "2021-10-14",
          "2021-10-15",
          "2021-10-16",
          "2021-10-17",
          "2021-10-18",
          "2021-10-19",
          "2021-10-20",
          "2021-10-21",
          "2021-10-22",
          "2021-10-23",
          "2021-10-24",
          "2021-10-25",
          "2021-10-26",
          "2021-10-27",
          "2021-10-28",
          "2021-10-29",
          "2021-10-30",
          "2021-10-31",
          "2021-11-01",
          "2021-11-02",
          "2021-11-03",
          "2021-11-04",
          "2021-11-05",
          "2021-11-06",
          "2021-11-07",
          "2021-11-08",
          "2021-11-09",
          "2021-11-10",
          "2021-11-11",
          "2021-11-12",
          "2021-11-13",
          "2021-11-14",
          "2021-11-15",
          "2021-11-16",
          "2021-11-17",
          "2021-11-18",
          "2021-11-19",
          "2021-11-20",
          "2021-11-21",
          "2021-11-22",
          "2021-11-23",
          "2021-11-24",
          "2021-11-25",
          "2021-11-26",
          "2021-11-27",
          "2021-11-28",
          "2021-11-29",
          "2021-11-30",
          "2021-12-01",
          "2021-12-02",
          "2021-12-03",
          "2021-12-04",
          "2021-12-05",
          "2021-12-06",
          "2021-12-07",
          "2021-12-08",
          "2021-12-09",
          "2021-12-10",
          "2021-12-11",
          "2021-12-12",
          "2021-12-13",
          "2021-12-14",
          "2021-12-15",
          "2021-12-16",
          "2021-12-17",
          "2021-12-18",
          "2021-12-19",
          "2021-12-20",
          "2021-12-21",
          "2021-12-22",
          "2021-12-23",
          "2021-12-24",
          "2021-12-25",
          "2021-12-26",
          "2021-12-27",
          "2021-12-28",
          "2021-12-29",
          "2021-12-30",
          "2021-12-31",
          "2022-01-01",
          "2022-01-02",
          "2022-01-03",
          "2022-01-04",
          "2022-01-05",
          "2022-01-06",
          "2022-01-07",
          "2022-01-08"
         ],
         "y": [
          9999.88,
          9999.88,
          9999.88,
          9951.54,
          9977.67,
          9908.85,
          9844.48,
          9795.53,
          9795.53,
          9795.53,
          29812.68,
          29939.01,
          29963.42,
          29721.300000000003,
          29680.54,
          29680.54,
          29680.54,
          29715.36,
          29347.86,
          29347.86,
          29347.86,
          29339.63,
          29339.63,
          29339.63,
          29470.43,
          29600.61,
          29446.17,
          29728.54,
          29882.27,
          29882.27,
          29882.27,
          29860.940000000002,
          29798.97,
          29798.97,
          29892.25,
          30109.47,
          30109.47,
          30109.47,
          30089.949999999997,
          30131.28,
          30051.71,
          29842.32,
          29551.9,
          29551.9,
          29551.9,
          29533.899999999998,
          29266.760000000002,
          28903.95,
          44082.53,
          43646.31,
          43646.31,
          43646.31,
          43724.58,
          43942.17,
          44099.33,
          44613.57,
          44332.56,
          44332.56,
          44332.56,
          44640.009999999995,
          44484.21,
          44766.61,
          44859.75,
          44859.75,
          44859.75,
          44859.75,
          60141.96,
          60130.56,
          59993.83,
          60152.86,
          60503.57,
          60503.57,
          60503.57,
          59487.46000000001,
          59445.32,
          59167.58,
          57865.240000000005,
          58188.759999999995,
          58188.759999999995,
          58188.759999999995,
          72842.57,
          72419.75,
          72471.1,
          71875.78,
          70704.69,
          70704.69,
          70704.69,
          69473.4,
          70379.47,
          69430.15,
          69543.13,
          70807.15,
          70807.15,
          70807.15,
          85895.84,
          85895.84,
          85998.44,
          85550.29000000001,
          86678.98999999999,
          86678.98999999999,
          86678.98999999999,
          86803.29,
          85841.62,
          84552.64,
          85003.57,
          86118.98999999999,
          86118.98999999999,
          86118.98999999999,
          85502.85,
          84462.76000000001,
          98595.42,
          95831.75,
          95230.52,
          95230.52,
          95230.52,
          98150.17,
          96358.11,
          96792.35,
          97654.97,
          98069.44,
          98069.44,
          98069.44,
          98372.5,
          96970.73999999999,
          95836.5,
          109854.11,
          110406.53,
          110406.53,
          110406.53,
          109991.23999999999,
          113230.98999999999,
          115490.98999999999,
          117037.2,
          117422.16,
          117422.16,
          117422.16,
          117422.16,
          117088.58,
          117496.29000000001,
          131883.6,
          131953.2,
          131953.2,
          131953.2,
          132831.07,
          132452.52000000002,
          132786.74,
          133590.16,
          134950.95,
          134950.95,
          134950.95,
          136947.88,
          137196.38,
          137294.61,
          137294.61,
          137294.61,
          137294.61,
          137294.61,
          150520.67,
          150318.85,
          153209.88,
          153407.48,
          153519.39,
          153519.39,
          153519.39,
          154676.56,
          151176.72,
          151469.64,
          150577.15000000002,
          151143.94,
          151143.94,
          151143.94,
          167804.69,
          169070.55,
          171607.7,
          171607.7,
          171607.7,
          171607.7,
          171607.7,
          773030.9099999999,
          773030.9099999999,
          1073771.35,
          1073215.25,
          1074125.8599999999,
          1074125.8599999999,
          1074125.8599999999,
          1088758.17,
          1090257.07,
          1090374.96,
          1088349.19,
          1088960.8,
          1088960.8,
          1088960.8,
          1088724.3199999998,
          1087789.98,
          1086653.1,
          1086795.1300000001,
          1087172.94,
          1087172.94,
          1087172.94,
          1090534.5,
          1106377.01,
          1106268.45,
          1107764.44,
          1106253.1,
          1106253.1,
          1106253.1,
          1106638.23,
          1107304.2,
          1107019.45,
          1105495.28,
          1104653.68,
          1104653.68,
          1104653.68,
          1104918.1600000001,
          1104912.17,
          1123594.9,
          1126946.16,
          1128551.92,
          1128551.92,
          1128551.92,
          1130325.3900000001,
          1129928.65,
          1129271.99,
          1130557.46,
          1130754.45,
          1130754.45,
          1130754.45,
          1131592.26,
          1133395.13,
          1134806.71,
          1134153.3699999999,
          1148737.6900000002,
          1148737.6900000002,
          1148737.6900000002,
          1146875.83,
          1147566.85,
          1150417.1,
          1149409.94,
          1150484.02,
          1150484.02,
          1150484.02,
          1152304.22,
          1152725.84,
          1153613.92,
          1155284.07,
          1152317.26,
          1152317.26,
          1152317.26,
          1170437.33,
          1171552.51,
          1175446.9700000002,
          1178183.85,
          1180863.24,
          1180863.24,
          1180863.24,
          1183283.1800000002,
          1183774.96,
          1183774.96,
          1184530.62,
          1184754.67,
          1184754.67,
          1184754.67,
          1203974.84,
          1207485.24,
          1208650.5099999998,
          1210710.61,
          1210768.6099999999,
          1210768.6099999999,
          1210768.6099999999,
          1209433.25,
          1210544.59,
          1212882.24,
          1212009.0999999999,
          1213618.27,
          1213618.27,
          1213618.27,
          1232289.8,
          1231541.94,
          1232737.09,
          1235903.82,
          1235950.0299999998,
          1235950.0299999998,
          1235950.0299999998,
          1236943.67,
          1235191.0299999998,
          1232666.6400000001,
          1233831.7700000003,
          1238776.29,
          1238776.29,
          1238776.29,
          1239885.41,
          1241061.1099999999,
          1253834.3000000003,
          1254864.88,
          1256582.4700000002,
          1256582.4700000002,
          1256582.4700000002,
          1256582.4700000002,
          1257172.85,
          1257777.09,
          1259815.5999999999,
          1261087.3599999999,
          1261087.3599999999,
          1261087.3599999999,
          1258392.05,
          1258459.9600000002,
          1260652.45,
          1274785.47,
          1274205.6800000002,
          1274205.6800000002,
          1274205.6800000002,
          1276060.26,
          1280608.69,
          1282916.5399999998,
          1281828.25,
          1283733.7,
          1283733.7,
          1283733.7,
          1283733.7,
          1289436.67,
          1290957.47,
          1292934.31,
          1290659.21,
          1290659.21,
          1290659.21,
          1299200.87,
          1299200.87,
          1300567.5,
          1300976.88,
          1301562.66,
          1301562.66,
          1301562.66,
          1303554.21,
          1302203,
          1302695.77,
          1308458.9999999998,
          1308867.88,
          1308867.88,
          1308867.88,
          1322586.98,
          1323079.19,
          1325614.4500000002,
          1315954.8,
          1320276.48,
          1320276.48,
          1320276.48,
          1327980.9300000002,
          1331674.73,
          1334296.7699999998,
          1332505.3099999998,
          1331115.8900000001,
          1331115.8900000001,
          1331115.8900000001,
          1347303.7700000003,
          1347303.7700000003,
          1347303.7700000003,
          1343043.4200000002,
          1343318.25,
          1343318.25,
          1343318.25,
          1341256.23,
          1347528.54,
          1347386.49,
          1348405.4900000002,
          1349639.7000000002,
          1349639.7000000002,
          1349639.7000000002,
          1349765.07,
          1365248.19,
          1362481.7300000002,
          1360330.02,
          1361833.0699999998,
          1361833.0699999998,
          1361833.0699999998,
          1361833.0699999998,
          1362544.0999999999,
          1357424.21,
          1354987.94,
          1350238.09,
          1350238.09,
          1350238.09,
          1352932.0499999998,
          1355039.16,
          1355486.1600000001,
          1376427.78,
          1365781.0699999998,
          1365781.0699999998,
          1365781.0699999998,
          1365781.0699999998,
          1378655.6900000002,
          1384085.48,
          1382703.38,
          1383132.7600000002,
          1383132.7600000002,
          1383132.7600000002,
          1381647.0799999998,
          1386040.75,
          1389785.8499999999,
          1391211.15,
          1412719.85,
          1412719.85,
          1412719.85,
          1409955.06,
          1410070.78,
          1416870.9400000002,
          1416040.74,
          1411295.76,
          1411295.76,
          1411295.76,
          1413476.74,
          1414537.85,
          1404546.77,
          1409010.01,
          1409093.1,
          1409093.1,
          1409093.1,
          1405241.13,
          1407542.39,
          1406156.13,
          1401750.62,
          1400685.9500000002,
          1400685.9500000002,
          1400685.9500000002,
          1399199.71,
          1398017.99,
          1397032.13,
          1391540.42,
          1391203.09,
          1391203.09,
          1391203.09,
          1400785.76,
          1405304.56,
          1406423.2000000002,
          1412183.4,
          1417491.6400000001,
          1417491.6400000001,
          1417491.6400000001,
          1423036.27,
          1424807.71,
          1426632.2,
          1490789.36,
          1489052.4600000002,
          1489052.4600000002,
          1489052.4600000002,
          1488396.89,
          1605643.75,
          1612423.44,
          1715556.8800000001,
          1813530.2500000002,
          1813530.2500000002,
          1813530.2500000002,
          1914974.9300000002,
          1917598.72,
          1921182.2000000002,
          2022354.1999999997,
          2013261.6600000001,
          2013261.6600000001,
          2013261.6600000001,
          2016302.08,
          2024169.54,
          2046269.6900000002,
          2046269.6900000002,
          2053292.86,
          2053292.86,
          2053292.86,
          2053593.17,
          2045586.8,
          2060302.87,
          2069508.29,
          2079862.8599999999,
          2079862.8599999999,
          2079862.8599999999,
          2090655.1500000001,
          2088898.9200000002,
          2081695.4499999997,
          2080153.98,
          2098026.4200000004,
          2098026.4200000004,
          2098026.4200000004,
          2095706.16,
          2088667.31,
          2075350.29,
          2084689.6199999999,
          2092120.19,
          2092120.19,
          2092120.19,
          2099327.57,
          2101423.62,
          2094554.72,
          2096039.1,
          2096039.1,
          2096039.1,
          2096039.1,
          2108886.39,
          2111993.5700000003,
          2115059.02,
          2109383.07,
          2111244.96,
          2111244.96,
          2111244.96,
          2115440.31,
          2113933.33,
          2108264.71,
          2108888.13,
          2122777.3400000003,
          2122777.3400000003,
          2122777.3400000003,
          2122777.3400000003,
          2138983.9899999998,
          2145206.52,
          2156278.44,
          2155194.25,
          2155194.25,
          2155194.25,
          2156566.21,
          2154306.07,
          2148687.17,
          2157627.15,
          2163050.5,
          2163050.5,
          2163050.5,
          2180132.67,
          2187939.9899999998,
          2189946.49,
          2198230.18,
          2206921.23,
          2206921.23,
          2206921.23,
          2214935.8699999996,
          2214935.8699999996,
          2222776.39,
          2217232.4,
          2211803.7800000003,
          2211803.7800000003,
          2211803.7800000003,
          2227872.71,
          2535598.19,
          2532375.94,
          2530109.44,
          2530109.44,
          2530109.44,
          2530109.44,
          2526276.8999999994,
          2522093.58,
          2526311.9400000004,
          2535199.6100000003,
          2535049.2899999996,
          2535049.2899999996,
          2535049.2899999996,
          2847587.74,
          2874187.87,
          3028613.59,
          3029107.13,
          3032935.2500000005,
          3032935.2500000005,
          3032935.2500000005,
          3032935.2500000005,
          3034622.91,
          3032506.34,
          3043447.9899999998,
          3042509.1500000004,
          3042509.1500000004,
          3042509.1500000004,
          3051495.35,
          3058644.83,
          3086771.1499999994,
          3086497.68,
          3082969.3800000004,
          3082969.3800000004,
          3082969.3800000004,
          3096523.54,
          3104514.8600000003,
          3103563.18,
          3082537.64,
          3074173.39,
          3074173.39,
          3074173.39,
          3064497.0500000003,
          3044226.32,
          3027899.42,
          3072840.59,
          3093670.8700000006,
          3093670.8700000006,
          3093670.8700000006,
          3077325.77,
          3085926.4400000004,
          3095850.62,
          3102892.6,
          3112166.56,
          3112166.56,
          3112166.56,
          3129861.5900000003,
          3122825.58,
          3133744.76,
          3142784.8800000004,
          3146710.2399999998,
          3146710.2399999998,
          3146710.2399999998,
          3150205.11,
          3153738.77,
          3158599.2699999996,
          3158323.67,
          3160136.41,
          3160136.41,
          3160136.41,
          3166716.63,
          3169077.6799999997,
          3166037.8000000003,
          3161389.47,
          3146459.8699999996,
          3146459.8699999996,
          3146459.8699999996,
          3146459.8699999996,
          3142293.3299999996,
          3142993.6,
          3148031.2,
          3152810.07,
          3152810.07,
          3152810.07,
          3163638.4899999998,
          3165267.1399999997,
          3183573.86,
          3188588.0300000003,
          3188731.72,
          3188731.72,
          3188731.72,
          3220776.95,
          3220380.2800000003,
          3228441.7900000005,
          3240094.909999999,
          3236476.83,
          3236476.83,
          3236476.83,
          3242352.99,
          3235877.16,
          3249744.0599999996,
          3247541.2099999995,
          3250425.9999999995,
          3250425.9999999995,
          3250425.9999999995,
          3256558.4499999993,
          3270831.3400000003,
          3278125.6899999995,
          3271744.23,
          3270314.33,
          3270314.33,
          3270314.33,
          3274954.33,
          3277564.0199999996,
          3274547.91,
          3261077.33,
          3265476.1700000004,
          3265476.1700000004,
          3265476.1700000004,
          3280981.2899999996,
          3267269.3899999997,
          3241774.8200000003,
          3224282.01,
          3210493.13,
          3210493.13,
          3210493.13,
          3236856.3499999996,
          3236856.3499999996,
          3252412.32,
          3254760.2699999996,
          3239537.59,
          3239537.59,
          3239537.59,
          3224553.2199999997,
          3219447.65,
          3235197.96,
          3242575.96,
          3242575.96,
          3242575.96,
          3242575.96,
          3272393.84,
          3255439.81,
          3271661.8099999996,
          3278680.66,
          3292251.8700000006,
          3292251.8700000006,
          3292251.8700000006,
          3281008.909999999,
          3297481.559999999,
          3295601.4800000004,
          3301316.3100000005,
          3301768.0199999996,
          3301768.0199999996,
          3301768.0199999996,
          3327596.5500000003,
          3343389.0399999996,
          3335962.0799999996,
          3342990.1799999997,
          3350041.95,
          3350041.95,
          3350041.95,
          3363638.44,
          3364406.17,
          3362944.7199999997,
          3355873.84,
          3316735.7999999993,
          3316735.7999999993,
          3316735.7999999993,
          3309683.36,
          3316469.16,
          3288640.72,
          3297981.92,
          3310921.8899999997,
          3310890.3,
          3310890.3,
          3310890.3,
          3319508.5999999996,
          3327904.58,
          3338816.38,
          3357447.0300000003,
          3357447.0300000003,
          3357447.0300000003,
          3364730.4700000007,
          3390891.81,
          3381816.9000000004,
          3401170.7199999997,
          3406959.3000000003,
          3406959.3000000003,
          3406959.3000000003,
          3413770.66,
          3415365.5100000002,
          3408318.5400000005,
          3408318.5400000005,
          3408318.5400000005,
          3408318.5400000005,
          3408318.5400000005,
          3409521.41,
          3416969.6,
          3616073.55,
          3797656.14,
          3797521.9899999998,
          3797521.9899999998,
          3797521.9899999998,
          3817265.98,
          3820501.5399999996,
          3833825.6300000004,
          3838285.22,
          3850162.01,
          3850162.01,
          3850162.01,
          3860065.599999999,
          3833911.6,
          3819572.1599999997,
          3832867.3400000003,
          3859014.2899999996,
          3859014.2899999996,
          3859014.2899999996,
          3846819.62,
          3838440.78,
          3817266.9699999997,
          3837477.97,
          3853171.33,
          3853171.33,
          3853171.33,
          3865200.2,
          3877375.3099999996,
          3879147.7700000005,
          3888130.5000000005,
          3894333.5999999996,
          3894333.5999999996,
          3894333.5999999996,
          3922317.95,
          3919547.59,
          3921328.2399999993,
          3909059.3000000003,
          3885086.0100000002,
          3885086.0100000002,
          3885086.0100000002,
          3880793.9899999998,
          3889280.9099999997,
          3873532.79,
          3901192.19,
          3921507.51,
          3921507.51,
          3921507.51,
          3943916.98,
          3929963.33,
          3915715.369999999,
          3920611.0500000003,
          3944985.17,
          3944985.17,
          3944985.17,
          3963950.56,
          3989074.6800000006,
          3995127.47,
          4009655.77,
          4191565.9200000004,
          4191565.9200000004,
          4191565.9200000004,
          4191565.9200000004,
          4217431.760000001,
          4214931.81,
          4210221.989999999,
          4225680.47,
          4225680.47,
          4225680.47,
          4218710.93,
          4208944.9399999995,
          4224564.87,
          4249696.21,
          4279081.4,
          4279081.4,
          4279081.4,
          4295801.620000001,
          4296801.52,
          4305374.92,
          4309165.2,
          4311935.39,
          4311935.39,
          4311935.39,
          4315599.510000001,
          4287137.780000001,
          4307330.16,
          4287646.850000001,
          4306986.51,
          4306986.51,
          4306986.51,
          4321302.7299999995,
          4338407.13,
          4329426.1,
          4324877.17,
          4324877.17,
          4324877.17,
          4324877.17,
          4309667.72,
          4285399.930000001,
          4268085.33,
          4264814.459999999,
          4187809.08,
          4187809.08,
          4187809.08,
          4181941.26,
          4138936.64,
          4162071.93,
          4205616.15,
          4190195.6100000003,
          4190195.6100000003,
          4190195.6100000003,
          4231561.220000001,
          4231561.220000001,
          4218915.5,
          4207847.31,
          4184492.3200000003,
          4184492.3200000003,
          4184492.3200000003,
          4158753.67,
          4155670.6999999997,
          4151557.7700000005,
          4141802.83,
          4177329.9299999997,
          4177329.9299999997,
          4177329.9299999997,
          4216293.02,
          4205733.94,
          4201470.81,
          4190537.5599999996,
          4190537.5599999996,
          4190537.5599999996,
          4190537.5599999996,
          4178594.7,
          4148013.8499999996,
          4114270.59,
          4128552.5199999996,
          4121863.26,
          4121863.26,
          4121863.26,
          4166092.46,
          4183246.3299999996,
          4179664.12,
          4182788.839999999,
          4152912.900000001,
          4152912.900000001,
          4152912.900000001,
          4116727.1500000004,
          4121996.59,
          4131818.87,
          4115711.41,
          4085694.49,
          4085694.49,
          4085694.49,
          4127617.659999999,
          4157909.88,
          4142325.75,
          4142325.75,
          4142325.75,
          4142325.75,
          4142325.75,
          4177235.9999999995,
          4199064.24,
          4173236.76,
          4232126.58,
          4238686.350000001,
          4238686.350000001,
          4238686.350000001,
          4247564.069999999,
          4265382.49,
          4266441.62,
          4268099.67,
          4272474.98,
          4272474.98,
          4272474.98,
          4295391.72,
          4298896.280000001,
          4292754.69,
          4306159.72,
          4302917.35,
          4302917.35,
          4302917.35,
          4315079.72,
          4313544.96,
          4312267.39,
          4316670.04,
          4340672.25,
          4340672.25,
          4340672.25,
          4358240.699999999,
          4358240.699999999,
          4337092.48,
          4322018.8,
          4307458.1899999995,
          4307458.1899999995,
          4307458.1899999995,
          4325840.79,
          4328056.55,
          4319495.24,
          4314322.720000001,
          4321460.28,
          4321460.28,
          4321460.28,
          4314676.9399999995,
          4317720.7700000005,
          4304930.88,
          4297932.970000001,
          4260666.3,
          4260666.3,
          4260666.3,
          4227185.94,
          4244402.54,
          4228495.86,
          4240948.120000001,
          4283517.449999999,
          4283517.449999999,
          4283517.449999999,
          4315208.39,
          4307997.720000001,
          4301936.46,
          4309818.8,
          4283799.95,
          4283799.95,
          4283799.95,
          4255192.7700000005,
          4225072.85,
          4255088.28,
          4286644.239999999,
          4296572.850000001,
          4296572.850000001,
          4296572.850000001,
          4316235.3,
          4328735.609999999,
          4332247.22,
          4327416.279999999,
          4336064.89,
          4336064.89,
          4336064.89,
          4328702.21,
          4302204.11,
          4307537.08,
          4294961.779999999,
          4305481.82,
          4305481.82,
          4305481.82,
          4294819.64,
          4288097.93,
          4251649.14,
          4224439.18,
          4261995.61,
          4261995.61,
          4261995.61,
          4241543.43,
          4252723.010000001,
          4258994.04,
          4247517.43,
          4257562.279999999,
          4257562.279999999,
          4257562.279999999,
          4289417.53,
          4325924.19,
          4317185.12,
          4321527.329999999,
          4304377.72,
          4304377.72,
          4304377.72,
          4273957.86,
          4303708.130000001,
          4282667.1,
          4268124.2,
          4276926.31,
          4276926.31,
          4276926.31,
          4305478.35,
          4340487.43,
          4350959.8100000005,
          4368427.06,
          4397707.04,
          4397707.04,
          4397707.04,
          4420229.25,
          4427411.98,
          4432327.869999999,
          4423699.390000001,
          4455012.72,
          4455012.72,
          4455012.72,
          4470018.21,
          4466655.68,
          4475081.949999999,
          4488204.86,
          4483657.850000001,
          4483657.850000001,
          4483657.850000001,
          4464386.720000001,
          4483941.22,
          4483941.22,
          4490103.369999999,
          4515732.879999999,
          4515732.879999999,
          4515732.879999999,
          4534750.95,
          4544785.82,
          4544785.82,
          4552220.8,
          4544815.05,
          4544815.05,
          4544815.05,
          4687658.22,
          4688409.1,
          4687206.24,
          4698777.0200000005,
          4712973.85,
          4712973.85,
          4712973.85,
          4696310.5,
          4659863.43,
          4652455.970000001,
          4670345.2299999995,
          4689634.1,
          4689634.1,
          4689634.1,
          4662172.08,
          4623564.6,
          4632010.4799999995,
          4632010.4799999995,
          4673978.449999999,
          4673978.449999999,
          4673978.449999999,
          4668456.79,
          4628218.17,
          4622170.24,
          4622170.24,
          4570502.8,
          4570502.8,
          4570502.8,
          4517953.87,
          4543469.88,
          4543905.14,
          4512301.46,
          4471442.9399999995,
          4471442.9399999995,
          4471442.9399999995,
          4485906.86,
          4485906.86,
          4461509.45,
          4406924.34,
          4346362.78,
          4346362.78,
          4346362.78,
          4327949.56,
          4315016.7700000005,
          4393678.4,
          4343546.51,
          4401461.0600000005,
          4401461.0600000005,
          4401461.0600000005,
          4440164.2,
          4472415.67,
          4426641.5200000005,
          4426641.5200000005,
          4398345.67,
          4398345.67,
          4398345.67,
          4377775.6899999995,
          4346197.48,
          4361080.239999999,
          4353752.96,
          4336758.52,
          4336758.52,
          4336758.52,
          4403089.149999999,
          4410725.6899999995,
          4456057.299999999,
          4464451.930000001,
          4496774.56,
          4496774.56,
          4496774.56,
          4494453.55,
          4492430.380000001,
          4492430.380000001,
          4492430.380000001,
          4521321.040000001,
          4521321.040000001,
          4521321.040000001,
          4506119.580000001,
          4520235.39,
          4518735.800000001,
          4540008.8,
          4549127.09,
          4549127.09,
          4549127.09,
          4566180.56,
          4535304.49,
          4538086.96,
          4516403.74,
          4516403.74,
          4516403.74,
          4516403.74,
          4539666.08,
          4547079.55,
          4534084.949999999,
          4551153.76,
          4557792.82,
          4557792.82,
          4557792.82,
          4564839.65,
          4567744.700000001,
          4530945.7,
          4490602.56,
          4497336.800000001,
          4497336.800000001,
          4497336.800000001,
          4464135.68,
          4492512.84,
          4550395.28,
          4569445.55,
          4580247.42,
          4580247.42,
          4580247.42,
          4611647.620000001,
          4623192.41,
          4654099.869999999,
          4652861.28,
          4618387.97,
          4618387.97,
          4618387.97,
          4593753.9799999995,
          4593753.9799999995,
          4599593.54,
          4607333.11,
          4709349.08,
          4709349.08,
          4709349.08,
          4722345.430000001,
          4729825.48,
          4704002.53,
          4679010.53,
          4692697.8,
          4692697.8,
          4692697.8,
          4702953.8100000005,
          4714324.66,
          4717197.82,
          4735028.13,
          4729711.94,
          4729711.94,
          4729711.94,
          4719428.16,
          4765240.37,
          4770571.369999999,
          4767486.65,
          4745586.67,
          4745586.67,
          4745586.67,
          4754742.45,
          4745063.66,
          4729753.9399999995,
          4726479.67,
          4703196.72,
          4703196.72,
          4703196.72,
          4664508.470000001,
          4664808.23,
          4680602.94,
          4714034.109999999,
          4714342.05,
          4714342.05,
          4714342.05,
          4690322.54,
          4677353.82,
          4702394.09,
          4719466.09,
          4678828.61,
          4678828.61,
          4678828.61,
          4672107.510000001,
          4659013.640000001,
          4639480.31,
          4639319.29,
          4639958.420000001,
          4639958.420000001,
          4639958.420000001,
          4618036.32,
          4867445.72,
          4921323.45,
          4943878.53,
          4959037.74,
          4959037.74,
          4959037.74,
          4985011.04,
          4970076.4799999995,
          4971585.690000001,
          4988117.23,
          5031647.78,
          5031647.78,
          5031647.78,
          5031647.78,
          5101093.74,
          5127347.780000001,
          5127816.05,
          5123982.4,
          5123982.4,
          5123982.4,
          5201652.67,
          5237704.890000001,
          5232504.84,
          5234310.41,
          5265860.390000001,
          5265860.390000001,
          5265860.390000001,
          5271198.619999999,
          5293417.850000001,
          5301079.249999999,
          5301079.249999999,
          5314610.53,
          5314610.53,
          5314610.53,
          5284433.290000001,
          5319843.23,
          5324305.36,
          5359022.100000001,
          5389437.720000002,
          5389437.720000002,
          5389437.720000002,
          5405260.130000001,
          5409576.850000001,
          5375313.109999999,
          5361998.669999999,
          5384299.7700000005,
          5384299.7700000005,
          5384299.7700000005,
          5370668.9399999995,
          5384534.220000001,
          5388959.02,
          5389814.68,
          5402709.029999999,
          5402709.029999999,
          5402709.029999999,
          5434561.3100000005,
          5450541.679999999,
          5450541.679999999,
          5431006.38,
          5431006.38,
          5431006.38,
          5431006.38,
          5426481.25,
          5422748.239999999,
          5451745.25,
          5433804.44,
          5452478.13,
          5452478.13,
          5452478.13,
          5452478.13,
          5435948.68,
          5435948.68,
          5421519.779999999,
          5419828.6,
          5419828.6,
          5419828.6,
          5390666.760000001,
          5361114.63,
          5316521.240000001,
          5303676.05,
          5322717.75,
          5322717.75,
          5322717.75,
          5262223.700000001,
          5286751.12,
          5276680.2,
          5294730.3,
          5318788.71,
          5318788.71,
          5318788.71,
          5462005.760000001,
          5451135.71,
          5466106.809999999,
          5454790.5200000005,
          5540272.430000001,
          5540272.430000001,
          5540272.430000001,
          5598006.409999999,
          5604334.810000001,
          5574363.36,
          5592204.03,
          5589450.12,
          5589450.12,
          5589450.12,
          5621844.009999999,
          5611656.17,
          5611656.17,
          5555993.320000001,
          5558728.4399999995,
          5558728.4399999995,
          5558728.4399999995,
          5803530.569999999,
          5821706.02,
          5799394.930000001,
          5798103.26,
          6069873.930000002,
          6069873.930000002,
          6069873.930000002,
          6029499.280000001,
          6034769.970000001,
          6017316.32,
          6086859.97,
          6093575.33,
          6093575.33,
          6093575.33,
          6091538.630000001,
          6120854.02,
          6143306.690000001,
          6153303.21,
          6143348.8100000005,
          6143348.8100000005,
          6143348.8100000005,
          6162924.44,
          6171402.43,
          6178781.17,
          6187321.829999999,
          6131520.92,
          6131520.92,
          6131520.92,
          6040236.59,
          6051625.680000001,
          6047937.02,
          6075424.470000001,
          6075173.43,
          6075173.43,
          6075173.43,
          6095830.33,
          6129464.609999999,
          6130843.29,
          6080593.08,
          6016170.57,
          6016170.57,
          6016170.57,
          6040374.34,
          6034353.86,
          5993686.9399999995,
          5991249.379999999,
          6003509.539999999,
          6003509.539999999,
          6003509.539999999,
          5962169.1000000015,
          5909439.28,
          5936612.99,
          5882569.950000001,
          5872349.85,
          5872349.85,
          5872349.85,
          5820303.91,
          5865448.6899999995,
          5836478.37,
          5889994.5600000005,
          5907679.079999999,
          5907679.079999999,
          5907679.079999999,
          5907679.079999999,
          5844762.51,
          5876262.59,
          5876262.59,
          5902478.61,
          5902478.61,
          5902478.61,
          5914260.5600000005,
          5910763.32,
          5889444.489999999,
          5824972.150000001,
          5861455.960000001,
          5861455.960000001,
          5861455.960000001,
          5930442.16,
          5963222.8500000015,
          5937859.419999999,
          5919135.55,
          5952296.709999999,
          5952296.709999999,
          5952296.709999999,
          5952296.709999999,
          5878052.720000001,
          5899588.27,
          5922804.22,
          5957563.55,
          5957563.55,
          5957563.55,
          5976133.019999999,
          5976133.019999999,
          6022639.07,
          6015243.720000001,
          6049224.600000001,
          6049224.600000001,
          6049224.600000001,
          6049842.130000001,
          5975305.33,
          5991352.74,
          5939708.58,
          6147929.36,
          6147929.36,
          6147929.36,
          6277862.039999999,
          6269178.3900000015,
          6199108.2299999995,
          6241648.91,
          6225734.77,
          6225734.77,
          6225734.77,
          6206808.750000001,
          6147457.01,
          6147457.01,
          6133632.489999999,
          6081432.1899999995,
          6081432.1899999995,
          6081432.1899999995,
          6048534.450000001,
          6048534.450000001,
          6115222.750000001,
          6102933.439999999,
          6122753.2299999995,
          6122753.2299999995,
          6122753.2299999995,
          6141984.8,
          6174200.609999999,
          6185072.39,
          6233393.880000001,
          6279577.57,
          6279577.57,
          6279577.57,
          6279577.57,
          6308881.840000002,
          6313516.109999999,
          6289145.24,
          6295827.300000001,
          6295827.300000001,
          6295827.300000001,
          6295827.300000001,
          6375390.390000001,
          6405142.119999999,
          6441402.530000001,
          6452205.830000001,
          6452205.830000001,
          6452205.830000001,
          6463507.6,
          6437129.45,
          6443848.930000001,
          6460244.47,
          6422961.649999999,
          6422961.649999999,
          6422961.649999999,
          6451974.400000001,
          6451974.400000001,
          6404967.7,
          6410735.7700000005,
          6447415.25,
          6447415.25,
          6447415.25,
          6458915.7,
          6477776.89,
          6515341.04,
          6516543.89,
          6507131.289999999,
          6507131.289999999,
          6507131.289999999,
          6564236.719999999,
          6536614.569999999,
          6556345.649999999,
          6588836.670000001,
          6570607.749999999,
          6570607.749999999,
          6570607.749999999,
          6560251.220000001,
          6522587.89,
          6546556.390000001,
          6519855.410000001,
          6474852.050000001,
          6474852.050000001,
          6474852.050000001,
          6468976.6499999985,
          6447824.180000002,
          6461933.800000001,
          6491033.180000001,
          6535666.99,
          6535666.99,
          6535666.99,
          6536639.54,
          6571762.799999999,
          6581439.13,
          6588728.98,
          6617476.750000001,
          6617476.750000001,
          6617476.750000001,
          6641850.52,
          6635441.880000001,
          6635441.880000001,
          6617462.680000001,
          6664698.380000001,
          6664698.380000001,
          6664698.380000001,
          6679606.71,
          6670962.08,
          6688856.99,
          6739822.18,
          6728635.43,
          6728635.43,
          6728635.43,
          6632017.539999999,
          6657616.55,
          6656708.91,
          6728900.760000001,
          6771691.390000001,
          6771691.390000001,
          6771691.390000001,
          6813672.6899999995,
          6835614.19,
          6865171.1899999995,
          6833944.72,
          6841186.459999998,
          6841186.459999998,
          6841186.459999998,
          6814415.909999999,
          6818777.069999998,
          6803317.82,
          6848069.57,
          6884933.92,
          6884933.92,
          6884933.92,
          6851635.0200000005,
          6831029.9,
          6850974.33,
          6802463.25,
          6775171.030000001,
          6775171.030000001,
          6775171.030000001,
          6651309.92,
          6741011.34,
          6796705.15,
          6829669.65,
          6838915.420000001,
          6838915.420000001,
          6838915.420000001,
          6814050.92,
          6831013.25,
          6838089.430000001,
          6837834.380000001,
          6809590.659999999,
          6809590.659999999,
          6809590.659999999,
          6782324.760000001,
          6765477.649999999,
          6827496.259999999,
          6858536.649999999,
          6858536.649999999,
          6858536.649999999,
          6858536.649999999,
          6792415.3100000005,
          6773936.239999999,
          6724685.65,
          6699648.829999999,
          6532605.290000001,
          6532605.290000001,
          6532605.290000001,
          6493396.26,
          6581163.91,
          6549123.470000002,
          6561310.17,
          6453540.680000001,
          6453540.680000001,
          6453540.680000001,
          6247659.24,
          6247659.24,
          6233743.03,
          5851724.04,
          5980814.050000001,
          5980814.050000001,
          5980814.050000001,
          5724612.37,
          5841329.219999999,
          5624639.58,
          5488991.57,
          5667821.899999999,
          5667821.899999999,
          5667821.899999999,
          5191082.249999999,
          5230863.24,
          5373887.73,
          5513648.56,
          5548000.22,
          5548000.22,
          5548000.22,
          5439558.149999999,
          5581175.53,
          5472842.83,
          5472842.83,
          5412966.45,
          5412966.45,
          5412966.45,
          5412966.45,
          5669398.75,
          5699961.54,
          5850776.47,
          5850776.47,
          5850776.47,
          5850776.47,
          5851281.05,
          5851281.05,
          5872871.909999999,
          5919449.140000001,
          6026207.13,
          6026207.13,
          6026207.13,
          6056711.109999999,
          5956623.760000001,
          6003711.420000001,
          6050254.66,
          5965573.86,
          5965573.86,
          5965573.86,
          6016261.3500000015,
          6034972.879999999,
          6099395.61,
          6210757.409999999,
          6210757.409999999,
          6210757.409999999,
          6210757.409999999,
          6005971.109999999,
          5965454.050000001,
          5999315.23,
          5969312.4799999995,
          5967593.779999999,
          5967593.779999999,
          5967593.779999999,
          5986863.989999999,
          5986334.64,
          6069798.41,
          6000171.830000001,
          6002345.72,
          6002345.72,
          6002345.72,
          5859010.4399999995,
          5885765.42,
          5981205.910000001,
          6039127.79,
          6015817.140000001,
          6015817.140000001,
          6015817.140000001,
          6015817.140000001,
          6029860.619999999,
          6110180.279999999,
          6188221.4799999995,
          6246628.569999999,
          6246628.569999999,
          6246628.569999999,
          6356591.22,
          6413798.920000001,
          6448329.22,
          6454694.59,
          6552760.4,
          6552760.4,
          6552760.4,
          6580027.859999999,
          6525498.359999999,
          6568196.11,
          6480544.6,
          6512970.180000001,
          6512970.180000001,
          6512970.180000001,
          6474321.579999999,
          6492508.32,
          6500168.640000001,
          6576347.860000001,
          6637961.82,
          6637961.82,
          6637961.82,
          6742318.460000001,
          6827511.16,
          6742487.63,
          6746320.3,
          6787600.26,
          6787600.26,
          6787600.26,
          6735316.95,
          6726251.350000001,
          6760224.38,
          6813078.1899999995,
          6846975.5600000005,
          6846975.5600000005,
          6846975.5600000005,
          6917574.809999999,
          6971010.890000001,
          6935682.35,
          6970820.5600000005,
          6947487.449999999,
          6947487.449999999,
          6947487.449999999,
          6951790.829999999,
          6877976.469999999,
          6902040.06,
          6952546.610000001,
          7026880.140000001,
          7026880.140000001,
          7026880.140000001,
          7069868.77,
          7130977.82,
          7125926.69,
          7168138.54,
          7140068,
          7140068,
          7140068,
          7097757.679999999,
          7142978.2299999995,
          7138142.65,
          7113230.480000002,
          7140620.32,
          7140620.32,
          7140620.32,
          7111624.459999999,
          7168193.579999999,
          7192093.15,
          7233615.5600000005,
          7275265.29,
          7275265.29,
          7275265.29,
          7337665.47,
          7350679.19,
          7359732.32,
          7391425.280000001,
          7337469.19,
          7337469.19,
          7337469.19,
          7401020,
          7468441.549999999,
          7503223.32,
          7509991.630000001,
          7571726.6899999995,
          7571726.6899999995,
          7571726.6899999995,
          7618202.850000001,
          7632990.659999999,
          7654613.960000001,
          7669733.290000001,
          7704735.729999998,
          7704735.729999998,
          7704735.729999998,
          7511611.66,
          7558283.6,
          7619160.89,
          7635401.900000001,
          7533744.1400000015,
          7533744.1400000015,
          7533744.1400000015,
          7556168.42,
          7508886.35,
          7472816.070000001,
          7535155.88,
          7549143.839999998,
          7549143.839999998,
          7549143.839999998,
          7629014.53,
          7712360.460000001,
          7750973.960000001,
          7725223.67,
          7734191.92,
          7734191.92,
          7734191.92,
          7580961.38,
          7517030.6899999995,
          7494744.15,
          7336070.94,
          7476988.999999999,
          7476988.999999999,
          7476988.999999999,
          7602821.6,
          7582766.830000001,
          7581805.659999999,
          7649272.020000002,
          7649272.020000002,
          7649272.020000002,
          7649272.020000002,
          7681929.609999999,
          7719299.5,
          7747525.4,
          7776769.1,
          7808368.569999999,
          7808368.569999999,
          7808368.569999999,
          7788730.399999999,
          7774379.029999999,
          7780547.569999998,
          7689792.46,
          7748167.7299999995,
          7748167.7299999995,
          7748167.7299999995,
          7793955.0200000005,
          7812720.96,
          7874496.460000001,
          7893258.17,
          7927793.85,
          7927793.85,
          7927793.85,
          7843080.45,
          7895199.67,
          7844258.83,
          7815155.78,
          7813463.330000001,
          7813463.330000001,
          7813463.330000001,
          7853426.09,
          7908078.02,
          7944746.17,
          8059422.549999999,
          8091080.640000001,
          8091080.640000001,
          8091080.640000001,
          8219480.75,
          8242158.6,
          8310765.699999999,
          8313902.1499999985,
          8353371.939999999,
          8353371.939999999,
          8353371.939999999,
          8353371.939999999,
          8470785.57,
          8511670.6,
          8453929.149999999,
          8508357.91,
          8508357.91,
          8508357.91,
          8573358.71,
          8636940.98,
          8542758.82,
          8603867.459999999,
          8644375.06,
          8644375.06,
          8644375.06,
          8644375.06,
          8730802.02,
          8759357.95,
          8798240.670000002,
          8863044.86,
          8863044.86,
          8863044.86,
          8961096.370000001,
          8955234.610000001,
          9002632.13,
          8975478.249999998,
          8998197.509999998,
          8998197.509999998,
          8998197.509999998,
          9037999.569999998,
          9062079.72,
          9110744.56,
          9103950.06,
          9173043.200000001,
          9173043.200000001,
          9173043.200000001,
          8910841.62,
          8996646.43,
          9113990.58,
          9171935.63,
          9171935.63,
          9171935.63,
          9171935.63,
          9251072.25,
          9268337.72,
          9286596.510000002,
          9795920.040000003,
          9845880.009999998,
          9845880.009999998,
          9845880.009999998,
          9935524.51,
          9991010.120000001,
          10001145.78,
          10082890.450000001,
          10192698.07,
          10192698.07,
          10192698.07,
          10244641.02,
          10291315.63,
          10316957.910000002,
          10333304.250000002,
          10271160.629999999,
          10271160.629999999,
          10271160.629999999,
          10141424.25,
          10262631.64,
          10308602.51,
          10282103.389999999,
          10190980.329999998,
          10190980.329999998,
          10190980.329999998,
          10142052.78,
          10142052.78,
          10012934.640000002,
          9989834.339999998,
          9898993.389999999,
          9898993.389999999,
          9898993.389999999,
          10168976.489999998,
          10359755.340000002,
          10463779.78,
          10558611.19,
          10538463.530000001,
          10538463.530000001,
          10538463.530000001,
          10672803.84,
          10693281.09,
          10706910.52,
          10767886.059999999,
          10312166.76,
          10312166.76,
          10312166.76,
          10389719.59,
          10391930.860000001,
          10419908.66,
          10437445.15,
          10327172.93,
          10327172.93,
          10327172.93,
          10211055.109999998,
          10262320.129999999,
          10381703.750000004,
          10471476.229999999,
          10244133.34,
          10244133.34,
          10244133.34,
          10360052.51,
          10486296.089999998,
          10612868.87,
          10580724.57,
          10480333.56,
          10480333.56,
          10480333.56,
          10516231.139999999,
          10550490.93,
          10622973.17,
          10622973.17,
          10567844.84,
          10567844.84,
          10567844.84,
          10526201.5,
          10516094.699999997,
          10403925.200000001,
          10291972.82,
          10371771.54,
          10371771.54,
          10396571.77,
          10416376.97,
          10463778.09,
          10318370.12,
          10198091.350000003,
          10310956.280000001,
          10310956.280000001,
          10310956.280000001,
          10310956.280000001,
          10443454.450000001,
          10434895.299999999,
          10543940.669999998,
          10543940.669999998,
          10543940.669999998,
          10543940.669999998,
          10429508.08,
          10455178.25,
          10563517.4,
          10610106.15,
          10566973.96,
          10566973.96,
          10566973.96,
          10209438.969999999,
          10333226.910000002,
          10333226.910000002,
          10358652.850000001,
          10402825.000000002,
          10402825.000000002,
          10402825.000000002,
          10291607.979999999,
          10298311.610000001,
          10298311.610000001,
          10367663.64,
          10363605.98,
          10363605.98,
          10363605.98,
          10444253.25,
          10548349.74,
          10639317.149999997,
          10643765.91,
          10499607.340000002,
          10499607.340000002,
          10499607.340000002,
          10557320.099999998,
          10498617.889999999,
          10606105.370000001,
          10660041.76,
          10691228.55,
          10691228.55,
          10691228.55,
          10807010.37,
          11629616.92,
          11568620.39,
          11568620.39,
          11510270.829999998,
          11510270.829999998,
          11510270.829999998,
          11664927.73,
          11760366.319999998,
          11757139.940000001,
          11729423.93,
          11866893.800000003,
          11866893.800000003,
          11866893.800000003,
          11932242.05,
          11942997.200000001,
          11978916.98,
          12000521.609999998,
          11986581.13,
          11986581.13,
          11986581.13,
          12044553.32,
          12023748.56,
          12093460.26,
          12166046.13,
          12127697.900000002,
          12127697.900000002,
          12127697.900000002,
          12216764.440000001,
          12260862.49,
          12219755.609999998,
          12314022.090000004,
          12340539.32,
          12340539.32,
          12340539.32,
          12333247.230000002,
          12369963.19,
          12410772.980000002,
          12383392.479999999,
          12328548.580000004,
          12328548.580000004,
          12328548.580000004,
          12402771.690000001,
          12436697.979999999,
          12402968.95,
          12436818.139999999,
          12512368.040000001,
          12512368.040000001,
          12512368.040000001,
          12538433.860000001,
          12499129.18,
          12506600.479999999,
          12528742.399999999,
          12575432.69,
          12575432.69,
          12575432.69,
          12645416.88,
          12614666.31,
          12668509.640000002,
          12608968.09,
          12600258.48,
          12600258.48,
          12600258.48,
          12639929.71,
          12703869.55,
          12737184.229999997,
          12770280.44,
          12820789.75,
          12820789.75,
          12820789.75,
          12361555.489999998,
          12260278.39,
          12260278.39,
          12410658.28,
          12853893.129999999,
          12853893.129999999,
          12853893.129999999,
          12870777.36,
          12844548.910000004,
          12838943.429999998,
          12911991.219999999,
          12935003.74,
          12935003.74,
          12935003.74,
          13010634.379999999,
          13111373.319999998,
          13087144.700000003,
          13084020.24,
          13085779.049999997,
          13085779.049999997,
          13085779.049999997,
          13052319.959999999,
          12974028.079999998,
          12958227.64,
          13039265.65,
          13096277.610000001,
          13096277.610000001,
          13096277.610000001,
          13093029.280000001,
          13096852.96,
          13065116.600000001,
          13065116.600000001,
          12907881.68,
          12907881.68,
          12907881.68,
          12866394.049999999,
          12966759.370000001,
          12989518.71,
          12975946.470000003,
          13043269.140000002,
          13043269.140000002,
          13043269.140000002,
          13203889.64,
          13315792.540000001,
          13333943.790000001,
          13416846.71,
          13458785.2,
          13458785.2,
          13458785.2,
          13491849.63,
          13469453.370000003,
          13508607.049999999,
          13540299.719999999,
          13540299.719999999,
          13540299.719999999,
          13540299.719999999,
          13554557.15,
          13602972.55,
          13725750.399999999,
          13768264.66,
          13707679.819999998,
          13707679.819999998,
          13707679.819999998,
          13536644.01,
          13581957.12,
          13650578.44,
          13801818.89,
          13799611.260000002,
          13799611.260000002,
          13799611.260000002,
          13830259.22,
          13771038.769999998,
          13818312.9,
          13794212.460000005,
          13786278.23,
          13786278.23,
          13786278.23,
          13914820.369999995,
          13991349.48,
          13907189.700000001,
          14058570.520000001,
          14105027.680000002,
          14105027.680000002,
          14105027.680000002,
          14190784.61,
          14208970.39,
          14306118.68,
          14397450.280000001,
          14397450.280000001,
          14397450.280000001,
          14397450.280000001,
          14485317.84,
          14378902.07,
          14229492.46,
          14194929.950000001,
          14110011.319999998,
          14110011.319999998,
          14110011.319999998,
          14071489.7,
          14197281.17,
          14186326.06,
          13979878.600000001,
          13933878.449999997,
          13933878.449999997,
          13933878.449999997,
          14097817.86,
          14156438.070000004,
          14140486.47,
          14140486.47,
          14140486.47,
          14140486.47,
          14140486.47,
          14327450.749999998,
          14359251.440000001,
          14364060.12,
          14292843.889999999,
          14388640.27,
          14388640.27,
          14388640.27,
          14376170.14,
          14337028.04,
          14291648.2,
          14153568.050000003,
          14153568.050000003,
          14153568.050000003,
          14153568.050000003,
          13909256.4,
          14023182.74,
          14017718.35,
          14082220.26,
          13744136.580000002,
          13744136.580000002,
          13744136.580000002,
          13656251.89,
          13696639.92,
          13740586.729999999,
          13853251.63,
          13807815.61,
          13807815.61,
          13807815.61,
          13652332.67,
          13814005.429999998,
          13992717.83,
          14025070.13,
          14050074.18,
          14050074.18,
          14050074.18,
          14021673.94,
          14029889.599999998,
          13983502.660000002,
          13957898.27,
          13764065.899999997,
          13764065.899999997,
          13764065.899999997,
          13474869.01,
          13598282.620000003,
          13736672.439999996,
          13812574.38,
          13747147.280000003,
          13747147.280000003,
          13747147.280000003,
          13800080.56,
          13916513.599999998,
          13920990.87,
          13920668.57,
          14020903.68,
          14020903.68,
          14020903.68,
          14170289.879999999,
          14252183.709999999,
          14272271.5,
          14218936.929999998,
          14257961.670000004,
          14257961.670000004
         ]
        }
       ],
       "layout": {
        "template": {
         "data": {
          "bar": [
           {
            "error_x": {
             "color": "#2a3f5f"
            },
            "error_y": {
             "color": "#2a3f5f"
            },
            "marker": {
             "line": {
              "color": "#E5ECF6",
              "width": 0.5
             },
             "pattern": {
              "fillmode": "overlay",
              "size": 10,
              "solidity": 0.2
             }
            },
            "type": "bar"
           }
          ],
          "barpolar": [
           {
            "marker": {
             "line": {
              "color": "#E5ECF6",
              "width": 0.5
             },
             "pattern": {
              "fillmode": "overlay",
              "size": 10,
              "solidity": 0.2
             }
            },
            "type": "barpolar"
           }
          ],
          "carpet": [
           {
            "aaxis": {
             "endlinecolor": "#2a3f5f",
             "gridcolor": "white",
             "linecolor": "white",
             "minorgridcolor": "white",
             "startlinecolor": "#2a3f5f"
            },
            "baxis": {
             "endlinecolor": "#2a3f5f",
             "gridcolor": "white",
             "linecolor": "white",
             "minorgridcolor": "white",
             "startlinecolor": "#2a3f5f"
            },
            "type": "carpet"
           }
          ],
          "choropleth": [
           {
            "colorbar": {
             "outlinewidth": 0,
             "ticks": ""
            },
            "type": "choropleth"
           }
          ],
          "contour": [
           {
            "colorbar": {
             "outlinewidth": 0,
             "ticks": ""
            },
            "colorscale": [
             [
              0,
              "#0d0887"
             ],
             [
              0.1111111111111111,
              "#46039f"
             ],
             [
              0.2222222222222222,
              "#7201a8"
             ],
             [
              0.3333333333333333,
              "#9c179e"
             ],
             [
              0.4444444444444444,
              "#bd3786"
             ],
             [
              0.5555555555555556,
              "#d8576b"
             ],
             [
              0.6666666666666666,
              "#ed7953"
             ],
             [
              0.7777777777777778,
              "#fb9f3a"
             ],
             [
              0.8888888888888888,
              "#fdca26"
             ],
             [
              1,
              "#f0f921"
             ]
            ],
            "type": "contour"
           }
          ],
          "contourcarpet": [
           {
            "colorbar": {
             "outlinewidth": 0,
             "ticks": ""
            },
            "type": "contourcarpet"
           }
          ],
          "heatmap": [
           {
            "colorbar": {
             "outlinewidth": 0,
             "ticks": ""
            },
            "colorscale": [
             [
              0,
              "#0d0887"
             ],
             [
              0.1111111111111111,
              "#46039f"
             ],
             [
              0.2222222222222222,
              "#7201a8"
             ],
             [
              0.3333333333333333,
              "#9c179e"
             ],
             [
              0.4444444444444444,
              "#bd3786"
             ],
             [
              0.5555555555555556,
              "#d8576b"
             ],
             [
              0.6666666666666666,
              "#ed7953"
             ],
             [
              0.7777777777777778,
              "#fb9f3a"
             ],
             [
              0.8888888888888888,
              "#fdca26"
             ],
             [
              1,
              "#f0f921"
             ]
            ],
            "type": "heatmap"
           }
          ],
          "heatmapgl": [
           {
            "colorbar": {
             "outlinewidth": 0,
             "ticks": ""
            },
            "colorscale": [
             [
              0,
              "#0d0887"
             ],
             [
              0.1111111111111111,
              "#46039f"
             ],
             [
              0.2222222222222222,
              "#7201a8"
             ],
             [
              0.3333333333333333,
              "#9c179e"
             ],
             [
              0.4444444444444444,
              "#bd3786"
             ],
             [
              0.5555555555555556,
              "#d8576b"
             ],
             [
              0.6666666666666666,
              "#ed7953"
             ],
             [
              0.7777777777777778,
              "#fb9f3a"
             ],
             [
              0.8888888888888888,
              "#fdca26"
             ],
             [
              1,
              "#f0f921"
             ]
            ],
            "type": "heatmapgl"
           }
          ],
          "histogram": [
           {
            "marker": {
             "pattern": {
              "fillmode": "overlay",
              "size": 10,
              "solidity": 0.2
             }
            },
            "type": "histogram"
           }
          ],
          "histogram2d": [
           {
            "colorbar": {
             "outlinewidth": 0,
             "ticks": ""
            },
            "colorscale": [
             [
              0,
              "#0d0887"
             ],
             [
              0.1111111111111111,
              "#46039f"
             ],
             [
              0.2222222222222222,
              "#7201a8"
             ],
             [
              0.3333333333333333,
              "#9c179e"
             ],
             [
              0.4444444444444444,
              "#bd3786"
             ],
             [
              0.5555555555555556,
              "#d8576b"
             ],
             [
              0.6666666666666666,
              "#ed7953"
             ],
             [
              0.7777777777777778,
              "#fb9f3a"
             ],
             [
              0.8888888888888888,
              "#fdca26"
             ],
             [
              1,
              "#f0f921"
             ]
            ],
            "type": "histogram2d"
           }
          ],
          "histogram2dcontour": [
           {
            "colorbar": {
             "outlinewidth": 0,
             "ticks": ""
            },
            "colorscale": [
             [
              0,
              "#0d0887"
             ],
             [
              0.1111111111111111,
              "#46039f"
             ],
             [
              0.2222222222222222,
              "#7201a8"
             ],
             [
              0.3333333333333333,
              "#9c179e"
             ],
             [
              0.4444444444444444,
              "#bd3786"
             ],
             [
              0.5555555555555556,
              "#d8576b"
             ],
             [
              0.6666666666666666,
              "#ed7953"
             ],
             [
              0.7777777777777778,
              "#fb9f3a"
             ],
             [
              0.8888888888888888,
              "#fdca26"
             ],
             [
              1,
              "#f0f921"
             ]
            ],
            "type": "histogram2dcontour"
           }
          ],
          "mesh3d": [
           {
            "colorbar": {
             "outlinewidth": 0,
             "ticks": ""
            },
            "type": "mesh3d"
           }
          ],
          "parcoords": [
           {
            "line": {
             "colorbar": {
              "outlinewidth": 0,
              "ticks": ""
             }
            },
            "type": "parcoords"
           }
          ],
          "pie": [
           {
            "automargin": true,
            "type": "pie"
           }
          ],
          "scatter": [
           {
            "marker": {
             "colorbar": {
              "outlinewidth": 0,
              "ticks": ""
             }
            },
            "type": "scatter"
           }
          ],
          "scatter3d": [
           {
            "line": {
             "colorbar": {
              "outlinewidth": 0,
              "ticks": ""
             }
            },
            "marker": {
             "colorbar": {
              "outlinewidth": 0,
              "ticks": ""
             }
            },
            "type": "scatter3d"
           }
          ],
          "scattercarpet": [
           {
            "marker": {
             "colorbar": {
              "outlinewidth": 0,
              "ticks": ""
             }
            },
            "type": "scattercarpet"
           }
          ],
          "scattergeo": [
           {
            "marker": {
             "colorbar": {
              "outlinewidth": 0,
              "ticks": ""
             }
            },
            "type": "scattergeo"
           }
          ],
          "scattergl": [
           {
            "marker": {
             "colorbar": {
              "outlinewidth": 0,
              "ticks": ""
             }
            },
            "type": "scattergl"
           }
          ],
          "scattermapbox": [
           {
            "marker": {
             "colorbar": {
              "outlinewidth": 0,
              "ticks": ""
             }
            },
            "type": "scattermapbox"
           }
          ],
          "scatterpolar": [
           {
            "marker": {
             "colorbar": {
              "outlinewidth": 0,
              "ticks": ""
             }
            },
            "type": "scatterpolar"
           }
          ],
          "scatterpolargl": [
           {
            "marker": {
             "colorbar": {
              "outlinewidth": 0,
              "ticks": ""
             }
            },
            "type": "scatterpolargl"
           }
          ],
          "scatterternary": [
           {
            "marker": {
             "colorbar": {
              "outlinewidth": 0,
              "ticks": ""
             }
            },
            "type": "scatterternary"
           }
          ],
          "surface": [
           {
            "colorbar": {
             "outlinewidth": 0,
             "ticks": ""
            },
            "colorscale": [
             [
              0,
              "#0d0887"
             ],
             [
              0.1111111111111111,
              "#46039f"
             ],
             [
              0.2222222222222222,
              "#7201a8"
             ],
             [
              0.3333333333333333,
              "#9c179e"
             ],
             [
              0.4444444444444444,
              "#bd3786"
             ],
             [
              0.5555555555555556,
              "#d8576b"
             ],
             [
              0.6666666666666666,
              "#ed7953"
             ],
             [
              0.7777777777777778,
              "#fb9f3a"
             ],
             [
              0.8888888888888888,
              "#fdca26"
             ],
             [
              1,
              "#f0f921"
             ]
            ],
            "type": "surface"
           }
          ],
          "table": [
           {
            "cells": {
             "fill": {
              "color": "#EBF0F8"
             },
             "line": {
              "color": "white"
             }
            },
            "header": {
             "fill": {
              "color": "#C8D4E3"
             },
             "line": {
              "color": "white"
             }
            },
            "type": "table"
           }
          ]
         },
         "layout": {
          "annotationdefaults": {
           "arrowcolor": "#2a3f5f",
           "arrowhead": 0,
           "arrowwidth": 1
          },
          "autotypenumbers": "strict",
          "coloraxis": {
           "colorbar": {
            "outlinewidth": 0,
            "ticks": ""
           }
          },
          "colorscale": {
           "diverging": [
            [
             0,
             "#8e0152"
            ],
            [
             0.1,
             "#c51b7d"
            ],
            [
             0.2,
             "#de77ae"
            ],
            [
             0.3,
             "#f1b6da"
            ],
            [
             0.4,
             "#fde0ef"
            ],
            [
             0.5,
             "#f7f7f7"
            ],
            [
             0.6,
             "#e6f5d0"
            ],
            [
             0.7,
             "#b8e186"
            ],
            [
             0.8,
             "#7fbc41"
            ],
            [
             0.9,
             "#4d9221"
            ],
            [
             1,
             "#276419"
            ]
           ],
           "sequential": [
            [
             0,
             "#0d0887"
            ],
            [
             0.1111111111111111,
             "#46039f"
            ],
            [
             0.2222222222222222,
             "#7201a8"
            ],
            [
             0.3333333333333333,
             "#9c179e"
            ],
            [
             0.4444444444444444,
             "#bd3786"
            ],
            [
             0.5555555555555556,
             "#d8576b"
            ],
            [
             0.6666666666666666,
             "#ed7953"
            ],
            [
             0.7777777777777778,
             "#fb9f3a"
            ],
            [
             0.8888888888888888,
             "#fdca26"
            ],
            [
             1,
             "#f0f921"
            ]
           ],
           "sequentialminus": [
            [
             0,
             "#0d0887"
            ],
            [
             0.1111111111111111,
             "#46039f"
            ],
            [
             0.2222222222222222,
             "#7201a8"
            ],
            [
             0.3333333333333333,
             "#9c179e"
            ],
            [
             0.4444444444444444,
             "#bd3786"
            ],
            [
             0.5555555555555556,
             "#d8576b"
            ],
            [
             0.6666666666666666,
             "#ed7953"
            ],
            [
             0.7777777777777778,
             "#fb9f3a"
            ],
            [
             0.8888888888888888,
             "#fdca26"
            ],
            [
             1,
             "#f0f921"
            ]
           ]
          },
          "colorway": [
           "#636efa",
           "#EF553B",
           "#00cc96",
           "#ab63fa",
           "#FFA15A",
           "#19d3f3",
           "#FF6692",
           "#B6E880",
           "#FF97FF",
           "#FECB52"
          ],
          "font": {
           "color": "#2a3f5f"
          },
          "geo": {
           "bgcolor": "white",
           "lakecolor": "white",
           "landcolor": "#E5ECF6",
           "showlakes": true,
           "showland": true,
           "subunitcolor": "white"
          },
          "hoverlabel": {
           "align": "left"
          },
          "hovermode": "closest",
          "mapbox": {
           "style": "light"
          },
          "paper_bgcolor": "white",
          "plot_bgcolor": "#E5ECF6",
          "polar": {
           "angularaxis": {
            "gridcolor": "white",
            "linecolor": "white",
            "ticks": ""
           },
           "bgcolor": "#E5ECF6",
           "radialaxis": {
            "gridcolor": "white",
            "linecolor": "white",
            "ticks": ""
           }
          },
          "scene": {
           "xaxis": {
            "backgroundcolor": "#E5ECF6",
            "gridcolor": "white",
            "gridwidth": 2,
            "linecolor": "white",
            "showbackground": true,
            "ticks": "",
            "zerolinecolor": "white"
           },
           "yaxis": {
            "backgroundcolor": "#E5ECF6",
            "gridcolor": "white",
            "gridwidth": 2,
            "linecolor": "white",
            "showbackground": true,
            "ticks": "",
            "zerolinecolor": "white"
           },
           "zaxis": {
            "backgroundcolor": "#E5ECF6",
            "gridcolor": "white",
            "gridwidth": 2,
            "linecolor": "white",
            "showbackground": true,
            "ticks": "",
            "zerolinecolor": "white"
           }
          },
          "shapedefaults": {
           "line": {
            "color": "#2a3f5f"
           }
          },
          "ternary": {
           "aaxis": {
            "gridcolor": "white",
            "linecolor": "white",
            "ticks": ""
           },
           "baxis": {
            "gridcolor": "white",
            "linecolor": "white",
            "ticks": ""
           },
           "bgcolor": "#E5ECF6",
           "caxis": {
            "gridcolor": "white",
            "linecolor": "white",
            "ticks": ""
           }
          },
          "title": {
           "x": 0.05
          },
          "xaxis": {
           "automargin": true,
           "gridcolor": "white",
           "linecolor": "white",
           "ticks": "",
           "title": {
            "standoff": 15
           },
           "zerolinecolor": "white",
           "zerolinewidth": 2
          },
          "yaxis": {
           "automargin": true,
           "gridcolor": "white",
           "linecolor": "white",
           "ticks": "",
           "title": {
            "standoff": 15
           },
           "zerolinecolor": "white",
           "zerolinewidth": 2
          }
         }
        }
       }
      }
     },
     "metadata": {},
     "output_type": "display_data"
    }
   ],
   "source": [
    "fig = go.Figure()\n",
    "fig.add_trace(go.Scatter(x=history_grp_df.index, y=history_grp_df.current_amt,\n",
    "                    mode='lines',\n",
    "                    name='Invested Amount'))\n",
    "\n",
    "fig.show()"
   ]
  },
  {
   "cell_type": "code",
   "execution_count": 23,
   "metadata": {},
   "outputs": [
    {
     "data": {
      "text/html": [
       "<div>\n",
       "<style scoped>\n",
       "    .dataframe tbody tr th:only-of-type {\n",
       "        vertical-align: middle;\n",
       "    }\n",
       "\n",
       "    .dataframe tbody tr th {\n",
       "        vertical-align: top;\n",
       "    }\n",
       "\n",
       "    .dataframe thead th {\n",
       "        text-align: right;\n",
       "    }\n",
       "</style>\n",
       "<table border=\"1\" class=\"dataframe\">\n",
       "  <thead>\n",
       "    <tr style=\"text-align: right;\">\n",
       "      <th></th>\n",
       "      <th>current_amt</th>\n",
       "    </tr>\n",
       "    <tr>\n",
       "      <th>date</th>\n",
       "      <th></th>\n",
       "    </tr>\n",
       "  </thead>\n",
       "  <tbody>\n",
       "    <tr>\n",
       "      <th>2015-10-23</th>\n",
       "      <td>9999.88</td>\n",
       "    </tr>\n",
       "    <tr>\n",
       "      <th>2015-10-24</th>\n",
       "      <td>9999.88</td>\n",
       "    </tr>\n",
       "    <tr>\n",
       "      <th>2015-10-25</th>\n",
       "      <td>9999.88</td>\n",
       "    </tr>\n",
       "    <tr>\n",
       "      <th>2015-10-26</th>\n",
       "      <td>9951.54</td>\n",
       "    </tr>\n",
       "    <tr>\n",
       "      <th>2015-10-27</th>\n",
       "      <td>9977.67</td>\n",
       "    </tr>\n",
       "    <tr>\n",
       "      <th>...</th>\n",
       "      <td>...</td>\n",
       "    </tr>\n",
       "    <tr>\n",
       "      <th>2022-01-04</th>\n",
       "      <td>14252183.71</td>\n",
       "    </tr>\n",
       "    <tr>\n",
       "      <th>2022-01-05</th>\n",
       "      <td>14272271.50</td>\n",
       "    </tr>\n",
       "    <tr>\n",
       "      <th>2022-01-06</th>\n",
       "      <td>14218936.93</td>\n",
       "    </tr>\n",
       "    <tr>\n",
       "      <th>2022-01-07</th>\n",
       "      <td>14257961.67</td>\n",
       "    </tr>\n",
       "    <tr>\n",
       "      <th>2022-01-08</th>\n",
       "      <td>14257961.67</td>\n",
       "    </tr>\n",
       "  </tbody>\n",
       "</table>\n",
       "<p>2270 rows × 1 columns</p>\n",
       "</div>"
      ],
      "text/plain": [
       "            current_amt\n",
       "date                   \n",
       "2015-10-23      9999.88\n",
       "2015-10-24      9999.88\n",
       "2015-10-25      9999.88\n",
       "2015-10-26      9951.54\n",
       "2015-10-27      9977.67\n",
       "...                 ...\n",
       "2022-01-04  14252183.71\n",
       "2022-01-05  14272271.50\n",
       "2022-01-06  14218936.93\n",
       "2022-01-07  14257961.67\n",
       "2022-01-08  14257961.67\n",
       "\n",
       "[2270 rows x 1 columns]"
      ]
     },
     "execution_count": 23,
     "metadata": {},
     "output_type": "execute_result"
    }
   ],
   "source": [
    "history_grp_df"
   ]
  },
  {
   "cell_type": "code",
   "execution_count": null,
   "metadata": {},
   "outputs": [],
   "source": []
  }
 ],
 "metadata": {
  "interpreter": {
   "hash": "181e6870c80abc925c2dfe437bdfeeba74427786bdfc79b2801fdb5e69d99dea"
  },
  "kernelspec": {
   "display_name": "Python 3.9.5 64-bit ('new': conda)",
   "name": "python3"
  },
  "language_info": {
   "codemirror_mode": {
    "name": "ipython",
    "version": 3
   },
   "file_extension": ".py",
   "mimetype": "text/x-python",
   "name": "python",
   "nbconvert_exporter": "python",
   "pygments_lexer": "ipython3",
   "version": "3.9.5"
  }
 },
 "nbformat": 4,
 "nbformat_minor": 4
}
